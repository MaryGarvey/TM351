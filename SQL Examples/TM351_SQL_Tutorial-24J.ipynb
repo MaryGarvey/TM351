{
 "cells": [
  {
   "cell_type": "code",
   "execution_count": null,
   "metadata": {},
   "outputs": [],
   "source": [
    "# This cell imports the standard pandas library.\n",
    "import pandas as pd"
   ]
  },
  {
   "cell_type": "markdown",
   "metadata": {
    "tags": [
     "style-activity"
    ]
   },
   "source": [
    "# SQL Tutorial"
   ]
  },
  {
   "cell_type": "markdown",
   "metadata": {},
   "source": [
    "What is SQL:\n",
    "- SQL is a language for managing Relational databases.\n",
    "- It \"has become the de facto standard in the relational database world\" (Chris Date).\n",
    "- SQL is English-like and non-procedural and has a small number of statement types, yet is flexible and powerful.\n",
    "- SQL includes facilities for creating, retrieving and updating tables and for controlling access to the database.\n",
    "- SQL stands for Structured Query Language.\n",
    "- SQL processes data at the set level, which means it works with groups of items at a time, e.g., entire tables.\n",
    "\n",
    "Standards:\n",
    "- There is an ANSI-approved standard for SQL.\n",
    "- First standardised in 1986 (ANSI X3.135)\u000b",
    "Latest update version was in 2016. Now covers 9 parts, such as the foundations and persistent stored modules, management of external data, object language bindings\n",
    "- See this for further details: https://blog.ansi.org/2018/10/sql-standard-iso-iec-9075-2016-ansi-x3-135/\n",
    "- See what is new in the 2023 standard: http://peter.eisentraut.org/blog/2023/04/04/sql-2023-is-finished-here-is-whats-new\n"
   ]
  },
  {
   "cell_type": "markdown",
   "metadata": {
    "tags": [
     "style-solution"
    ]
   },
   "source": [
    "## Relational Databases"
   ]
  },
  {
   "cell_type": "markdown",
   "metadata": {},
   "source": [
    "Relational databases follow a set of rules and regulations, such as:\n",
    "\n",
    "**Columns**\n",
    "- these are the attributes of a relations\n",
    "- the heading is the name of the column and is unique\n",
    "- there is a fixed number of columns\n",
    "- the order is irrelevant\n",
    "- takes values from a set of legal values (data integrity)\n",
    "- number of columns = degree of a relation\n",
    "\n",
    "**Rows**\n",
    "- called tuples\n",
    "- variable number of rows\n",
    "- all rows have the same structure\n",
    "- number of rows = cardinality\n",
    "\n",
    "**Keys**\n",
    "- each relation should have a way to uniquely identify each row: primary key\n",
    "- a key is the minimal set of attributes to uniquely identify each tuple\n",
    "\n",
    "Different types of keys:\n",
    "- *Candidate key:* some relations can have more than one potential key\n",
    "- *Primary key:* the candidate key selected to be the primary key\n",
    "- *Composite key:* set of attributes that can serve as a key\n",
    "- *Surrogate key:* automatically generated key\n",
    "\n",
    "**Relationships**\n",
    "- established by foreign keys\n",
    "- a foreign key is usually the primary key from the table that it is related to, e.g., a relation Employee could have a foreign key `department_no`, which is the primary key of the Department relation.\n",
    "- the values in a foreign key must match the values in the related primary key\n",
    "- if the relationship is mandatory, then the foreign key field can not contain nulls\n",
    "- if the relationship is optional, then the foreign key can contain nulls\n",
    "\n",
    "**Integrity constraints**\n",
    "- Entity integrity: no part of a primary key can be null\n",
    "- Referential integrity: foreign keys must either be null, or contain a value from the primary key it is related to"
   ]
  },
  {
   "cell_type": "markdown",
   "metadata": {
    "tags": [
     "style-solution"
    ]
   },
   "source": [
    "### Structured data"
   ]
  },
  {
   "cell_type": "markdown",
   "metadata": {},
   "source": [
    "Relational databases work best with structured data, where the data has the same:\n",
    "- number of columns per row\n",
    "- data types in each column\n",
    "\n",
    "For example, the patient table seen in the `Part 08 Notebooks:`\n",
    "\n",
    "![Patient table](images/patient.jpg)\n"
   ]
  },
  {
   "cell_type": "markdown",
   "metadata": {
    "tags": [
     "style-solution"
    ]
   },
   "source": [
    "### Semi-structured data"
   ]
  },
  {
   "cell_type": "markdown",
   "metadata": {},
   "source": [
    "Semi-structured data can differ from this in that each row or document can vary in size.\n",
    "\n",
    "Rows are called documents in a `Document databases`, such as `MongoDB`. Data is stored in JSON format and each document can have a different structure, where documents can have sub-documents and each key/value pair can differ in size .\n",
    "\n",
    "For example, the followings take the first and last row from a JSON dataset generated from Twitter (now X) on 11th January 2023 (`#BBCNews`):"
   ]
  },
  {
   "cell_type": "code",
   "execution_count": null,
   "metadata": {},
   "outputs": [],
   "source": [
    "! head -1 data/BBCNews-230111-2214.json"
   ]
  },
  {
   "cell_type": "code",
   "execution_count": null,
   "metadata": {},
   "outputs": [],
   "source": [
    "! tail -1 data/BBCNews-230111-2214.json"
   ]
  },
  {
   "cell_type": "markdown",
   "metadata": {},
   "source": [
    "It is hard to read the data in this format, but from a quick glance we can see the `public_metric` key has a different amount of items in each value:\n",
    "\n",
    "<pre>\n",
    "\"public_metrics\": {\"reply_count\": 2, \"like_count\": 3, \"impression_count\": 486}\n",
    "\"public_metrics\": {\"retweet_count\": 17, \"reply_count\": 23, \"like_count\": 69, \"quote_count\": 2, \"impression_count\": 123806}\n",
    "</pre>\n",
    "\n",
    "This type of data is better suited to document databases, which will be looked at in Weeks 14 and 15 and later Tutorials. Most relational databases, however, offer support for JSON data, for example: https://www.postgresql.org/docs/current/functions-json.html"
   ]
  },
  {
   "cell_type": "markdown",
   "metadata": {
    "tags": [
     "style-activity"
    ]
   },
   "source": [
    "## Notebook Dataset"
   ]
  },
  {
   "cell_type": "markdown",
   "metadata": {},
   "source": [
    "This Notebook uses the *Cellphone Recommendations* example from Kaggle.com\n",
    "\n",
    "https://www.kaggle.com/datasets/meirnizri/cellphones-recommendations\n",
    "\n",
    "About Dataset - from the above website (Accessed 16/11/2022):\n",
    "\n",
    "*This dataset contains three files:*\n",
    "\n",
    "*The cellphone data.csv contains data on the most popular cell phones in the US in 2022. The data for each cell phone consists of the most notable features such as performance rating (AnTuTu), memory size, camera's resolution, battery size, screen size, release date, etc. The price of each cell phone collected from Amazon and Best-Buy (in Aug 22). Overall, in our dataset there are 34 cell phones with 13 features.*\n",
    "\n",
    "*The user's data and their ratings are in cellphones users.csv and cellphones ratings.csv. To elicit the ratings, we conducted a survey on Mechanical Turk. Each participant was presented with 10 random cell phones, and she was asked to indicate how likely she is to purchase each of the cell phones at the given price, on a scale from 1 (very unlikely) to 10 (very likely). We also asked each participant to add personal information: age, gender, and occupation.*\n",
    "\n",
    "*This dataset can be used for building a recommendation system model that relies mainly on the features of the items.*\n",
    "\n",
    "License: Database: Open Data Commons Open Database License (https://opendatacommons.org/licenses/odbl/1-0/)"
   ]
  },
  {
   "cell_type": "markdown",
   "metadata": {
    "tags": [
     "style-solution"
    ]
   },
   "source": [
    "### Accessing PostgreSQL"
   ]
  },
  {
   "cell_type": "markdown",
   "metadata": {},
   "source": [
    "Enable access to the PostgreSQL database engine via SQL cell magic."
   ]
  },
  {
   "cell_type": "code",
   "execution_count": null,
   "metadata": {},
   "outputs": [],
   "source": [
    "%load_ext sql"
   ]
  },
  {
   "cell_type": "markdown",
   "metadata": {},
   "source": [
    "Use the sql_init.ipynb file provided by Tutorial 08.2 to login (User tm351)"
   ]
  },
  {
   "cell_type": "code",
   "execution_count": null,
   "metadata": {},
   "outputs": [],
   "source": [
    "# Make the connection - this file is available from the Notebooks 08 folder\n",
    "\n",
    "%run sql_init.ipynb"
   ]
  },
  {
   "cell_type": "markdown",
   "metadata": {},
   "source": [
    "If this has run properly it will have setup a connection string (DB_CONNECTION_STRING), which can be used to create a connection to the database (DB_CONNECTION).\n",
    "\n",
    "The connection string is made up of several parts:\n",
    "\n",
    "- `postgresql` : states that we will use PostgreSQL as our database engine\n",
    "- The user ID and password being used to make the connection, separated by a colon (the user ID and password are both tm351)\n",
    "- `localhost:5432` : the port on which the database engine is listening\n",
    "- Finally, the string contains the name of the database (`tm351`)\n",
    "\n",
    "See the Notebooks in Part 08 for further examples."
   ]
  },
  {
   "cell_type": "code",
   "execution_count": null,
   "metadata": {},
   "outputs": [],
   "source": [
    "DB_CONNECTION_STRING"
   ]
  },
  {
   "cell_type": "code",
   "execution_count": null,
   "metadata": {},
   "outputs": [],
   "source": [
    "import sqlalchemy \n",
    "DB_CONNECTION=sqlalchemy.create_engine(DB_CONNECTION_STRING)\n",
    "DB_CONNECTION"
   ]
  },
  {
   "cell_type": "code",
   "execution_count": null,
   "metadata": {},
   "outputs": [],
   "source": [
    "%sql DB_CONNECTION"
   ]
  },
  {
   "cell_type": "markdown",
   "metadata": {
    "tags": [
     "style-solution"
    ]
   },
   "source": [
    "### Setting up the Sample Database"
   ]
  },
  {
   "cell_type": "markdown",
   "metadata": {},
   "source": [
    "Drop the tables if they previously existed - only run this if they exist:"
   ]
  },
  {
   "cell_type": "code",
   "execution_count": null,
   "metadata": {},
   "outputs": [],
   "source": [
    "%%sql\n",
    "/* need to drop cellphone_ratings first, since it is related to the other two tables */\n",
    "DROP TABLE IF EXISTS cellphone_ratings;\n",
    "DROP TABLE IF EXISTS cellphone_data;\n",
    "DROP TABLE IF EXISTS cellphone_users;\n"
   ]
  },
  {
   "cell_type": "markdown",
   "metadata": {},
   "source": [
    "The cellphones dataset is stored in three CSV files. \n",
    "\n",
    "*Notebook 08.3 Adding column constraints* to tables shows how we can load these into a Panda DataFrame, then convert to SQL Table. Reading CSV files into a Pandas dataframe is first shown in *Notebook 02.2.1 Data file formats - CSV*"
   ]
  },
  {
   "cell_type": "markdown",
   "metadata": {},
   "source": [
    "Import the CSV files into Panda dataframes:"
   ]
  },
  {
   "cell_type": "code",
   "execution_count": null,
   "metadata": {},
   "outputs": [],
   "source": [
    "# Import the cellphones_data.csv file into a DataFrame and change cellphones to cellphone\n",
    "cellphone_data_df=pd.read_csv('./data/cellphones data.csv',\n",
    "                       parse_dates=['release date'], dayfirst=True)\n",
    "\n",
    "#Look at the first few rows of the resulting DataFrame\n",
    "cellphone_data_df.head()"
   ]
  },
  {
   "cell_type": "code",
   "execution_count": null,
   "metadata": {},
   "outputs": [],
   "source": [
    "# change spaces to underscore (_) in column names, makes life easier when querying the tables\n",
    "\n",
    "cellphone_data_df = cellphone_data_df.rename(columns={'operating system': 'operating_system', 'internal memory': 'internal_memory',\n",
    "                                                       'main camera' : 'main_camera', 'selfie camera' : 'selfie_camera',\n",
    "                                                       'battery size' : 'battery_size','screen size' : 'screen_size',\n",
    "                                                       'release date' : 'release_date'})\n",
    "\n",
    "cellphone_data_df.head()"
   ]
  },
  {
   "cell_type": "code",
   "execution_count": null,
   "metadata": {},
   "outputs": [],
   "source": [
    "# Import the cellphones ratings.csv file into a DataFrame\n",
    "cellphone_ratings_df=pd.read_csv('./data/cellphones ratings.csv')\n",
    "\n",
    "#Look at the first few rows of the resulting DataFrame\n",
    "cellphone_ratings_df.head()"
   ]
  },
  {
   "cell_type": "code",
   "execution_count": null,
   "metadata": {},
   "outputs": [],
   "source": [
    "# Import the cellphones users.csv file into a DataFrame\n",
    "cellphone_users_df=pd.read_csv('./data/cellphones users.csv')\n",
    "\n",
    "#Look at the first few rows of the resulting DataFrame\n",
    "cellphone_users_df.head()"
   ]
  },
  {
   "cell_type": "markdown",
   "metadata": {},
   "source": [
    "Now convert to tables\n",
    "\n",
    "Postgresql allows the data to be imported via a Panda’s DataFrame\n",
    "\n",
    "See Notebook 08.2 for some examples\n"
   ]
  },
  {
   "cell_type": "code",
   "execution_count": null,
   "metadata": {},
   "outputs": [],
   "source": [
    "cellphone_data_df.to_sql('cellphone_data',\n",
    "                  DB_CONNECTION,\n",
    "                  if_exists='replace',\n",
    "                  index=False\n",
    "                  )"
   ]
  },
  {
   "cell_type": "code",
   "execution_count": null,
   "metadata": {},
   "outputs": [],
   "source": [
    "cellphone_ratings_df.to_sql('cellphone_ratings',\n",
    "                  DB_CONNECTION,\n",
    "                  if_exists='replace',\n",
    "                  index=False\n",
    "                  )"
   ]
  },
  {
   "cell_type": "code",
   "execution_count": null,
   "metadata": {},
   "outputs": [],
   "source": [
    "cellphone_users_df.to_sql('cellphone_users',\n",
    "                  DB_CONNECTION,\n",
    "                  if_exists='replace',\n",
    "                  index=False\n",
    "                  )"
   ]
  },
  {
   "cell_type": "markdown",
   "metadata": {},
   "source": [
    "Check tables have been created ok."
   ]
  },
  {
   "cell_type": "code",
   "execution_count": null,
   "metadata": {},
   "outputs": [],
   "source": [
    "%%sql\n",
    "SELECT * FROM cellphone_users;"
   ]
  },
  {
   "cell_type": "code",
   "execution_count": null,
   "metadata": {},
   "outputs": [],
   "source": [
    "%%sql\n",
    "SELECT * FROM cellphone_ratings;"
   ]
  },
  {
   "cell_type": "code",
   "execution_count": null,
   "metadata": {},
   "outputs": [],
   "source": [
    "%%sql\n",
    "SELECT * FROM cellphone_data;"
   ]
  },
  {
   "cell_type": "markdown",
   "metadata": {},
   "source": [
    "When there are a lot of rows LIMIT can be used to restrict how many rows are returned - similar to the .head() function"
   ]
  },
  {
   "cell_type": "code",
   "execution_count": null,
   "metadata": {
    "scrolled": true
   },
   "outputs": [],
   "source": [
    "%%sql\n",
    "\n",
    "SELECT *\n",
    "FROM cellphone_data\n",
    "LIMIT 5;"
   ]
  },
  {
   "cell_type": "markdown",
   "metadata": {},
   "source": [
    "Can use OFFSET to skip n records before applying the LIMIT"
   ]
  },
  {
   "cell_type": "code",
   "execution_count": null,
   "metadata": {
    "scrolled": true
   },
   "outputs": [],
   "source": [
    "%%sql\n",
    "\n",
    "SELECT *\n",
    "FROM cellphone_data\n",
    "LIMIT 5 OFFSET 5;"
   ]
  },
  {
   "cell_type": "markdown",
   "metadata": {},
   "source": [
    "LIMIT does not take negative arguments, for example, to get last 5 records, but you can sort the records in ascending/descending order to achieve the same effect:"
   ]
  },
  {
   "cell_type": "code",
   "execution_count": null,
   "metadata": {},
   "outputs": [],
   "source": [
    "%%sql\n",
    "SELECT * FROM cellphone_ratings\n",
    "ORDER by rating, cellphone_id\n",
    "LIMIT 10;"
   ]
  },
  {
   "cell_type": "code",
   "execution_count": null,
   "metadata": {},
   "outputs": [],
   "source": [
    "%%sql\n",
    "/*  \n",
    "    Note if we want both columns in descending order, you need to use DESC twice, otherwise it will default to ascending\n",
    "*/\n",
    "SELECT * FROM cellphone_ratings\n",
    "ORDER by rating DESC, cellphone_id DESC\n",
    "LIMIT 10;"
   ]
  },
  {
   "cell_type": "code",
   "execution_count": null,
   "metadata": {},
   "outputs": [],
   "source": [
    "%%sql\n",
    "/*  \n",
    "    Note if we want both columns in descending order, you need to use DESC twice, otherwise it will default to ascending\n",
    "*/\n",
    "SELECT * FROM cellphone_ratings\n",
    "ORDER by user_id desc\n",
    "LIMIT 10;"
   ]
  },
  {
   "cell_type": "markdown",
   "metadata": {},
   "source": [
    "You can use the data dictionary tables to check that the tables have been created:"
   ]
  },
  {
   "cell_type": "code",
   "execution_count": null,
   "metadata": {},
   "outputs": [],
   "source": [
    "%%sql\n",
    "/* check if tables created */\n",
    "\n",
    "SELECT *\n",
    "FROM information_schema.tables\n",
    "WHERE table_type = 'BASE TABLE' and table_schema <> 'pg_catalog'\n",
    "and table_name LIKE 'cellphone%';"
   ]
  },
  {
   "cell_type": "markdown",
   "metadata": {},
   "source": [
    "SQL *INSERT* command can be also used to add some data.\n",
    "\n",
    "We can check the structure of the tables first"
   ]
  },
  {
   "cell_type": "code",
   "execution_count": null,
   "metadata": {},
   "outputs": [],
   "source": [
    "%reload_ext schemadisplay_magic"
   ]
  },
  {
   "cell_type": "code",
   "execution_count": null,
   "metadata": {},
   "outputs": [],
   "source": [
    "%schema --connection_string $DB_CONNECTION_STRING -t cellphone_data"
   ]
  },
  {
   "cell_type": "code",
   "execution_count": null,
   "metadata": {},
   "outputs": [],
   "source": [
    "%schema --connection_string $DB_CONNECTION_STRING -t cellphone_ratings"
   ]
  },
  {
   "cell_type": "code",
   "execution_count": null,
   "metadata": {},
   "outputs": [],
   "source": [
    "%schema --connection_string $DB_CONNECTION_STRING -t cellphone_users"
   ]
  },
  {
   "cell_type": "markdown",
   "metadata": {},
   "source": [
    "Before making any changes to the data, lets add some constraints, such as a PRIMARY KEY for each table:\n"
   ]
  },
  {
   "cell_type": "code",
   "execution_count": null,
   "metadata": {},
   "outputs": [],
   "source": [
    "%%sql\n",
    "\n",
    "ALTER TABLE cellphone_data\n",
    "ADD CONSTRAINT cellphone_data_pk\n",
    "    PRIMARY KEY(cellphone_id);"
   ]
  },
  {
   "cell_type": "code",
   "execution_count": null,
   "metadata": {},
   "outputs": [],
   "source": [
    "%%sql\n",
    "\n",
    "ALTER TABLE cellphone_users\n",
    "ADD CONSTRAINT cellphone_users_pk\n",
    "    PRIMARY KEY(user_id);"
   ]
  },
  {
   "cell_type": "markdown",
   "metadata": {},
   "source": [
    "cellphones_ratings needs a composite key, since a user may have rated more than one cellphone."
   ]
  },
  {
   "cell_type": "code",
   "execution_count": null,
   "metadata": {},
   "outputs": [],
   "source": [
    "%%sql\n",
    "\n",
    "ALTER TABLE cellphone_ratings\n",
    "ADD CONSTRAINT cellphone_ratings_pk\n",
    "    PRIMARY KEY(user_id, cellphone_id);"
   ]
  },
  {
   "cell_type": "markdown",
   "metadata": {},
   "source": [
    "Plus add some foreign keys to cellphone_ratings and cellphone_users"
   ]
  },
  {
   "cell_type": "code",
   "execution_count": null,
   "metadata": {},
   "outputs": [],
   "source": [
    "%%sql\n",
    "\n",
    "ALTER TABLE cellphone_ratings\n",
    "ADD CONSTRAINT cellphone_users_fk\n",
    "    FOREIGN KEY(user_id) REFERENCES cellphone_users(user_id);"
   ]
  },
  {
   "cell_type": "code",
   "execution_count": null,
   "metadata": {},
   "outputs": [],
   "source": [
    "%%sql\n",
    "\n",
    "ALTER TABLE cellphone_ratings\n",
    "ADD CONSTRAINT cellphone_data_fk\n",
    "    FOREIGN KEY(cellphone_id) REFERENCES cellphone_data(cellphone_id);"
   ]
  },
  {
   "cell_type": "code",
   "execution_count": null,
   "metadata": {},
   "outputs": [],
   "source": [
    "%schema --connection_string $DB_CONNECTION_STRING -t cellphone_data"
   ]
  },
  {
   "cell_type": "code",
   "execution_count": null,
   "metadata": {},
   "outputs": [],
   "source": [
    "%%sql\n",
    "/* add a user and their rating for a phone */\n",
    "INSERT INTO cellphone_users VALUES (300, 61, 'Female', 'OU Associate Lecturer');\n",
    "INSERT INTO cellphone_ratings VALUES (300, 8, 9);\n",
    "/* add a user who has not made a rating and a phone that has not been rated yet */\n",
    "INSERT INTO cellphone_users VALUES (350, 40, 'Male', 'Contract Administrator');\n",
    "INSERT INTO cellphone_data VALUES (40, 'OPPO', 'A79', 'Android', 128, 8, 5.76, 50, 2, 5000, 6.72, 218, 154.99, '2023-10-28');\n",
    "COMMIT;"
   ]
  },
  {
   "cell_type": "markdown",
   "metadata": {},
   "source": [
    "Phone spec taken from: https://specs-tech.com/en/oppo-a79/ and price Amazon UK 14/11/23"
   ]
  },
  {
   "cell_type": "markdown",
   "metadata": {},
   "source": [
    "Test that the primary key and foreign keys work\n",
    "\n",
    "The following three inserts should generate an integrity error - can you see why?\n"
   ]
  },
  {
   "cell_type": "code",
   "execution_count": null,
   "metadata": {},
   "outputs": [],
   "source": [
    "%%sql\n",
    "INSERT INTO cellphone_users VALUES (300, 21, 'Male', 'IT Consultant');"
   ]
  },
  {
   "cell_type": "code",
   "execution_count": null,
   "metadata": {},
   "outputs": [],
   "source": [
    "%%sql\n",
    "INSERT INTO cellphone_ratings VALUES (400, 9, 9);"
   ]
  },
  {
   "cell_type": "code",
   "execution_count": null,
   "metadata": {},
   "outputs": [],
   "source": [
    "%%sql\n",
    "INSERT INTO cellphone_ratings VALUES (300, 50, 9);"
   ]
  },
  {
   "cell_type": "markdown",
   "metadata": {
    "tags": [
     "style-activity"
    ]
   },
   "source": [
    "## Querying the data\n",
    "### Basics: Single Table Queries"
   ]
  },
  {
   "cell_type": "markdown",
   "metadata": {},
   "source": [
    "The basic SELECT statement is:\n",
    "\n",
    "<pre>\n",
    "SELECT [DISTINCT] { * | column_list}\n",
    "    FROM tablename [, tablename ] \n",
    "    [WHERE condition]\n",
    "    [GROUP BY column_list]\n",
    "    [HAVING condition]\n",
    "    [ORDER BY column_list]\n",
    "\t[LIMIT n]\n",
    "</pre>\n",
    "\n",
    "Everything in square brackets [] is optional\n",
    "\n",
    "For example:\n",
    "\n",
    "SELECT DISTINCT city FROM Student\n",
    "WHERE REGION = ‘R04’;\n"
   ]
  },
  {
   "cell_type": "markdown",
   "metadata": {},
   "source": [
    "Some queries\n",
    "=======\n",
    "\n",
    "Simple selects\n"
   ]
  },
  {
   "cell_type": "code",
   "execution_count": null,
   "metadata": {},
   "outputs": [],
   "source": [
    "%%sql\n",
    "SELECT * FROM cellphone_data;"
   ]
  },
  {
   "cell_type": "code",
   "execution_count": null,
   "metadata": {},
   "outputs": [],
   "source": [
    "%%sql\n",
    "/* restrict columns */\n",
    "\n",
    "SELECT model, cellphone_id, brand  FROM cellphone_data;"
   ]
  },
  {
   "cell_type": "code",
   "execution_count": null,
   "metadata": {},
   "outputs": [],
   "source": [
    "%%sql\n",
    "/* restrict rows */\n",
    "\n",
    "SELECT * FROM cellphone_data WHERE brand = 'Samsung';"
   ]
  },
  {
   "cell_type": "code",
   "execution_count": null,
   "metadata": {},
   "outputs": [],
   "source": [
    "%%sql\n",
    "/* combination */\n",
    "\n",
    "SELECT cellphone_id, brand, model FROM cellphone_data\n",
    "WHERE brand = 'Apple';"
   ]
  },
  {
   "cell_type": "markdown",
   "metadata": {},
   "source": [
    "Joins\n",
    "==="
   ]
  },
  {
   "cell_type": "code",
   "execution_count": null,
   "metadata": {},
   "outputs": [],
   "source": [
    "%%sql\n",
    "/* traditional way to join tables, using table aliases */\n",
    "\n",
    "SELECT cr.cellphone_id, brand, model, rating \n",
    "FROM cellphone_data cd, cellphone_ratings cr\n",
    "WHERE cd.cellphone_id = cr.cellphone_id;"
   ]
  },
  {
   "cell_type": "markdown",
   "metadata": {},
   "source": [
    "Hint: do check the number of rows returned from any join, you should never get more rows than there are in any of the tables used. If you do, check that the tables are joined correctly."
   ]
  },
  {
   "cell_type": "code",
   "execution_count": null,
   "metadata": {},
   "outputs": [],
   "source": [
    "%%sql\n",
    "/* traditional way to join, restricting to Samsung only */\n",
    "\n",
    "SELECT cr.cellphone_id, brand, model, rating \n",
    "FROM cellphone_data cd, cellphone_ratings cr\n",
    "WHERE cd.cellphone_id = cr.cellphone_id\n",
    "AND brand = 'Samsung';\n"
   ]
  },
  {
   "cell_type": "code",
   "execution_count": null,
   "metadata": {},
   "outputs": [],
   "source": [
    "%%sql\n",
    "/* ANSI join */\n",
    "\n",
    "SELECT cr.cellphone_id, brand, model, rating \n",
    "FROM cellphone_data cd JOIN cellphone_ratings cr \n",
    "ON cd.cellphone_id = cr.cellphone_id\n",
    "AND brand = 'Samsung';\n"
   ]
  },
  {
   "cell_type": "code",
   "execution_count": null,
   "metadata": {},
   "outputs": [],
   "source": [
    "%%sql\n",
    "/* ANSI join */\n",
    "\n",
    "SELECT cu.user_id, age, occupation, cr.user_id, cellphone_id, rating \n",
    "FROM cellphone_users cu JOIN cellphone_ratings cr \n",
    "ON cu.user_id = cr.user_id;"
   ]
  },
  {
   "cell_type": "code",
   "execution_count": null,
   "metadata": {},
   "outputs": [],
   "source": [
    "%%sql\n",
    "/* Join all three tables */ \n",
    "SELECT cu.user_id, age, occupation, cr.user_id, cr.cellphone_id, rating \n",
    "FROM cellphone_users cu, cellphone_ratings cr, cellphone_data cd\n",
    "WHERE cr.cellphone_id = cd.cellphone_id\n",
    "    AND cu.user_id = cr.user_id;"
   ]
  },
  {
   "cell_type": "code",
   "execution_count": null,
   "metadata": {},
   "outputs": [],
   "source": [
    "%%sql\n",
    "/* Join all three tables - ANSI syntax */ \n",
    "SELECT cu.user_id, age, occupation, cr.user_id, cr.cellphone_id, rating \n",
    "FROM \n",
    "    cellphone_users cu \n",
    "JOIN cellphone_ratings cr ON cu.user_id = cr.user_id\n",
    "JOIN cellphone_data cd ON cr.cellphone_id = cd.cellphone_id;"
   ]
  },
  {
   "cell_type": "markdown",
   "metadata": {},
   "source": [
    "JOINs work by matching values in the columns used for the join. If you have an optional relationship then some rows may not appear in the results. An `OUTER JOIN` can be used to include these rows too.\n",
    "\n",
    "First, just check how many rows are in each table:"
   ]
  },
  {
   "cell_type": "code",
   "execution_count": null,
   "metadata": {},
   "outputs": [],
   "source": [
    "%%sql\n",
    "SELECT COUNT(*) AS data_count FROM cellphone_data;"
   ]
  },
  {
   "cell_type": "code",
   "execution_count": null,
   "metadata": {},
   "outputs": [],
   "source": [
    "%%sql\n",
    "SELECT COUNT(*) AS ratings_count FROM cellphone_ratings;"
   ]
  },
  {
   "cell_type": "code",
   "execution_count": null,
   "metadata": {},
   "outputs": [],
   "source": [
    "%%sql\n",
    "SELECT COUNT(*) AS ratings_count FROM cellphone_users;"
   ]
  },
  {
   "cell_type": "code",
   "execution_count": null,
   "metadata": {},
   "outputs": [],
   "source": [
    "%%sql\n",
    "/*\n",
    "    outer join to include cellphones with no ratings\n",
    "*/\n",
    "\n",
    "SELECT cellphone_data.cellphone_id, brand, model, cellphone_ratings.cellphone_id, rating \n",
    "FROM cellphone_data LEFT OUTER JOIN cellphone_ratings \n",
    "ON cellphone_data.cellphone_id = cellphone_ratings.cellphone_id;"
   ]
  },
  {
   "cell_type": "code",
   "execution_count": null,
   "metadata": {},
   "outputs": [],
   "source": [
    "%%sql\n",
    "/* outer join to include cellphones with no ratings only */\n",
    "\n",
    "SELECT cellphone_data.cellphone_id, brand, model, cellphone_ratings.cellphone_id, rating \n",
    "FROM cellphone_data LEFT OUTER JOIN cellphone_ratings \n",
    "ON cellphone_data.cellphone_id = cellphone_ratings.cellphone_id\n",
    "AND cellphone_ratings.cellphone_id IS NULL;\n"
   ]
  },
  {
   "cell_type": "markdown",
   "metadata": {},
   "source": [
    "Our newly added OPPO phone is not the only one without a rating"
   ]
  },
  {
   "cell_type": "code",
   "execution_count": null,
   "metadata": {},
   "outputs": [],
   "source": [
    "%%sql\n",
    "/*  outer join\n",
    "    to include users who have not rated any phones\n",
    "    our added user is at the end\n",
    "*/\n",
    "\n",
    "SELECT cu.user_id, age, gender, rating\n",
    "FROM cellphone_ratings cr RIGHT OUTER JOIN cellphone_users cu \n",
    "ON cr.user_id = cu.user_id ;"
   ]
  },
  {
   "cell_type": "code",
   "execution_count": null,
   "metadata": {},
   "outputs": [],
   "source": [
    "%%sql\n",
    "/*  outer join\n",
    "    to only show users who have not rated any phones\n",
    "*/\n",
    "\n",
    "SELECT cu.user_id, age, gender, rating\n",
    "FROM cellphone_ratings cr RIGHT OUTER JOIN cellphone_users cu ON cr.user_id = cu.user_id \n",
    "AND cu.user_id IS NULL\n",
    "ORDER BY user_id;"
   ]
  },
  {
   "cell_type": "markdown",
   "metadata": {},
   "source": [
    "The other type of OUTER JOIN is a *FULL OUTER JOIN* which would be useful if we had some rows in the cellphone_ratings table that did not match either the ratings or users tables, but the foreign key constraints would prevent this."
   ]
  },
  {
   "cell_type": "code",
   "execution_count": null,
   "metadata": {},
   "outputs": [],
   "source": [
    "%%sql\n",
    "/*  full outer join\n",
    "    to only show users who have not rated any phones, or cellphone ratings without a user. \n",
    "    In this case the foreign key constraint will mean the results are similar to the RIGHT OUTER JOIN above, without \n",
    "    the test for nulls\n",
    "*/\n",
    "\n",
    "SELECT cu.user_id, age, gender, rating\n",
    "FROM cellphone_ratings cr FULL OUTER JOIN cellphone_users cu ON cr.user_id = cu.user_id \n",
    "ORDER BY user_id;"
   ]
  },
  {
   "cell_type": "code",
   "execution_count": null,
   "metadata": {},
   "outputs": [],
   "source": [
    "%%sql\n",
    "/*\n",
    "    cartesian product\n",
    "    look what happens if you forget to join the tables.\n",
    "*/\n",
    "\n",
    "SELECT *\n",
    "FROM cellphone_ratings, cellphone_users;\n"
   ]
  },
  {
   "cell_type": "markdown",
   "metadata": {},
   "source": [
    "Always check how many rows are returned. You should not get back more rows than there are in the tables!"
   ]
  },
  {
   "cell_type": "code",
   "execution_count": null,
   "metadata": {},
   "outputs": [],
   "source": [
    "%%sql\n",
    "/* statistics */\n",
    "\n",
    "SELECT cellphone_id, count(*) as rating_count\n",
    "FROM cellphone_ratings\n",
    "GROUP BY cellphone_id\n",
    "ORDER BY cellphone_id;"
   ]
  },
  {
   "cell_type": "markdown",
   "metadata": {},
   "source": [
    "Would the following query be correct:"
   ]
  },
  {
   "cell_type": "code",
   "execution_count": null,
   "metadata": {},
   "outputs": [],
   "source": [
    "%%sql\n",
    "SELECT cellphone_id, count(*) as rating_count\n",
    "FROM cellphone_ratings\n",
    "WHERE count(*) > 35\n",
    "GROUP BY cellphone_id\n",
    "ORDER BY cellphone_id;"
   ]
  },
  {
   "cell_type": "markdown",
   "metadata": {},
   "source": [
    "No, the above query should not work, because the WHERE clause is referencing a GROUP function. If you want to restrict the rows used in the group function, use HAVING instead:"
   ]
  },
  {
   "cell_type": "code",
   "execution_count": null,
   "metadata": {
    "code_folding": []
   },
   "outputs": [],
   "source": [
    "%%sql\n",
    "/* Having is like a WHERE clause on the group function: */\n",
    "\n",
    "SELECT cellphone_id, count(*) as rating_count\n",
    "FROM cellphone_ratings\n",
    "GROUP BY cellphone_id\n",
    "HAVING count(*) > 25\n",
    "ORDER BY cellphone_id;\n"
   ]
  },
  {
   "cell_type": "code",
   "execution_count": null,
   "metadata": {},
   "outputs": [],
   "source": [
    "%%sql\n",
    "/* Can have a WHERE and HAVING clause together */\n",
    "\n",
    "SELECT cellphone_id, count(*) as rating_count\n",
    "FROM cellphone_ratings\n",
    "WHERE rating > 6\n",
    "GROUP BY cellphone_id\n",
    "HAVING count(*) > 25\n",
    "ORDER BY cellphone_id;"
   ]
  },
  {
   "cell_type": "markdown",
   "metadata": {},
   "source": [
    "Subqueries:"
   ]
  },
  {
   "cell_type": "code",
   "execution_count": null,
   "metadata": {},
   "outputs": [],
   "source": [
    "%%sql\n",
    "/* Who is the eldest user? */\n",
    "\n",
    "SELECT user_id, age, gender FROM cellphone_users WHERE age = \n",
    "    (SELECT MAX(age) FROM cellphone_users);"
   ]
  },
  {
   "cell_type": "code",
   "execution_count": null,
   "metadata": {},
   "outputs": [],
   "source": [
    "%%sql\n",
    "/*\n",
    "    Which users work in IT.\n",
    "    Note, you need to use IN rather than equals (=) for comparison, \n",
    "    since more than one user_id will be returned.\n",
    "*/\n",
    "\n",
    "SELECT user_id, age, gender\n",
    "FROM cellphone_users \n",
    "WHERE user_id IN \n",
    "    (SELECT user_id FROM cellphone_users WHERE occupation = 'IT');"
   ]
  },
  {
   "cell_type": "code",
   "execution_count": null,
   "metadata": {},
   "outputs": [],
   "source": [
    "%%sql\n",
    "/* \n",
    "    Which phone has the highest rating:\n",
    "*/\n",
    "\n",
    "SELECT cellphone_data.cellphone_id, brand, model, rating \n",
    "FROM cellphone_data JOIN cellphone_ratings \n",
    "ON cellphone_data.cellphone_id = cellphone_ratings.cellphone_id\n",
    "WHERE rating = (SELECT MAX(rating) FROM cellphone_ratings);"
   ]
  },
  {
   "cell_type": "markdown",
   "metadata": {},
   "source": [
    "Perhaps an anomaly, since the other ratings seem to be 1-10"
   ]
  },
  {
   "cell_type": "code",
   "execution_count": null,
   "metadata": {},
   "outputs": [],
   "source": [
    "%%sql\n",
    "/*\n",
    "    Column subquery:\n",
    "*/\n",
    "\n",
    "SELECT cellphone_id, brand, model, \n",
    "    (SELECT MAX(price) as Max_Price FROM cellphone_data), \n",
    "    (SELECT MAX(price) FROM cellphone_data)-price as Difference \n",
    "FROM cellphone_data;\n"
   ]
  },
  {
   "cell_type": "markdown",
   "metadata": {},
   "source": [
    "Correlated subquery\n",
    "\n",
    "This will find the employees whose salary is 10% more than the average salaries for employees of the same gender.\n",
    "\n",
    "This requires comparing a person’s salary with an aggregate (average of all salaries):\n"
   ]
  },
  {
   "cell_type": "code",
   "execution_count": null,
   "metadata": {},
   "outputs": [],
   "source": [
    "%%sql\n",
    "/*\n",
    "    correlated subquery\n",
    "    which phones cost more than average price\n",
    "    of phones of the same brand\n",
    "*/\n",
    "\n",
    "SELECT brand, model, price FROM cellphone_data cd1 \n",
    "WHERE price > \n",
    "    (SELECT AVG(price) AS Avg_price \n",
    "     FROM cellphone_data cd2 \n",
    "     WHERE cd1.brand = cd2.brand);\n"
   ]
  },
  {
   "cell_type": "markdown",
   "metadata": {
    "tags": [
     "style-learner"
    ]
   },
   "source": [
    "## Exercises: Name that Query"
   ]
  },
  {
   "cell_type": "markdown",
   "metadata": {},
   "source": [
    "The following queries are based on the cellphones schema. What do you think they mean? "
   ]
  },
  {
   "cell_type": "markdown",
   "metadata": {},
   "source": [
    "**Query 1**\n",
    "<pre>\n",
    "SELECT * FROM cellphone_users;\n",
    "</pre>"
   ]
  },
  {
   "cell_type": "markdown",
   "metadata": {},
   "source": [
    "**Query 2**\n",
    "<pre>\n",
    "SELECT brand, model, release_date \n",
    "FROM cellphone_data\n",
    "WHERE release_date > '2022-01-01';\n",
    "</pre>"
   ]
  },
  {
   "cell_type": "markdown",
   "metadata": {},
   "source": [
    "Will the next two queries return the same results?\n",
    "\n",
    "**Query 3**\n",
    "<pre>\n",
    "SELECT brand, price \n",
    "FROM cellphone_data\n",
    "WHERE (brand = 'Samsung' OR brand = 'OnePlus') \n",
    "AND price >= 600;\n",
    "</pre>"
   ]
  },
  {
   "cell_type": "markdown",
   "metadata": {},
   "source": [
    "**Query 4**\n",
    "<pre>\n",
    "SELECT brand, price \n",
    "FROM cellphone_data\n",
    "WHERE brand = 'Samsung' OR (brand = 'OnePlus' \n",
    "AND price >= 600);\n",
    "</pre>                                                                   "
   ]
  },
  {
   "cell_type": "markdown",
   "metadata": {},
   "source": [
    "**Query 5**\n",
    "<pre>\n",
    "SELECT brand, ROUND(AVG(price),2) AS average_price FROM cellphone_data \n",
    "GROUP BY brand\n",
    "ORDER BY average_price DESC;</pre>"
   ]
  },
  {
   "cell_type": "markdown",
   "metadata": {},
   "source": [
    "**Query 6**\n",
    "<pre>\n",
    "SELECT AVG(price) FROM cellphone_data GROUP BY brand;</pre>"
   ]
  },
  {
   "cell_type": "markdown",
   "metadata": {
    "tags": [
     "style-learner"
    ]
   },
   "source": [
    "### Exercises: Name that error"
   ]
  },
  {
   "cell_type": "markdown",
   "metadata": {},
   "source": [
    "Why do these generate errors:"
   ]
  },
  {
   "cell_type": "markdown",
   "metadata": {},
   "source": [
    "**Query 7**\n",
    "<pre>\n",
    "SELECT brand, model, rating \n",
    "FROM cellphone_data, cellphone_ratings \n",
    "WHERE cellphone_id = cellphone_id\n",
    "    AND rating < 3;</pre>"
   ]
  },
  {
   "cell_type": "markdown",
   "metadata": {},
   "source": [
    "**Query 8**\n",
    "<pre>\n",
    "SELECT cellphone_id, brand, model, rating \n",
    "FROM cellphone_data cd, cellphone_ratings cr\n",
    "WHERE cd.cellphone_id = cr.cellphone_id\n",
    "    AND rating > 7\n",
    "ORDER BY rating desc;"
   ]
  },
  {
   "cell_type": "markdown",
   "metadata": {},
   "source": [
    "**Query 9**\n",
    "<pre>\n",
    "SELECT model, AVG(price) FROM cellphone_data GROUP BY operating_system;</pre>\n"
   ]
  },
  {
   "cell_type": "markdown",
   "metadata": {
    "tags": [
     "style-learner"
    ]
   },
   "source": [
    "### Exercises: Subqueries"
   ]
  },
  {
   "cell_type": "markdown",
   "metadata": {},
   "source": [
    "Do the following two queries return the latest or earliest releases:"
   ]
  },
  {
   "cell_type": "markdown",
   "metadata": {},
   "source": [
    "**Query 10**\n",
    "<pre>\n",
    "/* latest or earliest release? */\n",
    "SELECT * FROM cellphone_data WHERE release_date =\n",
    "(SELECT MIN(release_date) FROM cellphone_data);</pre>\n"
   ]
  },
  {
   "cell_type": "markdown",
   "metadata": {},
   "source": [
    "**Query 10**\n",
    "<pre>\n",
    "SELECT * FROM cellphone_data WHERE release_date =\n",
    "(SELECT MAX(release_date) FROM cellphone_data);</pre>"
   ]
  },
  {
   "cell_type": "markdown",
   "metadata": {},
   "source": [
    "Why use `IN` instead of equals (=):\n",
    "\n",
    "**Query 12**\n",
    "<pre>\n",
    "SELECT * FROM cellphone_data WHERE brand IN\n",
    "(SELECT brand FROM cellphone_data cd, cellphone_ratings cr\n",
    "WHERE cd.cellphone_id = cr.cellphone_id \n",
    "    AND rating > 8);</pre>"
   ]
  },
  {
   "cell_type": "markdown",
   "metadata": {
    "tags": [
     "style-learner"
    ]
   },
   "source": [
    "### Final Exercises"
   ]
  },
  {
   "cell_type": "markdown",
   "metadata": {},
   "source": [
    "The following exercises use a smaller DEPT/EMP dataset:\n",
    "\n",
    "![Dept table](images/dept.png)\n",
    "\n",
    "![Employee table](images/emp.png)"
   ]
  },
  {
   "cell_type": "markdown",
   "metadata": {},
   "source": [
    "Which of the following SQL commands answer the question given:"
   ]
  },
  {
   "cell_type": "markdown",
   "metadata": {},
   "source": [
    "List the empno, name and salary of employees in department 10\n",
    "\n",
    "<pre>\n",
    "1. SELECT * FROM Emp WHERE deptno = 10;\n",
    "2. SELECT empno, ename, sal FROM Emp;\n",
    "3. SELECT empno, ename, sal FROM Emp WHERE deptno = 10;\n",
    "4. SELECT empno, name, salary FROM Emp WHERE deptno = 10;\n",
    "</pre>"
   ]
  },
  {
   "cell_type": "markdown",
   "metadata": {},
   "source": [
    "Find the youngest employee:\n",
    "\n",
    "<pre>\n",
    "1. SELECT * FROM Emp WHERE dob = ‘1992-11-01’;\n",
    "2. SELECT * FROM Emp WHERE empno = 4444;\n",
    "3. SELECT * FROM Emp WHERE dob =\n",
    "\t(SELECT MAX(dob) FROM EMP);\n",
    "4. SELECT * FROM Emp WHERE dob =\n",
    "\t(SELECT MIN(dob) FROM EMP);\n",
    "</pre>"
   ]
  },
  {
   "cell_type": "markdown",
   "metadata": {},
   "source": [
    "List the department number, name and employee names for everyone assigned a department:\n",
    "\n",
    "<pre>\n",
    "1. SELECT * FROM Dept, Emp;\n",
    "2. SELECT deptno, dname, ename FROM Dept, Emp;\n",
    "3. SELECT deptno, dname, ename FROM Dept, Emp WHERE dept.deptno = emp.deptno;\n",
    "4. SELECT dept.deptno, dname, ename FROM Dept, Emp WHERE dept.deptno = emp.deptno;\n",
    "</pre>"
   ]
  },
  {
   "cell_type": "markdown",
   "metadata": {},
   "source": [
    "List the average salary by department:\n",
    "\n",
    "<pre>\n",
    "1. SELECT deptno, AVG(sal) FROM Emp;\n",
    "2. SELECT deptno, AVG(sal) FROM Emp GROUP BY deptno;\n",
    "3. SELECT deptno, AVG(sal) FROM Emp GROUP BY sal;\n",
    "4. SELECT AVG(sal) FROM Emp GROUP BY deptno;\n",
    "</pre>"
   ]
  },
  {
   "cell_type": "markdown",
   "metadata": {
    "tags": [
     "style-activity"
    ]
   },
   "source": [
    "## Useful Notebooks"
   ]
  },
  {
   "cell_type": "markdown",
   "metadata": {},
   "source": [
    "Using pandasql library:\n",
    "- 03.2 Selecting and projecting, sorting and limiting\n",
    "\n",
    "Using PostgreSQL:\n",
    "- 03.3 Combining data from multiple datasets\n",
    "- 03.4 Handling missing data\n",
    "- 04.5 Split-apply-combine -with SQL and pandas\n",
    "- Part 08 – 12 notebooks. \n",
    "Uses hospital example\n"
   ]
  },
  {
   "cell_type": "markdown",
   "metadata": {
    "tags": [
     "style-activity"
    ]
   },
   "source": [
    "## Answers"
   ]
  },
  {
   "cell_type": "markdown",
   "metadata": {
    "tags": [
     "style-learner"
    ]
   },
   "source": [
    "### Name that Query"
   ]
  },
  {
   "cell_type": "markdown",
   "metadata": {},
   "source": [
    "**Query 1**"
   ]
  },
  {
   "cell_type": "code",
   "execution_count": null,
   "metadata": {},
   "outputs": [],
   "source": [
    "%%sql\n",
    "/* retrieve all rows from cellphone_users */\n",
    "\n",
    "SELECT * FROM cellphone_users;"
   ]
  },
  {
   "cell_type": "markdown",
   "metadata": {},
   "source": [
    "**Query 2**"
   ]
  },
  {
   "cell_type": "code",
   "execution_count": null,
   "metadata": {},
   "outputs": [],
   "source": [
    "%%sql\n",
    "/*  retrieve cellphones released after the 1st day of 2022 */\n",
    "\n",
    "SELECT brand, model, release_date \n",
    "FROM cellphone_data\n",
    "WHERE release_date > '2022-01-01';"
   ]
  },
  {
   "cell_type": "markdown",
   "metadata": {},
   "source": [
    "**Query 3**"
   ]
  },
  {
   "cell_type": "code",
   "execution_count": null,
   "metadata": {},
   "outputs": [],
   "source": [
    "%%sql\n",
    "/*  retrieve brand and price of all Samsung and OnePlus phones over £600 */\n",
    "\n",
    "SELECT brand, price \n",
    "FROM cellphone_data\n",
    "WHERE (brand = 'Samsung' OR brand = 'OnePlus') \n",
    "AND price >= 600;"
   ]
  },
  {
   "cell_type": "markdown",
   "metadata": {},
   "source": [
    "**Query 4**"
   ]
  },
  {
   "cell_type": "code",
   "execution_count": null,
   "metadata": {},
   "outputs": [],
   "source": [
    "%%sql\n",
    "/*  retrieve brand and price of all Samsungs or OnePlus phones over £600.\n",
    "    Notice the subtle difference from previous query */\n",
    "\n",
    "SELECT brand, price \n",
    "FROM cellphone_data\n",
    "WHERE brand = 'Samsung' OR (brand = 'OnePlus' \n",
    "AND price >= 600);"
   ]
  },
  {
   "cell_type": "markdown",
   "metadata": {},
   "source": [
    "**Query 5**"
   ]
  },
  {
   "cell_type": "code",
   "execution_count": null,
   "metadata": {},
   "outputs": [],
   "source": [
    "%%sql\n",
    "SELECT brand, ROUND(AVG(price),2) AS average_price FROM cellphone_data \n",
    "GROUP BY brand\n",
    "ORDER BY average_price DESC;"
   ]
  },
  {
   "cell_type": "markdown",
   "metadata": {},
   "source": [
    "**Query 6**"
   ]
  },
  {
   "cell_type": "code",
   "execution_count": null,
   "metadata": {},
   "outputs": [],
   "source": [
    "%%sql\n",
    "SELECT AVG(price) FROM cellphone_data GROUP BY brand;"
   ]
  },
  {
   "cell_type": "markdown",
   "metadata": {
    "tags": [
     "style-learner"
    ]
   },
   "source": [
    "### Exercises: Why the error?"
   ]
  },
  {
   "cell_type": "markdown",
   "metadata": {},
   "source": [
    "**Query 7**"
   ]
  },
  {
   "cell_type": "code",
   "execution_count": null,
   "metadata": {},
   "outputs": [],
   "source": [
    "%%sql\n",
    "SELECT brand, model, rating \n",
    "FROM cellphone_data, cellphone_ratings \n",
    "WHERE cellphone_id = cellphone_id\n",
    "AND rating < 3;"
   ]
  },
  {
   "cell_type": "markdown",
   "metadata": {},
   "source": [
    "We can see from the error message that it does not like the last line, this is because `cellphone_id` appears in both tables. Including the table name is optional when referring to a column, but if two or more tables in a query have a column with the same name, then you must include either the table name or a table alias to distinguish between the columns with the same names.\n",
    "\n",
    "For example:"
   ]
  },
  {
   "cell_type": "code",
   "execution_count": null,
   "metadata": {},
   "outputs": [],
   "source": [
    "%%sql\n",
    "SELECT brand, model, rating \n",
    "FROM cellphone_data, cellphone_ratings \n",
    "WHERE cellphone_data.cellphone_id = cellphone_ratings.cellphone_id\n",
    "    AND rating < 3;"
   ]
  },
  {
   "cell_type": "markdown",
   "metadata": {},
   "source": [
    "Or use a table alias. "
   ]
  },
  {
   "cell_type": "code",
   "execution_count": null,
   "metadata": {},
   "outputs": [],
   "source": [
    "%%sql\n",
    "SELECT brand, model, rating \n",
    "FROM cellphone_data cd, cellphone_ratings cr \n",
    "WHERE cd.cellphone_id = cr.cellphone_id\n",
    "    AND rating < 3;"
   ]
  },
  {
   "cell_type": "markdown",
   "metadata": {},
   "source": [
    "Note, if you do include aliases, then they must be used throughout the query when referring to a column, otherwise you will get a different error message:"
   ]
  },
  {
   "cell_type": "code",
   "execution_count": null,
   "metadata": {},
   "outputs": [],
   "source": [
    "%%sql\n",
    "SELECT brand, model, rating \n",
    "FROM cellphone_data cd, cellphone_ratings cr \n",
    "WHERE cellphone_data.cellphone_id = cr.cellphone_id\n",
    "    AND rating < 3;"
   ]
  },
  {
   "cell_type": "markdown",
   "metadata": {},
   "source": [
    "**Query 8**"
   ]
  },
  {
   "cell_type": "code",
   "execution_count": null,
   "metadata": {},
   "outputs": [],
   "source": [
    "%%sql\n",
    "SELECT cellphone_id, brand, model, rating \n",
    "FROM cellphone_data cd, cellphone_ratings cr\n",
    "WHERE cd.cellphone_id = cr.cellphone_id\n",
    "    AND rating > 7\n",
    "ORDER BY rating desc;"
   ]
  },
  {
   "cell_type": "markdown",
   "metadata": {},
   "source": [
    "This is similar to above - cellphone_id appears in the SELECT statement and also needs to be distinguished, in this case using the table alias."
   ]
  },
  {
   "cell_type": "code",
   "execution_count": null,
   "metadata": {},
   "outputs": [],
   "source": [
    "%%sql\n",
    "SELECT cd.cellphone_id, brand, model, rating \n",
    "FROM cellphone_data cd, cellphone_ratings cr\n",
    "WHERE cd.cellphone_id = cr.cellphone_id\n",
    "    AND rating > 7\n",
    "ORDER BY rating desc;"
   ]
  },
  {
   "cell_type": "markdown",
   "metadata": {},
   "source": [
    "Hmm, looks like there is an outlier there with the 18 - assuming the rating should be between 1 and 10!\n",
    "\n",
    "**Query 9**"
   ]
  },
  {
   "cell_type": "code",
   "execution_count": null,
   "metadata": {},
   "outputs": [],
   "source": [
    "%%sql\n",
    "SELECT model, AVG(price) FROM cellphone_data GROUP BY operating_system;"
   ]
  },
  {
   "cell_type": "markdown",
   "metadata": {},
   "source": [
    "When mixing columns and aggregate functions, as seen in this query, the column seen in the SELECT statement needs to be used in the `GROUP BY` command. In this case we want to average the prices by operating system and let's round the prices to 2 decimals:"
   ]
  },
  {
   "cell_type": "code",
   "execution_count": null,
   "metadata": {},
   "outputs": [],
   "source": [
    "%%sql\n",
    "SELECT operating_system, ROUND(AVG(price),2) AS price_avg FROM cellphone_data GROUP BY operating_system;"
   ]
  },
  {
   "cell_type": "markdown",
   "metadata": {},
   "source": [
    "**Query 10**"
   ]
  },
  {
   "cell_type": "code",
   "execution_count": null,
   "metadata": {},
   "outputs": [],
   "source": [
    "%%sql\n",
    "SELECT * FROM cellphone_data WHERE release_date =\n",
    "(SELECT MIN(release_date) FROM cellphone_data);"
   ]
  },
  {
   "cell_type": "markdown",
   "metadata": {},
   "source": [
    "**Query 11**"
   ]
  },
  {
   "cell_type": "code",
   "execution_count": null,
   "metadata": {},
   "outputs": [],
   "source": [
    "%%sql\n",
    "SELECT * FROM cellphone_data WHERE release_date =\n",
    "(SELECT MAX(release_date) FROM cellphone_data);"
   ]
  },
  {
   "cell_type": "markdown",
   "metadata": {},
   "source": [
    "For dates MIN() returns the earliest date and MAX() the latest.\n",
    "\n",
    "**Query 12**"
   ]
  },
  {
   "cell_type": "code",
   "execution_count": null,
   "metadata": {},
   "outputs": [],
   "source": [
    "%%sql\n",
    "SELECT * FROM cellphone_data WHERE brand IN\n",
    "(SELECT brand FROM cellphone_data cd, cellphone_ratings cr\n",
    "WHERE cd.cellphone_id = cr.cellphone_id \n",
    "    AND rating > 8);"
   ]
  },
  {
   "cell_type": "markdown",
   "metadata": {},
   "source": [
    "Note, if the subquery is likely to return more than one value, then you must use `IN` instead of `=` for the comparison."
   ]
  },
  {
   "cell_type": "markdown",
   "metadata": {
    "tags": [
     "style-learner"
    ]
   },
   "source": [
    "### Final queries\n",
    "\n",
    "These queries are based on a simple DEPT and EMP scenario (where 1 department can employ many employees, each employee may work for one department):"
   ]
  },
  {
   "cell_type": "code",
   "execution_count": null,
   "metadata": {},
   "outputs": [],
   "source": [
    "%%sql\n",
    "\n",
    "/* Dept and Emp Schema */\n",
    "\n",
    "CREATE TABLE Dept (\n",
    "    deptno NUMERIC(2) PRIMARY KEY,\n",
    "    dname VARCHAR(20)\n",
    ");\n",
    "\n",
    "CREATE TABLE Emp (\n",
    "    empNo CHAR(6) PRIMARY KEY,\n",
    "    eName VARCHAR(20), \n",
    "    dob DATE, \n",
    "    sal DECIMAL(8,2), \n",
    "    gender CHAR(1) CHECK (gender IN ('M','F')),\n",
    "    deptno NUMERIC(2) REFERENCES Dept\n",
    ");"
   ]
  },
  {
   "cell_type": "code",
   "execution_count": null,
   "metadata": {},
   "outputs": [],
   "source": [
    "%%sql\n",
    "/* insert some records */\n",
    "INSERT INTO Dept VALUES (10,'Finance');\n",
    "INSERT INTO Dept VALUES (20,'Sales');\n",
    "INSERT INTO Dept VALUES (30,'Marketing');\n",
    "\n",
    "INSERT INTO Emp VALUES ('1111','June','1973/08/18',35000,'F', 10);\n",
    "INSERT INTO Emp VALUES ('2222','Fred','1981/04/22',50500,'M', 20);\n",
    "INSERT INTO Emp VALUES ('3333','Tom','1985/07/11',21570,'M', 20);\n",
    "INSERT INTO Emp VALUES ('4444','Judith','1992/11/01',44500,'F',NULL);\n",
    "\n",
    "COMMIT;"
   ]
  },
  {
   "cell_type": "markdown",
   "metadata": {},
   "source": [
    "Which of the following SQL commands answer the question given:"
   ]
  },
  {
   "cell_type": "markdown",
   "metadata": {},
   "source": [
    "List the empno, name and salary of employees in department 10\n",
    "\n",
    "<pre>\n",
    "1. SELECT * FROM Emp WHERE deptno = 10; /* correct department, but we only wanted 3 columns */\n",
    "2. SELECT empno, ename, sal FROM Emp; /* correct columns, but will return all rows */\n",
    "3. SELECT empno, ename, sal FROM Emp WHERE deptno = 10; /* correct - right columns and rows */\n",
    "4. SELECT empno, name, salary FROM Emp WHERE deptno = 10; /* correct rows, but the salary column is just called sal */\n",
    "</pre>"
   ]
  },
  {
   "cell_type": "code",
   "execution_count": null,
   "metadata": {},
   "outputs": [],
   "source": [
    "%%sql \n",
    "SELECT empno, ename, sal FROM Emp WHERE deptno = 10;"
   ]
  },
  {
   "cell_type": "markdown",
   "metadata": {},
   "source": [
    "Find the youngest employee:\n",
    "\n",
    "<pre>\n",
    "1. SELECT * FROM Emp WHERE dob = ‘1992-11-01’; /* this would generate the correct row based on the current data */\n",
    "2. SELECT * FROM Emp WHERE empno = 4444; /* same as above, but what happens if a new, younger, employee joins the company */\n",
    "3. SELECT * FROM Emp WHERE dob =\n",
    "\t(SELECT MAX(dob) FROM EMP); /* correct */\n",
    "4. SELECT * FROM Emp WHERE dob =\n",
    "\t(SELECT MIN(dob) FROM EMP); \n",
    "    /* this would be the oldest - perhaps counterintuitative if you think max is the bigger number */\n",
    "</pre>"
   ]
  },
  {
   "cell_type": "code",
   "execution_count": null,
   "metadata": {},
   "outputs": [],
   "source": [
    "%%sql\n",
    "SELECT * FROM Emp WHERE dob =\n",
    "\t(SELECT MAX(dob) FROM EMP);"
   ]
  },
  {
   "cell_type": "markdown",
   "metadata": {},
   "source": [
    "List the department number, name and employee names for everyone assigned a department:\n",
    "<pre>\n",
    "1. SELECT * FROM Dept, Emp; /* JOIN missing */\n",
    "2. SELECT deptno, dname, ename FROM Dept, Emp; /* JOIN missing */\n",
    "3. SELECT deptno, dname, ename FROM Dept, Emp WHERE dept.deptno = emp.deptno; \n",
    "    /* join condition added, but what about that first deptno? */\n",
    "4. SELECT dept.deptno, dname, ename FROM Dept, Emp WHERE dept.deptno = emp.deptno; /* correct */\n",
    "</pre>"
   ]
  },
  {
   "cell_type": "code",
   "execution_count": null,
   "metadata": {},
   "outputs": [],
   "source": [
    "%%sql\n",
    "SELECT dept.deptno, dname, ename FROM Dept, Emp WHERE dept.deptno = emp.deptno;"
   ]
  },
  {
   "cell_type": "markdown",
   "metadata": {},
   "source": [
    "List the average salary by department:\n",
    "\n",
    "<pre>\n",
    "1. SELECT deptno, AVG(sal) FROM Emp; /* need to use GROUP BY if mixing columns and group functions */\n",
    "2. SELECT deptno, AVG(sal) FROM Emp GROUP BY deptno; /* correct */\n",
    "3. SELECT deptno, AVG(sal) FROM Emp GROUP BY sal; /* need to GROUP BY the column in the SELECT statment */\n",
    "4. SELECT AVG(sal) FROM Emp GROUP BY deptno; \n",
    "    /* would generate the same average result as query 2, but is meaningless without the deptno */\n",
    "</pre>"
   ]
  },
  {
   "cell_type": "code",
   "execution_count": null,
   "metadata": {},
   "outputs": [],
   "source": [
    "%%sql\n",
    "SELECT deptno, AVG(sal) FROM Emp GROUP BY deptno;"
   ]
  }
 ],
 "metadata": {
  "kernelspec": {
   "display_name": "Python-3",
   "language": "python",
   "name": "python-3"
  },
  "language_info": {
   "codemirror_mode": {
    "name": "ipython",
    "version": 3
   },
   "file_extension": ".py",
   "mimetype": "text/x-python",
   "name": "python",
   "nbconvert_exporter": "python",
   "pygments_lexer": "ipython3",
   "version": "3.11.10"
  }
 },
 "nbformat": 4,
 "nbformat_minor": 4
}
