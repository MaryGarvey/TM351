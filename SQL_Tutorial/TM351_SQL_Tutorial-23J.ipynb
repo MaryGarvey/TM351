{
 "cells": [
  {
   "cell_type": "markdown",
   "metadata": {},
   "source": [
    "# SQL Tutorial"
   ]
  },
  {
   "cell_type": "markdown",
   "metadata": {},
   "source": [
    "This Notebook uses the *Cellphone Recommendations* example from Kaggle.com\n",
    "\n",
    "\n",
    "https://www.kaggle.com/datasets/meirnizri/cellphones-recommendations\n",
    "\n",
    "About Dataset - from the above website (Accessed 16/11/2022):\n",
    "\n",
    "*This dataset contains three files:*\n",
    "\n",
    "*The cellphone data.csv contains data on the most popular cell phones in the US in 2022. The data for each cell phone consists of the most notable features such as performance rating (AnTuTu), memory size, camera's resolution, battery size, screen size, release date, etc. The price of each cell phone collected from Amazon and Best-Buy (in Aug 22). Overall, in our dataset there are 34 cell phones with 13 features.*\n",
    "\n",
    "*The user's data and their ratings are in cellphones users.csv and cellphones ratings.csv. To elicit the ratings, we conducted a survey on Mechanical Turk. Each participant was presented with 10 random cell phones, and she was asked to indicate how likely she is to purchase each of the cell phones at the given price, on a scale from 1 (very unlikely) to 10 (very likely). We also asked each participant to add personal information: age, gender, and occupation.*\n",
    "\n",
    "*This dataset can be used for building a recommendation system model that relies mainly on the features of the items.*"
   ]
  },
  {
   "cell_type": "markdown",
   "metadata": {},
   "source": [
    "Enable access to the PostgreSQL database engine via SQL cell magic."
   ]
  },
  {
   "cell_type": "code",
   "execution_count": null,
   "metadata": {},
   "outputs": [],
   "source": [
    "%load_ext sql"
   ]
  },
  {
   "cell_type": "markdown",
   "metadata": {},
   "source": [
    "Use the sql_init.ipynb file provided by Tutorial 08.2 to login (User tm351)"
   ]
  },
  {
   "cell_type": "code",
   "execution_count": null,
   "metadata": {},
   "outputs": [],
   "source": [
    "# Make the connection - this file is available from the Notebooks 08 folder\n",
    "\n",
    "%run sql_init.ipynb"
   ]
  },
  {
   "cell_type": "markdown",
   "metadata": {},
   "source": [
    "If this has run properly it will have setup a connection string (DB_CONNECTION_STRING), which can be used to create a connection to the database (DB_CONNECTION).\n",
    "\n",
    "See the Notebooks in Part 08 for further examples."
   ]
  },
  {
   "cell_type": "code",
   "execution_count": null,
   "metadata": {},
   "outputs": [],
   "source": [
    "DB_CONNECTION_STRING"
   ]
  },
  {
   "cell_type": "code",
   "execution_count": null,
   "metadata": {},
   "outputs": [],
   "source": [
    "import sqlalchemy \n",
    "DB_CONNECTION=sqlalchemy.create_engine(DB_CONNECTION_STRING)\n",
    "DB_CONNECTION"
   ]
  },
  {
   "cell_type": "code",
   "execution_count": null,
   "metadata": {},
   "outputs": [],
   "source": [
    "%sql DB_CONNECTION"
   ]
  },
  {
   "cell_type": "markdown",
   "metadata": {},
   "source": [
    "Drop the tables if they previously existed - only run this if they exist:"
   ]
  },
  {
   "cell_type": "code",
   "execution_count": null,
   "metadata": {},
   "outputs": [],
   "source": [
    "%%sql\n",
    "/* need to drop cellphone_ratings first, since it is related to the other two tables */\n",
    "DROP TABLE IF EXISTS cellphone_ratings;\n",
    "DROP TABLE IF EXISTS cellphone_data;\n",
    "DROP TABLE IF EXISTS cellphone_users;\n"
   ]
  },
  {
   "cell_type": "markdown",
   "metadata": {},
   "source": [
    "The cellphones dataset is stored in three CSV files. \n",
    "\n",
    "*Notebook 08.3 Adding column constraints* to tables shows how we can load these into a Panda DataFrame, then convert to SQL Table. Reading CSV files into a Pandas dataframe is first shown in *Notebook 02.2.1 Data file formats - CSV*\n",
    "\n",
    "First import pandas:"
   ]
  },
  {
   "cell_type": "code",
   "execution_count": null,
   "metadata": {},
   "outputs": [],
   "source": [
    "import pandas as pd"
   ]
  },
  {
   "cell_type": "markdown",
   "metadata": {},
   "source": [
    "Next import the CSV files into Panda dataframes:"
   ]
  },
  {
   "cell_type": "code",
   "execution_count": null,
   "metadata": {},
   "outputs": [],
   "source": [
    "# Import the cellphones_data.csv file into a DataFrame and change cellphones to cellphone\n",
    "cellphone_data_df=pd.read_csv('./data/cellphones data.csv',\n",
    "                       parse_dates=['release date'])\n",
    "\n",
    "#Look at the first few rows of the resulting DataFrame\n",
    "cellphone_data_df.head()"
   ]
  },
  {
   "cell_type": "code",
   "execution_count": null,
   "metadata": {
    "scrolled": false
   },
   "outputs": [],
   "source": [
    "# change spaces to underscore (_) in column names, makes life easier when querying the tables\n",
    "\n",
    "cellphone_data_df = cellphone_data_df.rename(columns={'operating system': 'operating_system', 'internal memory': 'internal_memory',\n",
    "                                                       'main camera' : 'main_camera', 'selfie camera' : 'selfie_camera',\n",
    "                                                       'battery size' : 'battery_size','screen size' : 'screen_size',\n",
    "                                                       'release date' : 'release_date'})\n",
    "\n",
    "cellphone_data_df.head()"
   ]
  },
  {
   "cell_type": "code",
   "execution_count": null,
   "metadata": {},
   "outputs": [],
   "source": [
    "# Import the cellphones ratings.csv file into a DataFrame\n",
    "cellphone_ratings_df=pd.read_csv('./data/cellphones ratings.csv')\n",
    "\n",
    "#Look at the first few rows of the resulting DataFrame\n",
    "cellphone_ratings_df.head()"
   ]
  },
  {
   "cell_type": "code",
   "execution_count": null,
   "metadata": {},
   "outputs": [],
   "source": [
    "# Import the cellphones users.csv file into a DataFrame\n",
    "cellphone_users_df=pd.read_csv('./data/cellphones users.csv')\n",
    "\n",
    "#Look at the first few rows of the resulting DataFrame\n",
    "cellphone_users_df.head()"
   ]
  },
  {
   "cell_type": "markdown",
   "metadata": {},
   "source": [
    "Now convert to tables\n",
    "\n",
    "Postgresql allows the data to be imported via a Panda’s DataFrame\n",
    "\n",
    "See Notebook 08.2 for some examples\n"
   ]
  },
  {
   "cell_type": "code",
   "execution_count": null,
   "metadata": {},
   "outputs": [],
   "source": [
    "cellphone_data_df.to_sql('cellphone_data',\n",
    "                  DB_CONNECTION,\n",
    "                  if_exists='replace',\n",
    "                  index=False\n",
    "                  )"
   ]
  },
  {
   "cell_type": "code",
   "execution_count": null,
   "metadata": {},
   "outputs": [],
   "source": [
    "cellphone_ratings_df.to_sql('cellphone_ratings',\n",
    "                  DB_CONNECTION,\n",
    "                  if_exists='replace',\n",
    "                  index=False\n",
    "                  )"
   ]
  },
  {
   "cell_type": "code",
   "execution_count": null,
   "metadata": {},
   "outputs": [],
   "source": [
    "cellphone_users_df.to_sql('cellphone_users',\n",
    "                  DB_CONNECTION,\n",
    "                  if_exists='replace',\n",
    "                  index=False\n",
    "                  )"
   ]
  },
  {
   "cell_type": "markdown",
   "metadata": {},
   "source": [
    "Check tables have been created ok."
   ]
  },
  {
   "cell_type": "code",
   "execution_count": null,
   "metadata": {},
   "outputs": [],
   "source": [
    "%%sql\n",
    "SELECT * FROM cellphone_users;"
   ]
  },
  {
   "cell_type": "code",
   "execution_count": null,
   "metadata": {},
   "outputs": [],
   "source": [
    "%%sql\n",
    "SELECT * FROM cellphone_ratings;"
   ]
  },
  {
   "cell_type": "code",
   "execution_count": null,
   "metadata": {},
   "outputs": [],
   "source": [
    "%%sql\n",
    "SELECT * FROM cellphone_data;"
   ]
  },
  {
   "cell_type": "markdown",
   "metadata": {},
   "source": [
    "When there are a lot of rows LIMIT can be used to restrict how many rows are returned - similar to the .head() function"
   ]
  },
  {
   "cell_type": "code",
   "execution_count": null,
   "metadata": {
    "scrolled": true
   },
   "outputs": [],
   "source": [
    "%%sql\n",
    "\n",
    "SELECT *\n",
    "FROM cellphone_data\n",
    "LIMIT 5;"
   ]
  },
  {
   "cell_type": "markdown",
   "metadata": {},
   "source": [
    "Can use OFFSET to skip n records before applying the LIMIT"
   ]
  },
  {
   "cell_type": "code",
   "execution_count": null,
   "metadata": {
    "scrolled": true
   },
   "outputs": [],
   "source": [
    "%%sql\n",
    "\n",
    "SELECT *\n",
    "FROM cellphone_data\n",
    "LIMIT 5 OFFSET 5;"
   ]
  },
  {
   "cell_type": "markdown",
   "metadata": {},
   "source": [
    "LIMIT does not take negative arguments, for example, to get last 5 records, but you can sort the records in ascending/descending order to achieve the same effect:"
   ]
  },
  {
   "cell_type": "code",
   "execution_count": null,
   "metadata": {},
   "outputs": [],
   "source": [
    "%%sql\n",
    "SELECT * FROM cellphone_ratings\n",
    "ORDER by rating, cellphone_id\n",
    "LIMIT 10;"
   ]
  },
  {
   "cell_type": "code",
   "execution_count": null,
   "metadata": {},
   "outputs": [],
   "source": [
    "%%sql\n",
    "/*  \n",
    "    Note if we want both columns in descending order, you need to use DESC twice, otherwise it will default to ascending\n",
    "*/\n",
    "SELECT * FROM cellphone_ratings\n",
    "ORDER by rating DESC, cellphone_id DESC\n",
    "LIMIT 10;"
   ]
  },
  {
   "cell_type": "markdown",
   "metadata": {},
   "source": [
    "You can use the data dictionary tables to check that the tables have been created:"
   ]
  },
  {
   "cell_type": "code",
   "execution_count": null,
   "metadata": {},
   "outputs": [],
   "source": [
    "%%sql\n",
    "/* check if tables created */\n",
    "\n",
    "SELECT *\n",
    "FROM information_schema.tables\n",
    "WHERE table_type = 'BASE TABLE' and table_schema <> 'pg_catalog'\n",
    "and table_name LIKE 'cellphone%';"
   ]
  },
  {
   "cell_type": "markdown",
   "metadata": {},
   "source": [
    "SQL *INSERT* command can be also used to add some data.\n",
    "\n",
    "We can check the structure of the tables first"
   ]
  },
  {
   "cell_type": "code",
   "execution_count": null,
   "metadata": {},
   "outputs": [],
   "source": [
    "%reload_ext schemadisplay_magic"
   ]
  },
  {
   "cell_type": "code",
   "execution_count": null,
   "metadata": {},
   "outputs": [],
   "source": [
    "%schema --connection_string $DB_CONNECTION_STRING -t cellphone_data"
   ]
  },
  {
   "cell_type": "code",
   "execution_count": null,
   "metadata": {},
   "outputs": [],
   "source": [
    "%schema --connection_string $DB_CONNECTION_STRING -t cellphone_ratings"
   ]
  },
  {
   "cell_type": "code",
   "execution_count": null,
   "metadata": {},
   "outputs": [],
   "source": [
    "%schema --connection_string $DB_CONNECTION_STRING -t cellphone_users"
   ]
  },
  {
   "cell_type": "markdown",
   "metadata": {},
   "source": [
    "Before making any changes to the data, lets add some constraints, such as a PRIMARY KEY for each table:\n"
   ]
  },
  {
   "cell_type": "code",
   "execution_count": null,
   "metadata": {},
   "outputs": [],
   "source": [
    "%%sql\n",
    "\n",
    "ALTER TABLE cellphone_data\n",
    "ADD CONSTRAINT cellphone_data_pk\n",
    "    PRIMARY KEY(cellphone_id);"
   ]
  },
  {
   "cell_type": "code",
   "execution_count": null,
   "metadata": {},
   "outputs": [],
   "source": [
    "%%sql\n",
    "\n",
    "ALTER TABLE cellphone_users\n",
    "ADD CONSTRAINT cellphone_users_pk\n",
    "    PRIMARY KEY(user_id);"
   ]
  },
  {
   "cell_type": "markdown",
   "metadata": {},
   "source": [
    "cellphones_ratings needs a composite key, since a user may have rated more than one cellphone."
   ]
  },
  {
   "cell_type": "code",
   "execution_count": null,
   "metadata": {},
   "outputs": [],
   "source": [
    "%%sql\n",
    "\n",
    "ALTER TABLE cellphone_ratings\n",
    "ADD CONSTRAINT cellphone_ratings_pk\n",
    "    PRIMARY KEY(user_id, cellphone_id);"
   ]
  },
  {
   "cell_type": "markdown",
   "metadata": {},
   "source": [
    "Plus add some foreign keys to cellphone_ratings and cellphone_users"
   ]
  },
  {
   "cell_type": "code",
   "execution_count": null,
   "metadata": {},
   "outputs": [],
   "source": [
    "%%sql\n",
    "\n",
    "ALTER TABLE cellphone_ratings\n",
    "ADD CONSTRAINT cellphone_users_fk\n",
    "    FOREIGN KEY(user_id) REFERENCES cellphone_users(user_id);"
   ]
  },
  {
   "cell_type": "code",
   "execution_count": null,
   "metadata": {},
   "outputs": [],
   "source": [
    "%%sql\n",
    "\n",
    "ALTER TABLE cellphone_ratings\n",
    "ADD CONSTRAINT cellphone_data_fk\n",
    "    FOREIGN KEY(cellphone_id) REFERENCES cellphone_data(cellphone_id);"
   ]
  },
  {
   "cell_type": "code",
   "execution_count": null,
   "metadata": {},
   "outputs": [],
   "source": [
    "%schema --connection_string $DB_CONNECTION_STRING -t cellphone_data"
   ]
  },
  {
   "cell_type": "code",
   "execution_count": null,
   "metadata": {},
   "outputs": [],
   "source": [
    "%%sql\n",
    "/* add a user and their rating for a phone */\n",
    "INSERT INTO cellphone_users VALUES (300, 61, 'Female', 'OU Associate Lecturer');\n",
    "INSERT INTO cellphone_ratings VALUES (300, 8, 9);\n",
    "/* add a user who has not made a rating and a phone that has not been rated yet */\n",
    "INSERT INTO cellphone_users VALUES (350, 40, 'Male', 'Contract Administrator');\n",
    "INSERT INTO cellphone_data VALUES (40, 'OPPO', 'A79', 'Android', 128, 8, 5.76, 50, 2, 5000, 6.72, 218, 154.99, '2023-10-28');\n",
    "COMMIT;"
   ]
  },
  {
   "cell_type": "markdown",
   "metadata": {},
   "source": [
    "Phone spec taken from: https://specs-tech.com/en/oppo-a79/ and price Amazon UK 14/11/23"
   ]
  },
  {
   "cell_type": "markdown",
   "metadata": {},
   "source": [
    "Test that the primary key and foreign keys work\n",
    "\n",
    "The following three inserts should generate an integrity error - can you see why?\n"
   ]
  },
  {
   "cell_type": "code",
   "execution_count": null,
   "metadata": {},
   "outputs": [],
   "source": [
    "%%sql\n",
    "INSERT INTO cellphone_users VALUES (300, 21, 'Male', 'IT Consultant');"
   ]
  },
  {
   "cell_type": "code",
   "execution_count": null,
   "metadata": {},
   "outputs": [],
   "source": [
    "%%sql\n",
    "INSERT INTO cellphone_ratings VALUES (400, 9, 9);"
   ]
  },
  {
   "cell_type": "code",
   "execution_count": null,
   "metadata": {},
   "outputs": [],
   "source": [
    "%%sql\n",
    "INSERT INTO cellphone_ratings VALUES (300, 50, 9);"
   ]
  },
  {
   "cell_type": "markdown",
   "metadata": {},
   "source": [
    "Some queries\n",
    "=======\n",
    "\n",
    "Simple selects\n"
   ]
  },
  {
   "cell_type": "code",
   "execution_count": null,
   "metadata": {},
   "outputs": [],
   "source": [
    "%%sql\n",
    "SELECT * FROM cellphone_data;"
   ]
  },
  {
   "cell_type": "code",
   "execution_count": null,
   "metadata": {},
   "outputs": [],
   "source": [
    "%%sql\n",
    "/* restrict columns */\n",
    "\n",
    "SELECT cellphone_id, brand, model FROM cellphone_data;"
   ]
  },
  {
   "cell_type": "code",
   "execution_count": null,
   "metadata": {},
   "outputs": [],
   "source": [
    "%%sql\n",
    "/* restrict rows */\n",
    "\n",
    "SELECT * FROM cellphone_data WHERE brand = 'Samsung';"
   ]
  },
  {
   "cell_type": "code",
   "execution_count": null,
   "metadata": {},
   "outputs": [],
   "source": [
    "%%sql\n",
    "/* combination */\n",
    "\n",
    "SELECT cellphone_id, brand, model FROM cellphone_data\n",
    "WHERE brand = 'Apple';"
   ]
  },
  {
   "cell_type": "markdown",
   "metadata": {},
   "source": [
    "Joins\n",
    "==="
   ]
  },
  {
   "cell_type": "code",
   "execution_count": null,
   "metadata": {},
   "outputs": [],
   "source": [
    "%%sql\n",
    "/* traditional way to join tables, using table aliases */\n",
    "\n",
    "SELECT cr.cellphone_id, brand, model, rating \n",
    "FROM cellphone_data cd, cellphone_ratings cr\n",
    "WHERE cd.cellphone_id = cr.cellphone_id;"
   ]
  },
  {
   "cell_type": "markdown",
   "metadata": {},
   "source": [
    "Hint: do check the number of rows returned from any join, you should never get more rows than there are in any of the tables used. If you do, check that the tables are joined correctly."
   ]
  },
  {
   "cell_type": "code",
   "execution_count": null,
   "metadata": {},
   "outputs": [],
   "source": [
    "%%sql\n",
    "/* traditional way to join, restricting to Samsung only */\n",
    "\n",
    "SELECT cr.cellphone_id, brand, model, rating \n",
    "FROM cellphone_data cd, cellphone_ratings cr\n",
    "WHERE cd.cellphone_id = cr.cellphone_id\n",
    "AND brand = 'Samsung';\n"
   ]
  },
  {
   "cell_type": "code",
   "execution_count": null,
   "metadata": {},
   "outputs": [],
   "source": [
    "%%sql\n",
    "/* ANSI join */\n",
    "\n",
    "SELECT cr.cellphone_id, brand, model, rating \n",
    "FROM cellphone_data cd JOIN cellphone_ratings cr \n",
    "ON cd.cellphone_id = cr.cellphone_id\n",
    "AND brand = 'Samsung';\n"
   ]
  },
  {
   "cell_type": "code",
   "execution_count": null,
   "metadata": {},
   "outputs": [],
   "source": [
    "%%sql\n",
    "/* ANSI join */\n",
    "\n",
    "SELECT cu.user_id, age, occupation, cr.user_id, cellphone_id, rating \n",
    "FROM cellphone_users cu JOIN cellphone_ratings cr \n",
    "ON cu.user_id = cr.user_id;"
   ]
  },
  {
   "cell_type": "code",
   "execution_count": null,
   "metadata": {},
   "outputs": [],
   "source": [
    "%%sql\n",
    "SELECT COUNT(*) AS data_count FROM cellphone_data;"
   ]
  },
  {
   "cell_type": "code",
   "execution_count": null,
   "metadata": {},
   "outputs": [],
   "source": [
    "%%sql\n",
    "SELECT COUNT(*) AS ratings_count FROM cellphone_ratings;"
   ]
  },
  {
   "cell_type": "code",
   "execution_count": null,
   "metadata": {},
   "outputs": [],
   "source": [
    "%%sql\n",
    "SELECT COUNT(*) AS ratings_count FROM cellphone_users;"
   ]
  },
  {
   "cell_type": "code",
   "execution_count": null,
   "metadata": {},
   "outputs": [],
   "source": [
    "%%sql\n",
    "/*\n",
    "    outer join to include cellphones with no ratings\n",
    "*/\n",
    "\n",
    "SELECT cellphone_data.cellphone_id, brand, model, cellphone_ratings.cellphone_id, rating \n",
    "FROM cellphone_data LEFT OUTER JOIN cellphone_ratings \n",
    "ON cellphone_data.cellphone_id = cellphone_ratings.cellphone_id;"
   ]
  },
  {
   "cell_type": "code",
   "execution_count": null,
   "metadata": {},
   "outputs": [],
   "source": [
    "%%sql\n",
    "/* outer join to include cellphones with no ratings only */\n",
    "\n",
    "SELECT cellphone_data.cellphone_id, brand, model, cellphone_ratings.cellphone_id, rating \n",
    "FROM cellphone_data LEFT OUTER JOIN cellphone_ratings \n",
    "ON cellphone_data.cellphone_id = cellphone_ratings.cellphone_id\n",
    "AND cellphone_ratings.cellphone_id IS NULL;\n"
   ]
  },
  {
   "cell_type": "markdown",
   "metadata": {},
   "source": [
    "Our newly added OPPO phone is not the only one without a rating"
   ]
  },
  {
   "cell_type": "code",
   "execution_count": null,
   "metadata": {},
   "outputs": [],
   "source": [
    "%%sql\n",
    "/*  outer join\n",
    "    to include users who have not rated any phones\n",
    "    our added user is at the end\n",
    "*/\n",
    "\n",
    "SELECT cu.user_id, age, gender, rating\n",
    "FROM cellphone_ratings cr RIGHT OUTER JOIN cellphone_users cu \n",
    "ON cr.user_id = cu.user_id ;"
   ]
  },
  {
   "cell_type": "code",
   "execution_count": null,
   "metadata": {},
   "outputs": [],
   "source": [
    "%%sql\n",
    "/*  outer join\n",
    "    to only show users who have not rated any phones\n",
    "*/\n",
    "\n",
    "SELECT cu.user_id, age, gender, rating\n",
    "FROM cellphone_ratings cr RIGHT OUTER JOIN cellphone_users cu ON cr.user_id = cu.user_id \n",
    "AND cu.user_id IS NULL\n",
    "ORDER BY user_id;"
   ]
  },
  {
   "cell_type": "markdown",
   "metadata": {},
   "source": [
    "The other type of OUTER JOIN is a *FULL OUTER JOIN* which would be useful if we had some rows in the cellphone_ratings table that did not match either the ratings or users tables, but the foreign key constraints would prevent this."
   ]
  },
  {
   "cell_type": "code",
   "execution_count": null,
   "metadata": {},
   "outputs": [],
   "source": [
    "%%sql\n",
    "/*  full outer join\n",
    "    to only show users who have not rated any phones, or cellphone ratings without a user. \n",
    "    In this case the foreign key constraint will mean the results are similar to the RIGHT OUTER JOIN above, without \n",
    "    the test for nulls\n",
    "*/\n",
    "\n",
    "SELECT cu.user_id, age, gender, rating\n",
    "FROM cellphone_ratings cr FULL OUTER JOIN cellphone_users cu ON cr.user_id = cu.user_id \n",
    "ORDER BY user_id;"
   ]
  },
  {
   "cell_type": "code",
   "execution_count": null,
   "metadata": {},
   "outputs": [],
   "source": [
    "%%sql\n",
    "/*\n",
    "    cartesian product\n",
    "    look what happens if you forget to join the tables.\n",
    "*/\n",
    "\n",
    "SELECT *\n",
    "FROM cellphone_ratings, cellphone_users;\n"
   ]
  },
  {
   "cell_type": "markdown",
   "metadata": {},
   "source": [
    "Always check how many rows are returned. You should not get back more rows than there are in the tables!"
   ]
  },
  {
   "cell_type": "code",
   "execution_count": null,
   "metadata": {},
   "outputs": [],
   "source": [
    "%%sql\n",
    "/* statistics */\n",
    "\n",
    "SELECT cellphone_id, count(*) as rating_count\n",
    "FROM cellphone_ratings\n",
    "GROUP BY cellphone_id\n",
    "ORDER BY cellphone_id;"
   ]
  },
  {
   "cell_type": "markdown",
   "metadata": {},
   "source": [
    "Would the following query be correct:"
   ]
  },
  {
   "cell_type": "code",
   "execution_count": null,
   "metadata": {},
   "outputs": [],
   "source": [
    "%%sql\n",
    "SELECT cellphone_id, count(*) as rating_count\n",
    "FROM cellphone_ratings\n",
    "WHERE count(*) > 35\n",
    "GROUP BY cellphone_id\n",
    "ORDER BY cellphone_id;"
   ]
  },
  {
   "cell_type": "markdown",
   "metadata": {},
   "source": [
    "No, the above query should not work, because the WHERE clause is referencing a GROUP function. If you want to restrict the rows used in the group function, use HAVING instead:"
   ]
  },
  {
   "cell_type": "code",
   "execution_count": null,
   "metadata": {
    "code_folding": []
   },
   "outputs": [],
   "source": [
    "%%sql\n",
    "/* Having is like a WHERE clause on the group function: */\n",
    "\n",
    "SELECT cellphone_id, count(*) as rating_count\n",
    "FROM cellphone_ratings\n",
    "GROUP BY cellphone_id\n",
    "HAVING count(*) > 25\n",
    "ORDER BY cellphone_id;\n"
   ]
  },
  {
   "cell_type": "code",
   "execution_count": null,
   "metadata": {},
   "outputs": [],
   "source": [
    "%%sql\n",
    "/* Can have a WHERE and HAVING clause together */\n",
    "\n",
    "SELECT cellphone_id, count(*) as rating_count\n",
    "FROM cellphone_ratings\n",
    "WHERE rating > 6\n",
    "GROUP BY cellphone_id\n",
    "HAVING count(*) > 25\n",
    "ORDER BY cellphone_id;"
   ]
  },
  {
   "cell_type": "markdown",
   "metadata": {},
   "source": [
    "Subqueries:"
   ]
  },
  {
   "cell_type": "code",
   "execution_count": null,
   "metadata": {},
   "outputs": [],
   "source": [
    "%%sql\n",
    "/* Who is the eldest user? */\n",
    "\n",
    "SELECT user_id, age, gender FROM cellphone_users WHERE age = \n",
    "    (SELECT MAX(age) FROM cellphone_users);"
   ]
  },
  {
   "cell_type": "code",
   "execution_count": null,
   "metadata": {},
   "outputs": [],
   "source": [
    "%%sql\n",
    "/*\n",
    "    Which users work in IT.\n",
    "    Note, you need to use IN rather than equals (=) for comparison, \n",
    "    since more than one user_id will be returned.\n",
    "*/\n",
    "\n",
    "SELECT user_id, age, gender\n",
    "FROM cellphone_users \n",
    "WHERE user_id IN \n",
    "    (SELECT user_id FROM cellphone_users WHERE occupation = 'IT');"
   ]
  },
  {
   "cell_type": "code",
   "execution_count": null,
   "metadata": {},
   "outputs": [],
   "source": [
    "%%sql\n",
    "/* \n",
    "    Which phone has the highest rating:\n",
    "*/\n",
    "\n",
    "SELECT cellphone_data.cellphone_id, brand, model, rating \n",
    "FROM cellphone_data JOIN cellphone_ratings \n",
    "ON cellphone_data.cellphone_id = cellphone_ratings.cellphone_id\n",
    "WHERE rating = (SELECT MAX(rating) FROM cellphone_ratings);"
   ]
  },
  {
   "cell_type": "markdown",
   "metadata": {},
   "source": [
    "Perhaps an anomaly, since the other ratings seem to be 1-10"
   ]
  },
  {
   "cell_type": "code",
   "execution_count": null,
   "metadata": {},
   "outputs": [],
   "source": [
    "%%sql\n",
    "/*\n",
    "    Column subquery:\n",
    "*/\n",
    "\n",
    "SELECT cellphone_id, brand, model, \n",
    "    (SELECT MAX(price) as Max_Price FROM cellphone_data), \n",
    "    (SELECT MAX(price) FROM cellphone_data)-price as Difference \n",
    "FROM cellphone_data;\n"
   ]
  },
  {
   "cell_type": "markdown",
   "metadata": {},
   "source": [
    "Correlated subquery\n",
    "\n",
    "This will find the employees whose salary is 10% more than the average salaries for employees of the same gender.\n",
    "\n",
    "This requires comparing a person’s salary with an aggregate (average of all salaries):\n"
   ]
  },
  {
   "cell_type": "code",
   "execution_count": null,
   "metadata": {},
   "outputs": [],
   "source": [
    "%%sql\n",
    "/*\n",
    "    correlated subquery\n",
    "    which phones cost more than average price\n",
    "    of phones of the same brand\n",
    "*/\n",
    "\n",
    "SELECT brand, model, price FROM cellphone_data cd1 \n",
    "WHERE price > \n",
    "    (SELECT AVG(price) AS Avg_price \n",
    "     FROM cellphone_data cd2 \n",
    "     WHERE cd1.brand = cd2.brand);\n"
   ]
  },
  {
   "cell_type": "markdown",
   "metadata": {},
   "source": [
    "# Exercises from the tutorial"
   ]
  },
  {
   "cell_type": "code",
   "execution_count": null,
   "metadata": {},
   "outputs": [],
   "source": [
    "%%sql\n",
    "/* retrieve all rows from cellphone_users */\n",
    "\n",
    "SELECT * FROM cellphone_users;"
   ]
  },
  {
   "cell_type": "code",
   "execution_count": null,
   "metadata": {},
   "outputs": [],
   "source": [
    "%%sql\n",
    "/*  retrieve cellphones released after the 1st day of 2022 */\n",
    "\n",
    "SELECT brand, model, release_date \n",
    "FROM cellphone_data\n",
    "WHERE release_date > '2022-01-01';"
   ]
  },
  {
   "cell_type": "code",
   "execution_count": null,
   "metadata": {},
   "outputs": [],
   "source": [
    "%%sql\n",
    "/*  retrieve brand and price of all Samsung and OnePlus phones over £600 */\n",
    "SELECT brand, price \n",
    "FROM cellphone_data\n",
    "WHERE (brand = 'Samsung' OR brand = 'OnePlus') \n",
    "AND price >= 600;\n"
   ]
  },
  {
   "cell_type": "code",
   "execution_count": null,
   "metadata": {},
   "outputs": [],
   "source": [
    "%%sql\n",
    "/*  retrieve brand and price of all Samsungs or OnePlus phones over £600\n",
    "    subtle difference from previous query */\n",
    "\n",
    "SELECT brand, price \n",
    "FROM cellphone_data\n",
    "WHERE brand = 'Samsung' OR (brand = 'OnePlus' \n",
    "AND price >= 600);\n",
    "                                                                   "
   ]
  },
  {
   "cell_type": "markdown",
   "metadata": {},
   "source": [
    "Misc Exercises\n",
    "=====\n",
    "Why do these generate errors:"
   ]
  },
  {
   "cell_type": "code",
   "execution_count": null,
   "metadata": {},
   "outputs": [],
   "source": [
    "%%sql\n",
    "SELECT brand, model, rating \n",
    "FROM cellphone_data, cellphone_ratings \n",
    "WHERE cellphone_id = cellphone_id;\n"
   ]
  },
  {
   "cell_type": "code",
   "execution_count": null,
   "metadata": {},
   "outputs": [],
   "source": [
    "%%sql\n",
    "SELECT cellphone_id, brand, model, rating \n",
    "FROM cellphone_data cd, cellphone_ratings cr\n",
    "WHERE cd.cellphone_id = cr.cellphone_id;\n"
   ]
  },
  {
   "cell_type": "markdown",
   "metadata": {},
   "source": [
    "Both of the above do not work because the cellphone_id appears in both of the tables appearing in the FROM clause, so you need to tell the database which one you want."
   ]
  },
  {
   "cell_type": "code",
   "execution_count": null,
   "metadata": {},
   "outputs": [],
   "source": [
    "%%sql\n",
    "SELECT brand, AVG(price) FROM cellphone_data GROUP BY price;\n"
   ]
  },
  {
   "cell_type": "markdown",
   "metadata": {},
   "source": [
    "You can mix fields and group functions, but you need to *GROUP BY* the field that is not a group function, brand in this case."
   ]
  },
  {
   "cell_type": "markdown",
   "metadata": {},
   "source": [
    "Further exercises\n",
    "====="
   ]
  },
  {
   "cell_type": "code",
   "execution_count": null,
   "metadata": {},
   "outputs": [],
   "source": [
    "%%sql\n",
    "SELECT brand, ROUND(AVG(price),2) AS average_price FROM cellphone_data \n",
    "GROUP BY brand\n",
    "ORDER BY average_price DESC;"
   ]
  },
  {
   "cell_type": "code",
   "execution_count": null,
   "metadata": {},
   "outputs": [],
   "source": [
    "%%sql\n",
    "SELECT AVG(price) FROM cellphone_data GROUP BY brand;\n"
   ]
  },
  {
   "cell_type": "markdown",
   "metadata": {},
   "source": [
    "Subqueries:"
   ]
  },
  {
   "cell_type": "code",
   "execution_count": null,
   "metadata": {},
   "outputs": [],
   "source": [
    "%%sql\n",
    "/* latest or earliest release? */\n",
    "SELECT * FROM cellphone_data WHERE release_date =\n",
    "(SELECT MIN(release_date) FROM cellphone_data);\n"
   ]
  },
  {
   "cell_type": "code",
   "execution_count": null,
   "metadata": {},
   "outputs": [],
   "source": [
    "%%sql\n",
    "SELECT * FROM cellphone_data WHERE release_date =\n",
    "(SELECT MAX(release_date) FROM cellphone_data);\n"
   ]
  },
  {
   "cell_type": "code",
   "execution_count": null,
   "metadata": {},
   "outputs": [],
   "source": []
  }
 ],
 "metadata": {
  "kernelspec": {
   "display_name": "Python 3 (ipykernel)",
   "language": "python",
   "name": "python3"
  },
  "language_info": {
   "codemirror_mode": {
    "name": "ipython",
    "version": 3
   },
   "file_extension": ".py",
   "mimetype": "text/x-python",
   "name": "python",
   "nbconvert_exporter": "python",
   "pygments_lexer": "ipython3",
   "version": "3.10.12"
  }
 },
 "nbformat": 4,
 "nbformat_minor": 1
}
