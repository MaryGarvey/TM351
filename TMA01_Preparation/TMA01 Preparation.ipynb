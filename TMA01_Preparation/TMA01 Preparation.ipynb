{
 "cells": [
  {
   "cell_type": "markdown",
   "id": "c5754db7-4902-4ed7-93b3-8ab4aed47356",
   "metadata": {
    "tags": [
     "style-activity"
    ]
   },
   "source": [
    "\n",
    "<h1 style =\"color:blue;\">TM351 24J</h1>\n",
    "<h2 style=\"color:blue;\">Data management  and analysis</h2>\n",
    "<h2 style=\"color:blue;\">TMA01 Preparation Tutorial</h2>\n",
    "\n",
    "<h3>Mary Garvey</h3>\n",
    "<h3>4th November 2024</h3>"
   ]
  },
  {
   "cell_type": "code",
   "execution_count": null,
   "id": "3934fa10-9347-4c76-b4b2-7c404e2e7d27",
   "metadata": {},
   "outputs": [],
   "source": [
    "# This cell imports the standard pandas library needed for this workbook\n",
    "\n",
    "import pandas as pd\n",
    "import json"
   ]
  },
  {
   "cell_type": "markdown",
   "id": "d6df3c24-9be5-4c0b-9a49-251b93f63e4e",
   "metadata": {},
   "source": [
    "## What we will cover today\n",
    "\n",
    "* The data life cycle and data pipeline\t\t\n",
    "* Data acquisition\n",
    "* Data preparation\n",
    "* Data analysis\n",
    "* Data presentation\n",
    "* The TMA "
   ]
  },
  {
   "attachments": {},
   "cell_type": "markdown",
   "id": "b46ea343-63a8-426d-b5ee-34d06b835687",
   "metadata": {
    "tags": [
     "style-activity"
    ]
   },
   "source": [
    "## Data life cycle and data pipeline\n"
   ]
  },
  {
   "cell_type": "markdown",
   "id": "8f65fdc8-206f-4639-be3e-c5b4b846c7d8",
   "metadata": {},
   "source": [
    "The module follows a data life cycle and pipeline:\n",
    "\n",
    "![](images/tm351_pt1_f04.eps.jpg)\n",
    "\n",
    "This takes into account what actually happens to the data, and the uses to which it is put, as it is processed."
   ]
  },
  {
   "cell_type": "markdown",
   "id": "5623cd50-5e24-4669-9e12-ed6bd044fe26",
   "metadata": {},
   "source": [
    "The emphasis is on the management of data from its creation through to its reuse and eventual destruction:\n",
    "\n",
    "![](images/tm351_pt1_f03.eps.jpg)\n",
    "\n",
    "There are many variants of the data life cycle and data pipe line exist for example CRISP_DM (CRoss Industry Standard Process for Data Mining)."
   ]
  },
  {
   "cell_type": "markdown",
   "id": "250cab08-abf3-4622-aa80-0167b5d6bc50",
   "metadata": {},
   "source": [
    "This module is built around the data pipeline, which allows:\n",
    "\n",
    "* Completeness and correctness\n",
    "\n",
    "Analysts need to be confident that the information they generate is correct.\n",
    "\n",
    "* Reproducibility and provenance\n",
    "\n",
    "Researchers want to be able to reproduce and prove their results. For example, a research paper can't just say the answer is 42 without showing how the result came about.\n",
    "\n",
    "From your point of view, notebooks allow you to document and provide reproducible data processes, so others can see your reasoning and allow them to re-run your entire analysis and may be carry out further analsysis. \n",
    "\n",
    "Figure 1.9 from TM351 Part 1 illustrates a ‘big data’ workflow from a data-centric scientific research process:\n",
    "\n",
    "![](images/tm351_pt1_f09.eps.jpg)\n"
   ]
  },
  {
   "cell_type": "markdown",
   "id": "0940027a-4edf-416f-aa97-3fff40f2027a",
   "metadata": {
    "tags": [
     "style-solution"
    ]
   },
   "source": [
    "### Data Characteristics"
   ]
  },
  {
   "cell_type": "markdown",
   "id": "d789197f-2721-4b32-b80d-06789275e22f",
   "metadata": {},
   "source": [
    "Part 1 introduces various things to consider when working with data. \n",
    "\n",
    "Table 1.1. introduces Kitchin’s characterisation of data (Kitchin, 2014), which can be used as checklist to characterise a dataset  \n",
    "\n",
    "![](images/kitchin.png)"
   ]
  },
  {
   "attachments": {},
   "cell_type": "markdown",
   "id": "d4d7b6dd-6713-4b56-b74e-2e4c7de9b914",
   "metadata": {
    "tags": [
     "style-learner"
    ]
   },
   "source": [
    "### Name that structure\n",
    "\n",
    "For example, have a look at the following samples of data, for each one, decide how you would describe their structure (structured, semi-structured or unstructured):"
   ]
  },
  {
   "cell_type": "code",
   "execution_count": null,
   "id": "dab60879-3852-43ab-ade1-d2c2730fc4f8",
   "metadata": {},
   "outputs": [],
   "source": [
    "! head data/SFR01_2016_UD_national_1.csv"
   ]
  },
  {
   "cell_type": "markdown",
   "id": "0bdd6288-6abc-4268-b6e3-44188956cf9f",
   "metadata": {},
   "source": [
    "The data as presented as above is hard to read, there does not appear to be any issues and looks like commaa separabed values (CSV).\n",
    "\n",
    "Lets just take a quick subset of the data - first 5 columns and rows:"
   ]
  },
  {
   "cell_type": "code",
   "execution_count": null,
   "id": "42d7d52c-111f-43d4-ae75-4815c215d83a",
   "metadata": {},
   "outputs": [],
   "source": [
    "data_df = pd.read_csv(\"data/SFR01_2016_UD_national_1.csv\", usecols = [0,1,2,3,4])\n",
    "data_df.head()"
   ]
  },
  {
   "cell_type": "markdown",
   "id": "c7b0c570-ff56-4bb2-84e1-a2069d9b6549",
   "metadata": {
    "tags": [
     "style-learner"
    ]
   },
   "source": [
    "Structured, semi-structured or unstructured?"
   ]
  },
  {
   "cell_type": "code",
   "execution_count": null,
   "id": "8995245e-66eb-47d7-8e32-3c5040856a76",
   "metadata": {},
   "outputs": [],
   "source": [
    "! head data/role.json"
   ]
  },
  {
   "cell_type": "markdown",
   "id": "66bbe856-229c-486e-84f2-20920b38ef65",
   "metadata": {
    "tags": [
     "style-learner"
    ]
   },
   "source": [
    "Structured, semi-structured or unstructured?"
   ]
  },
  {
   "cell_type": "code",
   "execution_count": null,
   "id": "fdf1cb92-0bf8-452e-9030-c5032299cefe",
   "metadata": {},
   "outputs": [],
   "source": [
    "! head data/SFR01_2016_UD_metadata.txt"
   ]
  },
  {
   "cell_type": "code",
   "execution_count": null,
   "id": "48b32b59-a96b-4e9c-8f29-e62fb2f0f9b2",
   "metadata": {},
   "outputs": [],
   "source": [
    "! tail data/SFR01_2016_UD_metadata.txt"
   ]
  },
  {
   "cell_type": "markdown",
   "id": "4d5f8159-19ac-4e70-9fec-2ce28f2f290d",
   "metadata": {
    "tags": [
     "style-learner"
    ]
   },
   "source": [
    "Structured, semi-structured or unstructured?"
   ]
  },
  {
   "cell_type": "markdown",
   "id": "300bbbdf-b898-424a-ace7-723440abe1ae",
   "metadata": {
    "tags": [
     "style-solution"
    ]
   },
   "source": [
    "### Potential data issues"
   ]
  },
  {
   "cell_type": "markdown",
   "id": "287570a3-20d4-4c92-9e94-fd34291d1c52",
   "metadata": {},
   "source": [
    "\n",
    "![](images/issues.png)\n"
   ]
  },
  {
   "cell_type": "markdown",
   "id": "07b659dd-cd2f-448c-8649-ea1eb51e4dc3",
   "metadata": {
    "tags": [
     "style-learner"
    ]
   },
   "source": [
    "Can anyone think of other issues?"
   ]
  },
  {
   "cell_type": "markdown",
   "id": "674e207d-6795-4b83-9f8a-3a5bd0c63317",
   "metadata": {
    "tags": [
     "style-activity"
    ]
   },
   "source": [
    "## Acquiring the data\n",
    "\n",
    "![](images/tm351_pt2_f01.eps.small.jpg)"
   ]
  },
  {
   "cell_type": "markdown",
   "id": "2e87d15b-b86e-4c3c-945b-fb4011a48e5e",
   "metadata": {},
   "source": [
    "The first step in  the data analysis process is to acquire the data. \n",
    "\n",
    "* Has anyone found some sites containing interesting datasets?\n",
    "For example, for work or hobbies\n",
    "\n",
    "* Why is it important to look at other datasets and analysis?\n",
    "\n",
    "* What data should be acquired?\n",
    "\n",
    "* The TMA sometimes gets you to find data, but with live datasets, they have been know to disappear/changed!\n"
   ]
  },
  {
   "cell_type": "markdown",
   "id": "f7899514-fbdb-4f1e-a1f6-ee4b3f3c8e01",
   "metadata": {
    "tags": [
     "style-solution"
    ]
   },
   "source": [
    "### Found Data"
   ]
  },
  {
   "cell_type": "markdown",
   "id": "ca921cfe-3105-4b0b-942e-b9c1c4dfa65e",
   "metadata": {},
   "source": [
    "Lots of data sets out there:"
   ]
  },
  {
   "cell_type": "markdown",
   "id": "a0966315-602f-405c-9c6b-3218d0d4950a",
   "metadata": {},
   "source": [
    "|Name|URL|\n",
    "|-----|-------|\n",
    "|ONS|<a href=\"https://www.ons.gov.uk\">https://www.ons.gov.uk</a>|\n",
    "|EU Stats|<a href=\"http://ec.europa.eu/eurostat\">http://ec.europa.eu/eurostat</a>|\n",
    "|European commission stats|<a href=\"http://ec.europa.eu/eurostat/data/statistics-a-z/abc\">http://ec.europa.eu/eurostat/data/statistics-a-z/abc</a>|\n",
    "|UK Government|<a href=\"https://www.gov.uk/government/statistics\">https://www.gov.uk/government/statistics</a>|\n",
    "|US Government|<a href=\"https://www.usa.gov/statistics\">https://www.usa.gov/statistics</a>|\n",
    "|Edinburgh University data share|<a href=\"http://datashare.is.ed.ac.uk/\">http://datashare.is.ed.ac.uk/</a>|\n",
    "|List of high quality data sets|<a href=\"https://github.com/caesar0301/awesome-public-datasets\">https://github.com/caesar0301/awesome-public-datasets</a>|\n",
    "|AW public data sets|<a href=\"https://aws.amazon.com/datasets/\">https://aws.amazon.com/datasets/</a>|\n",
    "|Stanford: Computational Journalism lab|<a href=\"http://cjlab.stanford.edu/\">http://cjlab.stanford.edu/ </a>|\n",
    "|KDNuggets: data sets for mining/discovery|<a href=\"https://www.kdnuggets.com/datasets/\">https://www.kdnuggets.com/datasets/</a>|\n",
    "|Kaggle: AI & ML community|<a href=\"https://www.kaggle.com/\">https://www.kaggle.com/</a>|\n",
    "|Halifax house prices|<a href=\"http://www.lloydsbankinggroup.com/media/economic-insight/halifax-house-price-index/\">http://www.lloydsbankinggroup.com/media/economic-insight/halifax-house-price-index/</a>|\n",
    "|Nationwide house prices|<a href=\"http://www.nationwide.co.uk/about/house-price-index/headlines\">http://www.nationwide.co.uk/about/house-price-index/headlines</a>|\n",
    "|Historical weather|<a href=\"http://www.wunderground.com/history\">http://www.wunderground.com/history</a>|\n"
   ]
  },
  {
   "cell_type": "markdown",
   "id": "5dee9b7f-4cf5-473a-ab90-8c55b04f0720",
   "metadata": {
    "tags": [
     "style-solution"
    ]
   },
   "source": [
    "### Issues with Data\n"
   ]
  },
  {
   "cell_type": "markdown",
   "id": "92bcd602-ccad-4d6e-8326-863a5e83440b",
   "metadata": {},
   "source": [
    "Things to consider when acquiring data:\n",
    "\n",
    "**Character encodings**\n",
    "\n",
    "- This define the mappings between the digital representation of a character (the binary 1s and 0s that represent it) and the character itself\n",
    "- Data from different sources could be in different formats, so want to get into a common format, e.g., ASCII, UTF 8 or Unicode\n",
    "\n",
    "**Measurement scales**\n",
    "- Nominal, ordinal, interval or ratio\n",
    "\n",
    "**Data storage**\n",
    "- tables (structured data) or documents (semi-structured data, such as JSON or XML)"
   ]
  },
  {
   "cell_type": "markdown",
   "id": "2349f0c2-be7a-4d86-91fe-5ebf38f874c6",
   "metadata": {},
   "source": [
    "We always tell you to check the data before importing it, the OS commands `head` and `tail` can be used for this.\n",
    "\n",
    "Do check the results, things to look for include:\n",
    "\n",
    "- what the format is, e.g., CSV, JSON\n",
    "- how is the data separated - not always commas, even in a CSV file\n",
    "- any decoding issues\n",
    "\n",
    "\n"
   ]
  },
  {
   "cell_type": "markdown",
   "id": "c9fc0cd7-ae3e-44a8-ba9c-667b6b922c71",
   "metadata": {},
   "source": [
    "The pandas `read_csv()` function can be used to read comma separated files.\n",
    "\n",
    "Do check the documentation: https://pandas.pydata.org/docs/reference/api/pandas.read_csv.html for the range of options, which can be used when the data is not straightforward.\n",
    "\n",
    "![](images/read_csv.jpg)"
   ]
  },
  {
   "cell_type": "markdown",
   "id": "f5d0a219-d60a-43aa-a6ef-657e22d47827",
   "metadata": {
    "tags": [
     "style-learner"
    ]
   },
   "source": [
    "### Reading CSV files\n",
    "\n",
    "For example, what options might be used if the data looks like the following:\n"
   ]
  },
  {
   "cell_type": "code",
   "execution_count": null,
   "id": "2e07af26-f459-46dc-8772-f06d93d24a39",
   "metadata": {},
   "outputs": [],
   "source": [
    "! head data/85043238.csv"
   ]
  },
  {
   "cell_type": "code",
   "execution_count": null,
   "id": "71298b02-f6a7-4e9f-9e07-e9c55dd4d788",
   "metadata": {},
   "outputs": [],
   "source": [
    "# Let's look at a few more rows:\n",
    "! head -20 data/85043238.csv"
   ]
  },
  {
   "cell_type": "code",
   "execution_count": null,
   "id": "64f1ab49-70b1-4cab-83f3-1022579b3fb6",
   "metadata": {},
   "outputs": [],
   "source": [
    "# and the end of the file\n",
    "! tail -15 data/85043238.csv"
   ]
  },
  {
   "cell_type": "markdown",
   "id": "478faeb8-52c3-4c5b-a45f-ae62527d75a0",
   "metadata": {
    "tags": [
     "style-learner"
    ]
   },
   "source": [
    "- What seems to be the problem?\n",
    "- how might we resolve this looking at the `read_csv()` documentation?"
   ]
  },
  {
   "cell_type": "markdown",
   "id": "fc8a44c7-563e-4ee3-b0aa-5046b6903797",
   "metadata": {},
   "source": [
    "Second example (2021J TMA01 dataset):"
   ]
  },
  {
   "cell_type": "code",
   "execution_count": null,
   "id": "fc1425c5-58d0-4711-8230-8feff12ce990",
   "metadata": {},
   "outputs": [],
   "source": [
    "! head data/stats1718.csv"
   ]
  },
  {
   "cell_type": "markdown",
   "id": "bf28b738-208f-45a6-80bf-292279271172",
   "metadata": {
    "tags": [
     "style-learner"
    ]
   },
   "source": [
    " - any issues here?\n",
    " - if so how might we import the data?"
   ]
  },
  {
   "cell_type": "markdown",
   "id": "a85f2fcf-b8e0-4d29-9b4a-76e632de06e6",
   "metadata": {
    "tags": [
     "style-solution"
    ]
   },
   "source": [
    "## Measurement scales\n"
   ]
  },
  {
   "cell_type": "markdown",
   "id": "4de89f3f-9640-4011-8fa7-6792aaa6e953",
   "metadata": {},
   "source": [
    "After character encoding, the next consideration is classifying data so that it can be analysed. Part 2 introduces a scheme produced by Stanley Smith Stevens (Stevens, 1946), the NOIR measurement scale.\n",
    "\n",
    "It is important to understand the classification and associated measurement scale so that you know what mathematical operations can legitimately be applied to the data found.\n",
    "\n",
    "Stevens identified four classes: Nominal, Ordinal, Interval, Ratio (NOIR). The following diagram gives an overview: "
   ]
  },
  {
   "cell_type": "markdown",
   "id": "ba8e9a43-5287-455a-a25a-7b5155574fbd",
   "metadata": {},
   "source": [
    "![](images/measurement.png)"
   ]
  },
  {
   "cell_type": "markdown",
   "id": "d58f870b-e8c0-4219-9fd0-809f039bdfe4",
   "metadata": {},
   "source": [
    "Nominal and Ordinal values are discrete. They are distinct and separate, such as whole numbers representing the number of students taking TM351.\n",
    "\n",
    "Interval and ratio values are continuous. They can be measured with precision and have an infinite number of values between two points, such as weight or temperature."
   ]
  },
  {
   "cell_type": "markdown",
   "id": "a6256f0b-1926-42ab-97b9-fe7dbe8d7437",
   "metadata": {
    "tags": [
     "style-solution"
    ]
   },
   "source": [
    "### Noir Question"
   ]
  },
  {
   "cell_type": "markdown",
   "id": "03a5a293-b63d-4442-8611-283d48584a0a",
   "metadata": {},
   "source": [
    "What type of measurement is \n",
    "- hair colour\n",
    "- weight\n",
    "- IQ score\n",
    "- Income\n",
    "- Stage in development of a human"
   ]
  },
  {
   "cell_type": "markdown",
   "id": "6e0c9882-cb22-45e4-b8a7-4c5093f37f5a",
   "metadata": {
    "tags": [
     "style-solution"
    ]
   },
   "source": [
    "### Data Storage"
   ]
  },
  {
   "cell_type": "markdown",
   "id": "bdf28e13-f40e-4f5b-b38d-4f383d942be8",
   "metadata": {},
   "source": [
    "After acquiring the data, we need to store it into appropriate complex structures and make the semantics (meaning) identifiable.\n",
    "\n",
    "There are 2 common structures used:\n",
    "\n",
    "**Tables:**\n",
    "- structured into rows\n",
    "- each row contains information about some thing\n",
    "- each row contains the same number of possibly empty cells\n",
    "- cells provide values of properties of the thing described by the row\n",
    "- cells within the same column provide values for the same property for the thing described by the particular row\n",
    "\n",
    "**Document:**\n",
    "- any file or representation that embodies a particular data record\n",
    "- conforms to a document structure\n",
    "- Typical formats: JSON, XML"
   ]
  },
  {
   "cell_type": "markdown",
   "id": "1b54fcbf-1f27-4717-89ac-e1a801e03dcf",
   "metadata": {
    "tags": [
     "style-activity"
    ]
   },
   "source": [
    "## Preparation\n",
    "\n",
    "![](images/tm351_pt3_f01.eps.small.jpg)\n"
   ]
  },
  {
   "cell_type": "markdown",
   "id": "16ea9e2b-65cb-4388-b856-0585b59a4f76",
   "metadata": {
    "tags": [
     "style-solution"
    ]
   },
   "source": [
    "### Cleansing the data"
   ]
  },
  {
   "cell_type": "markdown",
   "id": "07fd820e-7973-4578-b29a-1a61effca17a",
   "metadata": {},
   "source": [
    "**Cleansing data**\n",
    "\n",
    "Once the data is acquired, we need to clean it.\n",
    "\n",
    "Common types of data errors include:\n",
    "\n",
    "![](images/dataErrors.png)"
   ]
  },
  {
   "cell_type": "markdown",
   "id": "cb0efcbb-ad84-4c27-b4c0-47fccbd35a93",
   "metadata": {},
   "source": [
    "**Handling dirty data**\n",
    "\n",
    "![](images/handlingData.png)\n",
    "\n",
    "Don't forget to document what has been added/deleted/changed.\n",
    "\n",
    "See: Activity 3.2 Exploratory in Part 3, which reviews the following paper and is available from the OU Library:\n",
    "\n",
    "Kim, W., Choi, B. J., Hong, E. K., Kim, S. K. and Lee, D. (2003) ‘A taxonomy of dirty data’, Data Mining and Knowledge Discovery, vol. 7, no. 1, pp. 81–99.\n"
   ]
  },
  {
   "cell_type": "markdown",
   "id": "d139ce6d-0b09-43f2-a998-2942db15d0a2",
   "metadata": {},
   "source": [
    "**Reshaping data**\n",
    "\n",
    "This can involve:\n",
    "\n",
    "- Remove unnecessary columns\n",
    "- Filtering rows which do not meet specified criteria\n",
    "- Sorting rows by column combinations\n",
    "\n",
    "This can be carried out in one or more ways:\n",
    "- OpenRefine\n",
    "- Pandas\n",
    "- SQL\n",
    " \n",
    "Notebook 04.7 helps with reshaping\n"
   ]
  },
  {
   "cell_type": "markdown",
   "id": "c7d6fad7-6e91-4ba1-b022-c7abc54b7332",
   "metadata": {
    "tags": [
     "style-activity"
    ]
   },
   "source": [
    "## Analysing the data\n",
    "\n",
    "![](images/tm351_pt4_f01.eps.small.jpg)"
   ]
  },
  {
   "cell_type": "markdown",
   "id": "b18aec7c-cc56-4e2c-b445-601eaf80b78c",
   "metadata": {},
   "source": [
    "**Visualising descriptive data**\n",
    "\n",
    "Once you have imported and cleaned the data, it is now ready for analysis. Descriptive text can be hard to make sense of, so visualisations can help present the data.\n",
    "\n",
    "This can be achieved through a variety of graphics: e.g. bar charts, histograms, trend lines, box-whisper charts.\n",
    "\n",
    "Visualisation leverages the capabilities and bandwidth of the visual system. The techniques can help: \n",
    "- to move a huge amount of information into the brain very quickly.\n",
    "- take advantage of the brain to identify patterns\n",
    "- to communicate relationships and meaning\n",
    "- inspire new questions and further exploration\n",
    "- identify sub-problems\n",
    "- to identify trends and outliers\n",
    "- to search for interesting or specific data points in a larger field, etc.\n",
    "\n",
    "Visualisation helps to get behind the numbers\n"
   ]
  },
  {
   "cell_type": "markdown",
   "id": "41cbaffe-397a-4165-b179-e490486f149f",
   "metadata": {},
   "source": [
    "**Descriptive analysis**\n",
    "\n",
    "For elements on an interval scale we can aggregate into basic statistical measures including: \n",
    "\n",
    "![](images/statistics.png)"
   ]
  },
  {
   "cell_type": "markdown",
   "id": "0aa70348-6c4a-42e1-b1a0-5363cf7e93ab",
   "metadata": {},
   "source": [
    "**Correlation**\n",
    "  \n",
    "A technique that can show whether and how strongly pairs of variables are related.\n",
    "\n",
    "Often demonstrated by using a scatterplot:\n",
    "\n",
    "![](images/correlation.png)\n"
   ]
  },
  {
   "cell_type": "markdown",
   "id": "1a2d2daa-c9cf-4c17-8024-1e4f72e7363b",
   "metadata": {},
   "source": [
    "Remember correlation does not imply causation:\n",
    "\n",
    "![](images/spiders.png)\n",
    "\n",
    "See further examples here: http://www.tylervigen.com/spurious-correlations \n"
   ]
  },
  {
   "cell_type": "markdown",
   "id": "8d82738f-a4c4-44d6-981c-a7867ba4b65d",
   "metadata": {
    "tags": [
     "style-activity"
    ]
   },
   "source": [
    "## Data presentation: \n",
    "\n",
    "![](images/tm351_pt5_f01.eps.small.jpg)\n"
   ]
  },
  {
   "cell_type": "markdown",
   "id": "4eed6c6d-51fb-4db4-898a-a160a3d95ac5",
   "metadata": {},
   "source": [
    "**Reporting the story**\n",
    "\n",
    "For a data investigation you need to include a record of activities and your findings so the final report must contain:\n",
    "- the story of the investigation\n",
    "- the story discovered in the data\n",
    "\n",
    "General points to consider:\n",
    "- Keep it simple: plain English, short paragraphs, avoid jargon\n",
    "- Keep it focused: develop a logical structure, highlight key points in each section\n",
    "- Consider the audience: use their language and format – get it proofread\n",
    "- Support the reader through long reports: provide a road map and signposting\n",
    "\n",
    "The Notebook can be used for the reporting\n",
    "\n",
    "Part 5 looks at `Presentation: telling the story`\n",
    "\n",
    "See Exercise 5.6 Exploratory in Section 5.2 The report, which provides a sample layout for a report in the Discussion: `TM351_Report_Outline.docx` \n",
    "\n",
    "If time permits, we can look at a sample Notebook that works through the data pipeline using Boys Names: `Tutorial 2 BoyNames.ipynb` and there is an equivalent notebook for Girls names: `Tutorial 2 GirlNames.ipynb`\n"
   ]
  },
  {
   "cell_type": "markdown",
   "id": "05135213-92ea-4fed-bb88-e444d7940671",
   "metadata": {
    "tags": [
     "style-activity"
    ]
   },
   "source": [
    "## TMA01 Detailed look"
   ]
  },
  {
   "cell_type": "markdown",
   "id": "68af3a9d-0889-4550-990d-6b1acc312c5f",
   "metadata": {},
   "source": [
    "**TMA - logistics**\n",
    "\n",
    "***Preparation***\n",
    "\n",
    "Before you start the TMA:  \n",
    "\n",
    "- Download the zip files with the Notebooks in\n",
    "- At the top of each Notebook put your Name and Personal Identifier (PI) in the boxes provided. This will allow your Tutor to identify your work\n",
    "\n",
    "***Completion***\n",
    "\n",
    "Upon completing the TMA all of your files should be in the 2024j_tma01 folder including:\n",
    "- your Notebook files containing answers to Q1 and 2 (do not rename these)\n",
    "- the original data files in the data folder\n",
    "- any additional data files that you have added, created or updated, in the data folder\n",
    "\n",
    "***Submission***\n",
    "- zip the 2024j_tma01 directory and confirm that all your files are in the resulting archive\n",
    "- submit your zip file to the online TMA/EMA Service.\n",
    "\n",
    "***Remember*** to back-up your files regularly so as not to lose your work\n",
    "\n",
    "***Deadline*** If you are unable to submit the TMA by 5th December you must let your Tutor know beforehand\n"
   ]
  },
  {
   "cell_type": "markdown",
   "id": "be711352-4611-4931-b345-dc8186c37ab2",
   "metadata": {
    "tags": [
     "style-solution"
    ]
   },
   "source": [
    "### TMA01 Question 1 (40 marks)"
   ]
  },
  {
   "cell_type": "markdown",
   "id": "91eea068-b462-45bf-8cad-a3a470265ee0",
   "metadata": {},
   "source": [
    "In this TMA, you will investigate a dataset of museums in the UK. You are interested in the questions:\n",
    "\n",
    "- Where are museums located in the United Kingdom?\n",
    "- Are the country’s small museums equitably distributed among smaller communities?\n",
    "\n",
    "All the data required can be round in the `data` directory.\n",
    "\n",
    "- `MappingMuseumsData2021_09_30.csv`\n",
    "- `cities500.txt`\n",
    "\n",
    "Also read the meta-data file for the cities:  geonames_readme.txt"
   ]
  },
  {
   "cell_type": "markdown",
   "id": "680ded59-c107-40fe-8e6f-8f348243c118",
   "metadata": {},
   "source": [
    "Question 1 is made up of several parts:\n",
    "    \n",
    "***Data provenance, and importing and shaping the data***\n",
    "\n",
    "1. Licensing for the Museums dataset (2)\n",
    "2. Licensing for the City dataset (3)\n",
    "\n",
    "You need to find the specific clauses of the license that allow the OU to distribute the data and what obligations it puts on it.\n",
    "\n",
    "3. Importing the museums dataset (3)\n",
    "4. Removing museums which have closed (2)  \n",
    "5. Importing the cities dataset (4)\n",
    "    \n",
    "Q3&5 panda `read_csv()` function can be used\n",
    "\n",
    "Remember:\n",
    "- do some initial investigation to see what the data looks like and discuss any issues\n",
    "- show the first  5 rows once the data is in a dataframe\n",
    "\n",
    "Note: you do not need to work with all the data found in these files - you are given information on what columns and rows are needed.\n",
    "\n",
    "See Notebook 02.2.1 for reading csv files\n",
    "\n",
    "(14 marks)"
   ]
  },
  {
   "cell_type": "markdown",
   "id": "cde37ec6-b2ad-46e7-bf5c-0f5c42ed00dd",
   "metadata": {},
   "source": [
    "**Cleaning the data**\n",
    "\n",
    "6. Remove duplicates from the uk_cities_df DataFrame (3)\n",
    "7. Identifying discrepancies between the datasets (1)\n",
    "8. Correcting the discrepancies between the datasets (6)\n",
    "9. Estimate the quality of the data cleaning (1)\n",
    "\n",
    "(11 marks)"
   ]
  },
  {
   "cell_type": "markdown",
   "id": "0673c214-e64e-4158-beda-8dc81190e1db",
   "metadata": {},
   "source": [
    "**Visualising the data**\n",
    "\n",
    "10. Plot and comment upon the museums’ locations (4+1)\n",
    "11. Plot and comment upon the number of museums by size of town or city (4+1)\n",
    "\n",
    "The Notebooks in Part 05 will help with drawing maps, such Notebook 05.2 Getting started with maps - folium\n",
    "\n",
    "(10 marks)"
   ]
  },
  {
   "cell_type": "markdown",
   "id": "3dc8f92b-90df-4e42-8883-9468d2911b13",
   "metadata": {},
   "source": [
    "**Reflection on the data**\n",
    "\n",
    "12. Alternative to selecting by population (5)\n",
    "\n",
    "(5 marks)"
   ]
  },
  {
   "cell_type": "markdown",
   "id": "16aa17fe-98f3-4dab-91fa-825a6847bcb3",
   "metadata": {
    "tags": [
     "style-solution"
    ]
   },
   "source": [
    "### Question 2 (60 Marks)"
   ]
  },
  {
   "cell_type": "markdown",
   "id": "d065d797-f225-42ce-9702-a1be815a82e8",
   "metadata": {},
   "source": [
    "**The Task**\n",
    "\n",
    "You are given two datasets:\n",
    "- world happiness data: data/happiness_2024.xls\n",
    "- economic data: data/cultural_heritage_data (made up of several files)\n",
    "\n",
    "and have to consider two questions:\n",
    "- Is there a relationship between the amount that a country spends on cultural heritage per person, and the happiness of that country’s population?\n",
    "- Is there a relationship between the amount that a country spends on cultural heritage per person, and the generosity of that country’s population?\n",
    "\n",
    "You must produce two graphical illustrations of the available data:\n",
    "- The first graph should illustrate the relationship between the amount that a country spends on cultural heritage per person, and the happiness of that country’s population.\n",
    "- The second graph should illustrate the relationship between the amount that a country spends on cultural heritage per person, and the generosity of that country’s population.\n"
   ]
  },
  {
   "cell_type": "markdown",
   "id": "6db70680-9742-4221-9b88-2957b9be4e63",
   "metadata": {},
   "source": [
    "This question requires that you complete a number of tasks:\n",
    "- You should check the licenses for the datasets, and explain why you are permitted to carry out your chosen analysis.\n",
    "- You need to import the two datasets, possibly pre-processing them first.\n",
    "\n",
    "You must examine and clean the datasets to allow you to produce the two graphical illustrations asked for. You should consider questions such as:\n",
    "- Is there ambiguity in the dataset? (That is, are there aspects of the data which are unclear, and not documented?)\n",
    "- Is any data missing from the datasets?\n",
    "- Is there any dirtiness in the datasets, or inconsistency in how the data is represented between the two datasets?\n",
    "- In each of these cases you should describe the problem and explain how you have handled it.\n",
    "- You will need to reshape the data into a DataFrame.\n",
    "- Finally, you should select a visualisation method for the data in the dataset, and present two visualisations of the data, with a description of how you think it should be interpreted. \n"
   ]
  },
  {
   "cell_type": "markdown",
   "id": "b9c4f6b4-5d01-4701-a007-fabdafab55b0",
   "metadata": {},
   "source": [
    "Summary of the marks given:\n",
    "\n",
    "| Category | Number of marks |\n",
    "|-----------------|-------|\n",
    "| 1. Identify and Explain the Relevant Licensing Terms and Conditions | 5 |\n",
    "| 2. Preprocess the Data (if applicable) | (\\*) |\n",
    "| 3. Import the Datasets | 5 |\n",
    "|4. Clean and Reshape the Data | (\\*)20 |\n",
    "|5. Put the data into an appropriate form for plotting | 5 |\n",
    "|6. Visualise the data | 10 |\n",
    "|7. Interpret the plot | 5 |\n",
    "|Presentation (not explicit in the structure) | 10 |"
   ]
  },
  {
   "cell_type": "markdown",
   "id": "e146f583-bd4f-4285-9baf-da08e5af5497",
   "metadata": {},
   "source": [
    "A structure is given in the Notebook to help you frame your answer:\n",
    "- Identify and Explain the Relevant Licensing Terms and Conditions\n",
    "- Preprocess the Data (if applicable) - See section `Using Tools Outside the Notebooks` on how to display images from Open Refine\n",
    "- Import the Datasets\n",
    "- Clean and Reshape the Data\n",
    "- Put the data into an appropriate form for plotting\n",
    "- Visualise the data\n",
    "- Interpret the plots"
   ]
  },
  {
   "cell_type": "markdown",
   "id": "d0582748-6f59-4e31-87e4-83380f8285cd",
   "metadata": {},
   "source": [
    "Some general guidance on presentation:\n",
    "- You must present your answer in this notebook.\n",
    "- Do not put too much text or code into each notebook cell.\n",
    "- Text or markdown cells should contain one or two paragraphs at most\n",
    "- code cells should not contain more than about ten lines of python.\n",
    "- Ensure you use meaningful variable names in your code.\n",
    "- You should have a specific cell whose return value is the dataframe described above.\n",
    "- You should have a specific cell which plots the data in the dataframe."
   ]
  },
  {
   "cell_type": "markdown",
   "id": "6d4fcff6-9f7e-442e-8d04-a65dd2b5e283",
   "metadata": {},
   "source": [
    "**Important**\n",
    "\n",
    "When finished, go to `Kernel>Restart Kernel and Run All Cells...` to check that you have not made some alterations in the notebook that has unwillingly affected other parts. If you have file size issues you can `Kernel>Restart Kernel and Clear Outputs of All Cells...` before submitting.\n",
    "\n",
    "Do also ensure that you have not hard-coded in local files, such as you are trying to load an image called: `![](c:/MyComputer/Mary/OU/images/myFile.jpg)`\n",
    "\n",
    "Make sure you include any files not provided by the OU, such as image files produced from Open Refine."
   ]
  },
  {
   "cell_type": "markdown",
   "id": "f2e0a244-7921-43d0-9d7d-db7466edae7a",
   "metadata": {
    "tags": [
     "style-activity"
    ]
   },
   "source": [
    "### TurnItIn"
   ]
  },
  {
   "cell_type": "markdown",
   "id": "abb3bc96-111e-483d-bec1-98b3c122a325",
   "metadata": {},
   "source": [
    "The OU has introducing the use of the plagiarism detection tool TurnItIn in some of its modules.\n",
    "\n",
    "The OU defines plagiarism in part as:  \n",
    "- using text obtained from assignment writing sites, organisations or private individuals.\n",
    "- obtaining work from other sources and submitting it as your own.  \n",
    "\n",
    "The Plagiarism policy can be found here:\n",
    "- https://help.open.ac.uk/documents/policies/plagiarism \n",
    "\n",
    "Under the Assessment tab you can find a link to check a draft of your TMA for plagiarism: `Check your draft assignment using Turnitin`.\n",
    "Do not leave it until the last minute to check!\n",
    "\n",
    "**Breaking News**\n",
    "\n",
    "See the News item from: 25 Oct 2024:\n",
    "*How to use Generative AI responsibly...*\n"
   ]
  },
  {
   "cell_type": "markdown",
   "id": "e86bbecb-daaf-4d6b-a047-c5c8cbe4f2db",
   "metadata": {
    "tags": [
     "style-activity"
    ]
   },
   "source": [
    "### Further help and questions"
   ]
  },
  {
   "cell_type": "markdown",
   "id": "52ed82fe-7a33-49aa-9df1-dd22580f1141",
   "metadata": {},
   "source": [
    "Getting further help with the TMA:\n",
    "- Forums\n",
    "- Tutor\n",
    "- Module team\n",
    "\n",
    "**Do not forget the next iCMA is due on 21st November at 23:59!**\n"
   ]
  },
  {
   "cell_type": "markdown",
   "id": "50a90f76-97a8-4b61-b8a8-7cb2a1c40239",
   "metadata": {
    "tags": [
     "style-activity"
    ]
   },
   "source": [
    "## References and Data Sets"
   ]
  },
  {
   "cell_type": "markdown",
   "id": "506e93f5-0411-4162-b2ba-7018f93f8a8c",
   "metadata": {},
   "source": [
    "### References\n",
    "\n",
    "Kitchin, R. (2014) The data revolution: Big data, open data, data infrastructures and their consequences, Sage.\n",
    "\n",
    "Stevens, S. S. (1946) ‘On the Theory of Scales of Measurement’, Science, vol. 103, no. 2684, pp. 677–80 [Online]. DOI: 10.1126/science.103.2684.677\n",
    "\n",
    "### Data sets and Licences\n",
    "\n",
    "* role.json\n",
    " \n",
    "A lot of publicly available data is in JSON format. This notebook has used USA government politician datasets - US Senators (before the forthcoming 2024 elections!) found here: https://www.govtrack.us/api/v2/role?current=true&role_type=senator.\n",
    "\n",
    "There is no obvious licence given, the Privacy Policy mentions: *GovTrack is offered to as a free public service to users (“You”, “Your”) in the United States by Civic Impulse, LLC (“We”, “Us”, “Our”)* (https://www.govtrack.us/legal)\n",
    "\n",
    "The rest of the datasets are from previous TM351 TMAs:\n",
    "\n",
    "* SFR01_2016_UD_metadata.txt\n",
    "* SFR01_2016_UD_metadata.csv\n",
    "\n",
    "Used in 2020J TMA02 - Key Stage 4 data, which was originally downloaded from:\n",
    "https://www.gov.uk/government/statistics/revised-gcse-and-equivalent-results-in-england-2014-to-2015\n",
    "\n",
    "Licence: OGL All content is available under the Open Government Licence v3.0, except where otherwise stated (https://www.nationalarchives.gov.uk/doc/open-government-licence/version/3/)\n",
    "\n",
    "* 85043238.csv - Used in 2020J TMA02\n",
    "\n",
    "UK Census data Report DC6206EW - NS-SeC by ethnic group by sex by age (2011 data). \n",
    "Available at https://www.nomisweb.co.uk/query/construct/summary.asp?mode=construct&version=0&dataset=682 (Produced by OU: 31 August 2020).\n",
    "\n",
    "Nomis is a service provided by Office for National Statistics (ONS), which provides data under the OGL licence v3.0\n",
    "\n",
    "* stats1718.csv - Used in 2021J TMA01\n",
    "\n",
    "This is a dataset for the 2017-2018 opera season, which is part of the larger dataset:\n",
    "Cuntz, Alexander, 2020, \"Replication Data for: Grand rights and opera reuse today\", https://doi.org/10.7910/DVN/8LUFN8, Harvard Dataverse, V1\n",
    "\n",
    "It is stored as a csv file called stats1718.csv in the data directory. This dataset was obtained from the Harvard dataverse portal on 13th March, 2021 from:\n",
    "https://dataverse.harvard.edu/dataset.xhtml?persistentId=doi:10.7910/DVN/8LUFN8\n",
    "\n",
    "Licence: Public Domain CC0 1.0 0 (https://creativecommons.org/publicdomain/zero/1.0/)"
   ]
  },
  {
   "cell_type": "markdown",
   "id": "9c5e0ded-9219-4ff2-a2e5-679f7bd41be2",
   "metadata": {
    "tags": [
     "style-activity"
    ]
   },
   "source": [
    "## Answers\n"
   ]
  },
  {
   "cell_type": "markdown",
   "id": "b400a53a-45f4-4658-9d52-abc03602cb16",
   "metadata": {},
   "source": [
    "## Name that structure\n",
    "\n",
    "- structured: CSV files usually fits into a tabular structure \n",
    "- semi-structured: JSON format is key value pairs and is usually semi-structured\n",
    "- unstructured: this seems to be part of the documentation, which could may not follow any particular structure"
   ]
  },
  {
   "cell_type": "markdown",
   "id": "9947cc79-358c-49d4-9077-c12bfd76336c",
   "metadata": {},
   "source": [
    "## Reading CSV files\n",
    "\n",
    "First example.\n",
    "\n",
    "The problem is that meta-data can be found at the start and end of the file. \n",
    "\n",
    "We can get read_csv to ignore these rows when importing, for example:"
   ]
  },
  {
   "cell_type": "code",
   "execution_count": null,
   "id": "6f8199db-15fa-4a20-bc6e-cd55c0cf8d3d",
   "metadata": {},
   "outputs": [],
   "source": [
    "# Notebook seems to be defaulting to the C engine, which does not support skipfooter\n",
    "data_df = pd.read_csv(\"data/85043238.csv\", engine=\"python\", skiprows=10, skipfooter=7 )\n",
    "data_df.head()"
   ]
  },
  {
   "cell_type": "code",
   "execution_count": null,
   "id": "56635fd0-a619-450a-b962-278bfa591741",
   "metadata": {},
   "outputs": [],
   "source": [
    "#check nothing lost at the end\n",
    "data_df.tail()"
   ]
  },
  {
   "cell_type": "markdown",
   "id": "1ced4198-6a40-4c0a-970e-a13cdecc4787",
   "metadata": {},
   "source": [
    "Second example.\n",
    "\n",
    "If we try and read it in directly, it will generate an error:"
   ]
  },
  {
   "cell_type": "code",
   "execution_count": null,
   "id": "a6cd6717-a6e6-4782-8d6d-1e259e234e40",
   "metadata": {},
   "outputs": [],
   "source": [
    "data_df = pd.read_csv(\"data/stats1718.csv\")\n",
    "data_df.head()"
   ]
  },
  {
   "cell_type": "markdown",
   "id": "fcb17f41-3658-4594-a077-97766d62fa25",
   "metadata": {},
   "source": [
    "The `head` command showed that the data is in fact separated by |'s instead of commas, so we can use the `sep` option to deal with this:"
   ]
  },
  {
   "cell_type": "code",
   "execution_count": null,
   "id": "83772b8e-9d8f-4d19-ac92-20248a194b65",
   "metadata": {},
   "outputs": [],
   "source": [
    "data_df = pd.read_csv(\"data/stats1718.csv\", sep=\"|\")\n",
    "data_df.head()"
   ]
  },
  {
   "cell_type": "markdown",
   "id": "8c177c42-a1e1-4bfb-8dab-6f1b12136637",
   "metadata": {},
   "source": [
    "Hmm, the first row does not look like column headings, but rather data. "
   ]
  },
  {
   "cell_type": "code",
   "execution_count": null,
   "id": "769490d4-3f84-471e-b2f1-4a31b9bd250b",
   "metadata": {},
   "outputs": [],
   "source": [
    "data_df = pd.read_csv(\"data/stats1718.csv\", sep=\"|\", header=None)\n",
    "data_df.head()"
   ]
  },
  {
   "cell_type": "markdown",
   "id": "fa55c25d-5e8c-48dc-a7f0-f63bdf6b42b7",
   "metadata": {},
   "source": [
    "Hmm, the columns are now just numbers, which is not very meaningful. Something for you to think about....."
   ]
  },
  {
   "cell_type": "markdown",
   "id": "ec85a5fc-4f88-498c-adec-d16dc0b4be01",
   "metadata": {},
   "source": [
    "### Noir measurements\n",
    "\n",
    "Question - what type of measurement is:\n",
    "- hair colour -> nominal\n",
    "- weight -> ratio\n",
    "- IQ score -> interval\n",
    "- Income -> ratio\n",
    "- Stage in development of a human -> ordinal"
   ]
  },
  {
   "cell_type": "code",
   "execution_count": null,
   "id": "28488e74-76e1-4ba8-b1b5-009259d41305",
   "metadata": {},
   "outputs": [],
   "source": []
  }
 ],
 "metadata": {
  "kernelspec": {
   "display_name": "Python-3",
   "language": "python",
   "name": "python-3"
  },
  "language_info": {
   "codemirror_mode": {
    "name": "ipython",
    "version": 3
   },
   "file_extension": ".py",
   "mimetype": "text/x-python",
   "name": "python",
   "nbconvert_exporter": "python",
   "pygments_lexer": "ipython3",
   "version": "3.11.10"
  }
 },
 "nbformat": 4,
 "nbformat_minor": 5
}
