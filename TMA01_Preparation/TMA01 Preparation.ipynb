{
 "cells": [
  {
   "cell_type": "markdown",
   "id": "c5754db7-4902-4ed7-93b3-8ab4aed47356",
   "metadata": {
    "tags": [
     "style-activity"
    ]
   },
   "source": [
    "\n",
    "<h1 style =\"color:blue;\">TM351 25J</h1>\n",
    "<h2 style=\"color:blue;\">Data management  and analysis</h2>\n",
    "<h2 style=\"color:blue;\">TMA01 Preparation Tutorial</h2>\n",
    "\n",
    "<h3>Mary Garvey and Stephen Murphy</h3>\n",
    "<h3>3rd November 2025</h3>"
   ]
  },
  {
   "cell_type": "code",
   "execution_count": 1,
   "id": "3934fa10-9347-4c76-b4b2-7c404e2e7d27",
   "metadata": {},
   "outputs": [],
   "source": [
    "# This cell imports the standard pandas library needed for this workbook\n",
    "\n",
    "import pandas as pd\n",
    "import json\n"
   ]
  },
  {
   "cell_type": "markdown",
   "id": "d6df3c24-9be5-4c0b-9a49-251b93f63e4e",
   "metadata": {},
   "source": [
    "## What we will cover today\n",
    "\n",
    "* The data life cycle and data pipeline\t\t\n",
    "* Data acquisition\n",
    "* Data preparation\n",
    "* Data analysis\n",
    "* Data presentation\n",
    "* The TMA "
   ]
  },
  {
   "attachments": {},
   "cell_type": "markdown",
   "id": "b46ea343-63a8-426d-b5ee-34d06b835687",
   "metadata": {
    "tags": [
     "style-activity"
    ]
   },
   "source": [
    "## Data life cycle and data pipeline\n"
   ]
  },
  {
   "cell_type": "markdown",
   "id": "8f65fdc8-206f-4639-be3e-c5b4b846c7d8",
   "metadata": {},
   "source": [
    "The module follows a data life cycle and pipeline:\n",
    "\n",
    "![](images/tm351_pt1_f04.eps.jpg)\n",
    "\n",
    "This takes into account what actually happens to the data, and the uses to which it is put, as it is processed."
   ]
  },
  {
   "cell_type": "markdown",
   "id": "5623cd50-5e24-4669-9e12-ed6bd044fe26",
   "metadata": {},
   "source": [
    "The emphasis is on the management of data from its creation through to its reuse and eventual destruction:\n",
    "\n",
    "![\"Data cycle\"](images/tm351_pt1_f03.eps.jpg)\n",
    "\n",
    "Many variants of the data life cycle and data pipeline exist, for example CRISP_DM (CRoss Industry Standard Process for Data Mining)."
   ]
  },
  {
   "cell_type": "markdown",
   "id": "250cab08-abf3-4622-aa80-0167b5d6bc50",
   "metadata": {},
   "source": [
    "This module is built around the data pipeline, which allows:\n",
    "\n",
    "* Completeness and correctness\n",
    "\n",
    "Analysts need to be confident that the information they generate is correct.\n",
    "\n",
    "* Reproducibility and provenance\n",
    "\n",
    "Researchers want to be able to reproduce and prove their results. For example, a research paper can't just say the answer is 42 without showing how the result came about.  This is not only to allow others to ensure there is a valid method leading to the answer, but also so that others can reproduce and check the results if needed.\n",
    "\n",
    "From your point of view, notebooks allow you to document and provide reproducible data processes, so others can see your reasoning and allow them to re-run your entire analysis and may be carry out further analysis. \n",
    "\n",
    "Figure 1.9 from TM351 Part 1 illustrates a ‘big data’ workflow from a data-centric scientific research process:\n",
    "\n",
    "![](images/tm351_pt1_f09.eps.jpg)\n"
   ]
  },
  {
   "cell_type": "markdown",
   "id": "0940027a-4edf-416f-aa97-3fff40f2027a",
   "metadata": {
    "tags": [
     "style-solution"
    ]
   },
   "source": [
    "### Data Characteristics"
   ]
  },
  {
   "cell_type": "markdown",
   "id": "d789197f-2721-4b32-b80d-06789275e22f",
   "metadata": {},
   "source": [
    "Part 1 introduces various things to consider when working with data. \n",
    "\n",
    "Table 1.1. introduces Kitchin’s characterisation of data (Kitchin, 2014), which can be used as checklist to characterise a dataset  \n",
    "\n",
    "![](images/kitchin.png)"
   ]
  },
  {
   "attachments": {},
   "cell_type": "markdown",
   "id": "d4d7b6dd-6713-4b56-b74e-2e4c7de9b914",
   "metadata": {
    "tags": [
     "style-learner"
    ]
   },
   "source": [
    "### Name that structure\n",
    "\n",
    "For example, have a look at the following samples of data, for each one, decide how you would describe their structure (structured, semi-structured or unstructured):"
   ]
  },
  {
   "cell_type": "code",
   "execution_count": 2,
   "id": "dab60879-3852-43ab-ade1-d2c2730fc4f8",
   "metadata": {},
   "outputs": [
    {
     "name": "stdout",
     "output_type": "stream",
     "text": [
      "Country_code_9_digit,Country_code,Country_name,Characteristic,Characteristic_category,NATden_girls_15,NATden_boys_15,NATden_all_15,KS4_LEVEL2_girls_15,KS4_LEVEL2_boys_15,KS4_LEVEL2_all_15,KS4_LEVEL2_EM_girls_15,KS4_LEVEL2_EM_boys_15,KS4_LEVEL2_EM_all_15,KS4_LEVEL1_girls_15,KS4_LEVEL1_boys_15,KS4_LEVEL1_all_15,KS4_LEVEL1_EM_girls_15,KS4_LEVEL1_EM_boys_15,KS4_LEVEL1_EM_all_15,KS4_L2BASICS_girls_15,KS4_L2BASICS_boys_15,KS4_L2BASICS_all_15,KS4_LEVEL2MFL_girls_15,KS4_LEVEL2MFL_boys_15,KS4_LEVEL2MFL_all_15,KS4_GLEVEL2EM_girls_15,KS4_GLEVEL2EM_boys_15,KS4_GLEVEL2EM_all_15,KS4_EBACC_E_girls_15,KS4_EBACC_E_boys_15,KS4_EBACC_E_all_15,KS4_EBACC_girls_15,KS4_EBACC_boys_15,KS4_EBACC_all_15,NATden_PROGENG_girls_15,NATden_PROGENG_boys_15,NATden_PROGENG_all_15,KS4_PROGENG_girls_15,KS4_PROGENG_boys_15,KS4_PROGENG_all_15,NATden_PROGMAT_girls_15,NATden_PROGMAT_boys_15,NATden_PROGMAT_all_15,KS4_PROGMAT_girls_15,KS4_PROGMAT_boys_15,KS4_PROGMAT_all_15,NATden_girls_FSM_15,NATden_boys_FSM_15,NATden_all_FSM_15,KS4_LEVEL2_girls_FSM_15,KS4_LEVEL2_boys_FSM_15,KS4_LEVEL2_all_FSM_15,KS4_LEVEL2_EM_girls_FSM_15,KS4_LEVEL2_EM_boys_FSM_15,KS4_LEVEL2_EM_all_FSM_15,KS4_LEVEL1_girls_FSM_15,KS4_LEVEL1_boys_FSM_15,KS4_LEVEL1_all_FSM_15,KS4_LEVEL1_EM_girls_FSM_15,KS4_LEVEL1_EM_boys_FSM_15,KS4_LEVEL1_EM_all_FSM_15,KS4_L2BASICS_girls_FSM_15,KS4_L2BASICS_boys_FSM_15,KS4_L2BASICS_all_FSM_15,KS4_EBACC_E_girls_FSM_15,KS4_EBACC_E_boys_FSM_15,KS4_EBACC_E_all_FSM_15,KS4_EBACC_girls_FSM_15,KS4_EBACC_boys_FSM_15,KS4_EBACC_all_FSM_15,NATden_PROGENG_girls_FSM_15,NATden_PROGENG_boys_FSM_15,NATden_PROGENG_all_FSM_15,KS4_PROGENG_girls_FSM_15,KS4_PROGENG_boys_FSM_15,KS4_PROGENG_all_FSM_15,NATden_PROGMAT_girls_FSM_15,NATden_PROGMAT_boys_FSM_15,NATden_PROGMAT_all_FSM_15,KS4_PROGMAT_girls_FSM_15,KS4_PROGMAT_boys_FSM_15,KS4_PROGMAT_all_FSM_15,NATden_girls_allother_15,NATden_boys_allother_15,NATden_all_allother_15,KS4_LEVEL2_girls_allother_15,KS4_LEVEL2_boys_allother_15,KS4_LEVEL2_all_allother_15,KS4_LEVEL2_EM_girls_allother_15,KS4_LEVEL2_EM_boys_allother_15,KS4_LEVEL2_EM_all_allother_15,KS4_LEVEL1_girls_allother_15,KS4_LEVEL1_boys_allother_15,KS4_LEVEL1_all_allother_15,KS4_LEVEL1_EM_girls_allother_15,KS4_LEVEL1_EM_boys_allother_15,KS4_LEVEL1_EM_all_allother_15,KS4_L2BASICS_girls_allother_15,KS4_L2BASICS_boys_allother_15,KS4_L2BASICS_all_allother_15,KS4_EBACC_E_girls_allother_15,KS4_EBACC_E_boys_allother_15,KS4_EBACC_E_all_allother_15,KS4_EBACC_girls_allother_15,KS4_EBACC_boys_allother_15,KS4_EBACC_all_allother_15,NATden_PROGENG_girls_allother_15,NATden_PROGENG_boys_allother_15,NATden_PROGENG_all_allother_15,KS4_PROGENG_girls_allother_15,KS4_PROGENG_boys_allother_15,KS4_PROGENG_all_allother_15,NATden_PROGMAT_girls_allother_15,NATden_PROGMAT_boys_allother_15,NATden_PROGMAT_all_allother_15,KS4_PROGMAT_girls_allother_15,KS4_PROGMAT_boys_allother_15,KS4_PROGMAT_all_allother_15\n",
      "E92000001,921,England,,All pupils,271075,282394,553469,194700,171687,366387,167651,148147,315798,259062,262038,521100,251807,254727,506534,171788,155954,327742,113376,78332,191708,162836,141371,304207,117723,96249,213972,79364,54964,134328,264021,273745,537766,201865,180509,382374,264184,275034,539218,181601,179053,360654,37365,39101,76466,17790,14209,31999,13893,11446,25339,32953,31769,64722,30853,29955,60808,14688,12623,27311,9165,7059,16224,4650,2949,7599,36233,37782,74015,22319,18985,41304,36310,37938,74248,17382,16897,34279,233577,243176,476753,176900,157467,334367,153751,136693,290444,226048,230222,456270,220903,224731,445634,157090,143321,300411,108556,89189,197745,74714,52015,126729,227659,235853,463512,179528,161511,341039,227747,236983,464730,164200,162138,326338\n",
      "E92000001,921,England,ETHNICGROUP_MAJOR,White,214757,223819,438576,152844,134980,287824,132527,116744,249271,204814,207282,412096,199246,201757,401003,136063,123199,259262,84882,58056,142938,128452,111209,239661,90605,74127,164732,60985,42175,103160,211109,219251,430360,159697,142349,302046,210983,219760,430743,142988,140824,283812,25754,26804,52558,10622,8189,18811,8329,6525,14854,22071,20905,42976,20515,19631,40146,8977,7380,16357,4903,3600,8503,2258,1308,3566,25305,26289,51594,14428,11793,26221,25337,26349,51686,10728,10261,20989,189003,197015,386018,142222,126791,269013,124198,110219,234417,182743,186377,369120,178731,182126,360857,127086,115819,242905,85702,70527,156229,58727,40867,99594,185804,192962,378766,145269,130556,275825,185646,193411,379057,132260,130563,262823\n",
      "E92000001,921,England,ETHNICGROUP_MINOR,White British,202199,210861,413060,144446,127614,272060,125504,110559,236063,193232,195684,388916,188129,190631,378760,128898,116761,245659,77212,51829,129041,121584,105281,226865,85087,69374,154461,57193,39270,96463,200729,208644,409373,151530,134956,286486,200421,208889,409310,135616,133447,269063,24082,25049,49131,9816,7523,17339,7710,6015,13725,20712,19518,40230,19247,18326,37573,8334,6837,15171,4411,3208,7619,1994,1135,3129,23843,24764,48607,13494,10963,24457,23845,24791,48636,10015,9521,19536,178117,185812,363929,134630,120091,254721,117794,104544,222338,172520,176166,348686,168882,172305,341187,120564,109924,230488,80676,66166,146842,55199,38135,93334,176886,183880,360766,138036,123993,262029,176576,184098,360674,125601,123926,249527\n",
      "E92000001,921,England,ETHNICGROUP_MINOR,Irish,944,938,1882,739,682,1421,660,623,1283,897,884,1781,875,867,1742,674,637,1311,466,337,803,655,606,1261,513,433,946,371,279,650,914,903,1817,741,682,1423,909,898,1807,649,644,1293,130,116,246,61,38,99,49,30,79,104,94,198,95,90,185,50,32,82,33,21,54,12,8,20,122,110,232,68,56,124,121,107,228,49,33,82,814,822,1636,678,644,1322,611,593,1204,793,790,1583,780,777,1557,624,605,1229,480,412,892,359,271,630,792,793,1585,673,626,1299,788,791,1579,600,611,1211\n",
      "E92000001,921,England,ETHNICGROUP_MINOR,Traveller of Irish Heritage,67,75,142,19,13,32,14,11,25,38,43,81,34,40,74,14,15,29,4,4,8,13,11,24,5,3,8,x,x,5,63,71,134,22,26,48,64,72,136,15,18,33,42,51,93,9,8,17,6,6,12,23,26,49,22,25,47,6,7,13,x,x,x,x,x,x,38,50,88,13,18,31,39,50,89,6,12,18,25,24,49,10,5,15,8,5,13,15,17,32,12,15,27,8,8,16,x,x,x,x,x,x,25,21,46,9,8,17,25,22,47,9,6,15\n",
      "E92000001,921,England,ETHNICGROUP_MINOR,Gypsy / Roma,512,543,1055,73,52,125,49,42,91,269,293,562,225,244,469,53,46,99,26,18,44,43,36,79,21,19,40,x,x,12,426,448,874,154,147,301,456,473,929,87,89,176,207,201,408,22,15,37,11,11,22,97,100,197,79,84,163,13,13,26,x,x,x,x,x,x,180,173,353,56,48,104,190,185,375,24,32,56,305,342,647,51,37,88,38,31,69,172,193,365,146,160,306,40,33,73,x,x,x,x,x,x,246,275,521,98,99,197,266,288,554,63,57,120\n",
      "E92000001,921,England,ETHNICGROUP_MINOR,Any Other White Background,11035,11402,22437,7567,6619,14186,6300,5509,11809,10378,10378,20756,9983,9975,19958,6424,5740,12164,7174,5868,13042,6157,5275,11432,4979,4298,9277,3412,2618,6030,8977,9185,18162,7250,6538,13788,9133,9428,18561,6621,6626,13247,1293,1387,2680,714,605,1319,553,463,1016,1135,1167,2302,1072,1106,2178,574,491,1065,450,365,815,251,163,414,1122,1192,2314,797,708,1505,1142,1216,2358,634,663,1297,9742,10015,19757,6853,6014,12867,5747,5046,10793,9243,9211,18454,8911,8869,17780,5850,5249,11099,4529,3933,8462,3161,2455,5616,7855,7993,15848,6453,5830,12283,7991,8212,16203,5987,5963,11950\n",
      "E92000001,921,England,ETHNICGROUP_MAJOR,Mixed,11238,11275,22513,8270,7062,15332,6964,6107,13071,10757,10426,21183,10442,10113,20555,7106,6383,13489,5136,3667,8803,6788,5878,12666,5129,4236,9365,3456,2528,5984,10923,10865,21788,8508,7365,15873,10925,10934,21859,7424,7013,14437,2211,2199,4410,1188,923,2111,897,758,1655,1999,1804,3803,1889,1705,3594,939,818,1757,589,478,1067,306,215,521,2141,2126,4267,1396,1140,2536,2138,2136,4274,1060,978,2038,9027,9076,18103,7082,6139,13221,6067,5349,11416,8758,8622,17380,8553,8408,16961,6167,5565,11732,4540,3758,8298,3150,2313,5463,8782,8739,17521,7112,6225,13337,8787,8798,17585,6364,6035,12399\n",
      "E92000001,921,England,ETHNICGROUP_MINOR,White and Black Caribbean,3694,3606,7300,2455,1922,4377,1984,1571,3555,3475,3261,6736,3344,3127,6471,2037,1668,3705,1184,711,1895,1911,1491,3402,1335,989,2324,792,460,1252,3658,3562,7220,2636,2152,4788,3653,3567,7220,2174,1910,4084,859,847,1706,398,297,695,302,228,530,757,675,1432,707,633,1340,315,242,557,183,135,318,81,50,131,845,838,1683,504,404,908,844,840,1684,363,325,688,2835,2759,5594,2057,1625,3682,1682,1343,3025,2718,2586,5304,2637,2494,5131,1722,1426,3148,1152,854,2006,711,410,1121,2813,2724,5537,2132,1748,3880,2809,2727,5536,1811,1585,3396\n"
     ]
    }
   ],
   "source": [
    "! head data/SFR01_2016_UD_national_1.csv"
   ]
  },
  {
   "cell_type": "markdown",
   "id": "0bdd6288-6abc-4268-b6e3-44188956cf9f",
   "metadata": {},
   "source": [
    "The data as presented as above is hard to read, there does not appear to be any issues and looks like comma separated values (CSV).\n",
    "\n",
    "Let's just take a quick subset of the data - first 5 columns and rows:"
   ]
  },
  {
   "cell_type": "code",
   "execution_count": 3,
   "id": "42d7d52c-111f-43d4-ae75-4815c215d83a",
   "metadata": {},
   "outputs": [
    {
     "data": {
      "text/html": [
       "<div>\n",
       "<style scoped>\n",
       "    .dataframe tbody tr th:only-of-type {\n",
       "        vertical-align: middle;\n",
       "    }\n",
       "\n",
       "    .dataframe tbody tr th {\n",
       "        vertical-align: top;\n",
       "    }\n",
       "\n",
       "    .dataframe thead th {\n",
       "        text-align: right;\n",
       "    }\n",
       "</style>\n",
       "<table border=\"1\" class=\"dataframe\">\n",
       "  <thead>\n",
       "    <tr style=\"text-align: right;\">\n",
       "      <th></th>\n",
       "      <th>Country_code_9_digit</th>\n",
       "      <th>Country_code</th>\n",
       "      <th>Country_name</th>\n",
       "      <th>Characteristic</th>\n",
       "      <th>Characteristic_category</th>\n",
       "    </tr>\n",
       "  </thead>\n",
       "  <tbody>\n",
       "    <tr>\n",
       "      <th>0</th>\n",
       "      <td>E92000001</td>\n",
       "      <td>921.0</td>\n",
       "      <td>England</td>\n",
       "      <td>NaN</td>\n",
       "      <td>All pupils</td>\n",
       "    </tr>\n",
       "    <tr>\n",
       "      <th>1</th>\n",
       "      <td>E92000001</td>\n",
       "      <td>921.0</td>\n",
       "      <td>England</td>\n",
       "      <td>ETHNICGROUP_MAJOR</td>\n",
       "      <td>White</td>\n",
       "    </tr>\n",
       "    <tr>\n",
       "      <th>2</th>\n",
       "      <td>E92000001</td>\n",
       "      <td>921.0</td>\n",
       "      <td>England</td>\n",
       "      <td>ETHNICGROUP_MINOR</td>\n",
       "      <td>White British</td>\n",
       "    </tr>\n",
       "    <tr>\n",
       "      <th>3</th>\n",
       "      <td>E92000001</td>\n",
       "      <td>921.0</td>\n",
       "      <td>England</td>\n",
       "      <td>ETHNICGROUP_MINOR</td>\n",
       "      <td>Irish</td>\n",
       "    </tr>\n",
       "    <tr>\n",
       "      <th>4</th>\n",
       "      <td>E92000001</td>\n",
       "      <td>921.0</td>\n",
       "      <td>England</td>\n",
       "      <td>ETHNICGROUP_MINOR</td>\n",
       "      <td>Traveller of Irish Heritage</td>\n",
       "    </tr>\n",
       "  </tbody>\n",
       "</table>\n",
       "</div>"
      ],
      "text/plain": [
       "  Country_code_9_digit  Country_code Country_name     Characteristic  \\\n",
       "0            E92000001         921.0      England                NaN   \n",
       "1            E92000001         921.0      England  ETHNICGROUP_MAJOR   \n",
       "2            E92000001         921.0      England  ETHNICGROUP_MINOR   \n",
       "3            E92000001         921.0      England  ETHNICGROUP_MINOR   \n",
       "4            E92000001         921.0      England  ETHNICGROUP_MINOR   \n",
       "\n",
       "       Characteristic_category  \n",
       "0                   All pupils  \n",
       "1                        White  \n",
       "2                White British  \n",
       "3                        Irish  \n",
       "4  Traveller of Irish Heritage  "
      ]
     },
     "execution_count": 3,
     "metadata": {},
     "output_type": "execute_result"
    }
   ],
   "source": [
    "data_df = pd.read_csv(\"data/SFR01_2016_UD_national_1.csv\", usecols = [0,1,2,3,4])\n",
    "data_df.head()"
   ]
  },
  {
   "cell_type": "markdown",
   "id": "c7b0c570-ff56-4bb2-84e1-a2069d9b6549",
   "metadata": {
    "tags": [
     "style-learner"
    ]
   },
   "source": [
    "1. Structured, semi-structured or unstructured?"
   ]
  },
  {
   "cell_type": "code",
   "execution_count": 4,
   "id": "8995245e-66eb-47d7-8e32-3c5040856a76",
   "metadata": {},
   "outputs": [
    {
     "name": "stdout",
     "output_type": "stream",
     "text": [
      "{\n",
      " \"meta\": {\n",
      "  \"limit\": 100,\n",
      "  \"offset\": 0,\n",
      "  \"total_count\": 100\n",
      " },\n",
      " \"objects\": [\n",
      "  {\n",
      "   \"caucus\": null,\n",
      "   \"congress_numbers\": [\n",
      "    116,\n",
      "    117,\n",
      "    118\n",
      "   ],\n",
      "   \"current\": true,\n",
      "   \"description\": \"Junior Senator for Washington\",\n",
      "   \"district\": null,\n",
      "   \"enddate\": \"2025-01-03\",\n",
      "   \"extra\": {\n",
      "    \"address\": \"511 Hart Senate Office Building Washington DC 20510\",\n",
      "    \"contact_form\": \"https://www.cantwell.senate.gov/public/index.cfm/email-maria\",\n",
      "    \"office\": \"511 Hart Senate Office Building\",\n",
      "    \"rss_url\": \"http://www.cantwell.senate.gov/public/index.cfm/rss/feed\"\n",
      "   },\n",
      "   \"leadership_title\": null,\n"
     ]
    }
   ],
   "source": [
    "! head -25 data/role.json"
   ]
  },
  {
   "cell_type": "markdown",
   "id": "66bbe856-229c-486e-84f2-20920b38ef65",
   "metadata": {
    "tags": [
     "style-learner"
    ]
   },
   "source": [
    "2. Structured, semi-structured or unstructured?"
   ]
  },
  {
   "cell_type": "code",
   "execution_count": 5,
   "id": "fdf1cb92-0bf8-452e-9030-c5032299cefe",
   "metadata": {},
   "outputs": [
    {
     "name": "stdout",
     "output_type": "stream",
     "text": [
      "Release of underlying data for characteristics breakdowns in SFR 01/2016: Revised GCSE and equivalent results in England: 2014 to 2015.\n",
      "\n",
      "Background\n",
      "This statistical first release (SFR) includes 2014/15 information on attainment for GCSE and equivalent results by different pupil characteristics, specifically gender, ethnicity, eligibility for free school meals (FSM), disadvantage, special educational needs (SEN) and English as a first language, at National and LA level.\n",
      "The 2014/15 figures contained within this SFR use data collected for the 2015 Secondary School Performance Tables, which has been checked by schools.\n",
      "\n",
      "CHANGES TO THE PRODUCTION OF THESE STATISTICS\n",
      "Two major reforms were implemented in 2013/14 which affected the calculation of key stage 4 (KS4) performance measures data:\n",
      "\n",
      "\t1. Professor Alison Wolf�s Review of Vocational Education recommendations which; \n",
      "\t\t�\trestrict the qualifications counted\n",
      "\t\t�\tprevent any qualification from counting as larger than one GCSE\n",
      "\t\t�\tcap the number of non-GCSEs included in performance measures at two per pupil \n",
      "\n",
      "\t2. An early entry policy to only count a pupil�s first attempt at a qualification.\n",
      " \n",
      "The 2015 secondary school performance measures will continue to be calculated on the same basis, with the addition that the early entry policy now covers all subject areas instead of only those that count in the English Baccalaureate. \n",
      "\n",
      "\n",
      "\n"
     ]
    }
   ],
   "source": [
    "! head -20 data/SFR01_2016_UD_metadata.txt"
   ]
  },
  {
   "cell_type": "code",
   "execution_count": 6,
   "id": "48b32b59-a96b-4e9c-8f29-e62fb2f0f9b2",
   "metadata": {},
   "outputs": [
    {
     "name": "stdout",
     "output_type": "stream",
     "text": [
      "KS4_LEVEL1_15: Total number of pupils achieving 5 or more A*-G grades at GCSE or equivalent\n",
      "KS4_LEVEL1_EM_15: Total number of pupils achieving 5 or more A*-G grades at GCSE or equivalent including English and mathematics GCSEs\n",
      "KS4_L2BASICS_15: Total number of pupils achieving an A*-C grade in English and mathematics GCSEs\t\n",
      "KS4_EBACC_E_15: Total number of pupils entering the English Baccalaureate\n",
      "KS4_EBACC_15: Total number of pupils achieving the English Baccalaureate \n",
      "\n",
      "\n",
      "\n",
      "\n",
      "\n"
     ]
    }
   ],
   "source": [
    "! tail data/SFR01_2016_UD_metadata.txt"
   ]
  },
  {
   "cell_type": "markdown",
   "id": "4d5f8159-19ac-4e70-9fec-2ce28f2f290d",
   "metadata": {
    "tags": [
     "style-learner"
    ]
   },
   "source": [
    "3. Structured, semi-structured or unstructured?"
   ]
  },
  {
   "cell_type": "markdown",
   "id": "300bbbdf-b898-424a-ace7-723440abe1ae",
   "metadata": {
    "tags": [
     "style-solution"
    ]
   },
   "source": [
    "### Potential data issues"
   ]
  },
  {
   "cell_type": "markdown",
   "id": "287570a3-20d4-4c92-9e94-fd34291d1c52",
   "metadata": {},
   "source": [
    "\n",
    "![](images/issues.png)\n"
   ]
  },
  {
   "cell_type": "markdown",
   "id": "07b659dd-cd2f-448c-8649-ea1eb51e4dc3",
   "metadata": {
    "tags": [
     "style-learner"
    ]
   },
   "source": [
    "Can anyone think of other issues?"
   ]
  },
  {
   "cell_type": "markdown",
   "id": "674e207d-6795-4b83-9f8a-3a5bd0c63317",
   "metadata": {
    "tags": [
     "style-activity"
    ]
   },
   "source": [
    "## Acquiring the data\n",
    "\n",
    "![](images/tm351_pt2_f01.eps.small.jpg)"
   ]
  },
  {
   "cell_type": "markdown",
   "id": "2e87d15b-b86e-4c3c-945b-fb4011a48e5e",
   "metadata": {},
   "source": [
    "The first step in  the data analysis process is to acquire the data. \n",
    "\n",
    "* Has anyone worked with \"found\" datasets, other than for educational purposes?\n",
    "For example, for work or hobbies. \n",
    "\n",
    "* If you have a question, or questions to be answered, to get a full picture you may need to work with different datasets. These can come from different sources, for example, with the bat data seen in TMA01 you may want to look at weather patterns too, to see if they have any effect on their hibernation. \n",
    "\n",
    "* The TMA sometimes gets you to download the data from the original source, but with live datasets they have been know to disappear/changed!\n"
   ]
  },
  {
   "cell_type": "markdown",
   "id": "f7899514-fbdb-4f1e-a1f6-ee4b3f3c8e01",
   "metadata": {
    "tags": [
     "style-solution"
    ]
   },
   "source": [
    "### Found Data"
   ]
  },
  {
   "cell_type": "markdown",
   "id": "ca921cfe-3105-4b0b-942e-b9c1c4dfa65e",
   "metadata": {},
   "source": [
    "Lots of data sets out there:"
   ]
  },
  {
   "cell_type": "markdown",
   "id": "a0966315-602f-405c-9c6b-3218d0d4950a",
   "metadata": {},
   "source": [
    "|Name|URL|\n",
    "|-----|-------|\n",
    "|ONS|<a href=\"https://www.ons.gov.uk\">https://www.ons.gov.uk</a>|\n",
    "|EU Stats|<a href=\"http://ec.europa.eu/eurostat\">http://ec.europa.eu/eurostat</a>|\n",
    "|European commission stats|<a href=\"http://ec.europa.eu/eurostat/data/statistics-a-z/abc\">http://ec.europa.eu/eurostat/data/statistics-a-z/abc</a>|\n",
    "|UK Government|<a href=\"https://www.gov.uk/government/statistics\">https://www.gov.uk/government/statistics</a>|\n",
    "|US Government|<a href=\"https://www.usa.gov/statistics\">https://www.usa.gov/statistics</a>|\n",
    "|Edinburgh University data share|<a href=\"http://datashare.is.ed.ac.uk/\">http://datashare.is.ed.ac.uk/</a>|\n",
    "|List of high quality data sets|<a href=\"https://github.com/caesar0301/awesome-public-datasets\">https://github.com/caesar0301/awesome-public-datasets</a>|\n",
    "|AW public data sets|<a href=\"https://aws.amazon.com/datasets/\">https://aws.amazon.com/datasets/</a>|\n",
    "|Stanford: Computational Journalism lab|<a href=\"http://cjlab.stanford.edu/\">http://cjlab.stanford.edu/ </a>|\n",
    "|KDNuggets: data sets for mining/discovery|<a href=\"https://www.kdnuggets.com/datasets/\">https://www.kdnuggets.com/datasets/</a>|\n",
    "|Kaggle: AI & ML community|<a href=\"https://www.kaggle.com/\">https://www.kaggle.com/</a>|\n",
    "|Halifax house prices|<a href=\"http://www.lloydsbankinggroup.com/media/economic-insight/halifax-house-price-index/\">http://www.lloydsbankinggroup.com/media/economic-insight/halifax-house-price-index/</a>|\n",
    "|Nationwide house prices|<a href=\"http://www.nationwide.co.uk/about/house-price-index/headlines\">http://www.nationwide.co.uk/about/house-price-index/headlines</a>|\n",
    "|Historical weather|<a href=\"http://www.wunderground.com/history\">http://www.wunderground.com/history</a>|\n"
   ]
  },
  {
   "cell_type": "markdown",
   "id": "5dee9b7f-4cf5-473a-ab90-8c55b04f0720",
   "metadata": {
    "tags": [
     "style-solution"
    ]
   },
   "source": [
    "### Issues with Data\n"
   ]
  },
  {
   "cell_type": "markdown",
   "id": "92bcd602-ccad-4d6e-8326-863a5e83440b",
   "metadata": {},
   "source": [
    "Things to consider when acquiring data:\n",
    "\n",
    "**Character encodings**\n",
    "\n",
    "- These define the mappings between the digital representation of a character (the binary 1s and 0s that represent it) and the character itself\n",
    "- Data from different sources could be in different formats, so want to get into a common format, e.g., ASCII, UTF8 (one of the variants of the Unicode standard).\n",
    "\n",
    "**Measurement scales**\n",
    "- Nominal, ordinal, interval or ratio\n",
    "\n",
    "**Data storage**\n",
    "- tables (structured data) or documents (semi-structured data, such as JSON or XML)"
   ]
  },
  {
   "cell_type": "markdown",
   "id": "2349f0c2-be7a-4d86-91fe-5ebf38f874c6",
   "metadata": {},
   "source": [
    "We always tell you to check the data before importing it, the OS commands `head` and `tail` can be used for this.\n",
    "\n",
    "Do check the results, things to look for include:\n",
    "\n",
    "- what the format is, e.g., CSV, JSON\n",
    "- how is the data separated? It's not always commas, even in a CSV file\n",
    "- any decoding issues\n"
   ]
  },
  {
   "cell_type": "markdown",
   "id": "c9fc0cd7-ae3e-44a8-ba9c-667b6b922c71",
   "metadata": {},
   "source": [
    "The pandas `read_csv()` function can be used to read comma separated files.\n",
    "\n",
    "Do check the documentation: https://pandas.pydata.org/docs/reference/api/pandas.read_csv.html for the range of options, which can be used when the data is not straightforward.\n",
    "\n",
    "![](images/read_csv.JPG)"
   ]
  },
  {
   "cell_type": "markdown",
   "id": "f5d0a219-d60a-43aa-a6ef-657e22d47827",
   "metadata": {
    "tags": [
     "style-learner"
    ]
   },
   "source": [
    "### Reading CSV files\n",
    "\n",
    "Example 1\n",
    "\n",
    "What options might be used if the data looks like the following?"
   ]
  },
  {
   "cell_type": "code",
   "execution_count": 7,
   "id": "2e07af26-f459-46dc-8772-f06d93d24a39",
   "metadata": {},
   "outputs": [
    {
     "name": "stdout",
     "output_type": "stream",
     "text": [
      "\n",
      "\"DC6206EW - NS-SeC by ethnic group by sex by age\"\n",
      "\"ONS Crown Copyright Reserved [from Nomis on 30 August 2020]\"\n",
      "\"Population :\",\"All usual residents aged 16 and over\"\n",
      "\"Units      :\",\"Persons\"\n",
      "\"Date       :\",\"2011\"\n",
      "\"Sex        :\",\"All persons\"\n",
      "\"Age        :\",\"Age 16 to 24\"\n",
      "\"Ethnic Group:\",\"All categories: Ethnic group\"\n",
      "\n"
     ]
    }
   ],
   "source": [
    "! head data/85043238.csv"
   ]
  },
  {
   "cell_type": "code",
   "execution_count": 8,
   "id": "71298b02-f6a7-4e9f-9e07-e9c55dd4d788",
   "metadata": {},
   "outputs": [
    {
     "name": "stdout",
     "output_type": "stream",
     "text": [
      "\n",
      "\"DC6206EW - NS-SeC by ethnic group by sex by age\"\n",
      "\"ONS Crown Copyright Reserved [from Nomis on 30 August 2020]\"\n",
      "\"Population :\",\"All usual residents aged 16 and over\"\n",
      "\"Units      :\",\"Persons\"\n",
      "\"Date       :\",\"2011\"\n",
      "\"Sex        :\",\"All persons\"\n",
      "\"Age        :\",\"Age 16 to 24\"\n",
      "\"Ethnic Group:\",\"All categories: Ethnic group\"\n",
      "\n",
      "\"2011 super output area - middle layer\",\"mnemonic\",\"1.1 Large employers and higher managerial and administrative occupations\",\"1.2 Higher professional occupations\",\"2. Lower managerial, administrative and professional occupations\",\"3. Intermediate occupations\",\"4. Small employers and own account workers\",\"5. Lower supervisory and technical occupations\",\"6. Semi-routine occupations\",\"7. Routine occupations\",\"L14.1 Never worked\",\"L14.2 Long-term unemployed\",\"L15 Full-time students\",\"L17 Not classifiable for other reasons\"\n",
      "\n",
      "\"Darlington 001\",\"E02002559\",2,14,77,89,11,39,92,66,23,3,321,0\n",
      "\"Darlington 002\",\"E02002560\",3,9,35,80,9,43,97,60,25,7,242,0\n",
      "\"Darlington 003\",\"E02002561\",2,7,55,70,5,37,77,39,26,5,217,0\n",
      "\"Darlington 004\",\"E02002562\",2,4,50,87,8,42,130,89,60,25,240,0\n",
      "\"Darlington 005\",\"E02002563\",0,11,52,58,7,28,90,67,47,8,186,0\n",
      "\"Darlington 006\",\"E02002564\",2,9,51,102,10,59,135,116,80,26,372,0\n",
      "\"Darlington 007\",\"E02002565\",3,13,45,111,5,52,122,73,44,22,200,0\n",
      "\"Darlington 008\",\"E02002566\",3,30,84,143,18,42,141,136,151,43,252,0\n"
     ]
    }
   ],
   "source": [
    "# Let's look at a few more rows:\n",
    "! head -20 data/85043238.csv"
   ]
  },
  {
   "cell_type": "code",
   "execution_count": 9,
   "id": "64f1ab49-70b1-4cab-83f3-1022579b3fb6",
   "metadata": {},
   "outputs": [
    {
     "name": "stdout",
     "output_type": "stream",
     "text": [
      "\"Newport 014\",\"W02000360\",0,10,56,55,11,43,128,73,70,20,378,0\n",
      "\"Newport 015\",\"W02000361\",6,14,75,113,21,52,237,165,163,30,1020,0\n",
      "\"Newport 016\",\"W02000362\",3,10,53,51,6,25,66,55,21,7,260,0\n",
      "\"Newport 017\",\"W02000363\",1,4,36,68,4,21,75,39,35,12,234,0\n",
      "\"Newport 018\",\"W02000364\",5,9,61,84,13,50,148,80,139,23,931,0\n",
      "\"Newport 019\",\"W02000365\",1,5,57,99,9,36,146,94,108,24,316,0\n",
      "\"Newport 020\",\"W02000366\",1,20,76,103,10,45,96,54,25,7,340,0\n",
      "\n",
      "\n",
      "\n",
      "\"\",\"In order to protect against disclosure of personal information, records\"\n",
      "\"\",\"have been swapped between different geographic areas. Some counts will\"\n",
      "\"\",\"be affected, particularly small counts at the lowest geographies\"\n",
      "\"\",\"\"\n",
      "\n"
     ]
    }
   ],
   "source": [
    "# and the end of the file\n",
    "! tail -15 data/85043238.csv"
   ]
  },
  {
   "cell_type": "markdown",
   "id": "478faeb8-52c3-4c5b-a45f-ae62527d75a0",
   "metadata": {
    "tags": [
     "style-learner"
    ]
   },
   "source": [
    "- What seems to be the problem?\n",
    "- how might we resolve this looking at the `read_csv()` documentation?"
   ]
  },
  {
   "cell_type": "markdown",
   "id": "fc8a44c7-563e-4ee3-b0aa-5046b6903797",
   "metadata": {},
   "source": [
    "Example Two \n",
    "\n",
    "(2021J TMA01 dataset):"
   ]
  },
  {
   "cell_type": "code",
   "execution_count": 10,
   "id": "fc1425c5-58d0-4711-8230-8feff12ce990",
   "metadata": {},
   "outputs": [
    {
     "name": "stdout",
     "output_type": "stream",
     "text": [
      "﻿1718|al||Tirana||Bizet|18381025|18750603|fr|m|Carmen|fr|~|20180130|5||\n",
      "1718|al||Tirana||Bizet|18381025|18750603|fr|m|Les Pecheurs de perles|fr|~|20170922|3|!|\n",
      "1718|al||Tirana||Brahms|18330507|18970403|de|m|Ein deutsches Requiem|de|~O|20170930|1|c|\n",
      "1718|al||Tirana||Strauss,J|1825|1899|at|m|Die Fledermaus|at|~L|20180329|5||\n",
      "1718|am||Yerevan||Arutiunian|19200928|20120328|am|m|Sayat-Nova|am|~|20180313|1||\n",
      "1718|am||Yerevan||Bizet|18381025|18750603|fr|m|Carmen|fr|~|20180321|1||\n",
      "1718|am||Yerevan||Chukhadjian|1837|18980225|am|m|Arshak II|am|~|20171130|1||\n",
      "1718|am||Yerevan||Donizetti|17971129|18480408|it|m|Poliuto|it|~|20171109|4||\n",
      "1718|am||Yerevan||Puccini|18581222|19241129|it|m|Tosca|it|~|20171126|3||\n",
      "1718|am||Yerevan||Tigranian|18791226|19500210|am|m|Anoush|am|~|20180301|2||\n"
     ]
    }
   ],
   "source": [
    "! head data/stats1718.csv"
   ]
  },
  {
   "cell_type": "markdown",
   "id": "bf28b738-208f-45a6-80bf-292279271172",
   "metadata": {
    "tags": [
     "style-learner"
    ]
   },
   "source": [
    " - any issues here?\n",
    " - if so, how might we import the data?"
   ]
  },
  {
   "cell_type": "markdown",
   "id": "f2b7506b-b98c-4c32-8ec5-754cb61901fa",
   "metadata": {},
   "source": [
    "Example three:\n",
    "\n",
    "(2017J TMA01 dataset):"
   ]
  },
  {
   "cell_type": "code",
   "execution_count": 13,
   "id": "62e84fa2-7c90-49a0-b707-957c0addefc6",
   "metadata": {},
   "outputs": [
    {
     "name": "stdout",
     "output_type": "stream",
     "text": [
      "﻿2004\t\tQuality\tUnits\tJan\tFeb\tMar\tApr\tMay\tJun\tJul\tAug\tSep\tOct\tNov\tDec\n",
      "FRUIT\t\t\t\t\t\t\t\t\t\t\t\t\t\t\t\n",
      "Blackberries\tAll Varieties\t-\t£/kg\t\t\t\t\t\t\t3.26\t3.24\t3.61\t5.06\t\t\n",
      "Blackcurrants\tAll Varieties\t-\t£/kg\t\t\t\t\t\t\t3.32\t3.53\t\t\t\t\n",
      "Cherries\tSweet Black\t1st\t£/kg\t\t\t\t\t\t1.69\t1.72\t3.68\t\t\t\t\n",
      "\tSweet Black\t2nd\t£/kg\t\t\t\t\t\t1.11\t1.08\t\t\t\t\t\n",
      "\tSweet Black\tAve\t£/kg\t\t\t\t\t\t1.53\t1.54\t\t\t\t\t\n",
      "\tSweet White\t1st\t£/kg\t\t\t\t\t\t1.53\t1.56\t\t\t\t\t\n",
      "\tSweet White\t2nd\t£/kg\t\t\t\t\t\t\t1.10\t\t\t\t\t\n",
      "\tSweet White\tAve\t£/kg\t\t\t\t\t\t\t1.47\t\t\t\t\t\n"
     ]
    }
   ],
   "source": [
    "! head data/fruitveg.csv"
   ]
  },
  {
   "cell_type": "markdown",
   "id": "4c32b4b1-ef26-4ca7-ab3c-e10267ccfc38",
   "metadata": {
    "tags": [
     "style-learner"
    ]
   },
   "source": [
    " - what are the issues?\n",
    " - how might we import the data?"
   ]
  },
  {
   "cell_type": "markdown",
   "id": "a85f2fcf-b8e0-4d29-9b4a-76e632de06e6",
   "metadata": {
    "tags": [
     "style-solution"
    ]
   },
   "source": [
    "## Measurement scales\n"
   ]
  },
  {
   "cell_type": "markdown",
   "id": "4de89f3f-9640-4011-8fa7-6792aaa6e953",
   "metadata": {},
   "source": [
    "After character encoding, the next consideration is classifying data so that it can be analysed. Part 2 introduces a scheme produced by Stanley Smith Stevens (Stevens, 1946), the NOIR measurement scale.\n",
    "\n",
    "It is important to understand the classification and associated measurement scale so that you know what mathematical operations can legitimately be applied to the data found.\n",
    "\n",
    "Stevens identified four classes: Nominal, Ordinal, Interval, Ratio (NOIR). The following diagram gives an overview: "
   ]
  },
  {
   "cell_type": "markdown",
   "id": "ba8e9a43-5287-455a-a25a-7b5155574fbd",
   "metadata": {},
   "source": [
    "![](images/measurement.png)"
   ]
  },
  {
   "cell_type": "markdown",
   "id": "d58f870b-e8c0-4219-9fd0-809f039bdfe4",
   "metadata": {},
   "source": [
    "Nominal and Ordinal values are discrete. They are distinct and separate, such as whole numbers representing the number of students taking TM351.\n",
    "\n",
    "Interval and ratio values are continuous. They can be measured with precision and have an infinite number of values between two points, such as weight or temperature."
   ]
  },
  {
   "cell_type": "markdown",
   "id": "a6256f0b-1926-42ab-97b9-fe7dbe8d7437",
   "metadata": {
    "tags": [
     "style-solution"
    ]
   },
   "source": [
    "### Noir Question"
   ]
  },
  {
   "cell_type": "markdown",
   "id": "03a5a293-b63d-4442-8611-283d48584a0a",
   "metadata": {},
   "source": [
    "What type of measurement is \n",
    "- hair colour\n",
    "- weight\n",
    "- IQ score\n",
    "- Income\n",
    "- Stage in development of a human"
   ]
  },
  {
   "cell_type": "markdown",
   "id": "6e0c9882-cb22-45e4-b8a7-4c5093f37f5a",
   "metadata": {
    "tags": [
     "style-solution"
    ]
   },
   "source": [
    "### Data Storage"
   ]
  },
  {
   "cell_type": "markdown",
   "id": "bdf28e13-f40e-4f5b-b38d-4f383d942be8",
   "metadata": {},
   "source": [
    "After acquiring the data, we need to store it into appropriate complex structures and make the semantics (meaning) identifiable.\n",
    "\n",
    "There are 2 common structures used:\n",
    "\n",
    "**Tables:**\n",
    "- structured into rows\n",
    "- each row contains information about some thing\n",
    "- each row contains the same number of possibly empty cells\n",
    "- cells provide values of properties of the thing described by the row\n",
    "- cells within the same column provide values for the same property for the thing described by the particular row\n",
    "\n",
    "**Document:**\n",
    "- any file or representation that embodies a particular data record\n",
    "- conforms to a document structure\n",
    "- Typical formats: JSON, XML"
   ]
  },
  {
   "cell_type": "markdown",
   "id": "1b54fcbf-1f27-4717-89ac-e1a801e03dcf",
   "metadata": {
    "tags": [
     "style-activity"
    ]
   },
   "source": [
    "## Preparation\n",
    "\n",
    "![](images/tm351_pt3_f01.eps.small.jpg)\n"
   ]
  },
  {
   "cell_type": "markdown",
   "id": "16ea9e2b-65cb-4388-b856-0585b59a4f76",
   "metadata": {
    "tags": [
     "style-solution"
    ]
   },
   "source": [
    "### Cleansing the data"
   ]
  },
  {
   "cell_type": "markdown",
   "id": "07fd820e-7973-4578-b29a-1a61effca17a",
   "metadata": {},
   "source": [
    "**Cleansing data**\n",
    "\n",
    "Once the data is acquired, we need to clean it.\n",
    "\n",
    "Common types of data errors include:\n",
    "\n",
    "![](images/dataErrors.png)"
   ]
  },
  {
   "cell_type": "markdown",
   "id": "cb0efcbb-ad84-4c27-b4c0-47fccbd35a93",
   "metadata": {},
   "source": [
    "**Handling dirty data**\n",
    "\n",
    "![](images/handlingData.png)\n",
    "\n",
    "Do not forget to document what has been added/deleted/changed.\n",
    "\n",
    "See: Activity 3.2 Exploratory in Part 3, which reviews the following paper and is available from the OU Library:\n",
    "\n",
    "Kim, W., Choi, B. J., Hong, E. K., Kim, S. K. and Lee, D. (2003) ‘A taxonomy of dirty data’, Data Mining and Knowledge Discovery, vol. 7, no. 1, pp. 81–99.\n"
   ]
  },
  {
   "cell_type": "markdown",
   "id": "d139ce6d-0b09-43f2-a998-2942db15d0a2",
   "metadata": {},
   "source": [
    "**Reshaping data**\n",
    "\n",
    "This can involve:\n",
    "\n",
    "- Remove unnecessary columns\n",
    "- Filtering rows which do not meet specified criteria\n",
    "- Sorting rows by column combinations\n",
    "- Combining the datasets. For example, one dataset could use abbreviations in a country column, whereas another uses the full name, e.g., \"UK\" verses the \"United Kingdom\".\n",
    "\n",
    "This can be carried out in one or more ways:\n",
    "- OpenRefine\n",
    "- Pandas\n",
    "- SQL\n",
    " \n",
    "Notebook 04.7 helps with reshaping\n"
   ]
  },
  {
   "cell_type": "markdown",
   "id": "c7d6fad7-6e91-4ba1-b022-c7abc54b7332",
   "metadata": {
    "tags": [
     "style-activity"
    ]
   },
   "source": [
    "## Analysing the data\n",
    "\n",
    "![](images/tm351_pt4_f01.eps.small.jpg)"
   ]
  },
  {
   "cell_type": "markdown",
   "id": "b18aec7c-cc56-4e2c-b445-601eaf80b78c",
   "metadata": {},
   "source": [
    "**Visualising descriptive data**\n",
    "\n",
    "Once you have imported and cleaned the data, it is now ready for analysis. Descriptive text can be hard to make sense of, so visualisations can help present the data.\n",
    "\n",
    "This can be achieved through a variety of graphics: e.g. bar charts, histograms, trend lines, box-whisper charts.\n",
    "\n",
    "Visualisation leverages the capabilities and bandwidth of the visual system. The techniques can help: \n",
    "- to move a huge amount of information into the brain very quickly.\n",
    "- take advantage of the brain to identify patterns\n",
    "- to communicate relationships and meaning\n",
    "- inspire new questions and further exploration\n",
    "- identify sub-problems\n",
    "- to identify trends and outliers\n",
    "- to search for interesting or specific data points in a larger field, etc.\n",
    "\n",
    "Visualisation helps to get behind the numbers.\n"
   ]
  },
  {
   "cell_type": "markdown",
   "id": "41cbaffe-397a-4165-b179-e490486f149f",
   "metadata": {},
   "source": [
    "**Descriptive analysis**\n",
    "\n",
    "For elements on an interval scale we can aggregate into basic statistical measures including: \n",
    "\n",
    "![](images/statistics.png)"
   ]
  },
  {
   "cell_type": "markdown",
   "id": "0aa70348-6c4a-42e1-b1a0-5363cf7e93ab",
   "metadata": {},
   "source": [
    "**Correlation**\n",
    "  \n",
    "A technique that can show whether and how strongly pairs of variables are related.\n",
    "\n",
    "Often demonstrated by using a scatterplot:\n",
    "\n",
    "![](images/correlation.png)\n"
   ]
  },
  {
   "cell_type": "markdown",
   "id": "1a2d2daa-c9cf-4c17-8024-1e4f72e7363b",
   "metadata": {},
   "source": [
    "Remember correlation does not imply causation:\n",
    "\n",
    "![](images/spiders.png)\n",
    "\n",
    "See further examples here: http://www.tylervigen.com/spurious-correlations \n"
   ]
  },
  {
   "cell_type": "markdown",
   "id": "8d82738f-a4c4-44d6-981c-a7867ba4b65d",
   "metadata": {
    "tags": [
     "style-activity"
    ]
   },
   "source": [
    "## Data presentation: \n",
    "\n",
    "![](images/tm351_pt5_f01.eps.small.jpg)\n"
   ]
  },
  {
   "cell_type": "markdown",
   "id": "4eed6c6d-51fb-4db4-898a-a160a3d95ac5",
   "metadata": {},
   "source": [
    "**Reporting the story**\n",
    "\n",
    "For a data investigation you need to include a record of activities and your findings so the final report must contain:\n",
    "- the story of the investigation\n",
    "- the story discovered in the data\n",
    "\n",
    "General points to consider:\n",
    "- Keep it simple: plain English, short paragraphs and sentences, clear headings and avoid jargon\n",
    "- Keep it focused: develop a logical structure, highlight key points in each section\n",
    "- Consider the audience: use their language and format – get it proofread\n",
    "- Support the reader through long reports: provide a road map and signposting\n",
    "\n",
    "The Notebook can be used for the reporting\n",
    "\n",
    "Part 5 looks at `Presentation: telling the story`\n",
    "\n",
    "See Exercise 5.6 Exploratory in Section 5.2 The report, which provides a sample layout for a report in the Discussion: `TM351_Report_Outline.docx` \n",
    "\n",
    "If time permits, we can look at a sample Notebook that works through the data pipeline using Boys Names: `Tutorial 2 BoyNames.ipynb` and there is an equivalent notebook for Girls names: `Tutorial 2 GirlNames.ipynb`\n"
   ]
  },
  {
   "cell_type": "markdown",
   "id": "05135213-92ea-4fed-bb88-e444d7940671",
   "metadata": {
    "tags": [
     "style-activity"
    ]
   },
   "source": [
    "## TMA01 Detailed look"
   ]
  },
  {
   "cell_type": "markdown",
   "id": "68af3a9d-0889-4550-990d-6b1acc312c5f",
   "metadata": {},
   "source": [
    "**TMA - logistics**\n",
    "\n",
    "***Preparation***\n",
    "\n",
    "Before you start the TMA:  \n",
    "\n",
    "- Download the zip files with the Notebooks in (make sure they are the latest version!)\n",
    "- At the top of each Notebook put your Name and Personal Identifier (PI) in the boxes provided. This will allow your Tutor to identify your work\n",
    "- Complete the TM351 Generative AI academic integrity declaration (included in the TMA01 zip file)\n",
    "\n",
    "***Completion***\n",
    "\n",
    "Upon completing the TMA all of your files should be in the 25j_tma01 folder including:\n",
    "- your Notebook files containing answers to Q1 and 2 (do not rename these)\n",
    "- the original data files in the data folder\n",
    "- any additional data files that you have added, created or updated, in the data folder\n",
    "- the Generative AI academic integrity declaration\n",
    "\n",
    "***Submission***\n",
    "- zip the 25j_tma01 directory and confirm that all your files are in the resulting archive\n",
    "- submit your zip file to the online TMA/EMA Service.\n",
    "\n",
    "***Remember*** to back-up your files regularly so as not to lose your work\n",
    "\n",
    "***Deadline*** If you are unable to submit the TMA by 4th December, you must let your Tutor know beforehand\n"
   ]
  },
  {
   "cell_type": "markdown",
   "id": "be711352-4611-4931-b345-dc8186c37ab2",
   "metadata": {
    "tags": [
     "style-solution"
    ]
   },
   "source": [
    "### TMA01 Question 1 (40 marks)"
   ]
  },
  {
   "cell_type": "markdown",
   "id": "91eea068-b462-45bf-8cad-a3a470265ee0",
   "metadata": {},
   "source": [
    "In this TMA, you will investigate a dataset of bats in the UK. You are interested in the questions:\n",
    "\n",
    "- Where do most horseshoe bats hibernate?\n",
    "- Which bat species hibernate in the vicinity of rural or urban areas?\n",
    "\n",
    "All the data required can be round in the `data` directory.\n",
    "\n",
    "- `records-2025-05-12.csv`\n",
    "- `cities500.txt`\n",
    "\n",
    "Also read the meta-data file for the cities:  geonames_readme.txt"
   ]
  },
  {
   "cell_type": "markdown",
   "id": "680ded59-c107-40fe-8e6f-8f348243c118",
   "metadata": {},
   "source": [
    "Question 1 is made up of several parts:\n",
    "    \n",
    "***Data provenance, and importing and shaping the data***\n",
    "\n",
    "1. Licensing for the Bats dataset (3)\n",
    "2. Licensing for the City dataset (3)\n",
    "\n",
    "You need to find the specific clauses of the license that allow the OU to distribute the data and what obligations it puts on it.\n",
    "\n",
    "3. Importing the bats dataset (3)\n",
    "4. Importing the cities dataset (4)\n",
    "    \n",
    "Q3&4 panda `read_csv()` function can be used\n",
    "\n",
    "Remember:\n",
    "- do some initial investigation to see what the data looks like and discuss any issues\n",
    "- show the first  5 rows once the data is in a dataframe\n",
    "\n",
    "Note: you do not need to work with all the data found in these files - you are given information on what columns and rows are needed.\n",
    "\n",
    "See Notebook 02.2.1 for reading csv files\n",
    "\n",
    "(13 marks)"
   ]
  },
  {
   "cell_type": "markdown",
   "id": "cde37ec6-b2ad-46e7-bf5c-0f5c42ed00dd",
   "metadata": {},
   "source": [
    "**Cleaning, reshaping and combining the data sets**\n",
    "\n",
    "5. Adding the `normalised_common_name` column (5)\n",
    "6. Identifying urban centres (2)\n",
    "7. Combining the datasets: urban/rural bats (5)\n",
    "   \n",
    "(12 marks)"
   ]
  },
  {
   "cell_type": "markdown",
   "id": "0673c214-e64e-4158-beda-8dc81190e1db",
   "metadata": {},
   "source": [
    "**Visualising the data**\n",
    "\n",
    "8. Plot Horseshoe bats’ hibernation sites (6)\n",
    "9. Plot Urban and rural hibernation sites (5)\n",
    "\n",
    "The Notebooks in Part 05 will help with drawing maps, such Notebook 05.2 Getting started with maps - folium\n",
    "\n",
    "(10 marks)"
   ]
  },
  {
   "cell_type": "markdown",
   "id": "3dc8f92b-90df-4e42-8883-9468d2911b13",
   "metadata": {},
   "source": [
    "**Reflection on the data**\n",
    "\n",
    "10. A colleague wonders whether the heuristic of defining an urban hibernation site as being within 10km of a city is a good one - give 2 potential criticisms and what problems they might raise. (4)\n",
    "\n",
    "(4 marks)\n",
    "\n",
    "40 marks"
   ]
  },
  {
   "cell_type": "markdown",
   "id": "063604ca-ada2-41ba-a428-62db49c23be4",
   "metadata": {},
   "source": [
    "### "
   ]
  },
  {
   "cell_type": "markdown",
   "id": "16aa17fe-98f3-4dab-91fa-825a6847bcb3",
   "metadata": {
    "tags": [
     "style-solution"
    ]
   },
   "source": [
    "### Question 2 (60 Marks)"
   ]
  },
  {
   "cell_type": "markdown",
   "id": "d065d797-f225-42ce-9702-a1be815a82e8",
   "metadata": {},
   "source": [
    "**The Task**\n",
    "\n",
    "[Tuberculosis](https://en.wikipedia.org/wiki/Tuberculosis) is an extremely widespread and contagious disease, occurring in all the world's continents. Although the rate of successful treatment is improving, there are several groups who are at particular risk from the disease.\n",
    "\n",
    "You are given two datasets:\n",
    "- tuberculosis data: data/WHO_TB_data.csv\n",
    "- economic data: data/API_11_DS2_en_csv_v2_88104 (made up of several files)\n",
    "\n",
    "and have to consider two questions:\n",
    "1. Is there a relationship between these relative rates, and a country's GINI index? \n",
    "2. Is there a relationship between these relative rates, and the amount of a country's wealth held by the poorest 20% of citizens? \n",
    "\n",
    "You must produce two graphical illustrations of the available data:\n",
    "1. The first graph should show the relationship between different countries' rate of tuberculosis, the rate of tuberculosis in people who are HIV-positive, and the GINI coefficient.\n",
    "\n",
    "2. The second graph should show the relationship between different countries' rate of tuberculosis, the rate of tuberculosis in people who are HIV-positive, and the income share held by that country's poorest 20%.\n",
    "\n"
   ]
  },
  {
   "cell_type": "markdown",
   "id": "6db70680-9742-4221-9b88-2957b9be4e63",
   "metadata": {},
   "source": [
    "This question requires that you complete a number of tasks:\n",
    "- You should check the licenses for the datasets, and explain why you are permitted to carry out your chosen analysis.\n",
    "- You need to import the two datasets, possibly pre-processing them first.\n",
    "\n",
    "You must examine and clean the datasets to allow you to produce the two graphical illustrations asked for. You should consider questions such as:\n",
    "- Is there ambiguity in the dataset? (That is, are there aspects of the data which are unclear, and not documented?)\n",
    "- Is any data missing from the datasets?\n",
    "- Is there any dirtiness in the datasets, or inconsistency in how the data is represented between the two datasets?\n",
    "- In each of these cases you should describe the problem and explain how you have handled it.\n",
    "- You will need to reshape the data into a DataFrame.\n",
    "- Finally, you should select a visualisation method for the data in the dataset, and present two visualisations of the data, with a description of how you think it should be interpreted. \n"
   ]
  },
  {
   "cell_type": "markdown",
   "id": "b9c4f6b4-5d01-4701-a007-fabdafab55b0",
   "metadata": {},
   "source": [
    "Summary of the marks given:\n",
    "\n",
    "| Category | Number of marks |\n",
    "|-----------------|-------|\n",
    "| 1. Identify and Explain the Relevant Licensing Terms and Conditions | 5 |\n",
    "| 2. Preprocess the Data (if applicable) | (\\*) |\n",
    "| 3. Import the Datasets | 5 |\n",
    "|4. Clean and Reshape the Data | (\\*)20 |\n",
    "|5. Put the data into an appropriate form for plotting | 5 |\n",
    "|6. Visualise the data | 10 |\n",
    "|7. Interpret the plot | 5 |\n",
    "|Presentation (not explicit in the structure) | 10 |"
   ]
  },
  {
   "cell_type": "markdown",
   "id": "e146f583-bd4f-4285-9baf-da08e5af5497",
   "metadata": {},
   "source": [
    "A structure is given in the Notebook to help you frame your answer:\n",
    "- Identify and Explain the Relevant Licensing Terms and Conditions\n",
    "- Preprocess the Data (if applicable) - See section `Using Tools Outside the Notebooks` on how to display images from Open Refine\n",
    "- Import the Datasets\n",
    "- Clean and Reshape the Data\n",
    "- Put the data into an appropriate form for plotting\n",
    "- Visualise the data\n",
    "- Interpret the plots"
   ]
  },
  {
   "cell_type": "markdown",
   "id": "d0582748-6f59-4e31-87e4-83380f8285cd",
   "metadata": {},
   "source": [
    "Some general guidance on presentation:\n",
    "- You must present your answer in this notebook.\n",
    "- Do not put too much text or code into each notebook cell.\n",
    "- Text or markdown cells should contain one or two paragraphs at most\n",
    "- code cells should not contain more than about ten lines of python.\n",
    "- Ensure you use meaningful variable names in your code.\n",
    "- You should have a specific cell whose return value is the dataframe described above.\n",
    "- You should have a specific cell which plots the data in the dataframe."
   ]
  },
  {
   "cell_type": "markdown",
   "id": "6d4fcff6-9f7e-442e-8d04-a65dd2b5e283",
   "metadata": {},
   "source": [
    "**Important**\n",
    "\n",
    "When finished, go to `Kernel>Restart Kernel and Run All Cells...` to check that you have not made some alterations in the notebook that has unwillingly affected other parts. If you have file size issues you can `Kernel>Restart Kernel and Clear Outputs of All Cells...` before submitting.\n",
    "\n",
    "Do also ensure that you have not hard-coded in local files, such as you are trying to load an image called: `![](c:/MyComputer_you_cannot_access/Mary/OU/images/myFile.jpg)`\n",
    "\n",
    "Make sure you include any files not provided by the OU, such as image files produced from Open Refine."
   ]
  },
  {
   "cell_type": "code",
   "execution_count": null,
   "id": "20fc9c9c-0c89-42f4-9be3-67ab42d9e2f9",
   "metadata": {},
   "outputs": [],
   "source": []
  },
  {
   "cell_type": "markdown",
   "id": "f2e0a244-7921-43d0-9d7d-db7466edae7a",
   "metadata": {
    "tags": [
     "style-activity"
    ]
   },
   "source": [
    "### TurnItIn and Generative AI"
   ]
  },
  {
   "cell_type": "markdown",
   "id": "abb3bc96-111e-483d-bec1-98b3c122a325",
   "metadata": {},
   "source": [
    "The OU uses the plagiarism detection tool TurnItIn in some of its modules.\n",
    "\n",
    "The OU defines plagiarism in part as:  \n",
    "- using text obtained from assignment writing sites, organisations or private individuals.\n",
    "- obtaining work from other sources and submitting it as your own.  \n",
    "\n",
    "The Plagiarism policy can be found here:\n",
    "- https://help.open.ac.uk/documents/policies/plagiarism \n",
    "\n",
    "Under the Assessment tab you can find a link to check a draft of your TMA for plagiarism: `Check your draft assignment using Turnitin`.\n",
    "Do not leave it until the last minute to check!\n",
    "\n",
    "**Using Generative AI responsibly**\n",
    "\n",
    "Do make sure you read the information on using Generative AI: <a href=\"https://about.open.ac.uk/policies-and-reports/policies-and-statements/generative-ai-learning-teaching-and-assessment-ou-0\">Guidance on Generative AI</a>.\n",
    "\n",
    "Note the requirement to fill the Generative AI academic integrity declaration in the document *TM351 Generative AI academic integrity declaration.docx* and indicate at the top of your notebooks if you have completed this.\n"
   ]
  },
  {
   "cell_type": "markdown",
   "id": "e86bbecb-daaf-4d6b-a047-c5c8cbe4f2db",
   "metadata": {
    "tags": [
     "style-activity"
    ]
   },
   "source": [
    "### Further help and questions"
   ]
  },
  {
   "cell_type": "markdown",
   "id": "52ed82fe-7a33-49aa-9df1-dd22580f1141",
   "metadata": {},
   "source": [
    "Getting further help with the TMA:\n",
    "- Forums\n",
    "- Tutor\n",
    "- Module team\n",
    "\n",
    "**Do not forget the next iCMA is due on 20th November at 23:59!**\n"
   ]
  },
  {
   "cell_type": "markdown",
   "id": "50a90f76-97a8-4b61-b8a8-7cb2a1c40239",
   "metadata": {
    "tags": [
     "style-activity"
    ]
   },
   "source": [
    "## References and Data Sets"
   ]
  },
  {
   "cell_type": "markdown",
   "id": "506e93f5-0411-4162-b2ba-7018f93f8a8c",
   "metadata": {},
   "source": [
    "### References\n",
    "\n",
    "Kitchin, R. (2014) The data revolution: Big data, open data, data infrastructures and their consequences, Sage.\n",
    "\n",
    "Stevens, S. S. (1946) ‘On the Theory of Scales of Measurement’, Science, vol. 103, no. 2684, pp. 677–80 [Online]. DOI: 10.1126/science.103.2684.677\n",
    "\n",
    "### Data sets and Licences\n",
    "\n",
    "* role.json\n",
    " \n",
    "A lot of publicly available data is in JSON format. This notebook has used USA government politician datasets - US Senators (before the forthcoming 2024 elections!) found here: https://www.govtrack.us/api/v2/role?current=true&role_type=senator.\n",
    "\n",
    "There is no obvious licence given, the Privacy Policy mentions: *GovTrack is offered to as a free public service to users (“You”, “Your”) in the United States by Civic Impulse, LLC (“We”, “Us”, “Our”)* (https://www.govtrack.us/legal)\n",
    "\n",
    "The rest of the datasets are from previous TM351 TMAs or notebooks:\n",
    "\n",
    "* SFR01_2016_UD_metadata.txt\n",
    "* SFR01_2016_UD_metadata.csv\n",
    "\n",
    "Used in 2020J TMA02 - Key Stage 4 data, which was originally downloaded from:\n",
    "https://www.gov.uk/government/statistics/revised-gcse-and-equivalent-results-in-england-2014-to-2015\n",
    "\n",
    "Licence: OGL All content is available under the Open Government Licence v3.0, except where otherwise stated (https://www.nationalarchives.gov.uk/doc/open-government-licence/version/3/)\n",
    "\n",
    "* 85043238.csv - Used in 2020J TMA02\n",
    "\n",
    "UK Census data Report DC6206EW - NS-SeC by ethnic group by sex by age (2011 data). \n",
    "Available at https://www.nomisweb.co.uk/query/construct/summary.asp?mode=construct&version=0&dataset=682 (Produced by OU: 31 August 2020).\n",
    "\n",
    "Nomis is a service provided by Office for National Statistics (ONS), which provides data under the OGL licence v3.0\n",
    "\n",
    "* stats1718.csv - Used in 2021J TMA01\n",
    "\n",
    "This is a dataset for the 2017-2018 opera season, which is part of the larger dataset:\n",
    "Cuntz, Alexander, 2020, \"Replication Data for: Grand rights and opera reuse today\", https://doi.org/10.7910/DVN/8LUFN8, Harvard Dataverse, V1\n",
    "\n",
    "It is stored as a csv file called stats1718.csv in the data directory. This dataset was obtained from the Harvard dataverse portal on 13th March, 2021 from:\n",
    "https://dataverse.harvard.edu/dataset.xhtml?persistentId=doi:10.7910/DVN/8LUFN8\n",
    "\n",
    "Licence: Public Domain CC0 1.0 0 (https://creativecommons.org/publicdomain/zero/1.0/)\n",
    "\n",
    "* fruitveg.csv - Used in 2017J TMA01\n",
    "\n",
    "This file contains the fruit and vegetable wholesale prices from 2004 to 2015\n",
    "It is available from:  \n",
    "https://www.data.gov.uk/dataset/c774f8b9-a606-4480-8cb8-ff6839d4b362/agricultural_market_reports\n",
    "Licence: Open Government Licence v3.0 (https://www.nationalarchives.gov.uk/doc/open-government-licence/version/3/)\n"
   ]
  },
  {
   "cell_type": "markdown",
   "id": "9c5e0ded-9219-4ff2-a2e5-679f7bd41be2",
   "metadata": {
    "tags": [
     "style-activity"
    ]
   },
   "source": [
    "## Answers\n"
   ]
  },
  {
   "cell_type": "markdown",
   "id": "b400a53a-45f4-4658-9d52-abc03602cb16",
   "metadata": {},
   "source": [
    "## Name that structure\n",
    "\n",
    "- structured: CSV files usually fits into a tabular structure \n",
    "- semi-structured: JSON format is key value pairs and is usually semi-structured\n",
    "- unstructured: this seems to be part of the documentation, which may not follow any particular structure"
   ]
  },
  {
   "cell_type": "markdown",
   "id": "9947cc79-358c-49d4-9077-c12bfd76336c",
   "metadata": {},
   "source": [
    "## Reading CSV files\n",
    "\n",
    "**Example One**\n",
    "\n",
    "The problem is that meta-data can be found at the start and end of the file. \n",
    "\n",
    "We can get read_csv to ignore these rows when importing, for example:"
   ]
  },
  {
   "cell_type": "code",
   "execution_count": 14,
   "id": "6f8199db-15fa-4a20-bc6e-cd55c0cf8d3d",
   "metadata": {},
   "outputs": [
    {
     "data": {
      "text/html": [
       "<div>\n",
       "<style scoped>\n",
       "    .dataframe tbody tr th:only-of-type {\n",
       "        vertical-align: middle;\n",
       "    }\n",
       "\n",
       "    .dataframe tbody tr th {\n",
       "        vertical-align: top;\n",
       "    }\n",
       "\n",
       "    .dataframe thead th {\n",
       "        text-align: right;\n",
       "    }\n",
       "</style>\n",
       "<table border=\"1\" class=\"dataframe\">\n",
       "  <thead>\n",
       "    <tr style=\"text-align: right;\">\n",
       "      <th></th>\n",
       "      <th>2011 super output area - middle layer</th>\n",
       "      <th>mnemonic</th>\n",
       "      <th>1.1 Large employers and higher managerial and administrative occupations</th>\n",
       "      <th>1.2 Higher professional occupations</th>\n",
       "      <th>2. Lower managerial, administrative and professional occupations</th>\n",
       "      <th>3. Intermediate occupations</th>\n",
       "      <th>4. Small employers and own account workers</th>\n",
       "      <th>5. Lower supervisory and technical occupations</th>\n",
       "      <th>6. Semi-routine occupations</th>\n",
       "      <th>7. Routine occupations</th>\n",
       "      <th>L14.1 Never worked</th>\n",
       "      <th>L14.2 Long-term unemployed</th>\n",
       "      <th>L15 Full-time students</th>\n",
       "      <th>L17 Not classifiable for other reasons</th>\n",
       "    </tr>\n",
       "  </thead>\n",
       "  <tbody>\n",
       "    <tr>\n",
       "      <th>0</th>\n",
       "      <td>Darlington 001</td>\n",
       "      <td>E02002559</td>\n",
       "      <td>2</td>\n",
       "      <td>14</td>\n",
       "      <td>77</td>\n",
       "      <td>89</td>\n",
       "      <td>11</td>\n",
       "      <td>39</td>\n",
       "      <td>92</td>\n",
       "      <td>66</td>\n",
       "      <td>23</td>\n",
       "      <td>3</td>\n",
       "      <td>321</td>\n",
       "      <td>0</td>\n",
       "    </tr>\n",
       "    <tr>\n",
       "      <th>1</th>\n",
       "      <td>Darlington 002</td>\n",
       "      <td>E02002560</td>\n",
       "      <td>3</td>\n",
       "      <td>9</td>\n",
       "      <td>35</td>\n",
       "      <td>80</td>\n",
       "      <td>9</td>\n",
       "      <td>43</td>\n",
       "      <td>97</td>\n",
       "      <td>60</td>\n",
       "      <td>25</td>\n",
       "      <td>7</td>\n",
       "      <td>242</td>\n",
       "      <td>0</td>\n",
       "    </tr>\n",
       "    <tr>\n",
       "      <th>2</th>\n",
       "      <td>Darlington 003</td>\n",
       "      <td>E02002561</td>\n",
       "      <td>2</td>\n",
       "      <td>7</td>\n",
       "      <td>55</td>\n",
       "      <td>70</td>\n",
       "      <td>5</td>\n",
       "      <td>37</td>\n",
       "      <td>77</td>\n",
       "      <td>39</td>\n",
       "      <td>26</td>\n",
       "      <td>5</td>\n",
       "      <td>217</td>\n",
       "      <td>0</td>\n",
       "    </tr>\n",
       "    <tr>\n",
       "      <th>3</th>\n",
       "      <td>Darlington 004</td>\n",
       "      <td>E02002562</td>\n",
       "      <td>2</td>\n",
       "      <td>4</td>\n",
       "      <td>50</td>\n",
       "      <td>87</td>\n",
       "      <td>8</td>\n",
       "      <td>42</td>\n",
       "      <td>130</td>\n",
       "      <td>89</td>\n",
       "      <td>60</td>\n",
       "      <td>25</td>\n",
       "      <td>240</td>\n",
       "      <td>0</td>\n",
       "    </tr>\n",
       "    <tr>\n",
       "      <th>4</th>\n",
       "      <td>Darlington 005</td>\n",
       "      <td>E02002563</td>\n",
       "      <td>0</td>\n",
       "      <td>11</td>\n",
       "      <td>52</td>\n",
       "      <td>58</td>\n",
       "      <td>7</td>\n",
       "      <td>28</td>\n",
       "      <td>90</td>\n",
       "      <td>67</td>\n",
       "      <td>47</td>\n",
       "      <td>8</td>\n",
       "      <td>186</td>\n",
       "      <td>0</td>\n",
       "    </tr>\n",
       "  </tbody>\n",
       "</table>\n",
       "</div>"
      ],
      "text/plain": [
       "  2011 super output area - middle layer   mnemonic  \\\n",
       "0                        Darlington 001  E02002559   \n",
       "1                        Darlington 002  E02002560   \n",
       "2                        Darlington 003  E02002561   \n",
       "3                        Darlington 004  E02002562   \n",
       "4                        Darlington 005  E02002563   \n",
       "\n",
       "   1.1 Large employers and higher managerial and administrative occupations  \\\n",
       "0                                                  2                          \n",
       "1                                                  3                          \n",
       "2                                                  2                          \n",
       "3                                                  2                          \n",
       "4                                                  0                          \n",
       "\n",
       "   1.2 Higher professional occupations  \\\n",
       "0                                   14   \n",
       "1                                    9   \n",
       "2                                    7   \n",
       "3                                    4   \n",
       "4                                   11   \n",
       "\n",
       "   2. Lower managerial, administrative and professional occupations  \\\n",
       "0                                                 77                  \n",
       "1                                                 35                  \n",
       "2                                                 55                  \n",
       "3                                                 50                  \n",
       "4                                                 52                  \n",
       "\n",
       "   3. Intermediate occupations  4. Small employers and own account workers  \\\n",
       "0                           89                                          11   \n",
       "1                           80                                           9   \n",
       "2                           70                                           5   \n",
       "3                           87                                           8   \n",
       "4                           58                                           7   \n",
       "\n",
       "   5. Lower supervisory and technical occupations  \\\n",
       "0                                              39   \n",
       "1                                              43   \n",
       "2                                              37   \n",
       "3                                              42   \n",
       "4                                              28   \n",
       "\n",
       "   6. Semi-routine occupations  7. Routine occupations  L14.1 Never worked  \\\n",
       "0                           92                      66                  23   \n",
       "1                           97                      60                  25   \n",
       "2                           77                      39                  26   \n",
       "3                          130                      89                  60   \n",
       "4                           90                      67                  47   \n",
       "\n",
       "   L14.2 Long-term unemployed  L15 Full-time students  \\\n",
       "0                           3                     321   \n",
       "1                           7                     242   \n",
       "2                           5                     217   \n",
       "3                          25                     240   \n",
       "4                           8                     186   \n",
       "\n",
       "   L17 Not classifiable for other reasons  \n",
       "0                                       0  \n",
       "1                                       0  \n",
       "2                                       0  \n",
       "3                                       0  \n",
       "4                                       0  "
      ]
     },
     "execution_count": 14,
     "metadata": {},
     "output_type": "execute_result"
    }
   ],
   "source": [
    "# Notebook seems to be defaulting to the C engine, which does not support skipfooter\n",
    "data_df = pd.read_csv(\"data/85043238.csv\", engine=\"python\", skiprows=10, skipfooter=7 )\n",
    "data_df.head()"
   ]
  },
  {
   "cell_type": "code",
   "execution_count": 15,
   "id": "56635fd0-a619-450a-b962-278bfa591741",
   "metadata": {},
   "outputs": [
    {
     "data": {
      "text/html": [
       "<div>\n",
       "<style scoped>\n",
       "    .dataframe tbody tr th:only-of-type {\n",
       "        vertical-align: middle;\n",
       "    }\n",
       "\n",
       "    .dataframe tbody tr th {\n",
       "        vertical-align: top;\n",
       "    }\n",
       "\n",
       "    .dataframe thead th {\n",
       "        text-align: right;\n",
       "    }\n",
       "</style>\n",
       "<table border=\"1\" class=\"dataframe\">\n",
       "  <thead>\n",
       "    <tr style=\"text-align: right;\">\n",
       "      <th></th>\n",
       "      <th>2011 super output area - middle layer</th>\n",
       "      <th>mnemonic</th>\n",
       "      <th>1.1 Large employers and higher managerial and administrative occupations</th>\n",
       "      <th>1.2 Higher professional occupations</th>\n",
       "      <th>2. Lower managerial, administrative and professional occupations</th>\n",
       "      <th>3. Intermediate occupations</th>\n",
       "      <th>4. Small employers and own account workers</th>\n",
       "      <th>5. Lower supervisory and technical occupations</th>\n",
       "      <th>6. Semi-routine occupations</th>\n",
       "      <th>7. Routine occupations</th>\n",
       "      <th>L14.1 Never worked</th>\n",
       "      <th>L14.2 Long-term unemployed</th>\n",
       "      <th>L15 Full-time students</th>\n",
       "      <th>L17 Not classifiable for other reasons</th>\n",
       "    </tr>\n",
       "  </thead>\n",
       "  <tbody>\n",
       "    <tr>\n",
       "      <th>7196</th>\n",
       "      <td>Newport 016</td>\n",
       "      <td>W02000362</td>\n",
       "      <td>3</td>\n",
       "      <td>10</td>\n",
       "      <td>53</td>\n",
       "      <td>51</td>\n",
       "      <td>6</td>\n",
       "      <td>25</td>\n",
       "      <td>66</td>\n",
       "      <td>55</td>\n",
       "      <td>21</td>\n",
       "      <td>7</td>\n",
       "      <td>260</td>\n",
       "      <td>0</td>\n",
       "    </tr>\n",
       "    <tr>\n",
       "      <th>7197</th>\n",
       "      <td>Newport 017</td>\n",
       "      <td>W02000363</td>\n",
       "      <td>1</td>\n",
       "      <td>4</td>\n",
       "      <td>36</td>\n",
       "      <td>68</td>\n",
       "      <td>4</td>\n",
       "      <td>21</td>\n",
       "      <td>75</td>\n",
       "      <td>39</td>\n",
       "      <td>35</td>\n",
       "      <td>12</td>\n",
       "      <td>234</td>\n",
       "      <td>0</td>\n",
       "    </tr>\n",
       "    <tr>\n",
       "      <th>7198</th>\n",
       "      <td>Newport 018</td>\n",
       "      <td>W02000364</td>\n",
       "      <td>5</td>\n",
       "      <td>9</td>\n",
       "      <td>61</td>\n",
       "      <td>84</td>\n",
       "      <td>13</td>\n",
       "      <td>50</td>\n",
       "      <td>148</td>\n",
       "      <td>80</td>\n",
       "      <td>139</td>\n",
       "      <td>23</td>\n",
       "      <td>931</td>\n",
       "      <td>0</td>\n",
       "    </tr>\n",
       "    <tr>\n",
       "      <th>7199</th>\n",
       "      <td>Newport 019</td>\n",
       "      <td>W02000365</td>\n",
       "      <td>1</td>\n",
       "      <td>5</td>\n",
       "      <td>57</td>\n",
       "      <td>99</td>\n",
       "      <td>9</td>\n",
       "      <td>36</td>\n",
       "      <td>146</td>\n",
       "      <td>94</td>\n",
       "      <td>108</td>\n",
       "      <td>24</td>\n",
       "      <td>316</td>\n",
       "      <td>0</td>\n",
       "    </tr>\n",
       "    <tr>\n",
       "      <th>7200</th>\n",
       "      <td>Newport 020</td>\n",
       "      <td>W02000366</td>\n",
       "      <td>1</td>\n",
       "      <td>20</td>\n",
       "      <td>76</td>\n",
       "      <td>103</td>\n",
       "      <td>10</td>\n",
       "      <td>45</td>\n",
       "      <td>96</td>\n",
       "      <td>54</td>\n",
       "      <td>25</td>\n",
       "      <td>7</td>\n",
       "      <td>340</td>\n",
       "      <td>0</td>\n",
       "    </tr>\n",
       "  </tbody>\n",
       "</table>\n",
       "</div>"
      ],
      "text/plain": [
       "     2011 super output area - middle layer   mnemonic  \\\n",
       "7196                           Newport 016  W02000362   \n",
       "7197                           Newport 017  W02000363   \n",
       "7198                           Newport 018  W02000364   \n",
       "7199                           Newport 019  W02000365   \n",
       "7200                           Newport 020  W02000366   \n",
       "\n",
       "      1.1 Large employers and higher managerial and administrative occupations  \\\n",
       "7196                                                  3                          \n",
       "7197                                                  1                          \n",
       "7198                                                  5                          \n",
       "7199                                                  1                          \n",
       "7200                                                  1                          \n",
       "\n",
       "      1.2 Higher professional occupations  \\\n",
       "7196                                   10   \n",
       "7197                                    4   \n",
       "7198                                    9   \n",
       "7199                                    5   \n",
       "7200                                   20   \n",
       "\n",
       "      2. Lower managerial, administrative and professional occupations  \\\n",
       "7196                                                 53                  \n",
       "7197                                                 36                  \n",
       "7198                                                 61                  \n",
       "7199                                                 57                  \n",
       "7200                                                 76                  \n",
       "\n",
       "      3. Intermediate occupations  4. Small employers and own account workers  \\\n",
       "7196                           51                                           6   \n",
       "7197                           68                                           4   \n",
       "7198                           84                                          13   \n",
       "7199                           99                                           9   \n",
       "7200                          103                                          10   \n",
       "\n",
       "      5. Lower supervisory and technical occupations  \\\n",
       "7196                                              25   \n",
       "7197                                              21   \n",
       "7198                                              50   \n",
       "7199                                              36   \n",
       "7200                                              45   \n",
       "\n",
       "      6. Semi-routine occupations  7. Routine occupations  L14.1 Never worked  \\\n",
       "7196                           66                      55                  21   \n",
       "7197                           75                      39                  35   \n",
       "7198                          148                      80                 139   \n",
       "7199                          146                      94                 108   \n",
       "7200                           96                      54                  25   \n",
       "\n",
       "      L14.2 Long-term unemployed  L15 Full-time students  \\\n",
       "7196                           7                     260   \n",
       "7197                          12                     234   \n",
       "7198                          23                     931   \n",
       "7199                          24                     316   \n",
       "7200                           7                     340   \n",
       "\n",
       "      L17 Not classifiable for other reasons  \n",
       "7196                                       0  \n",
       "7197                                       0  \n",
       "7198                                       0  \n",
       "7199                                       0  \n",
       "7200                                       0  "
      ]
     },
     "execution_count": 15,
     "metadata": {},
     "output_type": "execute_result"
    }
   ],
   "source": [
    "#check nothing is lost at the end\n",
    "data_df.tail()"
   ]
  },
  {
   "cell_type": "markdown",
   "id": "1ced4198-6a40-4c0a-970e-a13cdecc4787",
   "metadata": {},
   "source": [
    "**Example Two**\n",
    "\n",
    "If we try and read it in directly, it will generate an error:"
   ]
  },
  {
   "cell_type": "code",
   "execution_count": 16,
   "id": "a6cd6717-a6e6-4782-8d6d-1e259e234e40",
   "metadata": {},
   "outputs": [
    {
     "ename": "ParserError",
     "evalue": "Error tokenizing data. C error: Expected 1 fields in line 4, saw 2\n",
     "output_type": "error",
     "traceback": [
      "\u001b[0;31m---------------------------------------------------------------------------\u001b[0m",
      "\u001b[0;31mParserError\u001b[0m                               Traceback (most recent call last)",
      "Cell \u001b[0;32mIn[16], line 1\u001b[0m\n\u001b[0;32m----> 1\u001b[0m data_df \u001b[38;5;241m=\u001b[39m \u001b[43mpd\u001b[49m\u001b[38;5;241;43m.\u001b[39;49m\u001b[43mread_csv\u001b[49m\u001b[43m(\u001b[49m\u001b[38;5;124;43m\"\u001b[39;49m\u001b[38;5;124;43mdata/stats1718.csv\u001b[39;49m\u001b[38;5;124;43m\"\u001b[39;49m\u001b[43m)\u001b[49m\n\u001b[1;32m      2\u001b[0m data_df\u001b[38;5;241m.\u001b[39mhead()\n",
      "File \u001b[0;32m/usr/local/lib/python3.11/site-packages/pandas/io/parsers/readers.py:1026\u001b[0m, in \u001b[0;36mread_csv\u001b[0;34m(filepath_or_buffer, sep, delimiter, header, names, index_col, usecols, dtype, engine, converters, true_values, false_values, skipinitialspace, skiprows, skipfooter, nrows, na_values, keep_default_na, na_filter, verbose, skip_blank_lines, parse_dates, infer_datetime_format, keep_date_col, date_parser, date_format, dayfirst, cache_dates, iterator, chunksize, compression, thousands, decimal, lineterminator, quotechar, quoting, doublequote, escapechar, comment, encoding, encoding_errors, dialect, on_bad_lines, delim_whitespace, low_memory, memory_map, float_precision, storage_options, dtype_backend)\u001b[0m\n\u001b[1;32m   1013\u001b[0m kwds_defaults \u001b[38;5;241m=\u001b[39m _refine_defaults_read(\n\u001b[1;32m   1014\u001b[0m     dialect,\n\u001b[1;32m   1015\u001b[0m     delimiter,\n\u001b[0;32m   (...)\u001b[0m\n\u001b[1;32m   1022\u001b[0m     dtype_backend\u001b[38;5;241m=\u001b[39mdtype_backend,\n\u001b[1;32m   1023\u001b[0m )\n\u001b[1;32m   1024\u001b[0m kwds\u001b[38;5;241m.\u001b[39mupdate(kwds_defaults)\n\u001b[0;32m-> 1026\u001b[0m \u001b[38;5;28;01mreturn\u001b[39;00m \u001b[43m_read\u001b[49m\u001b[43m(\u001b[49m\u001b[43mfilepath_or_buffer\u001b[49m\u001b[43m,\u001b[49m\u001b[43m \u001b[49m\u001b[43mkwds\u001b[49m\u001b[43m)\u001b[49m\n",
      "File \u001b[0;32m/usr/local/lib/python3.11/site-packages/pandas/io/parsers/readers.py:626\u001b[0m, in \u001b[0;36m_read\u001b[0;34m(filepath_or_buffer, kwds)\u001b[0m\n\u001b[1;32m    623\u001b[0m     \u001b[38;5;28;01mreturn\u001b[39;00m parser\n\u001b[1;32m    625\u001b[0m \u001b[38;5;28;01mwith\u001b[39;00m parser:\n\u001b[0;32m--> 626\u001b[0m     \u001b[38;5;28;01mreturn\u001b[39;00m \u001b[43mparser\u001b[49m\u001b[38;5;241;43m.\u001b[39;49m\u001b[43mread\u001b[49m\u001b[43m(\u001b[49m\u001b[43mnrows\u001b[49m\u001b[43m)\u001b[49m\n",
      "File \u001b[0;32m/usr/local/lib/python3.11/site-packages/pandas/io/parsers/readers.py:1923\u001b[0m, in \u001b[0;36mTextFileReader.read\u001b[0;34m(self, nrows)\u001b[0m\n\u001b[1;32m   1916\u001b[0m nrows \u001b[38;5;241m=\u001b[39m validate_integer(\u001b[38;5;124m\"\u001b[39m\u001b[38;5;124mnrows\u001b[39m\u001b[38;5;124m\"\u001b[39m, nrows)\n\u001b[1;32m   1917\u001b[0m \u001b[38;5;28;01mtry\u001b[39;00m:\n\u001b[1;32m   1918\u001b[0m     \u001b[38;5;66;03m# error: \"ParserBase\" has no attribute \"read\"\u001b[39;00m\n\u001b[1;32m   1919\u001b[0m     (\n\u001b[1;32m   1920\u001b[0m         index,\n\u001b[1;32m   1921\u001b[0m         columns,\n\u001b[1;32m   1922\u001b[0m         col_dict,\n\u001b[0;32m-> 1923\u001b[0m     ) \u001b[38;5;241m=\u001b[39m \u001b[38;5;28;43mself\u001b[39;49m\u001b[38;5;241;43m.\u001b[39;49m\u001b[43m_engine\u001b[49m\u001b[38;5;241;43m.\u001b[39;49m\u001b[43mread\u001b[49m\u001b[43m(\u001b[49m\u001b[43m  \u001b[49m\u001b[38;5;66;43;03m# type: ignore[attr-defined]\u001b[39;49;00m\n\u001b[1;32m   1924\u001b[0m \u001b[43m        \u001b[49m\u001b[43mnrows\u001b[49m\n\u001b[1;32m   1925\u001b[0m \u001b[43m    \u001b[49m\u001b[43m)\u001b[49m\n\u001b[1;32m   1926\u001b[0m \u001b[38;5;28;01mexcept\u001b[39;00m \u001b[38;5;167;01mException\u001b[39;00m:\n\u001b[1;32m   1927\u001b[0m     \u001b[38;5;28mself\u001b[39m\u001b[38;5;241m.\u001b[39mclose()\n",
      "File \u001b[0;32m/usr/local/lib/python3.11/site-packages/pandas/io/parsers/c_parser_wrapper.py:234\u001b[0m, in \u001b[0;36mCParserWrapper.read\u001b[0;34m(self, nrows)\u001b[0m\n\u001b[1;32m    232\u001b[0m \u001b[38;5;28;01mtry\u001b[39;00m:\n\u001b[1;32m    233\u001b[0m     \u001b[38;5;28;01mif\u001b[39;00m \u001b[38;5;28mself\u001b[39m\u001b[38;5;241m.\u001b[39mlow_memory:\n\u001b[0;32m--> 234\u001b[0m         chunks \u001b[38;5;241m=\u001b[39m \u001b[38;5;28;43mself\u001b[39;49m\u001b[38;5;241;43m.\u001b[39;49m\u001b[43m_reader\u001b[49m\u001b[38;5;241;43m.\u001b[39;49m\u001b[43mread_low_memory\u001b[49m\u001b[43m(\u001b[49m\u001b[43mnrows\u001b[49m\u001b[43m)\u001b[49m\n\u001b[1;32m    235\u001b[0m         \u001b[38;5;66;03m# destructive to chunks\u001b[39;00m\n\u001b[1;32m    236\u001b[0m         data \u001b[38;5;241m=\u001b[39m _concatenate_chunks(chunks)\n",
      "File \u001b[0;32mparsers.pyx:838\u001b[0m, in \u001b[0;36mpandas._libs.parsers.TextReader.read_low_memory\u001b[0;34m()\u001b[0m\n",
      "File \u001b[0;32mparsers.pyx:905\u001b[0m, in \u001b[0;36mpandas._libs.parsers.TextReader._read_rows\u001b[0;34m()\u001b[0m\n",
      "File \u001b[0;32mparsers.pyx:874\u001b[0m, in \u001b[0;36mpandas._libs.parsers.TextReader._tokenize_rows\u001b[0;34m()\u001b[0m\n",
      "File \u001b[0;32mparsers.pyx:891\u001b[0m, in \u001b[0;36mpandas._libs.parsers.TextReader._check_tokenize_status\u001b[0;34m()\u001b[0m\n",
      "File \u001b[0;32mparsers.pyx:2061\u001b[0m, in \u001b[0;36mpandas._libs.parsers.raise_parser_error\u001b[0;34m()\u001b[0m\n",
      "\u001b[0;31mParserError\u001b[0m: Error tokenizing data. C error: Expected 1 fields in line 4, saw 2\n"
     ]
    }
   ],
   "source": [
    "data_df = pd.read_csv(\"data/stats1718.csv\")\n",
    "data_df.head()"
   ]
  },
  {
   "cell_type": "markdown",
   "id": "fcb17f41-3658-4594-a077-97766d62fa25",
   "metadata": {},
   "source": [
    "The `head` command showed that the data is in fact separated by |'s instead of commas, so we can use the `sep` option to deal with this:"
   ]
  },
  {
   "cell_type": "code",
   "execution_count": 17,
   "id": "83772b8e-9d8f-4d19-ac92-20248a194b65",
   "metadata": {},
   "outputs": [
    {
     "data": {
      "text/html": [
       "<div>\n",
       "<style scoped>\n",
       "    .dataframe tbody tr th:only-of-type {\n",
       "        vertical-align: middle;\n",
       "    }\n",
       "\n",
       "    .dataframe tbody tr th {\n",
       "        vertical-align: top;\n",
       "    }\n",
       "\n",
       "    .dataframe thead th {\n",
       "        text-align: right;\n",
       "    }\n",
       "</style>\n",
       "<table border=\"1\" class=\"dataframe\">\n",
       "  <thead>\n",
       "    <tr style=\"text-align: right;\">\n",
       "      <th></th>\n",
       "      <th>1718</th>\n",
       "      <th>al</th>\n",
       "      <th>Unnamed: 2</th>\n",
       "      <th>Tirana</th>\n",
       "      <th>Unnamed: 4</th>\n",
       "      <th>Bizet</th>\n",
       "      <th>18381025</th>\n",
       "      <th>18750603</th>\n",
       "      <th>fr</th>\n",
       "      <th>m</th>\n",
       "      <th>Carmen</th>\n",
       "      <th>fr.1</th>\n",
       "      <th>~</th>\n",
       "      <th>20180130</th>\n",
       "      <th>5</th>\n",
       "      <th>Unnamed: 15</th>\n",
       "      <th>Unnamed: 16</th>\n",
       "    </tr>\n",
       "  </thead>\n",
       "  <tbody>\n",
       "    <tr>\n",
       "      <th>0</th>\n",
       "      <td>1718</td>\n",
       "      <td>al</td>\n",
       "      <td>NaN</td>\n",
       "      <td>Tirana</td>\n",
       "      <td>NaN</td>\n",
       "      <td>Bizet</td>\n",
       "      <td>18381025</td>\n",
       "      <td>18750603</td>\n",
       "      <td>fr</td>\n",
       "      <td>m</td>\n",
       "      <td>Les Pecheurs de perles</td>\n",
       "      <td>fr</td>\n",
       "      <td>~</td>\n",
       "      <td>20170922</td>\n",
       "      <td>3</td>\n",
       "      <td>!</td>\n",
       "      <td>NaN</td>\n",
       "    </tr>\n",
       "    <tr>\n",
       "      <th>1</th>\n",
       "      <td>1718</td>\n",
       "      <td>al</td>\n",
       "      <td>NaN</td>\n",
       "      <td>Tirana</td>\n",
       "      <td>NaN</td>\n",
       "      <td>Brahms</td>\n",
       "      <td>18330507</td>\n",
       "      <td>18970403</td>\n",
       "      <td>de</td>\n",
       "      <td>m</td>\n",
       "      <td>Ein deutsches Requiem</td>\n",
       "      <td>de</td>\n",
       "      <td>~O</td>\n",
       "      <td>20170930</td>\n",
       "      <td>1</td>\n",
       "      <td>c</td>\n",
       "      <td>NaN</td>\n",
       "    </tr>\n",
       "    <tr>\n",
       "      <th>2</th>\n",
       "      <td>1718</td>\n",
       "      <td>al</td>\n",
       "      <td>NaN</td>\n",
       "      <td>Tirana</td>\n",
       "      <td>NaN</td>\n",
       "      <td>Strauss,J</td>\n",
       "      <td>1825</td>\n",
       "      <td>1899</td>\n",
       "      <td>at</td>\n",
       "      <td>m</td>\n",
       "      <td>Die Fledermaus</td>\n",
       "      <td>at</td>\n",
       "      <td>~L</td>\n",
       "      <td>20180329</td>\n",
       "      <td>5</td>\n",
       "      <td>NaN</td>\n",
       "      <td>NaN</td>\n",
       "    </tr>\n",
       "    <tr>\n",
       "      <th>3</th>\n",
       "      <td>1718</td>\n",
       "      <td>am</td>\n",
       "      <td>NaN</td>\n",
       "      <td>Yerevan</td>\n",
       "      <td>NaN</td>\n",
       "      <td>Arutiunian</td>\n",
       "      <td>19200928</td>\n",
       "      <td>20120328</td>\n",
       "      <td>am</td>\n",
       "      <td>m</td>\n",
       "      <td>Sayat-Nova</td>\n",
       "      <td>am</td>\n",
       "      <td>~</td>\n",
       "      <td>20180313</td>\n",
       "      <td>1</td>\n",
       "      <td>NaN</td>\n",
       "      <td>NaN</td>\n",
       "    </tr>\n",
       "    <tr>\n",
       "      <th>4</th>\n",
       "      <td>1718</td>\n",
       "      <td>am</td>\n",
       "      <td>NaN</td>\n",
       "      <td>Yerevan</td>\n",
       "      <td>NaN</td>\n",
       "      <td>Bizet</td>\n",
       "      <td>18381025</td>\n",
       "      <td>18750603</td>\n",
       "      <td>fr</td>\n",
       "      <td>m</td>\n",
       "      <td>Carmen</td>\n",
       "      <td>fr</td>\n",
       "      <td>~</td>\n",
       "      <td>20180321</td>\n",
       "      <td>1</td>\n",
       "      <td>NaN</td>\n",
       "      <td>NaN</td>\n",
       "    </tr>\n",
       "  </tbody>\n",
       "</table>\n",
       "</div>"
      ],
      "text/plain": [
       "   1718  al  Unnamed: 2   Tirana  Unnamed: 4       Bizet  18381025  18750603  \\\n",
       "0  1718  al         NaN   Tirana         NaN       Bizet  18381025  18750603   \n",
       "1  1718  al         NaN   Tirana         NaN      Brahms  18330507  18970403   \n",
       "2  1718  al         NaN   Tirana         NaN   Strauss,J      1825      1899   \n",
       "3  1718  am         NaN  Yerevan         NaN  Arutiunian  19200928  20120328   \n",
       "4  1718  am         NaN  Yerevan         NaN       Bizet  18381025  18750603   \n",
       "\n",
       "   fr  m                  Carmen fr.1   ~  20180130  5 Unnamed: 15  \\\n",
       "0  fr  m  Les Pecheurs de perles   fr   ~  20170922  3           !   \n",
       "1  de  m   Ein deutsches Requiem   de  ~O  20170930  1           c   \n",
       "2  at  m          Die Fledermaus   at  ~L  20180329  5         NaN   \n",
       "3  am  m              Sayat-Nova   am   ~  20180313  1         NaN   \n",
       "4  fr  m                  Carmen   fr   ~  20180321  1         NaN   \n",
       "\n",
       "   Unnamed: 16  \n",
       "0          NaN  \n",
       "1          NaN  \n",
       "2          NaN  \n",
       "3          NaN  \n",
       "4          NaN  "
      ]
     },
     "execution_count": 17,
     "metadata": {},
     "output_type": "execute_result"
    }
   ],
   "source": [
    "data_df = pd.read_csv(\"data/stats1718.csv\", sep=\"|\")\n",
    "data_df.head()"
   ]
  },
  {
   "cell_type": "markdown",
   "id": "8c177c42-a1e1-4bfb-8dab-6f1b12136637",
   "metadata": {},
   "source": [
    "Hmm, the first row does not look like column headings, but rather data. "
   ]
  },
  {
   "cell_type": "code",
   "execution_count": 18,
   "id": "769490d4-3f84-471e-b2f1-4a31b9bd250b",
   "metadata": {},
   "outputs": [
    {
     "data": {
      "text/html": [
       "<div>\n",
       "<style scoped>\n",
       "    .dataframe tbody tr th:only-of-type {\n",
       "        vertical-align: middle;\n",
       "    }\n",
       "\n",
       "    .dataframe tbody tr th {\n",
       "        vertical-align: top;\n",
       "    }\n",
       "\n",
       "    .dataframe thead th {\n",
       "        text-align: right;\n",
       "    }\n",
       "</style>\n",
       "<table border=\"1\" class=\"dataframe\">\n",
       "  <thead>\n",
       "    <tr style=\"text-align: right;\">\n",
       "      <th></th>\n",
       "      <th>0</th>\n",
       "      <th>1</th>\n",
       "      <th>2</th>\n",
       "      <th>3</th>\n",
       "      <th>4</th>\n",
       "      <th>5</th>\n",
       "      <th>6</th>\n",
       "      <th>7</th>\n",
       "      <th>8</th>\n",
       "      <th>9</th>\n",
       "      <th>10</th>\n",
       "      <th>11</th>\n",
       "      <th>12</th>\n",
       "      <th>13</th>\n",
       "      <th>14</th>\n",
       "      <th>15</th>\n",
       "      <th>16</th>\n",
       "    </tr>\n",
       "  </thead>\n",
       "  <tbody>\n",
       "    <tr>\n",
       "      <th>0</th>\n",
       "      <td>1718</td>\n",
       "      <td>al</td>\n",
       "      <td>NaN</td>\n",
       "      <td>Tirana</td>\n",
       "      <td>NaN</td>\n",
       "      <td>Bizet</td>\n",
       "      <td>18381025</td>\n",
       "      <td>18750603</td>\n",
       "      <td>fr</td>\n",
       "      <td>m</td>\n",
       "      <td>Carmen</td>\n",
       "      <td>fr</td>\n",
       "      <td>~</td>\n",
       "      <td>20180130</td>\n",
       "      <td>5</td>\n",
       "      <td>NaN</td>\n",
       "      <td>NaN</td>\n",
       "    </tr>\n",
       "    <tr>\n",
       "      <th>1</th>\n",
       "      <td>1718</td>\n",
       "      <td>al</td>\n",
       "      <td>NaN</td>\n",
       "      <td>Tirana</td>\n",
       "      <td>NaN</td>\n",
       "      <td>Bizet</td>\n",
       "      <td>18381025</td>\n",
       "      <td>18750603</td>\n",
       "      <td>fr</td>\n",
       "      <td>m</td>\n",
       "      <td>Les Pecheurs de perles</td>\n",
       "      <td>fr</td>\n",
       "      <td>~</td>\n",
       "      <td>20170922</td>\n",
       "      <td>3</td>\n",
       "      <td>!</td>\n",
       "      <td>NaN</td>\n",
       "    </tr>\n",
       "    <tr>\n",
       "      <th>2</th>\n",
       "      <td>1718</td>\n",
       "      <td>al</td>\n",
       "      <td>NaN</td>\n",
       "      <td>Tirana</td>\n",
       "      <td>NaN</td>\n",
       "      <td>Brahms</td>\n",
       "      <td>18330507</td>\n",
       "      <td>18970403</td>\n",
       "      <td>de</td>\n",
       "      <td>m</td>\n",
       "      <td>Ein deutsches Requiem</td>\n",
       "      <td>de</td>\n",
       "      <td>~O</td>\n",
       "      <td>20170930</td>\n",
       "      <td>1</td>\n",
       "      <td>c</td>\n",
       "      <td>NaN</td>\n",
       "    </tr>\n",
       "    <tr>\n",
       "      <th>3</th>\n",
       "      <td>1718</td>\n",
       "      <td>al</td>\n",
       "      <td>NaN</td>\n",
       "      <td>Tirana</td>\n",
       "      <td>NaN</td>\n",
       "      <td>Strauss,J</td>\n",
       "      <td>1825</td>\n",
       "      <td>1899</td>\n",
       "      <td>at</td>\n",
       "      <td>m</td>\n",
       "      <td>Die Fledermaus</td>\n",
       "      <td>at</td>\n",
       "      <td>~L</td>\n",
       "      <td>20180329</td>\n",
       "      <td>5</td>\n",
       "      <td>NaN</td>\n",
       "      <td>NaN</td>\n",
       "    </tr>\n",
       "    <tr>\n",
       "      <th>4</th>\n",
       "      <td>1718</td>\n",
       "      <td>am</td>\n",
       "      <td>NaN</td>\n",
       "      <td>Yerevan</td>\n",
       "      <td>NaN</td>\n",
       "      <td>Arutiunian</td>\n",
       "      <td>19200928</td>\n",
       "      <td>20120328</td>\n",
       "      <td>am</td>\n",
       "      <td>m</td>\n",
       "      <td>Sayat-Nova</td>\n",
       "      <td>am</td>\n",
       "      <td>~</td>\n",
       "      <td>20180313</td>\n",
       "      <td>1</td>\n",
       "      <td>NaN</td>\n",
       "      <td>NaN</td>\n",
       "    </tr>\n",
       "  </tbody>\n",
       "</table>\n",
       "</div>"
      ],
      "text/plain": [
       "     0   1   2        3   4           5         6         7   8  9   \\\n",
       "0  1718  al NaN   Tirana NaN       Bizet  18381025  18750603  fr  m   \n",
       "1  1718  al NaN   Tirana NaN       Bizet  18381025  18750603  fr  m   \n",
       "2  1718  al NaN   Tirana NaN      Brahms  18330507  18970403  de  m   \n",
       "3  1718  al NaN   Tirana NaN   Strauss,J      1825      1899  at  m   \n",
       "4  1718  am NaN  Yerevan NaN  Arutiunian  19200928  20120328  am  m   \n",
       "\n",
       "                       10  11  12        13  14   15  16  \n",
       "0                  Carmen  fr   ~  20180130   5  NaN NaN  \n",
       "1  Les Pecheurs de perles  fr   ~  20170922   3    ! NaN  \n",
       "2   Ein deutsches Requiem  de  ~O  20170930   1    c NaN  \n",
       "3          Die Fledermaus  at  ~L  20180329   5  NaN NaN  \n",
       "4              Sayat-Nova  am   ~  20180313   1  NaN NaN  "
      ]
     },
     "execution_count": 18,
     "metadata": {},
     "output_type": "execute_result"
    }
   ],
   "source": [
    "data_df = pd.read_csv(\"data/stats1718.csv\", sep=\"|\", header=None)\n",
    "data_df.head()"
   ]
  },
  {
   "cell_type": "markdown",
   "id": "fa55c25d-5e8c-48dc-a7f0-f63bdf6b42b7",
   "metadata": {},
   "source": [
    "Hmm, the columns are now just numbers, which is not very informative. \n",
    "\n",
    "A first step in cleaning this dataset would be to rename the columns to something more meaningful. This can be done when importing the data using the `names=[\"col_1\", \"col_2\", ..., \"col_n\"]` option, or afterwards using the Pandas DataFrame `rename()` function. You would need to investigate any documentation provided with the data, such as information on the metadata to find out what the columns means."
   ]
  },
  {
   "cell_type": "markdown",
   "id": "6ac31e7c-9c49-4f95-a9fb-77c56804a13f",
   "metadata": {},
   "source": [
    "**Example Three**\n",
    "\n",
    "This time the values are tab separated, so we can use the `sep` option again. \n",
    "\n",
    "The file contains information on fruit and vegetables. It also contains a lot of null data and various other issues, which would need to be addressed if you were working with this dataset. BTW, can anyone remember when fruit and vegetables were seasonal and not available year long!"
   ]
  },
  {
   "cell_type": "code",
   "execution_count": 19,
   "id": "0d70b56b-4d64-455b-8845-bcddd0748248",
   "metadata": {},
   "outputs": [
    {
     "data": {
      "text/html": [
       "<div>\n",
       "<style scoped>\n",
       "    .dataframe tbody tr th:only-of-type {\n",
       "        vertical-align: middle;\n",
       "    }\n",
       "\n",
       "    .dataframe tbody tr th {\n",
       "        vertical-align: top;\n",
       "    }\n",
       "\n",
       "    .dataframe thead th {\n",
       "        text-align: right;\n",
       "    }\n",
       "</style>\n",
       "<table border=\"1\" class=\"dataframe\">\n",
       "  <thead>\n",
       "    <tr style=\"text-align: right;\">\n",
       "      <th></th>\n",
       "      <th>2004</th>\n",
       "      <th>Unnamed: 1</th>\n",
       "      <th>Quality</th>\n",
       "      <th>Units</th>\n",
       "      <th>Jan</th>\n",
       "      <th>Feb</th>\n",
       "      <th>Mar</th>\n",
       "      <th>Apr</th>\n",
       "      <th>May</th>\n",
       "      <th>Jun</th>\n",
       "      <th>Jul</th>\n",
       "      <th>Aug</th>\n",
       "      <th>Sep</th>\n",
       "      <th>Oct</th>\n",
       "      <th>Nov</th>\n",
       "      <th>Dec</th>\n",
       "    </tr>\n",
       "  </thead>\n",
       "  <tbody>\n",
       "    <tr>\n",
       "      <th>0</th>\n",
       "      <td>FRUIT</td>\n",
       "      <td>NaN</td>\n",
       "      <td>NaN</td>\n",
       "      <td>NaN</td>\n",
       "      <td>NaN</td>\n",
       "      <td>NaN</td>\n",
       "      <td>NaN</td>\n",
       "      <td>NaN</td>\n",
       "      <td>NaN</td>\n",
       "      <td>NaN</td>\n",
       "      <td>NaN</td>\n",
       "      <td>NaN</td>\n",
       "      <td>NaN</td>\n",
       "      <td>NaN</td>\n",
       "      <td>NaN</td>\n",
       "      <td>NaN</td>\n",
       "    </tr>\n",
       "    <tr>\n",
       "      <th>1</th>\n",
       "      <td>Blackberries</td>\n",
       "      <td>All Varieties</td>\n",
       "      <td>-</td>\n",
       "      <td>£/kg</td>\n",
       "      <td>NaN</td>\n",
       "      <td>NaN</td>\n",
       "      <td>NaN</td>\n",
       "      <td>NaN</td>\n",
       "      <td>NaN</td>\n",
       "      <td>NaN</td>\n",
       "      <td>3.26</td>\n",
       "      <td>3.24</td>\n",
       "      <td>3.61</td>\n",
       "      <td>5.06</td>\n",
       "      <td>NaN</td>\n",
       "      <td>NaN</td>\n",
       "    </tr>\n",
       "    <tr>\n",
       "      <th>2</th>\n",
       "      <td>Blackcurrants</td>\n",
       "      <td>All Varieties</td>\n",
       "      <td>-</td>\n",
       "      <td>£/kg</td>\n",
       "      <td>NaN</td>\n",
       "      <td>NaN</td>\n",
       "      <td>NaN</td>\n",
       "      <td>NaN</td>\n",
       "      <td>NaN</td>\n",
       "      <td>NaN</td>\n",
       "      <td>3.32</td>\n",
       "      <td>3.53</td>\n",
       "      <td>NaN</td>\n",
       "      <td>NaN</td>\n",
       "      <td>NaN</td>\n",
       "      <td>NaN</td>\n",
       "    </tr>\n",
       "    <tr>\n",
       "      <th>3</th>\n",
       "      <td>Cherries</td>\n",
       "      <td>Sweet Black</td>\n",
       "      <td>1st</td>\n",
       "      <td>£/kg</td>\n",
       "      <td>NaN</td>\n",
       "      <td>NaN</td>\n",
       "      <td>NaN</td>\n",
       "      <td>NaN</td>\n",
       "      <td>NaN</td>\n",
       "      <td>1.69</td>\n",
       "      <td>1.72</td>\n",
       "      <td>3.68</td>\n",
       "      <td>NaN</td>\n",
       "      <td>NaN</td>\n",
       "      <td>NaN</td>\n",
       "      <td>NaN</td>\n",
       "    </tr>\n",
       "    <tr>\n",
       "      <th>4</th>\n",
       "      <td>NaN</td>\n",
       "      <td>Sweet Black</td>\n",
       "      <td>2nd</td>\n",
       "      <td>£/kg</td>\n",
       "      <td>NaN</td>\n",
       "      <td>NaN</td>\n",
       "      <td>NaN</td>\n",
       "      <td>NaN</td>\n",
       "      <td>NaN</td>\n",
       "      <td>1.11</td>\n",
       "      <td>1.08</td>\n",
       "      <td>NaN</td>\n",
       "      <td>NaN</td>\n",
       "      <td>NaN</td>\n",
       "      <td>NaN</td>\n",
       "      <td>NaN</td>\n",
       "    </tr>\n",
       "  </tbody>\n",
       "</table>\n",
       "</div>"
      ],
      "text/plain": [
       "            2004     Unnamed: 1 Quality Units  Jan  Feb  Mar  Apr  May   Jun  \\\n",
       "0          FRUIT            NaN     NaN   NaN  NaN  NaN  NaN  NaN  NaN   NaN   \n",
       "1   Blackberries  All Varieties       -  £/kg  NaN  NaN  NaN  NaN  NaN   NaN   \n",
       "2  Blackcurrants  All Varieties       -  £/kg  NaN  NaN  NaN  NaN  NaN   NaN   \n",
       "3       Cherries    Sweet Black     1st  £/kg  NaN  NaN  NaN  NaN  NaN  1.69   \n",
       "4            NaN    Sweet Black     2nd  £/kg  NaN  NaN  NaN  NaN  NaN  1.11   \n",
       "\n",
       "    Jul   Aug   Sep   Oct  Nov  Dec  \n",
       "0   NaN   NaN   NaN   NaN  NaN  NaN  \n",
       "1  3.26  3.24  3.61  5.06  NaN  NaN  \n",
       "2  3.32  3.53   NaN   NaN  NaN  NaN  \n",
       "3  1.72  3.68   NaN   NaN  NaN  NaN  \n",
       "4  1.08   NaN   NaN   NaN  NaN  NaN  "
      ]
     },
     "execution_count": 19,
     "metadata": {},
     "output_type": "execute_result"
    }
   ],
   "source": [
    "data_df = pd.read_csv(\"data/fruitveg.csv\", sep=\"\\t\")\n",
    "data_df.head()"
   ]
  },
  {
   "cell_type": "markdown",
   "id": "ec85a5fc-4f88-498c-adec-d16dc0b4be01",
   "metadata": {},
   "source": [
    "### Noir measurements\n",
    "\n",
    "Question - what type of measurement is:\n",
    "- hair colour -> nominal\n",
    "- weight -> ratio\n",
    "- IQ score -> interval\n",
    "- Income -> ratio\n",
    "- Stage in development of a human -> ordinal"
   ]
  },
  {
   "cell_type": "code",
   "execution_count": null,
   "id": "28488e74-76e1-4ba8-b1b5-009259d41305",
   "metadata": {},
   "outputs": [],
   "source": []
  }
 ],
 "metadata": {
  "kernelspec": {
   "display_name": "Python-3",
   "language": "python",
   "name": "python-3"
  },
  "language_info": {
   "codemirror_mode": {
    "name": "ipython",
    "version": 3
   },
   "file_extension": ".py",
   "mimetype": "text/x-python",
   "name": "python",
   "nbconvert_exporter": "python",
   "pygments_lexer": "ipython3",
   "version": "3.11.10"
  }
 },
 "nbformat": 4,
 "nbformat_minor": 5
}
