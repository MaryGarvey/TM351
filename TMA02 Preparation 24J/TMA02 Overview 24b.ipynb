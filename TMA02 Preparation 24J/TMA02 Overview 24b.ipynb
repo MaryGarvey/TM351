{
 "cells": [
  {
   "cell_type": "markdown",
   "id": "5237cb69-8066-450b-8778-a4770e0cf2fb",
   "metadata": {
    "tags": [
     "style-activity"
    ]
   },
   "source": [
    "# TM351 Data Management & Analysis\n"
   ]
  },
  {
   "cell_type": "markdown",
   "id": "1363f770-06d4-4dea-81aa-818b744de362",
   "metadata": {
    "tags": [
     "style-solution"
    ]
   },
   "source": [
    "## TMA02 Preparation Tutorial - TMA02 Review"
   ]
  },
  {
   "cell_type": "code",
   "execution_count": 1,
   "id": "fde5c2df-2d1b-492c-a356-b3e388d8a9de",
   "metadata": {},
   "outputs": [],
   "source": [
    "# This cell imports the standard pandas library needed for the tutorial\n",
    "\n",
    "import pandas as pd\n",
    "import folium\n",
    "\n",
    "# for JSON data\n",
    "import requests\n",
    "import json\n",
    "\n",
    "# for MongodB\n",
    "import pymongo"
   ]
  },
  {
   "cell_type": "markdown",
   "id": "bc7e3bc0-131f-403b-afc9-3d774448391b",
   "metadata": {
    "tags": [
     "style-activity"
    ]
   },
   "source": [
    "## TMA02"
   ]
  },
  {
   "cell_type": "markdown",
   "id": "d7daab98-6fe0-4869-b2fd-bf0b7aae6aad",
   "metadata": {
    "tags": [
     "style-solution"
    ]
   },
   "source": [
    "Review of what you need to do for TMA02"
   ]
  },
  {
   "cell_type": "markdown",
   "id": "72b17ba9-a9cb-45a2-a31c-d4b795e447d7",
   "metadata": {},
   "source": [
    "**Logistics reminder**\n",
    "\n",
    "Preparation\n",
    "Before you start the TMA:  \n",
    "rename the folder 2021J_TMA02/ by prefixing it with your OU student PI (personal identifier) \n",
    "That is: yourPI_2021J_TMA02\n",
    "\n",
    "![](images/TMA02-24b.JPG)\n",
    "\n",
    "Make a copy of them as a backup in case you need to return to a fresh copy\n",
    "\n",
    "**Deadline**\n",
    "If you are unable to submit the TMA by 10th March you must let your tutor know beforehand\n",
    "\n",
    "Some of the questions should be answered in a notebook, some in solution document called: `yourPI_TMA02_project.docx`. Each question will guide you as to where you should include your answer.\n"
   ]
  },
  {
   "cell_type": "markdown",
   "id": "2b6e0552-6a63-49a8-813d-d5ee9422bd1f",
   "metadata": {
    "tags": [
     "style-learner"
    ]
   },
   "source": [
    "**Using Generative AI**\n",
    "\n",
    "*The OU guidance document Generative AI for students defines the acceptable use policy for using Generative AI to support your studies. Using the framework defined in that document, TMA 02 is classed as a Category 2 activity, which means you may use Generative AI to assist you in completing an assessment piece as long as you acknowledge and report on its use.*"
   ]
  },
  {
   "cell_type": "markdown",
   "id": "60d4ab7b-e7d3-424e-b78f-1fadb65b48df",
   "metadata": {
    "tags": [
     "style-solution"
    ]
   },
   "source": [
    "### Question One - 45 Marks\n",
    "\n",
    "Foods Standards Agency (FSA)"
   ]
  },
  {
   "cell_type": "markdown",
   "id": "60a70cde-4d4b-493e-bb3c-6a44d3b016fd",
   "metadata": {},
   "source": [
    "This should be answered in the notebook `yourPI_q1_2024.ipynb`\n",
    "\n",
    "There are several parts to this question (a-f):"
   ]
  },
  {
   "cell_type": "markdown",
   "id": "37faace3-f63d-4246-9a6c-e0edc459a3d0",
   "metadata": {
    "tags": [
     "style-tutor"
    ]
   },
   "source": [
    "**a) Getting a feel for the Data (8 marks)**"
   ]
  },
  {
   "cell_type": "markdown",
   "id": "f03d1c77-a89b-45f1-9ce7-7ef2d363a440",
   "metadata": {},
   "source": [
    "You will need to do some investigation for this part and are directed to several FSA websites:\n",
    "\n",
    "* data: [ https://www.food.gov.uk/our-data ]\n",
    "* data catalogue: [https://data.food.gov.uk/catalog]\n",
    "* other information on accessing the FSA data [ https://ratings.food.gov.uk/open-data ].\n",
    "\n",
    "This means there is a lot of information in different places, some information may be duplicated. You need to assimilate this information in order to answer this part.\n",
    "\n",
    "Do take note that you are asked to limit your answers to:"
   ]
  },
  {
   "cell_type": "markdown",
   "id": "ef33fae6-4ca6-4ecf-8764-9a64b233ff14",
   "metadata": {
    "tags": [
     "style-learner"
    ]
   },
   "source": [
    "*data relating to retrieved from the food hygiene ratings scheme (FHRS data). Note the distinction between `rating value` and `scores` as described in the FHRS Brand Standard, available at https://www.food.gov.uk/local-authorities/guidance-on-implementation-and-operation-of-the-food-hygiene-rating-scheme-the-brand-standard-and-statutory-guidance*"
   ]
  },
  {
   "cell_type": "markdown",
   "id": "5b2b4558-23dd-456a-8d4f-ec79534ee5e5",
   "metadata": {},
   "source": [
    "There are several bits to this part. Do make sure you answer them all:"
   ]
  },
  {
   "cell_type": "markdown",
   "id": "e09de74f-164c-4cba-8e7e-5a2c2df2a809",
   "metadata": {
    "tags": [
     "style-learner"
    ]
   },
   "source": [
    "- *under what terms is the data licensed?*\n",
    "- *by what methods can copies of the data be obtained from the FSA website, and in what file or data format(s) is the data made available?*\n",
    "- *what data is published for an establishment inspected under the the Food Hygiene Ratings Scheme (FHRS)?*\n",
    "- *identify one good aspect and one poor or weak aspect about how the FSA make their data available.*\n",
    "\n",
    "__*8 marks*__"
   ]
  },
  {
   "cell_type": "markdown",
   "id": "7918e1c1-8217-4f7e-8374-ff1944bbce30",
   "metadata": {
    "tags": [
     "style-tutor"
    ]
   },
   "source": [
    "**b) Inspecting the data (5 marks)**"
   ]
  },
  {
   "cell_type": "markdown",
   "id": "ab2b43d7-307a-4369-bc57-a403f4ff856f",
   "metadata": {
    "tags": [
     "style-learner"
    ]
   },
   "source": [
    "*Food standards rating data for the Milton Keynes local authority can be found in a JSON form at https://ratings.food.gov.uk/api/open-data-files/FHRS870en-GB.json, and in XML form at https://ratings.food.gov.uk/api/open-data-files/FHRS870en-GB.xml.*"
   ]
  },
  {
   "cell_type": "markdown",
   "id": "a830f067-e9d6-4904-9a20-309362fa027b",
   "metadata": {},
   "source": [
    "This gives you a clue to what formats the data is made available!\n",
    "\n",
    "You have two choices: `xml` or `JSON` \n",
    "\n",
    "CSV is a common format for data exchange, with most systems that work with data (spreadsheets, databases, etc) providing functions to generate or load this type of data.\n",
    "\n",
    "CSV has limitations in that it is just comma separated data, the most you can expect in terms of meta-data is that the first line contains meaningful headings. Research has been done over the year to improve this, with both XML and JSON becoming popular as non-proprietary formats that can be used for data exchange. \n",
    "\n",
    "XML allows you to create your own tags to describe the data, similar to those seen in HTML. It is stricter than HTML, in that there should be matching opening and closing tags. To ensure the XML is well formed a Document Type Definition (DTD) can be made, which can be used to check the structure is correct.\n",
    "\n",
    "**XML**\n",
    "\n",
    "The XML data available from: https://www.w3schools.com/js/js_json_xml.asp, which I have downloaded on the 20th January 2025"
   ]
  },
  {
   "cell_type": "markdown",
   "id": "9f872a9f-dc77-4763-a812-4d934a99f4e4",
   "metadata": {},
   "source": [
    "The data is more readable if you view the page in a browser, a snippet of it can be seen here:\n",
    "\n",
    "![\"XML snippet\"](images/xml.jpg)\n",
    "\n",
    "\n",
    "You can see the data is enclosed by XML tags, which is the meta-data, describing what the data represents. Depending on how the data has been generated, all the data may appear on just one row so makes it difficult to view in the notebook.\n",
    "\n",
    "The first line of the raw data:"
   ]
  },
  {
   "cell_type": "code",
   "execution_count": 2,
   "id": "98ef57c1-876c-495f-aeb4-cfeedd9da901",
   "metadata": {},
   "outputs": [
    {
     "name": "stdout",
     "output_type": "stream",
     "text": [
      "<?xml version=\"1.0\" encoding=\"UTF-8\"?>\n"
     ]
    }
   ],
   "source": [
    "!head -1 data/2024J_TMA02_data/FSA/FHRS870en-GB.xml"
   ]
  },
  {
   "cell_type": "markdown",
   "id": "0babe606-887c-4674-8441-e79f44b2d326",
   "metadata": {},
   "source": [
    "You can increase the number of rows returned, but beware all the data appears in the second line!\n",
    "\n",
    "`ScoreDescriptors.xml` provided with the FSA data is more readable:"
   ]
  },
  {
   "cell_type": "code",
   "execution_count": 3,
   "id": "62440650-ec90-46ea-8709-9b10fd5b8072",
   "metadata": {},
   "outputs": [
    {
     "name": "stdout",
     "output_type": "stream",
     "text": [
      "<?xml version=\"1.0\"?>\n",
      "<ScoreDescriptorsCollection>\n",
      "  <links>\n",
      "    <link>\n",
      "      <href>http://api.ratings.food.gov.uk/scoredescriptors</href>\n",
      "      <rel>self</rel>\n",
      "    </link>\n",
      "  </links>\n",
      "  <meta>\n",
      "    <dataSource>API</dataSource>\n",
      "    <extractDate>2014-10-27T16:02:16.3646745+00:00</extractDate>\n",
      "    <itemCount>17</itemCount>\n",
      "    <pageNumber>1</pageNumber>\n",
      "    <pageSize>17</pageSize>\n",
      "    <returncode>OK</returncode>\n",
      "    <totalCount>17</totalCount>\n",
      "    <totalPages>1</totalPages>\n",
      "  </meta>\n"
     ]
    }
   ],
   "source": [
    "!head -18 ~/notebooks/2024J_TMA02/2024J_TMA02_data/FSA/ScoreDescriptors.xml"
   ]
  },
  {
   "cell_type": "markdown",
   "id": "15cfb365-4c21-472d-8ada-71fb60884fe7",
   "metadata": {},
   "source": [
    "As can be seen above, the tags can be quite lengthy and XML is falling out of popularity, with JSON seen as a more light-weight solution. \n",
    "\n",
    "Further information can be found here on XML and DTD:\n",
    "- https://www.w3schools.com/xml/default.asp\n",
    "- https://www.w3schools.com/xml/xml_dtd.asp\n",
    "\n",
    "Comparison of XML and JSON:\n",
    "- https://www.w3schools.com/js/js_json_xml.asp"
   ]
  },
  {
   "cell_type": "markdown",
   "id": "ecc277fb-68a9-4d46-9b89-a395e9fb760c",
   "metadata": {},
   "source": [
    "**JSON Data**\n",
    "\n",
    "JSON will be looked at in more detail, since it is becoming more popular.\n",
    "\n",
    "When examining the both XML and JSON data, the OS head function is less useful since due to the hierarchical structure and how it has been generated, all the data may be stored in the first line. Even limiting the rows returned will show too much data, making it hard to evaluate if there are any issues."
   ]
  },
  {
   "cell_type": "code",
   "execution_count": 4,
   "id": "96ebe71c-e34f-4ecb-af1d-12d12c2b9a92",
   "metadata": {},
   "outputs": [],
   "source": [
    "# uncomment if you want to see the raw JSON data\n",
    "#!head -1 data/2024J_TMA02_data/FSA/fsa_establishments_aldi_03-07-2024.json"
   ]
  },
  {
   "cell_type": "markdown",
   "id": "2681f65e-9a8d-4c0c-b7c5-0acaf0a92335",
   "metadata": {},
   "source": [
    "In this case it is more appropriate to import the data and examine it in a dataframe.\n",
    "\n",
    "The module notebook: `02.2.2 Data file formats - JSON.ipynb` includes examples of how to read the data.\n",
    "\n",
    "Some of the examples use data directly from the BBC's iPlayer library. For example, have a look at BBC's Animal Park  "
   ]
  },
  {
   "cell_type": "code",
   "execution_count": 5,
   "id": "ab6b1c04-468d-4854-a91d-504faefaadc2",
   "metadata": {},
   "outputs": [
    {
     "data": {
      "text/plain": [
       "{'programme': {'type': 'episode',\n",
       "  'pid': 'm0021r4h',\n",
       "  'expected_child_count': None,\n",
       "  'position': 9,\n",
       "  'image': {'pid': 'p0jj0dwm'},\n",
       "  'media_type': 'audio_video',\n",
       "  'title': 'Episode 9',\n",
       "  'short_synopsis': 'The keepers rally around Ghost, an ageing lion who is suddenly losing weight.',\n",
       "  'medium_synopsis': 'The keepers rally around Ghost, an ageing lion who is suddenly losing weight.',\n",
       "  'long_synopsis': 'Along with feeding all the animals at Longleat Safari Park, the keepers need to keep an eye on their mood, behaviour, love life and, of course, their health. And that’s before doing any training or coming up with enrichment ideas. It’s a never-ending job, and they must be ready for anything. \\n\\nKate Humble’s first job today is creating a new toy for the magnificent colobus monkeys. There are seven boys that live in the troop on ‘gorilla island’, and keeper Carys has attached three bottles to a broom handle and stacked them full of monkey treats. Each bottle has different-sized holes in its sides to increase the difficulty to reach the food. But will these monkeys be able to suss this puzzle out?\\n\\nA devoted labrador owner, Ben Fogle has recently extended his personal menagerie to include Indian runner ducks. Luckily for him, they have some at the park, so he is joining keeper Abby for a crash course in caring for them. What they both quickly discover is that these ducks are not in the mood to follow orders today, and despite Ben learning their distinctive call, his ability to control them is certainly lacking. Ben discovers that with practice they will learn recall, but in the meantime at least they’ll keep the slugs off his veg patch.  \\n\\nAlso today, keepers rally around Ghost, an ageing lion who is suddenly losing weight, and Megan tests the reactions of a kookaburra.',\n",
       "  'first_broadcast_date': '2024-08-22T09:30:00+01:00',\n",
       "  'display_title': {'title': 'Animal Park',\n",
       "   'subtitle': 'Summer 2024, Episode 9'},\n",
       "  'ownership': {'service': {'type': 'tv',\n",
       "    'id': 'bbc_one',\n",
       "    'key': 'bbcone',\n",
       "    'title': 'BBC One'}},\n",
       "  'parent': {'programme': {'type': 'series',\n",
       "    'pid': 'm0021r3q',\n",
       "    'title': 'Summer 2024',\n",
       "    'short_synopsis': \"Kate Humble and Ben Fogle catch up with old friends at Britain's first safari park.\",\n",
       "    'media_type': None,\n",
       "    'position': 36,\n",
       "    'image': {'pid': 'p0jh1cs3'},\n",
       "    'expected_child_count': 10,\n",
       "    'first_broadcast_date': '2024-08-12T09:30:00+01:00',\n",
       "    'aggregated_episode_count': 10,\n",
       "    'ownership': {'service': {'type': 'tv',\n",
       "      'id': 'bbc_one',\n",
       "      'key': 'bbcone',\n",
       "      'title': 'BBC One'}},\n",
       "    'parent': {'programme': {'type': 'brand',\n",
       "      'pid': 'b006w6ns',\n",
       "      'title': 'Animal Park',\n",
       "      'short_synopsis': 'Kate Humble and Ben Fogle go behind the scenes at Longleat Safari Park.',\n",
       "      'media_type': None,\n",
       "      'position': None,\n",
       "      'image': {'pid': 'p0cqt27f'},\n",
       "      'expected_child_count': None,\n",
       "      'first_broadcast_date': '2000-07-17T10:00:00+01:00',\n",
       "      'aggregated_episode_count': 427,\n",
       "      'ownership': {'service': {'type': 'tv',\n",
       "        'id': 'bbc_one',\n",
       "        'key': 'bbcone',\n",
       "        'title': 'BBC One'}}}}}},\n",
       "  'peers': {'previous': {'type': 'episode',\n",
       "    'pid': 'm0021r4f',\n",
       "    'title': 'Episode 8',\n",
       "    'first_broadcast_date': '2024-08-21T09:30:00+01:00',\n",
       "    'position': 8,\n",
       "    'media_type': 'audio_video'},\n",
       "   'next': {'type': 'episode',\n",
       "    'pid': 'm0021r4j',\n",
       "    'title': 'Episode 10',\n",
       "    'first_broadcast_date': '2024-08-23T09:30:00+01:00',\n",
       "    'position': 10,\n",
       "    'media_type': 'audio_video'}},\n",
       "  'versions': [{'canonical': 1,\n",
       "    'pid': 'm0021r4g',\n",
       "    'duration': 2580,\n",
       "    'types': ['Original version']},\n",
       "   {'canonical': 0,\n",
       "    'pid': 'm0027697',\n",
       "    'duration': 1680,\n",
       "    'types': ['Editorial']},\n",
       "   {'canonical': 0,\n",
       "    'pid': 'p0jk36j2',\n",
       "    'duration': 2580,\n",
       "    'types': ['Dubbed Audio Described']},\n",
       "   {'canonical': 0,\n",
       "    'pid': 'p0kj84kb',\n",
       "    'duration': 1740,\n",
       "    'types': ['Dubbed Audio Described', 'Editorial']},\n",
       "   {'canonical': 0,\n",
       "    'pid': 'p0kj84kg',\n",
       "    'duration': 1740,\n",
       "    'types': ['Dubbed Audio Described', 'Editorial']}],\n",
       "  'links': [],\n",
       "  'supporting_content_items': [],\n",
       "  'categories': [{'type': 'genre',\n",
       "    'id': 'C00047',\n",
       "    'key': 'petsandanimals',\n",
       "    'title': 'Pets & Animals',\n",
       "    'narrower': [],\n",
       "    'broader': {'category': {'type': 'genre',\n",
       "      'id': 'C00045',\n",
       "      'key': 'factual',\n",
       "      'title': 'Factual',\n",
       "      'broader': {},\n",
       "      'has_topic_page': False,\n",
       "      'sameAs': None}},\n",
       "    'has_topic_page': False,\n",
       "    'sameAs': None}]}}"
      ]
     },
     "execution_count": 5,
     "metadata": {},
     "output_type": "execute_result"
    }
   ],
   "source": [
    "bbc_url = \"http://www.bbc.co.uk/programmes/m0021r4h.json\"\n",
    "bbc_resp = requests.get(bbc_url)\n",
    "\n",
    "programme = bbc_resp.json()\n",
    "programme"
   ]
  },
  {
   "cell_type": "markdown",
   "id": "d0acec5c-59d9-4eba-9e94-347ecc191ead",
   "metadata": {},
   "source": [
    "Check what sort of data type is returned, since this can affect what you do with the results."
   ]
  },
  {
   "cell_type": "code",
   "execution_count": 6,
   "id": "5c072210-d622-4b82-a84b-67751891c30e",
   "metadata": {},
   "outputs": [
    {
     "data": {
      "text/plain": [
       "dict"
      ]
     },
     "execution_count": 6,
     "metadata": {},
     "output_type": "execute_result"
    }
   ],
   "source": [
    "type(programme)"
   ]
  },
  {
   "cell_type": "code",
   "execution_count": 7,
   "id": "74b8cbc0-16ee-47a0-8898-ee8241301556",
   "metadata": {},
   "outputs": [
    {
     "data": {
      "text/html": [
       "<div>\n",
       "<style scoped>\n",
       "    .dataframe tbody tr th:only-of-type {\n",
       "        vertical-align: middle;\n",
       "    }\n",
       "\n",
       "    .dataframe tbody tr th {\n",
       "        vertical-align: top;\n",
       "    }\n",
       "\n",
       "    .dataframe thead th {\n",
       "        text-align: right;\n",
       "    }\n",
       "</style>\n",
       "<table border=\"1\" class=\"dataframe\">\n",
       "  <thead>\n",
       "    <tr style=\"text-align: right;\">\n",
       "      <th></th>\n",
       "      <th>programme</th>\n",
       "    </tr>\n",
       "  </thead>\n",
       "  <tbody>\n",
       "    <tr>\n",
       "      <th>type</th>\n",
       "      <td>episode</td>\n",
       "    </tr>\n",
       "    <tr>\n",
       "      <th>pid</th>\n",
       "      <td>m0021r4h</td>\n",
       "    </tr>\n",
       "    <tr>\n",
       "      <th>expected_child_count</th>\n",
       "      <td>None</td>\n",
       "    </tr>\n",
       "    <tr>\n",
       "      <th>position</th>\n",
       "      <td>9</td>\n",
       "    </tr>\n",
       "    <tr>\n",
       "      <th>image</th>\n",
       "      <td>{'pid': 'p0jj0dwm'}</td>\n",
       "    </tr>\n",
       "    <tr>\n",
       "      <th>media_type</th>\n",
       "      <td>audio_video</td>\n",
       "    </tr>\n",
       "    <tr>\n",
       "      <th>title</th>\n",
       "      <td>Episode 9</td>\n",
       "    </tr>\n",
       "    <tr>\n",
       "      <th>short_synopsis</th>\n",
       "      <td>The keepers rally around Ghost, an ageing lion...</td>\n",
       "    </tr>\n",
       "    <tr>\n",
       "      <th>medium_synopsis</th>\n",
       "      <td>The keepers rally around Ghost, an ageing lion...</td>\n",
       "    </tr>\n",
       "    <tr>\n",
       "      <th>long_synopsis</th>\n",
       "      <td>Along with feeding all the animals at Longleat...</td>\n",
       "    </tr>\n",
       "  </tbody>\n",
       "</table>\n",
       "</div>"
      ],
      "text/plain": [
       "                                                              programme\n",
       "type                                                            episode\n",
       "pid                                                            m0021r4h\n",
       "expected_child_count                                               None\n",
       "position                                                              9\n",
       "image                                               {'pid': 'p0jj0dwm'}\n",
       "media_type                                                  audio_video\n",
       "title                                                         Episode 9\n",
       "short_synopsis        The keepers rally around Ghost, an ageing lion...\n",
       "medium_synopsis       The keepers rally around Ghost, an ageing lion...\n",
       "long_synopsis         Along with feeding all the animals at Longleat..."
      ]
     },
     "execution_count": 7,
     "metadata": {},
     "output_type": "execute_result"
    }
   ],
   "source": [
    "# Convert to a dataframe\n",
    "bbc_df = pd.DataFrame(programme)\n",
    "bbc_df.head(10)"
   ]
  },
  {
   "cell_type": "code",
   "execution_count": 8,
   "id": "0c9ecbd3-4847-40ed-b30e-21d500de4479",
   "metadata": {},
   "outputs": [
    {
     "data": {
      "text/html": [
       "<div>\n",
       "<style scoped>\n",
       "    .dataframe tbody tr th:only-of-type {\n",
       "        vertical-align: middle;\n",
       "    }\n",
       "\n",
       "    .dataframe tbody tr th {\n",
       "        vertical-align: top;\n",
       "    }\n",
       "\n",
       "    .dataframe thead th {\n",
       "        text-align: right;\n",
       "    }\n",
       "</style>\n",
       "<table border=\"1\" class=\"dataframe\">\n",
       "  <thead>\n",
       "    <tr style=\"text-align: right;\">\n",
       "      <th></th>\n",
       "      <th>type</th>\n",
       "      <th>pid</th>\n",
       "      <th>expected_child_count</th>\n",
       "      <th>position</th>\n",
       "      <th>media_type</th>\n",
       "      <th>title</th>\n",
       "      <th>short_synopsis</th>\n",
       "      <th>medium_synopsis</th>\n",
       "      <th>long_synopsis</th>\n",
       "      <th>first_broadcast_date</th>\n",
       "      <th>...</th>\n",
       "      <th>peers.previous.title</th>\n",
       "      <th>peers.previous.first_broadcast_date</th>\n",
       "      <th>peers.previous.position</th>\n",
       "      <th>peers.previous.media_type</th>\n",
       "      <th>peers.next.type</th>\n",
       "      <th>peers.next.pid</th>\n",
       "      <th>peers.next.title</th>\n",
       "      <th>peers.next.first_broadcast_date</th>\n",
       "      <th>peers.next.position</th>\n",
       "      <th>peers.next.media_type</th>\n",
       "    </tr>\n",
       "  </thead>\n",
       "  <tbody>\n",
       "    <tr>\n",
       "      <th>0</th>\n",
       "      <td>episode</td>\n",
       "      <td>m0021r4h</td>\n",
       "      <td>None</td>\n",
       "      <td>9</td>\n",
       "      <td>audio_video</td>\n",
       "      <td>Episode 9</td>\n",
       "      <td>The keepers rally around Ghost, an ageing lion...</td>\n",
       "      <td>The keepers rally around Ghost, an ageing lion...</td>\n",
       "      <td>Along with feeding all the animals at Longleat...</td>\n",
       "      <td>2024-08-22T09:30:00+01:00</td>\n",
       "      <td>...</td>\n",
       "      <td>Episode 8</td>\n",
       "      <td>2024-08-21T09:30:00+01:00</td>\n",
       "      <td>8</td>\n",
       "      <td>audio_video</td>\n",
       "      <td>episode</td>\n",
       "      <td>m0021r4j</td>\n",
       "      <td>Episode 10</td>\n",
       "      <td>2024-08-23T09:30:00+01:00</td>\n",
       "      <td>10</td>\n",
       "      <td>audio_video</td>\n",
       "    </tr>\n",
       "  </tbody>\n",
       "</table>\n",
       "<p>1 rows × 61 columns</p>\n",
       "</div>"
      ],
      "text/plain": [
       "      type       pid expected_child_count  position   media_type      title  \\\n",
       "0  episode  m0021r4h                 None         9  audio_video  Episode 9   \n",
       "\n",
       "                                      short_synopsis  \\\n",
       "0  The keepers rally around Ghost, an ageing lion...   \n",
       "\n",
       "                                     medium_synopsis  \\\n",
       "0  The keepers rally around Ghost, an ageing lion...   \n",
       "\n",
       "                                       long_synopsis  \\\n",
       "0  Along with feeding all the animals at Longleat...   \n",
       "\n",
       "        first_broadcast_date  ... peers.previous.title  \\\n",
       "0  2024-08-22T09:30:00+01:00  ...            Episode 8   \n",
       "\n",
       "  peers.previous.first_broadcast_date peers.previous.position  \\\n",
       "0           2024-08-21T09:30:00+01:00                       8   \n",
       "\n",
       "  peers.previous.media_type peers.next.type peers.next.pid peers.next.title  \\\n",
       "0               audio_video         episode       m0021r4j       Episode 10   \n",
       "\n",
       "  peers.next.first_broadcast_date peers.next.position peers.next.media_type  \n",
       "0       2024-08-23T09:30:00+01:00                  10           audio_video  \n",
       "\n",
       "[1 rows x 61 columns]"
      ]
     },
     "execution_count": 8,
     "metadata": {},
     "output_type": "execute_result"
    }
   ],
   "source": [
    "# might be more readable by flatten the data\n",
    "df_programme = pd.json_normalize(programme[\"programme\"])\n",
    "df_programme"
   ]
  },
  {
   "cell_type": "markdown",
   "id": "4cc2e707-85eb-4f50-9737-134337135b77",
   "metadata": {},
   "source": [
    "Do remember that the JSON data is schemaless, one approach is to look at the keys to find out what the structure is."
   ]
  },
  {
   "cell_type": "code",
   "execution_count": 9,
   "id": "8d02148c-80c1-4934-9d52-797f20fd731c",
   "metadata": {},
   "outputs": [
    {
     "data": {
      "text/plain": [
       "(dict_keys(['type', 'pid', 'expected_child_count', 'position', 'image', 'media_type', 'title', 'short_synopsis', 'medium_synopsis', 'long_synopsis', 'first_broadcast_date', 'display_title', 'ownership', 'parent', 'peers', 'versions', 'links', 'supporting_content_items', 'categories']),\n",
       " Index(['type', 'pid', 'expected_child_count', 'position', 'media_type',\n",
       "        'title', 'short_synopsis', 'medium_synopsis', 'long_synopsis',\n",
       "        'first_broadcast_date', 'versions', 'links', 'supporting_content_items',\n",
       "        'categories', 'image.pid', 'display_title.title',\n",
       "        'display_title.subtitle', 'ownership.service.type',\n",
       "        'ownership.service.id', 'ownership.service.key',\n",
       "        'ownership.service.title', 'parent.programme.type',\n",
       "        'parent.programme.pid', 'parent.programme.title',\n",
       "        'parent.programme.short_synopsis', 'parent.programme.media_type',\n",
       "        'parent.programme.position', 'parent.programme.image.pid',\n",
       "        'parent.programme.expected_child_count',\n",
       "        'parent.programme.first_broadcast_date',\n",
       "        'parent.programme.aggregated_episode_count',\n",
       "        'parent.programme.ownership.service.type',\n",
       "        'parent.programme.ownership.service.id',\n",
       "        'parent.programme.ownership.service.key',\n",
       "        'parent.programme.ownership.service.title',\n",
       "        'parent.programme.parent.programme.type',\n",
       "        'parent.programme.parent.programme.pid',\n",
       "        'parent.programme.parent.programme.title',\n",
       "        'parent.programme.parent.programme.short_synopsis',\n",
       "        'parent.programme.parent.programme.media_type',\n",
       "        'parent.programme.parent.programme.position',\n",
       "        'parent.programme.parent.programme.image.pid',\n",
       "        'parent.programme.parent.programme.expected_child_count',\n",
       "        'parent.programme.parent.programme.first_broadcast_date',\n",
       "        'parent.programme.parent.programme.aggregated_episode_count',\n",
       "        'parent.programme.parent.programme.ownership.service.type',\n",
       "        'parent.programme.parent.programme.ownership.service.id',\n",
       "        'parent.programme.parent.programme.ownership.service.key',\n",
       "        'parent.programme.parent.programme.ownership.service.title',\n",
       "        'peers.previous.type', 'peers.previous.pid', 'peers.previous.title',\n",
       "        'peers.previous.first_broadcast_date', 'peers.previous.position',\n",
       "        'peers.previous.media_type', 'peers.next.type', 'peers.next.pid',\n",
       "        'peers.next.title', 'peers.next.first_broadcast_date',\n",
       "        'peers.next.position', 'peers.next.media_type'],\n",
       "       dtype='object'))"
      ]
     },
     "execution_count": 9,
     "metadata": {},
     "output_type": "execute_result"
    }
   ],
   "source": [
    "# find out what keys the data has\n",
    "programme[\"programme\"].keys(), df_programme.columns"
   ]
  },
  {
   "cell_type": "markdown",
   "id": "8a5bf069-9ffc-4c90-ada6-b63d620a5d60",
   "metadata": {},
   "source": [
    "As you can see, the data is not as structured as you will have seen with the CSV and Excel data seen in TMA01.\n",
    "\n",
    "An alternative is to store the data in some sort of permanent storage, the next two parts look at relational and document databases."
   ]
  },
  {
   "cell_type": "markdown",
   "id": "f93baffe-3028-4568-b2d8-6ae60f496d93",
   "metadata": {
    "tags": [
     "style-tutor"
    ]
   },
   "source": [
    "**c) Representing the Data in a Relational Database (10 marks)**"
   ]
  },
  {
   "cell_type": "markdown",
   "id": "0c93cade-0e2f-465d-8397-e552f1ca59e9",
   "metadata": {
    "tags": [
     "style-learner"
    ]
   },
   "source": [
    "*Describe how you would represent the establishment data using a relational database. For each table in your database design, you should identify:*\n",
    "\n",
    "*1. what entity is represented by the table,*\n",
    "\n",
    "*2. what columns would be used in the table, and, if it is not clear, what data those columns would contain,*\n",
    "\n",
    "*3. the table's primary and, if required, foreign keys.*\n",
    "\n",
    "*4. any constraints that should be applied (including any constraints on keys).*\n",
    "\n",
    "*Note: this question is primarily about the __design__ of the relational database, rather than its implementation. __You do not need to build the relational database when answering this question.__*"
   ]
  },
  {
   "cell_type": "markdown",
   "id": "28af7049-1285-4880-b6e9-a631af3df3d8",
   "metadata": {},
   "source": [
    "Do note the last part, you do not need to implement the schema."
   ]
  },
  {
   "cell_type": "markdown",
   "id": "28fd4e68-f3b9-4c05-b83a-d52e06d017f9",
   "metadata": {},
   "source": [
    "`Part 8 Introduction to relational databases`, `Part 9 Relaional data modelling` and `Part 10 Normalisation` will help with this part.\n",
    "\n",
    "The goal for relational databases is not to repeat information, such as store your name and address for every module you take at the OU. This means the data is normally split over several tables, but these tables should be meaningful and contain the same sort of data.\n",
    "\n",
    "This can be seen in the Hospital example in Part 9:\n",
    "\n",
    "![](images/tm351_pt09_f07.eps.jpg)\n",
    "\n",
    "\n",
    "There is nothing to spot you putting all the information in one big table, but image the amount of data that would be duplicated.\n"
   ]
  },
  {
   "cell_type": "markdown",
   "id": "b7cdee03-4c54-4bc4-bcac-80f4e5727e04",
   "metadata": {},
   "source": [
    "For the TMA you need to examine the FHRS data and think about how the data could be stored in more than one table. Look for fields that contain data that could be repeated in different records, such as the details of an organisation.\n",
    "\n",
    "JSON data is hierarchical, so another thing to look for is any sub-documents, which could indicate a potential table. \n",
    "\n",
    "Remember to include the primary and foreign keys too. \n",
    "\n",
    "- Each table has one Primary key, which must be unique and not null.\n",
    "- Tables are linked implicitly using foreign keys. This will be matched to a primary key in the table it is linked to. For instance, in the hospital example above, the Prescription table contains three separate foreign keys to link it to the Patient, Doctor and Drug tables.\n",
    "- Foreign key field(s) may include duplicate values and can be null if the relational is optional "
   ]
  },
  {
   "cell_type": "markdown",
   "id": "13b61406-f0e4-4371-a2de-1c6c95c0c453",
   "metadata": {},
   "source": [
    "Let's look at our BBC data and what tables could be generated from it."
   ]
  },
  {
   "cell_type": "code",
   "execution_count": 10,
   "id": "5ac81f95-feab-4928-9150-019144473020",
   "metadata": {},
   "outputs": [
    {
     "data": {
      "text/plain": [
       "{'programme': {'type': 'episode',\n",
       "  'pid': 'm00276p8',\n",
       "  'expected_child_count': None,\n",
       "  'position': None,\n",
       "  'image': {'pid': 'p0kjrzf5'},\n",
       "  'media_type': 'audio_video',\n",
       "  'title': \"President Trump's Inauguration\",\n",
       "  'short_synopsis': 'Live coverage as Donald Trump is sworn in as the 47th president of the United States.',\n",
       "  'medium_synopsis': 'Live from Washington DC as Donald Trump is sworn in as the 47th president of the United States. Special coverage of the inauguration with Clive Myrie and Sophie Raworth.',\n",
       "  'long_synopsis': \"Live from Washington DC as Donald Trump is sworn in as the 47th president of the United States. Special coverage of the inauguration with Clive Myrie and Sophie Raworth, and analysis from the BBC's team of experts.\",\n",
       "  'first_broadcast_date': '2025-01-20T15:30:00Z',\n",
       "  'display_title': {'title': 'BBC News Special',\n",
       "   'subtitle': \"President Trump's Inauguration\"},\n",
       "  'ownership': {'service': {'type': None,\n",
       "    'id': 'bbc_news',\n",
       "    'key': 'news',\n",
       "    'title': 'BBC News'}},\n",
       "  'parent': {'programme': {'type': 'brand',\n",
       "    'pid': 'b007zqd0',\n",
       "    'title': 'BBC News Special',\n",
       "    'short_synopsis': 'Live coverage of breaking stories and special reports from BBC News.',\n",
       "    'media_type': None,\n",
       "    'position': None,\n",
       "    'image': {'pid': 'p07hp9l7'},\n",
       "    'expected_child_count': None,\n",
       "    'first_broadcast_date': '2006-07-07T11:55:00+01:00',\n",
       "    'aggregated_episode_count': 768,\n",
       "    'ownership': {'service': {'type': None,\n",
       "      'id': 'bbc_news',\n",
       "      'key': 'news',\n",
       "      'title': 'BBC News'}}}},\n",
       "  'peers': {'previous': {'type': 'episode',\n",
       "    'pid': 'm0024yy4',\n",
       "    'title': 'Two-Minute Silence',\n",
       "    'first_broadcast_date': '2024-11-11T11:00:00Z',\n",
       "    'position': None,\n",
       "    'media_type': 'audio_video'},\n",
       "   'next': {'type': 'episode',\n",
       "    'pid': 'm0027f2g',\n",
       "    'title': '80th Anniversary of the Liberation of Auschwitz',\n",
       "    'first_broadcast_date': '2025-01-27T14:30:00Z',\n",
       "    'position': None,\n",
       "    'media_type': 'audio_video'}},\n",
       "  'versions': [{'canonical': 1,\n",
       "    'pid': 'm00276p7',\n",
       "    'duration': 8880,\n",
       "    'types': ['Original version']}],\n",
       "  'links': [],\n",
       "  'supporting_content_items': [],\n",
       "  'categories': [{'type': 'format',\n",
       "    'id': 'PT003',\n",
       "    'key': 'bulletins',\n",
       "    'title': 'Bulletins',\n",
       "    'narrower': [],\n",
       "    'broader': {},\n",
       "    'has_topic_page': False,\n",
       "    'sameAs': None},\n",
       "   {'type': 'genre',\n",
       "    'id': 'C00079',\n",
       "    'key': 'news',\n",
       "    'title': 'News',\n",
       "    'narrower': [],\n",
       "    'broader': {},\n",
       "    'has_topic_page': False,\n",
       "    'sameAs': None}]}}"
      ]
     },
     "execution_count": 10,
     "metadata": {},
     "output_type": "execute_result"
    }
   ],
   "source": [
    "# was there an big new item this last week?\n",
    "bbc_url = \"http://www.bbc.co.uk/programmes/m00276p8.json\"\n",
    "\n",
    "bbc_resp = requests.get(bbc_url)\n",
    "\n",
    "programme2 = bbc_resp.json()\n",
    "programme2"
   ]
  },
  {
   "cell_type": "markdown",
   "id": "7017a8a3-e3c8-4030-ad6c-3cc1997dea94",
   "metadata": {},
   "source": [
    "In this case there seems to be some sub-documents that are worth investigating.\n",
    "\n",
    "There is some general programme information at the start, then information about the parent programme and peers. These could all be potential tables."
   ]
  },
  {
   "cell_type": "markdown",
   "id": "d2d908b3-bc1e-4643-bebc-a5e1aeb9fb96",
   "metadata": {
    "tags": [
     "style-learner"
    ]
   },
   "source": [
    "Look for potential unique keys in the data that could become primary keys. What could be used above?"
   ]
  },
  {
   "cell_type": "markdown",
   "id": "0364fca1-b7ba-4f41-ac43-362a0240142a",
   "metadata": {
    "tags": [
     "style-tutor"
    ]
   },
   "source": [
    "**d) Using a MongoDB database (10 marks)**"
   ]
  },
  {
   "cell_type": "markdown",
   "id": "8e9eb10d-3e5e-416a-a07b-6f89a7ab07c2",
   "metadata": {},
   "source": [
    "The above data is semi-structured and probably better suited to a document database, such as MongoDB.\n",
    "\n",
    "Let's setup and store our two programmes in a MongoDB collection."
   ]
  },
  {
   "cell_type": "code",
   "execution_count": 11,
   "id": "27475205-f6e4-44a5-9a14-bc312beaae0b",
   "metadata": {},
   "outputs": [
    {
     "name": "stdout",
     "output_type": "stream",
     "text": [
      "MONGO_CONNECTION_STRING = mongodb://localhost:27017/\n"
     ]
    }
   ],
   "source": [
    "# Set up a MongoDB connection\n",
    "MONGO_CONNECTION_STRING = f\"mongodb://localhost:27017/\"\n",
    "print(f\"MONGO_CONNECTION_STRING = {MONGO_CONNECTION_STRING}\")"
   ]
  },
  {
   "cell_type": "code",
   "execution_count": 12,
   "id": "27c76ce3-82e3-4541-93ca-a689baff183f",
   "metadata": {},
   "outputs": [],
   "source": [
    "# set up a client\n",
    "from pymongo import MongoClient\n",
    "mongo_client = MongoClient(MONGO_CONNECTION_STRING)"
   ]
  },
  {
   "cell_type": "code",
   "execution_count": 13,
   "id": "1d0b6bb9-bccc-4199-bc52-c3575f7ebc5b",
   "metadata": {},
   "outputs": [],
   "source": [
    "# I'm likely to run this several times, so will drop my previous version\n",
    "mongo_client.drop_database(\"bbc_db\")"
   ]
  },
  {
   "cell_type": "code",
   "execution_count": 14,
   "id": "d6466088-2b12-4e7a-a45d-839ba736d8c0",
   "metadata": {},
   "outputs": [],
   "source": [
    "# Create database\n",
    "db = mongo_client[\"bbc_db\"]\n",
    "\n",
    "# Create collection\n",
    "bbc_collection = db[\"bbc_collection\"]"
   ]
  },
  {
   "cell_type": "code",
   "execution_count": 15,
   "id": "57a3f624-c532-4a0c-ba92-16511bfff0f6",
   "metadata": {},
   "outputs": [
    {
     "data": {
      "text/plain": [
       "InsertOneResult(ObjectId('679389b9280b6573548ebec8'), acknowledged=True)"
      ]
     },
     "execution_count": 15,
     "metadata": {},
     "output_type": "execute_result"
    }
   ],
   "source": [
    "# insert our two records\n",
    "# need to use insert_one() since there is only document in each one\n",
    "# use insert_many() if you have more than one document\n",
    "bbc_collection.insert_one(programme[\"programme\"])"
   ]
  },
  {
   "cell_type": "code",
   "execution_count": 16,
   "id": "b83e5b28-ec83-4d72-b7a5-6e10e0cad025",
   "metadata": {},
   "outputs": [
    {
     "data": {
      "text/plain": [
       "InsertOneResult(ObjectId('679389b9280b6573548ebec9'), acknowledged=True)"
      ]
     },
     "execution_count": 16,
     "metadata": {},
     "output_type": "execute_result"
    }
   ],
   "source": [
    "bbc_collection.insert_one(programme2[\"programme\"])"
   ]
  },
  {
   "cell_type": "code",
   "execution_count": 17,
   "id": "8f3ced0e-cfaf-4793-a58a-5f0455dd43c6",
   "metadata": {},
   "outputs": [
    {
     "data": {
      "text/plain": [
       "{'_id': ObjectId('679389b9280b6573548ebec8'),\n",
       " 'type': 'episode',\n",
       " 'pid': 'm0021r4h',\n",
       " 'expected_child_count': None,\n",
       " 'position': 9,\n",
       " 'image': {'pid': 'p0jj0dwm'},\n",
       " 'media_type': 'audio_video',\n",
       " 'title': 'Episode 9',\n",
       " 'short_synopsis': 'The keepers rally around Ghost, an ageing lion who is suddenly losing weight.',\n",
       " 'medium_synopsis': 'The keepers rally around Ghost, an ageing lion who is suddenly losing weight.',\n",
       " 'long_synopsis': 'Along with feeding all the animals at Longleat Safari Park, the keepers need to keep an eye on their mood, behaviour, love life and, of course, their health. And that’s before doing any training or coming up with enrichment ideas. It’s a never-ending job, and they must be ready for anything. \\n\\nKate Humble’s first job today is creating a new toy for the magnificent colobus monkeys. There are seven boys that live in the troop on ‘gorilla island’, and keeper Carys has attached three bottles to a broom handle and stacked them full of monkey treats. Each bottle has different-sized holes in its sides to increase the difficulty to reach the food. But will these monkeys be able to suss this puzzle out?\\n\\nA devoted labrador owner, Ben Fogle has recently extended his personal menagerie to include Indian runner ducks. Luckily for him, they have some at the park, so he is joining keeper Abby for a crash course in caring for them. What they both quickly discover is that these ducks are not in the mood to follow orders today, and despite Ben learning their distinctive call, his ability to control them is certainly lacking. Ben discovers that with practice they will learn recall, but in the meantime at least they’ll keep the slugs off his veg patch.  \\n\\nAlso today, keepers rally around Ghost, an ageing lion who is suddenly losing weight, and Megan tests the reactions of a kookaburra.',\n",
       " 'first_broadcast_date': '2024-08-22T09:30:00+01:00',\n",
       " 'display_title': {'title': 'Animal Park',\n",
       "  'subtitle': 'Summer 2024, Episode 9'},\n",
       " 'ownership': {'service': {'type': 'tv',\n",
       "   'id': 'bbc_one',\n",
       "   'key': 'bbcone',\n",
       "   'title': 'BBC One'}},\n",
       " 'parent': {'programme': {'type': 'series',\n",
       "   'pid': 'm0021r3q',\n",
       "   'title': 'Summer 2024',\n",
       "   'short_synopsis': \"Kate Humble and Ben Fogle catch up with old friends at Britain's first safari park.\",\n",
       "   'media_type': None,\n",
       "   'position': 36,\n",
       "   'image': {'pid': 'p0jh1cs3'},\n",
       "   'expected_child_count': 10,\n",
       "   'first_broadcast_date': '2024-08-12T09:30:00+01:00',\n",
       "   'aggregated_episode_count': 10,\n",
       "   'ownership': {'service': {'type': 'tv',\n",
       "     'id': 'bbc_one',\n",
       "     'key': 'bbcone',\n",
       "     'title': 'BBC One'}},\n",
       "   'parent': {'programme': {'type': 'brand',\n",
       "     'pid': 'b006w6ns',\n",
       "     'title': 'Animal Park',\n",
       "     'short_synopsis': 'Kate Humble and Ben Fogle go behind the scenes at Longleat Safari Park.',\n",
       "     'media_type': None,\n",
       "     'position': None,\n",
       "     'image': {'pid': 'p0cqt27f'},\n",
       "     'expected_child_count': None,\n",
       "     'first_broadcast_date': '2000-07-17T10:00:00+01:00',\n",
       "     'aggregated_episode_count': 427,\n",
       "     'ownership': {'service': {'type': 'tv',\n",
       "       'id': 'bbc_one',\n",
       "       'key': 'bbcone',\n",
       "       'title': 'BBC One'}}}}}},\n",
       " 'peers': {'previous': {'type': 'episode',\n",
       "   'pid': 'm0021r4f',\n",
       "   'title': 'Episode 8',\n",
       "   'first_broadcast_date': '2024-08-21T09:30:00+01:00',\n",
       "   'position': 8,\n",
       "   'media_type': 'audio_video'},\n",
       "  'next': {'type': 'episode',\n",
       "   'pid': 'm0021r4j',\n",
       "   'title': 'Episode 10',\n",
       "   'first_broadcast_date': '2024-08-23T09:30:00+01:00',\n",
       "   'position': 10,\n",
       "   'media_type': 'audio_video'}},\n",
       " 'versions': [{'canonical': 1,\n",
       "   'pid': 'm0021r4g',\n",
       "   'duration': 2580,\n",
       "   'types': ['Original version']},\n",
       "  {'canonical': 0,\n",
       "   'pid': 'm0027697',\n",
       "   'duration': 1680,\n",
       "   'types': ['Editorial']},\n",
       "  {'canonical': 0,\n",
       "   'pid': 'p0jk36j2',\n",
       "   'duration': 2580,\n",
       "   'types': ['Dubbed Audio Described']},\n",
       "  {'canonical': 0,\n",
       "   'pid': 'p0kj84kb',\n",
       "   'duration': 1740,\n",
       "   'types': ['Dubbed Audio Described', 'Editorial']},\n",
       "  {'canonical': 0,\n",
       "   'pid': 'p0kj84kg',\n",
       "   'duration': 1740,\n",
       "   'types': ['Dubbed Audio Described', 'Editorial']}],\n",
       " 'links': [],\n",
       " 'supporting_content_items': [],\n",
       " 'categories': [{'type': 'genre',\n",
       "   'id': 'C00047',\n",
       "   'key': 'petsandanimals',\n",
       "   'title': 'Pets & Animals',\n",
       "   'narrower': [],\n",
       "   'broader': {'category': {'type': 'genre',\n",
       "     'id': 'C00045',\n",
       "     'key': 'factual',\n",
       "     'title': 'Factual',\n",
       "     'broader': {},\n",
       "     'has_topic_page': False,\n",
       "     'sameAs': None}},\n",
       "   'has_topic_page': False,\n",
       "   'sameAs': None}]}"
      ]
     },
     "execution_count": 17,
     "metadata": {},
     "output_type": "execute_result"
    }
   ],
   "source": [
    "bbc_collection.find_one()"
   ]
  },
  {
   "cell_type": "code",
   "execution_count": 18,
   "id": "f4757c5b-cf8e-45db-8d03-033ee7577813",
   "metadata": {},
   "outputs": [
    {
     "data": {
      "text/plain": [
       "2"
      ]
     },
     "execution_count": 18,
     "metadata": {},
     "output_type": "execute_result"
    }
   ],
   "source": [
    "# how many documents\n",
    "bbc_collection.count_documents({})"
   ]
  },
  {
   "cell_type": "code",
   "execution_count": 19,
   "id": "ac9b7225-6a42-4d58-8abc-491b3e57d3ae",
   "metadata": {},
   "outputs": [
    {
     "data": {
      "text/plain": [
       "{'_id': ObjectId('679389b9280b6573548ebec9'),\n",
       " 'type': 'episode',\n",
       " 'pid': 'm00276p8',\n",
       " 'expected_child_count': None,\n",
       " 'position': None,\n",
       " 'image': {'pid': 'p0kjrzf5'},\n",
       " 'media_type': 'audio_video',\n",
       " 'title': \"President Trump's Inauguration\",\n",
       " 'short_synopsis': 'Live coverage as Donald Trump is sworn in as the 47th president of the United States.',\n",
       " 'medium_synopsis': 'Live from Washington DC as Donald Trump is sworn in as the 47th president of the United States. Special coverage of the inauguration with Clive Myrie and Sophie Raworth.',\n",
       " 'long_synopsis': \"Live from Washington DC as Donald Trump is sworn in as the 47th president of the United States. Special coverage of the inauguration with Clive Myrie and Sophie Raworth, and analysis from the BBC's team of experts.\",\n",
       " 'first_broadcast_date': '2025-01-20T15:30:00Z',\n",
       " 'display_title': {'title': 'BBC News Special',\n",
       "  'subtitle': \"President Trump's Inauguration\"},\n",
       " 'ownership': {'service': {'type': None,\n",
       "   'id': 'bbc_news',\n",
       "   'key': 'news',\n",
       "   'title': 'BBC News'}},\n",
       " 'parent': {'programme': {'type': 'brand',\n",
       "   'pid': 'b007zqd0',\n",
       "   'title': 'BBC News Special',\n",
       "   'short_synopsis': 'Live coverage of breaking stories and special reports from BBC News.',\n",
       "   'media_type': None,\n",
       "   'position': None,\n",
       "   'image': {'pid': 'p07hp9l7'},\n",
       "   'expected_child_count': None,\n",
       "   'first_broadcast_date': '2006-07-07T11:55:00+01:00',\n",
       "   'aggregated_episode_count': 768,\n",
       "   'ownership': {'service': {'type': None,\n",
       "     'id': 'bbc_news',\n",
       "     'key': 'news',\n",
       "     'title': 'BBC News'}}}},\n",
       " 'peers': {'previous': {'type': 'episode',\n",
       "   'pid': 'm0024yy4',\n",
       "   'title': 'Two-Minute Silence',\n",
       "   'first_broadcast_date': '2024-11-11T11:00:00Z',\n",
       "   'position': None,\n",
       "   'media_type': 'audio_video'},\n",
       "  'next': {'type': 'episode',\n",
       "   'pid': 'm0027f2g',\n",
       "   'title': '80th Anniversary of the Liberation of Auschwitz',\n",
       "   'first_broadcast_date': '2025-01-27T14:30:00Z',\n",
       "   'position': None,\n",
       "   'media_type': 'audio_video'}},\n",
       " 'versions': [{'canonical': 1,\n",
       "   'pid': 'm00276p7',\n",
       "   'duration': 8880,\n",
       "   'types': ['Original version']}],\n",
       " 'links': [],\n",
       " 'supporting_content_items': [],\n",
       " 'categories': [{'type': 'format',\n",
       "   'id': 'PT003',\n",
       "   'key': 'bulletins',\n",
       "   'title': 'Bulletins',\n",
       "   'narrower': [],\n",
       "   'broader': {},\n",
       "   'has_topic_page': False,\n",
       "   'sameAs': None},\n",
       "  {'type': 'genre',\n",
       "   'id': 'C00079',\n",
       "   'key': 'news',\n",
       "   'title': 'News',\n",
       "   'narrower': [],\n",
       "   'broader': {},\n",
       "   'has_topic_page': False,\n",
       "   'sameAs': None}]}"
      ]
     },
     "execution_count": 19,
     "metadata": {},
     "output_type": "execute_result"
    }
   ],
   "source": [
    "# parameters are usually provided as key: value pairs\n",
    "# for example, to search for a particular title \n",
    "bbc_collection.find_one({\"title\": \"President Trump's Inauguration\"})"
   ]
  },
  {
   "cell_type": "code",
   "execution_count": 20,
   "id": "f73326da-2623-4183-922e-a513d6e38f81",
   "metadata": {},
   "outputs": [
    {
     "data": {
      "text/plain": [
       "{'_id': ObjectId('679389b9280b6573548ebec8'),\n",
       " 'type': 'episode',\n",
       " 'pid': 'm0021r4h',\n",
       " 'expected_child_count': None,\n",
       " 'position': 9,\n",
       " 'image': {'pid': 'p0jj0dwm'},\n",
       " 'media_type': 'audio_video',\n",
       " 'title': 'Episode 9',\n",
       " 'short_synopsis': 'The keepers rally around Ghost, an ageing lion who is suddenly losing weight.',\n",
       " 'medium_synopsis': 'The keepers rally around Ghost, an ageing lion who is suddenly losing weight.',\n",
       " 'long_synopsis': 'Along with feeding all the animals at Longleat Safari Park, the keepers need to keep an eye on their mood, behaviour, love life and, of course, their health. And that’s before doing any training or coming up with enrichment ideas. It’s a never-ending job, and they must be ready for anything. \\n\\nKate Humble’s first job today is creating a new toy for the magnificent colobus monkeys. There are seven boys that live in the troop on ‘gorilla island’, and keeper Carys has attached three bottles to a broom handle and stacked them full of monkey treats. Each bottle has different-sized holes in its sides to increase the difficulty to reach the food. But will these monkeys be able to suss this puzzle out?\\n\\nA devoted labrador owner, Ben Fogle has recently extended his personal menagerie to include Indian runner ducks. Luckily for him, they have some at the park, so he is joining keeper Abby for a crash course in caring for them. What they both quickly discover is that these ducks are not in the mood to follow orders today, and despite Ben learning their distinctive call, his ability to control them is certainly lacking. Ben discovers that with practice they will learn recall, but in the meantime at least they’ll keep the slugs off his veg patch.  \\n\\nAlso today, keepers rally around Ghost, an ageing lion who is suddenly losing weight, and Megan tests the reactions of a kookaburra.',\n",
       " 'first_broadcast_date': '2024-08-22T09:30:00+01:00',\n",
       " 'display_title': {'title': 'Animal Park',\n",
       "  'subtitle': 'Summer 2024, Episode 9'},\n",
       " 'ownership': {'service': {'type': 'tv',\n",
       "   'id': 'bbc_one',\n",
       "   'key': 'bbcone',\n",
       "   'title': 'BBC One'}},\n",
       " 'parent': {'programme': {'type': 'series',\n",
       "   'pid': 'm0021r3q',\n",
       "   'title': 'Summer 2024',\n",
       "   'short_synopsis': \"Kate Humble and Ben Fogle catch up with old friends at Britain's first safari park.\",\n",
       "   'media_type': None,\n",
       "   'position': 36,\n",
       "   'image': {'pid': 'p0jh1cs3'},\n",
       "   'expected_child_count': 10,\n",
       "   'first_broadcast_date': '2024-08-12T09:30:00+01:00',\n",
       "   'aggregated_episode_count': 10,\n",
       "   'ownership': {'service': {'type': 'tv',\n",
       "     'id': 'bbc_one',\n",
       "     'key': 'bbcone',\n",
       "     'title': 'BBC One'}},\n",
       "   'parent': {'programme': {'type': 'brand',\n",
       "     'pid': 'b006w6ns',\n",
       "     'title': 'Animal Park',\n",
       "     'short_synopsis': 'Kate Humble and Ben Fogle go behind the scenes at Longleat Safari Park.',\n",
       "     'media_type': None,\n",
       "     'position': None,\n",
       "     'image': {'pid': 'p0cqt27f'},\n",
       "     'expected_child_count': None,\n",
       "     'first_broadcast_date': '2000-07-17T10:00:00+01:00',\n",
       "     'aggregated_episode_count': 427,\n",
       "     'ownership': {'service': {'type': 'tv',\n",
       "       'id': 'bbc_one',\n",
       "       'key': 'bbcone',\n",
       "       'title': 'BBC One'}}}}}},\n",
       " 'peers': {'previous': {'type': 'episode',\n",
       "   'pid': 'm0021r4f',\n",
       "   'title': 'Episode 8',\n",
       "   'first_broadcast_date': '2024-08-21T09:30:00+01:00',\n",
       "   'position': 8,\n",
       "   'media_type': 'audio_video'},\n",
       "  'next': {'type': 'episode',\n",
       "   'pid': 'm0021r4j',\n",
       "   'title': 'Episode 10',\n",
       "   'first_broadcast_date': '2024-08-23T09:30:00+01:00',\n",
       "   'position': 10,\n",
       "   'media_type': 'audio_video'}},\n",
       " 'versions': [{'canonical': 1,\n",
       "   'pid': 'm0021r4g',\n",
       "   'duration': 2580,\n",
       "   'types': ['Original version']},\n",
       "  {'canonical': 0,\n",
       "   'pid': 'm0027697',\n",
       "   'duration': 1680,\n",
       "   'types': ['Editorial']},\n",
       "  {'canonical': 0,\n",
       "   'pid': 'p0jk36j2',\n",
       "   'duration': 2580,\n",
       "   'types': ['Dubbed Audio Described']},\n",
       "  {'canonical': 0,\n",
       "   'pid': 'p0kj84kb',\n",
       "   'duration': 1740,\n",
       "   'types': ['Dubbed Audio Described', 'Editorial']},\n",
       "  {'canonical': 0,\n",
       "   'pid': 'p0kj84kg',\n",
       "   'duration': 1740,\n",
       "   'types': ['Dubbed Audio Described', 'Editorial']}],\n",
       " 'links': [],\n",
       " 'supporting_content_items': [],\n",
       " 'categories': [{'type': 'genre',\n",
       "   'id': 'C00047',\n",
       "   'key': 'petsandanimals',\n",
       "   'title': 'Pets & Animals',\n",
       "   'narrower': [],\n",
       "   'broader': {'category': {'type': 'genre',\n",
       "     'id': 'C00045',\n",
       "     'key': 'factual',\n",
       "     'title': 'Factual',\n",
       "     'broader': {},\n",
       "     'has_topic_page': False,\n",
       "     'sameAs': None}},\n",
       "   'has_topic_page': False,\n",
       "   'sameAs': None}]}"
      ]
     },
     "execution_count": 20,
     "metadata": {},
     "output_type": "execute_result"
    }
   ],
   "source": [
    "# you can use the dot notation to search sub-documents\n",
    "bbc_collection.find_one({\"display_title.title\": \"Animal Park\"})"
   ]
  },
  {
   "cell_type": "markdown",
   "id": "8f997b6c-c2d0-46c2-89d6-863b435940b1",
   "metadata": {},
   "source": [
    "If you are interested in document databases and want to see some examples of how to use a MongoDB database, see this notebook: `MongoDB.ipynb`. \n",
    "\n",
    "Do note, the examples in the MongoDB notebook go beyond what is needed for TMA02."
   ]
  },
  {
   "cell_type": "markdown",
   "id": "4315e8b2-2990-421d-867f-547dcc2e9d4a",
   "metadata": {},
   "source": [
    "### Data Validation\n",
    "\n",
    "Once you have imported the FSA data you are also asked to validate it\n",
    "\n",
    "You are given a `partial_validation_schema` to check your data against.\n",
    "\n",
    "When creating your collection do check what other options are available, which will help with what to do with this schema:\n",
    "\n",
    "https://www.mongodb.com/docs/manual/reference/method/db.createCollection"
   ]
  },
  {
   "cell_type": "markdown",
   "id": "71dc5cc5-d44e-414b-9582-282c2d4423f6",
   "metadata": {
    "tags": [
     "style-tutor"
    ]
   },
   "source": [
    "**e) Using the Geographic Data ( 3 + 3 = 6 marks)**"
   ]
  },
  {
   "cell_type": "markdown",
   "id": "7e0840be-9989-4a99-9268-388fca83eb28",
   "metadata": {},
   "source": [
    "Two images are required:"
   ]
  },
  {
   "cell_type": "markdown",
   "id": "28a58929-0f24-415a-b431-56d6857ee961",
   "metadata": {
    "tags": [
     "style-learner"
    ]
   },
   "source": [
    "*i) Using the folium package, generate a map that uses markers with pop-up labels to identify “Premier” retail stores in the Milton Keynes local authority area based on the data in the food_ratings_cleaner collection*. ***To what extent do you think your data query reliably identifies only those outlets that are part of the “Premier” branded stores organisation?***\n",
    "\n",
    "*ii) As well as using markers to locate individual establishments, we can also use choropleth maps to visualise aggregated data values within area boundaries.*"
   ]
  },
  {
   "cell_type": "markdown",
   "id": "0a4f7b1d-b3b0-42aa-8e39-18ff9efe1b7a",
   "metadata": {},
   "source": [
    "Part i requires pulling out the Longitude and Latitude values from either your MongoDB database or dataframe.\n",
    "\n",
    "Do note the bit highlighted - could be easy to overlook!\n",
    "\n",
    "Creating choropleth maps for Part ii can be seen in `Notebook 05.2 Getting started with maps - folium`. `Notebook 05.X Optional notes on Geo data formats` has some examples of adding a marker to a map."
   ]
  },
  {
   "cell_type": "markdown",
   "id": "34b79cc3-e2fe-4c8f-9c93-f57759576e1b",
   "metadata": {
    "tags": [
     "style-tutor"
    ]
   },
   "source": [
    "**f) Database models (6 marks)**"
   ]
  },
  {
   "cell_type": "markdown",
   "id": "a9a29828-2e27-4152-a396-446da4790ba4",
   "metadata": {
    "tags": [
     "style-learner"
    ]
   },
   "source": [
    "*Having explored the data, you need to write a short memo explaining whether a relational database (such as PostgreSQL) or a document database (such as MongoDB) would be more suitable for storing the FSA data.*\n",
    "\n",
    "*Give two advantages and one disadvantage of each solution for this particular dataset. State which database you think would be more appropriate for an actual implementation. Your justification should be made with specific reference to the scenario.*\n",
    "\n",
    "*Write no more than 250 words.*\n",
    "\n",
    "***Marks will be capped at 2 out of 6 for a generic answer that does not reference the specific dataset used in this scenario.***\n",
    "\n",
    "__*6 marks*__\n"
   ]
  },
  {
   "cell_type": "markdown",
   "id": "720bc22a-26ca-4593-b426-374c18432feb",
   "metadata": {},
   "source": [
    "This gets you to think about which database system is best for the FSA data. Do tailor your answer to what you have discovered in parts c and d, otherwise your marks will be capped."
   ]
  },
  {
   "cell_type": "markdown",
   "id": "9a2e1fae-ed53-43fe-b706-678b774760d9",
   "metadata": {
    "tags": [
     "style-solution"
    ]
   },
   "source": [
    "### Question Two - 30 Marks"
   ]
  },
  {
   "cell_type": "markdown",
   "id": "d9b8a25b-5b6e-4672-910d-12897f3ead1c",
   "metadata": {},
   "source": [
    "This question is moving towards the EMA. Details of what you need to do can be found in the `2024J_TMA02.pdf` document.\n",
    "\n",
    "Snippets are included here:"
   ]
  },
  {
   "cell_type": "markdown",
   "id": "3e5f55a5-14d6-4e1c-baca-784519880c92",
   "metadata": {
    "tags": [
     "style-learner"
    ]
   },
   "source": [
    "*This question is designed to get you started on a data investigation that will be developed into a larger investigation for the end-of-module assessment (EMA).*\n",
    "\n",
    "*While answering this question, you should ask yourself what stories the dataset might contain that could be explored using the techniques you have studied.*\n",
    "\n",
    "*You may find it useful to consider your data exploration notebooks as portfolio pieces in which you demonstrate what you have learned through studying TM351 in the context of using data analysis and visualisation techniques in an investigative or exploratory setting.*\n",
    "\n",
    "*You are encouraged to make use of a database, where appropriate, that contains cleaned and validated data when completing this question. For example, you may use the MongoDB database that you created in Question 1. If you are unable to use a database, or prefer not to, you will not be penalised if you do your work using data loaded from a file directly into a dataframe, although you should justify why you have not used a database approach. If instead you create a DataFrame from the original datafiles (for example, 2024J_TMA02_data/FSA/FHRS870en-GB.json) and use that for your investigation, you should address any data cleaning and validation considerations, as explored in Question 1, part b, before making analytical use of it.*"
   ]
  },
  {
   "cell_type": "markdown",
   "id": "07b9c4d9-c5b1-4b7a-b64f-b771fec95bd8",
   "metadata": {},
   "source": [
    "For this question you should use the cleaned MongoDB created in Question 1. \n",
    "\n",
    "If this not possible, you can use the JSON file provided into a dataframe, or import the provided zip version of the database. See details of how to do the later in the `Restoring a sample MongoDB database` section.\n"
   ]
  },
  {
   "cell_type": "markdown",
   "id": "90082a61-1a69-46cc-90d3-f9527da01be2",
   "metadata": {
    "tags": [
     "style-tutor"
    ]
   },
   "source": [
    "## Question 2(a) - 20 marks"
   ]
  },
  {
   "cell_type": "markdown",
   "id": "7430ef56-ce01-4372-9ff9-cd5f422abac8",
   "metadata": {
    "tags": [
     "style-learner"
    ]
   },
   "source": [
    "*Question 1 will have given you a basic feel for the Food Standards Agency food hygiene ratings scheme (FHRS) data.*\n",
    "\n",
    "*In this question, you should further explore the FHRS data and investigate another aspect of it, or answer a question of your own devising based on it.*\n",
    "\n",
    "*You are not limited to reporting on just food hygiene rating scores. For example, you might also use the FHRS dataset as a basis for a range of other exploratory questions, such as geographically profiling various food related businesses, comparing the size of corporate groupings or other forms of “competitive intelligence”, etc.*\n",
    "\n",
    "*For this part of question 2, you should work in your\n",
    "**yourPI_q2a_lab_notebook.ipynb**\n",
    "notebook, under the heading “Question 2(a)”, renaming the notebook to use your PI. Treat this notebook as a lab notebook: keep all the work you do and don’t tidy it up too much or delete work that turns out to be a dead end; if you have code cells which do not execute correctly, make a comment in the code cell regarding the error.*"
   ]
  },
  {
   "cell_type": "markdown",
   "id": "0f46c4ea-60a3-46a3-8a4a-4dfb63effc6d",
   "metadata": {},
   "source": [
    "See the section on `Presenting your answer` for what should go into your lab notebook.\n",
    "\n",
    "Overall you should:"
   ]
  },
  {
   "cell_type": "markdown",
   "id": "0b796849-f08f-4892-b340-fdc7f20ca7a0",
   "metadata": {
    "tags": [
     "style-learner"
    ]
   },
   "source": [
    "*Summarise the main characteristics of the dataset that allow you to perform your exploration.*\n",
    "\n",
    "*Create and label at least two different plots to visualise different aspects of the data. You should use at least two different types of plot, e.g. scatter, line, bar, etc.*\n",
    "\n",
    "*Create at least one folium map.*\n",
    "\n",
    "*Include notes critically evaluating what you think your investigations and visualisations tell you.*"
   ]
  },
  {
   "cell_type": "markdown",
   "id": "f2133adc-1fb4-45d6-a9ee-a4035b1635bc",
   "metadata": {
    "tags": [
     "style-tutor"
    ]
   },
   "source": [
    "## Question 2(b) - 10 marks"
   ]
  },
  {
   "cell_type": "markdown",
   "id": "1b808725-9a20-443f-95e3-af61aaf56314",
   "metadata": {},
   "source": [
    "This question is practice for writing your EMA report. For this part you should write your answer in a Word document: `yourPI_TMA02_project.docx` under the heading *“Question 2(b)”*."
   ]
  },
  {
   "cell_type": "markdown",
   "id": "40a79a18-2ada-4639-83ce-9d73b54635f0",
   "metadata": {
    "tags": [
     "style-learner"
    ]
   },
   "source": [
    "*In this part you will use your findings from part 2(a) to write a brief report using the following outline structure:*\n",
    "\n",
    "- *Aims and objectives*\n",
    "- *Background*\n",
    "- *Sources of data (original source; locally managed source)*\n",
    "- *Analysis pipeline*\n",
    "- *Findings*\n",
    "- *Conclusions*\n",
    "- *References*\n",
    "  \n",
    "*Your report should be no more than 650 words*\n",
    "\n",
    "*Note: your notebook reference need be no more than: Name, Initials. (year) yourPI_q2a_lab_notebook.ipynb.*\n"
   ]
  },
  {
   "attachments": {},
   "cell_type": "markdown",
   "id": "72e3ecae-f4c8-4c94-a3d0-19d0634cd8e9",
   "metadata": {},
   "source": [
    "Writing a report can be difficult if you are out of practice doing this.\n",
    "\n",
    "`Part 5 Presentation: telling the story` can be useful for understanding how to report your findings.\n",
    "\n",
    "In the discussion of `Exercise 5.6 Exploratory` you can find a file: `TM351_Report_Outline.docx` which as the name suggests is a general-purpose reporting structure and can be useful for getting started."
   ]
  },
  {
   "cell_type": "markdown",
   "id": "b511b70c-204e-498f-b3bd-514aaa56acac",
   "metadata": {},
   "source": [
    "When discussing your results, things to think about commenting on:\n",
    "- the range: how much the measurement varies\n",
    "- the outliers: the maximum and minimum values (Are these unexpected? Do they represent errors in the data?)\n",
    "- any trends: does the values increase or decrease or oscillate over time \n",
    "- any patterns: does anything stand out as being a regular pattern \n"
   ]
  },
  {
   "cell_type": "markdown",
   "id": "e0308bd7-ba1a-4470-88ee-d28a2b51233b",
   "metadata": {
    "tags": [
     "style-solution"
    ]
   },
   "source": [
    "### Question Two - 25 Marks"
   ]
  },
  {
   "cell_type": "markdown",
   "id": "93be12ff-dc36-4666-8395-702f26de401e",
   "metadata": {
    "tags": [
     "style-learner"
    ]
   },
   "source": [
    "*This question is designed to help you in the planning stage of the EMA. This is your opportunity to develop a work plan so your tutor can give you helpful, timely feedback. Before you attempt this question you should read the EMA. Think about what you are being asked to do and how this builds on the analysis you did for Question 2.*\n",
    "\n",
    "*A good answer to this question will mean you have mapped out your EMA work and got a good start at understanding what the EMA requires.*"
   ]
  },
  {
   "cell_type": "markdown",
   "id": "75f71f0a-f3d3-4a17-809e-bcf9e52f370f",
   "metadata": {
    "tags": [
     "style-tutor"
    ]
   },
   "source": [
    "## Question 3(a) EMA Questions - 10 marks"
   ]
  },
  {
   "cell_type": "markdown",
   "id": "8056b3c7-5ffa-407d-bec0-ffb6caf4c80b",
   "metadata": {},
   "source": [
    "This should be answered in your `yourPI_TMA02_project.docx` solution document, under the heading *“Question 3(a)”*.\n",
    "\n",
    "This is getting you to think about the questions you will explore in the EMA. You will investigate an additional dataset, as well as the FHRS dataset.\n",
    "\n",
    "Overall you need to:\n",
    "- specify a question that can be answered by looking at the new dataset (on its own)\n",
    "- specify a question that be answered when you combine both data sets"
   ]
  },
  {
   "cell_type": "markdown",
   "id": "21915920-22a8-45c6-8523-ea7685a6df51",
   "metadata": {},
   "source": [
    "The two additional datasets have been provided:\n",
    "\n",
    "1. Care home data from Care Quality Commission (CQC) containing residential care home names, addresses, organisational groupings and CQC ratings for care homes in England.\n",
    "\n",
    "**You should limit the scope of any CQC data used to just data associated with residential care home establishments.**\n",
    "\n",
    "2. Data from the Department for Education relating to schools, including administrative information for all schools and performance data for schools in the Milton Keynes Local Authority area\n",
    "\n",
    "Two downloaded datasets are provided, although you are free to download other school performance related datasets from the links provided.\n",
    "\n",
    "Note:\n",
    "- You are welcome to download your own recent versions of the data from the locations specified.\n",
    "- You may use additional FHRS ratings data obtained from Food Standards Agency website although you are not required to do so."
   ]
  },
  {
   "cell_type": "markdown",
   "id": "4b0fdd44-9881-4b9b-8660-6230fd8a42fa",
   "metadata": {
    "tags": [
     "style-learner"
    ]
   },
   "source": [
    "What you need to do for Question 3(a):\n",
    "\n",
    "*For each of the following, write a paragraph or two in your solution document, explaining and justifying your choice:*\n",
    "\n",
    "*1. Which additional dataset you have chosen.*\n",
    "\n",
    "*2. A question you can investigate using just this additional dataset and why this dataset can answer it.*\n",
    "\n",
    "*3. Another question, which you can answer only by joining or otherwise combining the food ratings dataset and the additional dataset you have chosen. You should also explain why this combination of datasets can answer that question.*\n",
    "\n",
    "*At some point in the EMA data investigation, you will need to use a folium map, so you should consider this as you develop your questions.*"
   ]
  },
  {
   "cell_type": "markdown",
   "id": "9a41b6d2-3a3a-4a93-9c6d-c142b5aaaf08",
   "metadata": {},
   "source": [
    "So open the datasets and explore them.\n",
    "\n",
    "Think about how you will create a folium map.\n",
    "\n",
    "Any metadata can help understand them.\n",
    "\n",
    "There is a lot of data, so will need to limit what you use.\n",
    "\n",
    "Do remember you only need to pick **one** of the two new datasets provided (Care home or Department for Education data).\n",
    "\n",
    "**This is not a question to do last minute!!**"
   ]
  },
  {
   "cell_type": "markdown",
   "id": "659be4f2-92da-408b-b019-ffac91b28264",
   "metadata": {
    "tags": [
     "style-tutor"
    ]
   },
   "source": [
    "## Question 3(b) Strategic Concerns - 5 marks"
   ]
  },
  {
   "cell_type": "markdown",
   "id": "39b0e424-06bb-4104-92d0-b8a36a024488",
   "metadata": {},
   "source": [
    "Answer in `yourPI_TMA02_project.docx` solution document, under the heading *“Question 3(b)”*."
   ]
  },
  {
   "cell_type": "markdown",
   "id": "7c9c8280-fc83-41b5-acf0-bce70045c278",
   "metadata": {
    "tags": [
     "style-learner"
    ]
   },
   "source": [
    "*Think about what you are being asked to do in the EMA and how this builds on the analysis you did for Question 2. How could you address the investigation questions you proposed in Part 3(a)?*\n",
    "\n",
    "*Describe how you intend to store, combine and analyse the data, and how you intend to visualise your results. Identify and briefly describe the tools and techniques you could use.*"
   ]
  },
  {
   "cell_type": "markdown",
   "id": "dc1c6624-9027-4d00-ab2f-7c14307f210b",
   "metadata": {
    "tags": [
     "style-tutor"
    ]
   },
   "source": [
    "## Question 3(c) Time Planning - 10 marks"
   ]
  },
  {
   "cell_type": "markdown",
   "id": "4eefa369-46b6-42ca-b459-ee0dac5f19ad",
   "metadata": {},
   "source": [
    "This is made up of two parts:\n",
    "\n",
    "- workplan of activities for completing the EMA, including timescales and milestones\n",
    "- initial entries in the project diary\n"
   ]
  },
  {
   "cell_type": "markdown",
   "id": "d291b114-d255-41da-aa35-5eb588d9c2ef",
   "metadata": {},
   "source": [
    "The workplan can either be included in `your yourPI_TMA02_project.docx` solution document, under the heading *“Question 3(c)”*, or in a spreadsheet called: `yourPI_workplan.xlsx`\n",
    "\n",
    "The notebook named `yourPI_project_diary.ipynb` should be used as your project diary."
   ]
  },
  {
   "cell_type": "markdown",
   "id": "733022c1-85e3-4d79-b96d-cdca7e021a61",
   "metadata": {
    "tags": [
     "style-learner"
    ]
   },
   "source": [
    "The diary should include two cells:\n",
    "\n",
    "*1. a code cell importing and briefly examining the dataset you chose in Part 3(a)*\n",
    "\n",
    "*2. a markdown cell or code cell indicating how you might combine your Part 3(a) dataset with data from the FHRS data.*"
   ]
  },
  {
   "attachments": {},
   "cell_type": "markdown",
   "id": "11f10734-cf09-426a-8331-9c0503ccd0ff",
   "metadata": {},
   "source": [
    "## Reminders:\n",
    "\n",
    "Deadlines:\n",
    "- If you are unable to submit the TMA by 13th March you must let your Tutor know beforehand\n",
    "- Bear in mind there are no extensions allowed for the EMA\n",
    "\n",
    "iCMAs\n",
    "- iCMA 44 is due by the 30th January.\n",
    "- you need to get at least 30% in five of them"
   ]
  },
  {
   "cell_type": "markdown",
   "id": "c9e4d9b9-0436-46fe-b607-a5f51c44af6a",
   "metadata": {
    "tags": [
     "style-activity"
    ]
   },
   "source": [
    "## Wrap Up\n",
    "\n",
    "- Any questions?\n"
   ]
  },
  {
   "cell_type": "markdown",
   "id": "1107dd23-0226-45bb-8087-622cc40167b3",
   "metadata": {
    "tags": [
     "style-solution"
    ]
   },
   "source": [
    "### Data Sources\n",
    "\n"
   ]
  },
  {
   "cell_type": "markdown",
   "id": "e9c6fd9a-f32a-4490-8131-585b5c18a3da",
   "metadata": {},
   "source": [
    "The FSA data used here is the from the TM351 TMA02-24J assessment and found in the `2024J_TMA02_data`.\n",
    "\n",
    "The data is licenced and details can be found in the links mentioned in the assessment:\n",
    "\n",
    "*The UK Food Standards Agency (FSA) publishes a wide range of data relating to food establishments and food standards [ https://www.food.gov.uk/our-data ]. As well as a data catalogue [https://data.food.gov.uk/catalog], the FSA also publishes information on accessing their data via an open data landing page [ https://ratings.food.gov.uk/open-data ].*\n"
   ]
  },
  {
   "cell_type": "code",
   "execution_count": null,
   "id": "63a27100-c127-443e-9a89-a12e27569280",
   "metadata": {},
   "outputs": [],
   "source": []
  }
 ],
 "metadata": {
  "kernelspec": {
   "display_name": "Python-3",
   "language": "python",
   "name": "python-3"
  },
  "language_info": {
   "codemirror_mode": {
    "name": "ipython",
    "version": 3
   },
   "file_extension": ".py",
   "mimetype": "text/x-python",
   "name": "python",
   "nbconvert_exporter": "python",
   "pygments_lexer": "ipython3",
   "version": "3.11.10"
  }
 },
 "nbformat": 4,
 "nbformat_minor": 5
}
