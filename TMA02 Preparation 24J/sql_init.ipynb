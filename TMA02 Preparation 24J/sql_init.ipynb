{
 "cells": [
  {
   "cell_type": "markdown",
   "metadata": {},
   "source": [
    "## Preamble"
   ]
  },
  {
   "cell_type": "markdown",
   "metadata": {},
   "source": [
    "We have the same preamble in this Part as for the SQL notebooks in Parts 8-10. "
   ]
  },
  {
   "cell_type": "markdown",
   "metadata": {},
   "source": [
    "We will copy this section, **Preamble**, at the beginning of each of the notebooks to set up a clean version of the database at the beginning. In this notebook, where the content appears for the first time, we will explain what each of the cells is doing. From the next notebook, we will not include all the explanatory content. If you find at some point that you need a reminder of what the Preamble section is doing, you should come back to this notebook."
   ]
  },
  {
   "cell_type": "markdown",
   "metadata": {},
   "source": [
    "### Imports "
   ]
  },
  {
   "cell_type": "markdown",
   "metadata": {},
   "source": [
    "Import pandas as standard:"
   ]
  },
  {
   "cell_type": "code",
   "execution_count": null,
   "metadata": {},
   "outputs": [],
   "source": [
    "import pandas as pd"
   ]
  },
  {
   "cell_type": "markdown",
   "metadata": {},
   "source": [
    "Import the sql magic so that we can easily make calls on the database. The first call to "
   ]
  },
  {
   "cell_type": "code",
   "execution_count": null,
   "metadata": {},
   "outputs": [],
   "source": [
    "%%capture --no-display capture_output\n",
    "\n",
    "%load_ext sql"
   ]
  },
  {
   "cell_type": "markdown",
   "metadata": {},
   "source": [
    "And load the schema display magic so that we can see the entity relation diagrams for the tables."
   ]
  },
  {
   "cell_type": "code",
   "execution_count": null,
   "metadata": {},
   "outputs": [],
   "source": [
    "%%capture --no-display capture_output\n",
    "\n",
    "%load_ext schemadisplay_magic"
   ]
  },
  {
   "cell_type": "markdown",
   "metadata": {},
   "source": [
    "### Connect to the database"
   ]
  },
  {
   "cell_type": "markdown",
   "metadata": {},
   "source": [
    "Construct the connection string using the variables set in the top cells."
   ]
  },
  {
   "cell_type": "markdown",
   "metadata": {},
   "source": [
    "We will use the variables `DB_USER` and `DB_PWD` to contain the name and password of the account that is being used to connect to the database.\n",
    "\n",
    "For TM351, we have created an account with login ID `tm351` and password `tm351`."
   ]
  },
  {
   "cell_type": "code",
   "execution_count": null,
   "metadata": {},
   "outputs": [],
   "source": [
    "DB_USER='tm351'\n",
    "DB_PWD='tm351'"
   ]
  },
  {
   "cell_type": "markdown",
   "metadata": {},
   "source": [
    "To make the connection, we also need to state the database engine and the host and port on which the engine is listening."
   ]
  },
  {
   "cell_type": "code",
   "execution_count": null,
   "metadata": {},
   "outputs": [],
   "source": [
    "DB_ENGINE='postgresql' # tells ipython-sql that we will use postgreSQL as our database engine\n",
    "DB_ADDR='localhost:5432' # the host and port on which the database engine is listening"
   ]
  },
  {
   "cell_type": "markdown",
   "metadata": {},
   "source": [
    "And put them together to create the connection string:"
   ]
  },
  {
   "cell_type": "code",
   "execution_count": null,
   "metadata": {},
   "outputs": [],
   "source": [
    "# Use urllib to escape any special characters in the password\n",
    "\n",
    "import urllib\n",
    "\n",
    "DB_CONNECTION = '{engine}://{user}:{pwd}@{addr}/{name}'.format(engine=DB_ENGINE,\n",
    "                                                               user=DB_USER,\n",
    "                                                               pwd=urllib.parse.quote_plus(DB_PWD),\n",
    "                                                               addr=DB_ADDR,\n",
    "                                                               name=DB_USER)\n"
   ]
  },
  {
   "cell_type": "markdown",
   "metadata": {},
   "source": [
    "### Configure ipython-sql"
   ]
  },
  {
   "cell_type": "markdown",
   "metadata": {},
   "source": [
    "By default, the sql magic returns queries as a `sql.run.ResultSet` object. We would prefer to return the values as a `pandas.DataFrame`:"
   ]
  },
  {
   "cell_type": "code",
   "execution_count": null,
   "metadata": {},
   "outputs": [],
   "source": [
    "%%capture --no-display capture_output\n",
    "\n",
    "# Set ipython-sql to return dataframes\n",
    "\n",
    "%config SqlMagic.autopandas=True"
   ]
  },
  {
   "cell_type": "markdown",
   "metadata": {},
   "source": [
    "By default, PostgreSQL returns results with the python `decimal` type, but *pandas* (or rather, `numpy`) prefers to work with `float`s:"
   ]
  },
  {
   "cell_type": "code",
   "execution_count": null,
   "metadata": {},
   "outputs": [],
   "source": [
    "%%capture --no-display capture_output\n",
    "\n",
    "# Set to return floats rather than decimals\n",
    "\n",
    "import psycopg2\n",
    "\n",
    "DEC2FLOAT = psycopg2.extensions.new_type(\n",
    "    psycopg2.extensions.DECIMAL.values,\n",
    "    'DEC2FLOAT',\n",
    "    lambda value, curs: float(value) if value is not None else None)\n",
    "psycopg2.extensions.register_type(DEC2FLOAT)"
   ]
  }
 ],
 "metadata": {
  "kernelspec": {
   "display_name": "Python 3 (ipykernel)",
   "language": "python",
   "name": "python3"
  },
  "language_info": {
   "codemirror_mode": {
    "name": "ipython",
    "version": 3
   },
   "file_extension": ".py",
   "mimetype": "text/x-python",
   "name": "python",
   "nbconvert_exporter": "python",
   "pygments_lexer": "ipython3",
   "version": "3.8.5"
  }
 },
 "nbformat": 4,
 "nbformat_minor": 2
}
