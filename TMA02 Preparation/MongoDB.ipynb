{
 "cells": [
  {
   "cell_type": "markdown",
   "metadata": {
    "tags": [
     "style-activity"
    ]
   },
   "source": [
    "# MongoDB Examples"
   ]
  },
  {
   "cell_type": "markdown",
   "metadata": {},
   "source": [
    "This notebook uses three different data sets:\n",
    "\n",
    "* the UK Baby Names dataset introduced in my TMA01 Preparation Tutorial (available on Github: https://github.com/MaryGarvey/TM351/tree/main/TMA01_Preparation)\n",
    "* JSON data from from the USA Government (pre-current 2025 administration)\n",
    "* Former Twitter data (#BBCNews)\n",
    "\n",
    "These will be stored in three separate databases: babyNamesDB, politicsDB and twitterDB.\n",
    "\n",
    "Activity 13.2 introduces *Seven Databases in Seven Weeks* (Redmond 2012)\n",
    "\n",
    "The most common NoSQL databases introduced are:\n",
    "\n",
    "- Riak\t- key value\n",
    "- Hbase\t- wide column\n",
    "- MongoDB\t- document \n",
    "- CouchDB - document \n",
    "- Neo4j\t- graph\n",
    "- Redis\t- key value\n",
    "\n",
    "This notebook will look at the MongoDB NoSQL document database."
   ]
  },
  {
   "cell_type": "markdown",
   "metadata": {
    "tags": [
     "style-learner"
    ]
   },
   "source": [
    "# UK Baby Names 👶 (1996-2021)"
   ]
  },
  {
   "cell_type": "markdown",
   "metadata": {},
   "source": [
    "## Introduction (from the Kaggle Website)\n",
    "\n",
    "<i>Baby name statistics are compiled from first names recorded when live births are registered in England and Wales as part of civil registration, a legal requirement.\n",
    "The statistics are based only on live births which occurred in the calendar year, as there is no public register of stillbirths.</i>\n",
    "\n",
    "<i>Babies born in England and Wales to women whose usual residence is outside England and Wales are included in the statistics for England and Wales as a whole, but excluded from any sub-division of England and Wales.\n",
    "The statistics are based on the exact spelling of the name given on the birth certificate. Grouping names with similar pronunciation would change the rankings. Exact names are given so users can group if they wish.</i>\n",
    "\n",
    "<i>The dataset contains records of around 16k boy names and 22k girl names.</i>\n",
    "\n",
    "You can get further information and the datasets from: \n",
    "https://www.kaggle.com/datasets/johnsmith44/uk-baby-names-1996-2021"
   ]
  },
  {
   "cell_type": "code",
   "execution_count": 1,
   "metadata": {
    "run_control": {
     "read_only": false
    }
   },
   "outputs": [
    {
     "name": "stdout",
     "output_type": "stream",
     "text": [
      "4.10.1\n"
     ]
    }
   ],
   "source": [
    "# Import the required libraries\n",
    "\n",
    "import pymongo\n",
    "import datetime\n",
    "import collections\n",
    "#import Object\n",
    "\n",
    "import pandas as pd\n",
    "# better for printing JSON data: p(retty)print\n",
    "from pprint import pprint\n",
    "\n",
    "# Print out the version of pymongo \n",
    "print (pymongo.version)"
   ]
  },
  {
   "cell_type": "code",
   "execution_count": 2,
   "metadata": {},
   "outputs": [],
   "source": [
    "#SET DATABASE CONNECTION STRINGS\n",
    "MONGOHOST='localhost'\n",
    "MONGOPORT=27017\n",
    "MONGOCONN='mongodb://{MONGOHOST}:{MONGOPORT}/'.format(MONGOHOST=MONGOHOST,MONGOPORT=MONGOPORT)"
   ]
  },
  {
   "cell_type": "code",
   "execution_count": 3,
   "metadata": {},
   "outputs": [
    {
     "name": "stdout",
     "output_type": "stream",
     "text": [
      "db version v7.0.14\n",
      "Build Info: {\n",
      "    \"version\": \"7.0.14\",\n",
      "    \"gitVersion\": \"ce59cfc6a3c5e5c067dca0d30697edd68d4f5188\",\n",
      "    \"openSSLVersion\": \"OpenSSL 3.0.14 4 Jun 2024\",\n",
      "    \"modules\": [],\n",
      "    \"allocator\": \"tcmalloc\",\n",
      "    \"environment\": {\n",
      "        \"distmod\": \"ubuntu2204\",\n",
      "        \"distarch\": \"x86_64\",\n",
      "        \"target_arch\": \"x86_64\"\n",
      "    }\n",
      "}\n"
     ]
    }
   ],
   "source": [
    "# MongoDB version\n",
    "! mongod --version"
   ]
  },
  {
   "cell_type": "code",
   "execution_count": 4,
   "metadata": {},
   "outputs": [],
   "source": [
    "client = pymongo.MongoClient(MONGOCONN)"
   ]
  },
  {
   "cell_type": "code",
   "execution_count": 5,
   "metadata": {},
   "outputs": [
    {
     "data": {
      "text/plain": [
       "['accidents', 'admin', 'bbc_db', 'config', 'fsa', 'local']"
      ]
     },
     "execution_count": 5,
     "metadata": {},
     "output_type": "execute_result"
    }
   ],
   "source": [
    "# Drop the tutorial databases so we start with a clean sheet\n",
    "# Unlike SQL, the command will not generate an error if it does not already exist\n",
    "client.drop_database('babyNamesDB')\n",
    "client.drop_database('politicsDB')\n",
    "client.drop_database('twitterDB')\n",
    "client.list_database_names()"
   ]
  },
  {
   "cell_type": "code",
   "execution_count": 6,
   "metadata": {},
   "outputs": [
    {
     "name": "stdout",
     "output_type": "stream",
     "text": [
      "Name,2021 Rank,2021 Count,2020 Rank,2020 Count,2019 Rank,2019 Count,2018 Rank,2018 Count,2017 Rank,2017 Count,2016 Rank,2016 Count,2015 Rank,2015 Count,2014 Rank,2014 Count,2013 Rank,2013 Count,2012 Rank,2012 Count,2011 Rank,2011 Count,2010 Rank,2010 Count,2009 Rank,2009 Count,2008 Rank,2008 Count,2007 Rank,2007 Count,2006 Rank,2006 Count,2005 Rank,2005 Count,2004 Rank,2004 Count,2003 Rank,2003 Count,2002 Rank,2002 Count,2001 Rank,2001 Count,2000 Rank,2000 Count,1999 Rank,1999 Count,1998 Rank,1998 Count,1997 Rank,1997 Count,1996 Rank,1996 Count\n",
      "A'Idah,,,,,4686.0,4.0,,,,,,,,,,,,,,,,,,,,,,,,,,,,,,,,,,,,,,,,,,,,,,\n",
      "A'Isha,5581.0,3.0,,,2458.0,10.0,,,4763.0,4.0,2757.0,9.0,2328.0,11.0,2659.0,9.0,4050.0,5.0,4171.0,5.0,4764.0,4.0,3533.0,6.0,3936.0,5.0,4524.0,4.0,2233.0,10.0,,,4798.0,3.0,3725.0,4.0,4373.0,3.0,,,2023.0,8.0,,,,,3142.0,4.0,,,,\n",
      "A'Ishah,4634.0,4.0,,,,,,,5765.0,3.0,,,,,3160.0,7.0,5742.0,3.0,4171.0,5.0,5785.0,3.0,2589.0,9.0,,,4524.0,4.0,2895.0,7.0,5061.0,3.0,3382.0,5.0,2802.0,6.0,2727.0,6.0,2868.0,5.0,2023.0,8.0,3912.0,3.0,3225.0,4.0,3142.0,4.0,,,,\n",
      "A'Niyah,,,,,,,,,,,5785.0,3.0,,,,,,,,,,,,,,,,,,,,,,,,,,,,,,,,,,,,,,,,\n",
      "Aa'Idah,4634.0,4.0,,,,,,,,,,,,,,,,,,,,,,,,,,,,,,,,,,,,,,,,,,,,,,,,,,\n",
      "Aa'Isha,,,,,,,,,,,,,,,,,,,5876.0,3.0,,,,,,,,,,,,,,,4598.0,3.0,,,,,,,,,,,,,,,,\n",
      "Aa'Ishah,,,,,,,,,,,,,,,,,,,,,,,,,,,5545.0,3.0,4294.0,4.0,,,,,,,,,2868.0,5.0,,,,,3900.0,3.0,,,3824.0,3.0,,\n",
      "Aabha,5581.0,3.0,,,,,,,,,,,,,,,,,,,,,,,,,,,,,,,,,,,,,,,,,,,,,,,,,,\n",
      "Aabida,5581.0,3.0,,,,,,,,,,,,,,,,,,,,,,,,,,,,,,,,,,,,,,,,,,,,,,,,,,\n"
     ]
    }
   ],
   "source": [
    "# Check the start and end of the file for any issues\n",
    "!head data/UKGirlNames1996-2021.csv"
   ]
  },
  {
   "cell_type": "code",
   "execution_count": 7,
   "metadata": {},
   "outputs": [
    {
     "name": "stdout",
     "output_type": "stream",
     "text": [
      "Zyanna,,,5493.0,3.0,,,,,,,,,,,,,,,,,,,,,,,,,,,,,,,,,,,,,,,,,,,,,,,,\n",
      "Zyla,2711.0,9.0,3117.0,7.0,3541.0,6.0,5666.0,3.0,,,5785.0,3.0,5730.0,3.0,,,,,,,,,,,,,,,,,,,,,,,,,,,,,,,,,,,,,,\n",
      "Zylah,4634.0,4.0,5493.0,3.0,,,,,5765.0,3.0,,,,,,,,,,,,,,,,,,,,,,,,,,,,,,,,,,,,,,,,,,\n",
      "Zymal,,,,,,,,,5765.0,3.0,,,,,,,4739.0,4.0,,,,,,,,,2487.0,9.0,2627.0,8.0,,,,,,,,,,,,,,,,,,,,,,\n",
      "Zynab,,,,,,,,,,,,,,,,,,,,,,,,,,,,,,,,,,,,,,,,,,,,,3900.0,3.0,,,,,,\n",
      "Zynah,3961.0,5.0,,,,,,,4763.0,4.0,,,2705.0,9.0,5691.0,3.0,2887.0,8.0,4171.0,5.0,4764.0,4.0,5707.0,3.0,,,5545.0,3.0,,,,,,,,,,,,,,,,,,,,,,,,\n",
      "Zyra,2341.0,11.0,2449.0,10.0,4001.0,5.0,2901.0,8.0,4063.0,5.0,,,4736.0,4.0,,,5742.0,3.0,5876.0,3.0,,,4688.0,4.0,,,5545.0,3.0,,,,,,,,,,,,,,,,,,,,,,,,\n",
      "Zyrah,5581.0,3.0,4535.0,4.0,,,,,4763.0,4.0,4096.0,5.0,,,,,,,,,,,,,,,,,,,,,,,,,,,,,,,,,,,,,,,,\n",
      "Zysha,4634.0,4.0,,,,,,,,,,,,,,,,,,,,,,,,,,,,,,,,,,,,,,,,,,,,,,,,,,\n",
      "Zyva,2711.0,9.0,2449.0,10.0,3541.0,6.0,3985.0,5.0,4063.0,5.0,,,5730.0,3.0,,,,,,,,,,,3936.0,5.0,5545.0,3.0,,,,,,,,,,,,,,,,,,,,,,,,\n"
     ]
    }
   ],
   "source": [
    "!tail data/UKGirlNames1996-2021.csv"
   ]
  },
  {
   "cell_type": "code",
   "execution_count": 8,
   "metadata": {},
   "outputs": [],
   "source": [
    "# babyNamesDB is a database that contains 2 collections (similar to tables)\n",
    "db = client.babyNamesDB"
   ]
  },
  {
   "cell_type": "markdown",
   "metadata": {},
   "source": [
    "There are two ways to import the CSV dataset.\n",
    "\n",
    "- use the `mongoimport` command\n",
    "- import into a dataframe as normal, then convert to a MongoDB collection\n",
    "\n",
    "Both methods will be shown here for information.\n",
    "\n",
    "1. Using mongoimport"
   ]
  },
  {
   "cell_type": "code",
   "execution_count": 9,
   "metadata": {},
   "outputs": [
    {
     "name": "stdout",
     "output_type": "stream",
     "text": [
      "2025-01-24T12:40:27.540+0000\tconnected to: mongodb://localhost/\n",
      "2025-01-24T12:40:28.030+0000\t21958 document(s) imported successfully. 0 document(s) failed to import.\n"
     ]
    }
   ],
   "source": [
    "# 1. using mongoimport\n",
    "! mongoimport --db babyNamesDB --type=csv --headerline --file data/UKGirlNames1996-2021.csv --collection girls"
   ]
  },
  {
   "cell_type": "code",
   "execution_count": 10,
   "metadata": {},
   "outputs": [
    {
     "name": "stdout",
     "output_type": "stream",
     "text": [
      "2025-01-24T12:40:28.148+0000\tconnected to: mongodb://localhost/\n",
      "2025-01-24T12:40:28.526+0000\t16777 document(s) imported successfully. 0 document(s) failed to import.\n"
     ]
    }
   ],
   "source": [
    "! mongoimport --db babyNamesDB --type=csv --headerline --file data/UKBoyNames1996-2021.csv --collection boys"
   ]
  },
  {
   "cell_type": "markdown",
   "metadata": {},
   "source": [
    "Code for importing via a data frame:\n",
    "<pre>\n",
    "# importing via a data frame\n",
    "names_df = pd.read_csv(\"data/UKBoyNames1996-2021.csv\")\n",
    "db.boys.insert_many(names_df.to_dict('records'))\n",
    "</pre>"
   ]
  },
  {
   "cell_type": "code",
   "execution_count": 11,
   "metadata": {},
   "outputs": [
    {
     "data": {
      "text/plain": [
       "['accidents', 'admin', 'babyNamesDB', 'bbc_db', 'config', 'fsa', 'local']"
      ]
     },
     "execution_count": 11,
     "metadata": {},
     "output_type": "execute_result"
    }
   ],
   "source": [
    "# Check the database has been added (babyNamesDB)\n",
    "client.list_database_names()"
   ]
  },
  {
   "cell_type": "code",
   "execution_count": 12,
   "metadata": {},
   "outputs": [
    {
     "data": {
      "text/plain": [
       "['boys', 'girls']"
      ]
     },
     "execution_count": 12,
     "metadata": {},
     "output_type": "execute_result"
    }
   ],
   "source": [
    "# and it contains the two collections\n",
    "db.list_collection_names()"
   ]
  },
  {
   "cell_type": "code",
   "execution_count": 13,
   "metadata": {},
   "outputs": [],
   "source": [
    "# setup variables for the two collections\n",
    "boys = db.boys\n",
    "girls = db.girls"
   ]
  },
  {
   "cell_type": "code",
   "execution_count": 14,
   "metadata": {},
   "outputs": [
    {
     "name": "stdout",
     "output_type": "stream",
     "text": [
      "Girls:\t21958\n",
      "Boys:\t16777\n"
     ]
    }
   ],
   "source": [
    "# how many documents does each collection have:\n",
    "print(\"Girls:\\t{}\".format(girls.count_documents({})))\n",
    "print(\"Boys:\\t{}\".format(boys.count_documents({})))"
   ]
  },
  {
   "cell_type": "markdown",
   "metadata": {},
   "source": [
    "The variables saves us having to use db.collectionName.function() in the queries, for example, you can use `girls.find()` instead of `db.girls.find()`. You can still use the longer format.\n",
    "\n",
    "Just be careful if you swap databases in the same Notebook, as we do later, you could end up referencing a collection in the wrong database. Mongo will not warn you that this is an error, it just assumes it does not exist and will return nothing - a consequence of a schemaless database. "
   ]
  },
  {
   "cell_type": "code",
   "execution_count": 15,
   "metadata": {},
   "outputs": [
    {
     "data": {
      "text/plain": [
       "{'_id': ObjectId('67938a3b1d753da705dd2ed6'),\n",
       " 'Name': \"A'Idah\",\n",
       " '2021 Rank': '',\n",
       " '2021 Count': '',\n",
       " '2020 Rank': '',\n",
       " '2020 Count': '',\n",
       " '2019 Rank': 4686.0,\n",
       " '2019 Count': 4.0,\n",
       " '2018 Rank': '',\n",
       " '2018 Count': '',\n",
       " '2017 Rank': '',\n",
       " '2017 Count': '',\n",
       " '2016 Rank': '',\n",
       " '2016 Count': '',\n",
       " '2015 Rank': '',\n",
       " '2015 Count': '',\n",
       " '2014 Rank': '',\n",
       " '2014 Count': '',\n",
       " '2013 Rank': '',\n",
       " '2013 Count': '',\n",
       " '2012 Rank': '',\n",
       " '2012 Count': '',\n",
       " '2011 Rank': '',\n",
       " '2011 Count': '',\n",
       " '2010 Rank': '',\n",
       " '2010 Count': '',\n",
       " '2009 Rank': '',\n",
       " '2009 Count': '',\n",
       " '2008 Rank': '',\n",
       " '2008 Count': '',\n",
       " '2007 Rank': '',\n",
       " '2007 Count': '',\n",
       " '2006 Rank': '',\n",
       " '2006 Count': '',\n",
       " '2005 Rank': '',\n",
       " '2005 Count': '',\n",
       " '2004 Rank': '',\n",
       " '2004 Count': '',\n",
       " '2003 Rank': '',\n",
       " '2003 Count': '',\n",
       " '2002 Rank': '',\n",
       " '2002 Count': '',\n",
       " '2001 Rank': '',\n",
       " '2001 Count': '',\n",
       " '2000 Rank': '',\n",
       " '2000 Count': '',\n",
       " '1999 Rank': '',\n",
       " '1999 Count': '',\n",
       " '1998 Rank': '',\n",
       " '1998 Count': '',\n",
       " '1997 Rank': '',\n",
       " '1997 Count': '',\n",
       " '1996 Rank': '',\n",
       " '1996 Count': ''}"
      ]
     },
     "execution_count": 15,
     "metadata": {},
     "output_type": "execute_result"
    }
   ],
   "source": [
    "# Show one record - can be any one from the collection\n",
    "girls.find_one()"
   ]
  },
  {
   "cell_type": "markdown",
   "metadata": {},
   "source": [
    "We can see there are a lot of missing values, which will be removed later."
   ]
  },
  {
   "cell_type": "markdown",
   "metadata": {
    "tags": [
     "style-activity"
    ]
   },
   "source": [
    "# Querying "
   ]
  },
  {
   "cell_type": "markdown",
   "metadata": {},
   "source": [
    "MongoDB data is stored in JSON format, which means it uses the format of: *{key: value}* for most things.\n",
    "\n",
    "The *find()* function is the equivalent of the SQL SELECT statement.\n",
    "\n",
    "Instead of a *WHERE* clause you need to provide a JSON string for what you want to find.\n",
    "\n",
    "For example, the following is the equivalent of *SELECT * FROM girlsName WHERE name = 'Mary';*"
   ]
  },
  {
   "cell_type": "code",
   "execution_count": 16,
   "metadata": {},
   "outputs": [
    {
     "data": {
      "text/plain": [
       "<pymongo.synchronous.cursor.Cursor at 0x7fbbeca6da50>"
      ]
     },
     "execution_count": 16,
     "metadata": {},
     "output_type": "execute_result"
    }
   ],
   "source": [
    "girls.find({'Name': 'Mary'})"
   ]
  },
  {
   "cell_type": "code",
   "execution_count": 17,
   "metadata": {},
   "outputs": [
    {
     "data": {
      "text/plain": [
       "{'_id': ObjectId('67938a3b1d753da705dd634f'),\n",
       " 'Name': 'Mary-Beth',\n",
       " '2021 Rank': '',\n",
       " '2021 Count': '',\n",
       " '2020 Rank': '',\n",
       " '2020 Count': '',\n",
       " '2019 Rank': '',\n",
       " '2019 Count': '',\n",
       " '2018 Rank': '',\n",
       " '2018 Count': '',\n",
       " '2017 Rank': '',\n",
       " '2017 Count': '',\n",
       " '2016 Rank': '',\n",
       " '2016 Count': '',\n",
       " '2015 Rank': '',\n",
       " '2015 Count': '',\n",
       " '2014 Rank': '',\n",
       " '2014 Count': '',\n",
       " '2013 Rank': '',\n",
       " '2013 Count': '',\n",
       " '2012 Rank': '',\n",
       " '2012 Count': '',\n",
       " '2011 Rank': 5785.0,\n",
       " '2011 Count': 3.0,\n",
       " '2010 Rank': '',\n",
       " '2010 Count': '',\n",
       " '2009 Rank': '',\n",
       " '2009 Count': '',\n",
       " '2008 Rank': '',\n",
       " '2008 Count': '',\n",
       " '2007 Rank': '',\n",
       " '2007 Count': '',\n",
       " '2006 Rank': '',\n",
       " '2006 Count': '',\n",
       " '2005 Rank': 3970.0,\n",
       " '2005 Count': 4.0,\n",
       " '2004 Rank': '',\n",
       " '2004 Count': '',\n",
       " '2003 Rank': 4373.0,\n",
       " '2003 Count': 3.0,\n",
       " '2002 Rank': 4137.0,\n",
       " '2002 Count': 3.0,\n",
       " '2001 Rank': '',\n",
       " '2001 Count': '',\n",
       " '2000 Rank': '',\n",
       " '2000 Count': '',\n",
       " '1999 Rank': 2444.0,\n",
       " '1999 Count': 6.0,\n",
       " '1998 Rank': '',\n",
       " '1998 Count': '',\n",
       " '1997 Rank': 2738.0,\n",
       " '1997 Count': 5.0,\n",
       " '1996 Rank': 3126.0,\n",
       " '1996 Count': 4.0}"
      ]
     },
     "execution_count": 17,
     "metadata": {},
     "output_type": "execute_result"
    }
   ],
   "source": [
    "# Can specify a search criteria with find_one too (could be the only one)\n",
    "girls.find_one({'Name': 'Mary-Beth'})"
   ]
  },
  {
   "cell_type": "markdown",
   "metadata": {},
   "source": [
    "The difference between `find()` and `find_one()` is that the former returns all the documents matching the criteria, whereas the latter returns just one of the documents, which can be used to the structure of the data. Do bear in mind, since MongoDB can store semi-structured data, different documents could have a different structure, unlike a relational database, where records in a table would all have the same structure.\n",
    "\n",
    "To see what is returned in the cursor, lets create some functions to print the individual documents from the cursor."
   ]
  },
  {
   "cell_type": "code",
   "execution_count": 18,
   "metadata": {},
   "outputs": [],
   "source": [
    "# This means an iterator is needed to display the results\n",
    "# using pretty print\n",
    "def printDocs(documents):\n",
    "    for doc in documents:\n",
    "        pprint(doc)\n",
    "\n",
    "# ordinary print\n",
    "def printDoc(documents):\n",
    "    for doc in documents:\n",
    "        print(doc)\n",
    "\n",
    "# ordinary print\n",
    "def printDocValues(documents):\n",
    "    for doc in documents:\n",
    "        values = list(doc.values())\n",
    "        print(values)"
   ]
  },
  {
   "cell_type": "code",
   "execution_count": 19,
   "metadata": {},
   "outputs": [
    {
     "name": "stdout",
     "output_type": "stream",
     "text": [
      "{'_id': ObjectId('67938a3b1d753da705dd634d'), 'Name': 'Mary', '2021 Rank': 318.0, '2021 Count': 148.0, '2020 Rank': 291.0, '2020 Count': 160.0, '2019 Rank': 289.0, '2019 Count': 170.0, '2018 Rank': 259.0, '2018 Count': 189.0, '2017 Rank': 320.0, '2017 Count': 150.0, '2016 Rank': 250.0, '2016 Count': 204.0, '2015 Rank': 249.0, '2015 Count': 198.0, '2014 Rank': 225.0, '2014 Count': 229.0, '2013 Rank': 244.0, '2013 Count': 203.0, '2012 Rank': 241.0, '2012 Count': 209.0, '2011 Rank': 250.0, '2011 Count': 200.0, '2010 Rank': 213.0, '2010 Count': 237.0, '2009 Rank': 227.0, '2009 Count': 213.0, '2008 Rank': 179.0, '2008 Count': 292.0, '2007 Rank': 177.0, '2007 Count': 300.0, '2006 Rank': 170.0, '2006 Count': 310.0, '2005 Rank': 151.0, '2005 Count': 339.0, '2004 Rank': 164.0, '2004 Count': 325.0, '2003 Rank': 162.0, '2003 Count': 298.0, '2002 Rank': 146.0, '2002 Count': 310.0, '2001 Rank': 145.0, '2001 Count': 315.0, '2000 Rank': 146.0, '2000 Count': 313.0, '1999 Rank': 139.0, '1999 Count': 334.0, '1998 Rank': 133.0, '1998 Count': 350.0, '1997 Rank': 118.0, '1997 Count': 424.0, '1996 Rank': 122.0, '1996 Count': 380.0}\n"
     ]
    }
   ],
   "source": [
    "# find the Marys\n",
    "docs = girls.find({'Name': 'Mary'})\n",
    "printDoc(docs)"
   ]
  },
  {
   "cell_type": "code",
   "execution_count": 20,
   "metadata": {
    "scrolled": true
   },
   "outputs": [
    {
     "data": {
      "text/html": [
       "<div>\n",
       "<style scoped>\n",
       "    .dataframe tbody tr th:only-of-type {\n",
       "        vertical-align: middle;\n",
       "    }\n",
       "\n",
       "    .dataframe tbody tr th {\n",
       "        vertical-align: top;\n",
       "    }\n",
       "\n",
       "    .dataframe thead th {\n",
       "        text-align: right;\n",
       "    }\n",
       "</style>\n",
       "<table border=\"1\" class=\"dataframe\">\n",
       "  <thead>\n",
       "    <tr style=\"text-align: right;\">\n",
       "      <th></th>\n",
       "      <th>_id</th>\n",
       "      <th>Name</th>\n",
       "      <th>2021 Rank</th>\n",
       "      <th>2021 Count</th>\n",
       "      <th>2020 Rank</th>\n",
       "      <th>2020 Count</th>\n",
       "      <th>2019 Rank</th>\n",
       "      <th>2019 Count</th>\n",
       "      <th>2018 Rank</th>\n",
       "      <th>2018 Count</th>\n",
       "      <th>...</th>\n",
       "      <th>2000 Rank</th>\n",
       "      <th>2000 Count</th>\n",
       "      <th>1999 Rank</th>\n",
       "      <th>1999 Count</th>\n",
       "      <th>1998 Rank</th>\n",
       "      <th>1998 Count</th>\n",
       "      <th>1997 Rank</th>\n",
       "      <th>1997 Count</th>\n",
       "      <th>1996 Rank</th>\n",
       "      <th>1996 Count</th>\n",
       "    </tr>\n",
       "  </thead>\n",
       "  <tbody>\n",
       "    <tr>\n",
       "      <th>0</th>\n",
       "      <td>67938a3b1d753da705dd3448</td>\n",
       "      <td>Amelia</td>\n",
       "      <td>2.0</td>\n",
       "      <td>3164.0</td>\n",
       "      <td>2.0</td>\n",
       "      <td>3319.0</td>\n",
       "      <td>2.0</td>\n",
       "      <td>3712.0</td>\n",
       "      <td>2.0</td>\n",
       "      <td>3941.0</td>\n",
       "      <td>...</td>\n",
       "      <td>35.0</td>\n",
       "      <td>1489.0</td>\n",
       "      <td>37.0</td>\n",
       "      <td>1511.0</td>\n",
       "      <td>48.0</td>\n",
       "      <td>1249.0</td>\n",
       "      <td>49.0</td>\n",
       "      <td>1145.0</td>\n",
       "      <td>63.0</td>\n",
       "      <td>929.0</td>\n",
       "    </tr>\n",
       "    <tr>\n",
       "      <th>1</th>\n",
       "      <td>67938a3b1d753da705dd3943</td>\n",
       "      <td>Ava</td>\n",
       "      <td>4.0</td>\n",
       "      <td>2576.0</td>\n",
       "      <td>4.0</td>\n",
       "      <td>2679.0</td>\n",
       "      <td>4.0</td>\n",
       "      <td>2946.0</td>\n",
       "      <td>3.0</td>\n",
       "      <td>3110.0</td>\n",
       "      <td>...</td>\n",
       "      <td>291.0</td>\n",
       "      <td>129.0</td>\n",
       "      <td>429.0</td>\n",
       "      <td>70.0</td>\n",
       "      <td>530.0</td>\n",
       "      <td>51.0</td>\n",
       "      <td>500.0</td>\n",
       "      <td>55.0</td>\n",
       "      <td>753.0</td>\n",
       "      <td>30.0</td>\n",
       "    </tr>\n",
       "    <tr>\n",
       "      <th>2</th>\n",
       "      <td>67938a3b1d753da705dd4a96</td>\n",
       "      <td>Florence</td>\n",
       "      <td>8.0</td>\n",
       "      <td>2180.0</td>\n",
       "      <td>14.0</td>\n",
       "      <td>1963.0</td>\n",
       "      <td>15.0</td>\n",
       "      <td>2025.0</td>\n",
       "      <td>15.0</td>\n",
       "      <td>2062.0</td>\n",
       "      <td>...</td>\n",
       "      <td>163.0</td>\n",
       "      <td>274.0</td>\n",
       "      <td>166.0</td>\n",
       "      <td>268.0</td>\n",
       "      <td>177.0</td>\n",
       "      <td>244.0</td>\n",
       "      <td>175.0</td>\n",
       "      <td>257.0</td>\n",
       "      <td>194.0</td>\n",
       "      <td>228.0</td>\n",
       "    </tr>\n",
       "    <tr>\n",
       "      <th>3</th>\n",
       "      <td>67938a3b1d753da705dd4af6</td>\n",
       "      <td>Freya</td>\n",
       "      <td>6.0</td>\n",
       "      <td>2187.0</td>\n",
       "      <td>12.0</td>\n",
       "      <td>1982.0</td>\n",
       "      <td>10.0</td>\n",
       "      <td>2264.0</td>\n",
       "      <td>18.0</td>\n",
       "      <td>1921.0</td>\n",
       "      <td>...</td>\n",
       "      <td>75.0</td>\n",
       "      <td>686.0</td>\n",
       "      <td>92.0</td>\n",
       "      <td>589.0</td>\n",
       "      <td>93.0</td>\n",
       "      <td>563.0</td>\n",
       "      <td>113.0</td>\n",
       "      <td>450.0</td>\n",
       "      <td>118.0</td>\n",
       "      <td>394.0</td>\n",
       "    </tr>\n",
       "    <tr>\n",
       "      <th>4</th>\n",
       "      <td>67938a3b1d753da705dd50f2</td>\n",
       "      <td>Isabella</td>\n",
       "      <td>13.0</td>\n",
       "      <td>2010.0</td>\n",
       "      <td>8.0</td>\n",
       "      <td>2052.0</td>\n",
       "      <td>6.0</td>\n",
       "      <td>2398.0</td>\n",
       "      <td>7.0</td>\n",
       "      <td>2369.0</td>\n",
       "      <td>...</td>\n",
       "      <td>64.0</td>\n",
       "      <td>796.0</td>\n",
       "      <td>57.0</td>\n",
       "      <td>883.0</td>\n",
       "      <td>90.0</td>\n",
       "      <td>594.0</td>\n",
       "      <td>107.0</td>\n",
       "      <td>470.0</td>\n",
       "      <td>106.0</td>\n",
       "      <td>441.0</td>\n",
       "    </tr>\n",
       "    <tr>\n",
       "      <th>5</th>\n",
       "      <td>67938a3b1d753da705dd512e</td>\n",
       "      <td>Isla</td>\n",
       "      <td>3.0</td>\n",
       "      <td>2683.0</td>\n",
       "      <td>3.0</td>\n",
       "      <td>2749.0</td>\n",
       "      <td>3.0</td>\n",
       "      <td>2981.0</td>\n",
       "      <td>4.0</td>\n",
       "      <td>3046.0</td>\n",
       "      <td>...</td>\n",
       "      <td>297.0</td>\n",
       "      <td>125.0</td>\n",
       "      <td>286.0</td>\n",
       "      <td>124.0</td>\n",
       "      <td>369.0</td>\n",
       "      <td>87.0</td>\n",
       "      <td>380.0</td>\n",
       "      <td>84.0</td>\n",
       "      <td>382.0</td>\n",
       "      <td>87.0</td>\n",
       "    </tr>\n",
       "    <tr>\n",
       "      <th>6</th>\n",
       "      <td>67938a3b1d753da705dd51a1</td>\n",
       "      <td>Ivy</td>\n",
       "      <td>5.0</td>\n",
       "      <td>2245.0</td>\n",
       "      <td>6.0</td>\n",
       "      <td>2166.0</td>\n",
       "      <td>12.0</td>\n",
       "      <td>2158.0</td>\n",
       "      <td>14.0</td>\n",
       "      <td>2104.0</td>\n",
       "      <td>...</td>\n",
       "      <td>1033.0</td>\n",
       "      <td>20.0</td>\n",
       "      <td>1216.0</td>\n",
       "      <td>16.0</td>\n",
       "      <td>2165.0</td>\n",
       "      <td>7.0</td>\n",
       "      <td>1666.0</td>\n",
       "      <td>10.0</td>\n",
       "      <td>1222.0</td>\n",
       "      <td>15.0</td>\n",
       "    </tr>\n",
       "    <tr>\n",
       "      <th>7</th>\n",
       "      <td>67938a3b1d753da705dd5dff</td>\n",
       "      <td>Lily</td>\n",
       "      <td>7.0</td>\n",
       "      <td>2182.0</td>\n",
       "      <td>7.0</td>\n",
       "      <td>2150.0</td>\n",
       "      <td>9.0</td>\n",
       "      <td>2285.0</td>\n",
       "      <td>13.0</td>\n",
       "      <td>2184.0</td>\n",
       "      <td>...</td>\n",
       "      <td>45.0</td>\n",
       "      <td>1124.0</td>\n",
       "      <td>53.0</td>\n",
       "      <td>1007.0</td>\n",
       "      <td>61.0</td>\n",
       "      <td>873.0</td>\n",
       "      <td>75.0</td>\n",
       "      <td>721.0</td>\n",
       "      <td>85.0</td>\n",
       "      <td>651.0</td>\n",
       "    </tr>\n",
       "    <tr>\n",
       "      <th>8</th>\n",
       "      <td>67938a3b1d753da705dd6504</td>\n",
       "      <td>Mia</td>\n",
       "      <td>9.0</td>\n",
       "      <td>2168.0</td>\n",
       "      <td>5.0</td>\n",
       "      <td>2303.0</td>\n",
       "      <td>5.0</td>\n",
       "      <td>2500.0</td>\n",
       "      <td>6.0</td>\n",
       "      <td>2490.0</td>\n",
       "      <td>...</td>\n",
       "      <td>43.0</td>\n",
       "      <td>1149.0</td>\n",
       "      <td>54.0</td>\n",
       "      <td>980.0</td>\n",
       "      <td>75.0</td>\n",
       "      <td>721.0</td>\n",
       "      <td>89.0</td>\n",
       "      <td>583.0</td>\n",
       "      <td>116.0</td>\n",
       "      <td>397.0</td>\n",
       "    </tr>\n",
       "    <tr>\n",
       "      <th>9</th>\n",
       "      <td>67938a3b1d753da705dd6b8f</td>\n",
       "      <td>Olivia</td>\n",
       "      <td>1.0</td>\n",
       "      <td>3649.0</td>\n",
       "      <td>1.0</td>\n",
       "      <td>3640.0</td>\n",
       "      <td>1.0</td>\n",
       "      <td>4082.0</td>\n",
       "      <td>1.0</td>\n",
       "      <td>4598.0</td>\n",
       "      <td>...</td>\n",
       "      <td>8.0</td>\n",
       "      <td>4546.0</td>\n",
       "      <td>4.0</td>\n",
       "      <td>5250.0</td>\n",
       "      <td>16.0</td>\n",
       "      <td>3550.0</td>\n",
       "      <td>19.0</td>\n",
       "      <td>2789.0</td>\n",
       "      <td>24.0</td>\n",
       "      <td>2456.0</td>\n",
       "    </tr>\n",
       "    <tr>\n",
       "      <th>10</th>\n",
       "      <td>67938a3b1d753da705dd7254</td>\n",
       "      <td>Rosie</td>\n",
       "      <td>11.0</td>\n",
       "      <td>2028.0</td>\n",
       "      <td>9.0</td>\n",
       "      <td>2035.0</td>\n",
       "      <td>14.0</td>\n",
       "      <td>2036.0</td>\n",
       "      <td>26.0</td>\n",
       "      <td>1808.0</td>\n",
       "      <td>...</td>\n",
       "      <td>66.0</td>\n",
       "      <td>766.0</td>\n",
       "      <td>63.0</td>\n",
       "      <td>808.0</td>\n",
       "      <td>71.0</td>\n",
       "      <td>786.0</td>\n",
       "      <td>70.0</td>\n",
       "      <td>818.0</td>\n",
       "      <td>69.0</td>\n",
       "      <td>879.0</td>\n",
       "    </tr>\n",
       "    <tr>\n",
       "      <th>11</th>\n",
       "      <td>67938a3b1d753da705dd7a64</td>\n",
       "      <td>Sophia</td>\n",
       "      <td>12.0</td>\n",
       "      <td>2019.0</td>\n",
       "      <td>10.0</td>\n",
       "      <td>2028.0</td>\n",
       "      <td>7.0</td>\n",
       "      <td>2332.0</td>\n",
       "      <td>8.0</td>\n",
       "      <td>2344.0</td>\n",
       "      <td>...</td>\n",
       "      <td>89.0</td>\n",
       "      <td>591.0</td>\n",
       "      <td>98.0</td>\n",
       "      <td>536.0</td>\n",
       "      <td>87.0</td>\n",
       "      <td>596.0</td>\n",
       "      <td>91.0</td>\n",
       "      <td>566.0</td>\n",
       "      <td>95.0</td>\n",
       "      <td>516.0</td>\n",
       "    </tr>\n",
       "    <tr>\n",
       "      <th>12</th>\n",
       "      <td>67938a3c1d753da705dd81d4</td>\n",
       "      <td>Willow</td>\n",
       "      <td>10.0</td>\n",
       "      <td>2067.0</td>\n",
       "      <td>12.0</td>\n",
       "      <td>1982.0</td>\n",
       "      <td>19.0</td>\n",
       "      <td>1995.0</td>\n",
       "      <td>20.0</td>\n",
       "      <td>1900.0</td>\n",
       "      <td>...</td>\n",
       "      <td>427.0</td>\n",
       "      <td>73.0</td>\n",
       "      <td>498.0</td>\n",
       "      <td>58.0</td>\n",
       "      <td>597.0</td>\n",
       "      <td>43.0</td>\n",
       "      <td>983.0</td>\n",
       "      <td>21.0</td>\n",
       "      <td>891.0</td>\n",
       "      <td>24.0</td>\n",
       "    </tr>\n",
       "  </tbody>\n",
       "</table>\n",
       "<p>13 rows × 54 columns</p>\n",
       "</div>"
      ],
      "text/plain": [
       "                         _id      Name  2021 Rank  2021 Count  2020 Rank  \\\n",
       "0   67938a3b1d753da705dd3448    Amelia        2.0      3164.0        2.0   \n",
       "1   67938a3b1d753da705dd3943       Ava        4.0      2576.0        4.0   \n",
       "2   67938a3b1d753da705dd4a96  Florence        8.0      2180.0       14.0   \n",
       "3   67938a3b1d753da705dd4af6     Freya        6.0      2187.0       12.0   \n",
       "4   67938a3b1d753da705dd50f2  Isabella       13.0      2010.0        8.0   \n",
       "5   67938a3b1d753da705dd512e      Isla        3.0      2683.0        3.0   \n",
       "6   67938a3b1d753da705dd51a1       Ivy        5.0      2245.0        6.0   \n",
       "7   67938a3b1d753da705dd5dff      Lily        7.0      2182.0        7.0   \n",
       "8   67938a3b1d753da705dd6504       Mia        9.0      2168.0        5.0   \n",
       "9   67938a3b1d753da705dd6b8f    Olivia        1.0      3649.0        1.0   \n",
       "10  67938a3b1d753da705dd7254     Rosie       11.0      2028.0        9.0   \n",
       "11  67938a3b1d753da705dd7a64    Sophia       12.0      2019.0       10.0   \n",
       "12  67938a3c1d753da705dd81d4    Willow       10.0      2067.0       12.0   \n",
       "\n",
       "    2020 Count  2019 Rank  2019 Count  2018 Rank  2018 Count  ...  2000 Rank  \\\n",
       "0       3319.0        2.0      3712.0        2.0      3941.0  ...       35.0   \n",
       "1       2679.0        4.0      2946.0        3.0      3110.0  ...      291.0   \n",
       "2       1963.0       15.0      2025.0       15.0      2062.0  ...      163.0   \n",
       "3       1982.0       10.0      2264.0       18.0      1921.0  ...       75.0   \n",
       "4       2052.0        6.0      2398.0        7.0      2369.0  ...       64.0   \n",
       "5       2749.0        3.0      2981.0        4.0      3046.0  ...      297.0   \n",
       "6       2166.0       12.0      2158.0       14.0      2104.0  ...     1033.0   \n",
       "7       2150.0        9.0      2285.0       13.0      2184.0  ...       45.0   \n",
       "8       2303.0        5.0      2500.0        6.0      2490.0  ...       43.0   \n",
       "9       3640.0        1.0      4082.0        1.0      4598.0  ...        8.0   \n",
       "10      2035.0       14.0      2036.0       26.0      1808.0  ...       66.0   \n",
       "11      2028.0        7.0      2332.0        8.0      2344.0  ...       89.0   \n",
       "12      1982.0       19.0      1995.0       20.0      1900.0  ...      427.0   \n",
       "\n",
       "    2000 Count  1999 Rank  1999 Count  1998 Rank  1998 Count  1997 Rank  \\\n",
       "0       1489.0       37.0      1511.0       48.0      1249.0       49.0   \n",
       "1        129.0      429.0        70.0      530.0        51.0      500.0   \n",
       "2        274.0      166.0       268.0      177.0       244.0      175.0   \n",
       "3        686.0       92.0       589.0       93.0       563.0      113.0   \n",
       "4        796.0       57.0       883.0       90.0       594.0      107.0   \n",
       "5        125.0      286.0       124.0      369.0        87.0      380.0   \n",
       "6         20.0     1216.0        16.0     2165.0         7.0     1666.0   \n",
       "7       1124.0       53.0      1007.0       61.0       873.0       75.0   \n",
       "8       1149.0       54.0       980.0       75.0       721.0       89.0   \n",
       "9       4546.0        4.0      5250.0       16.0      3550.0       19.0   \n",
       "10       766.0       63.0       808.0       71.0       786.0       70.0   \n",
       "11       591.0       98.0       536.0       87.0       596.0       91.0   \n",
       "12        73.0      498.0        58.0      597.0        43.0      983.0   \n",
       "\n",
       "    1997 Count  1996 Rank  1996 Count  \n",
       "0       1145.0       63.0       929.0  \n",
       "1         55.0      753.0        30.0  \n",
       "2        257.0      194.0       228.0  \n",
       "3        450.0      118.0       394.0  \n",
       "4        470.0      106.0       441.0  \n",
       "5         84.0      382.0        87.0  \n",
       "6         10.0     1222.0        15.0  \n",
       "7        721.0       85.0       651.0  \n",
       "8        583.0      116.0       397.0  \n",
       "9       2789.0       24.0      2456.0  \n",
       "10       818.0       69.0       879.0  \n",
       "11       566.0       95.0       516.0  \n",
       "12        21.0      891.0        24.0  \n",
       "\n",
       "[13 rows x 54 columns]"
      ]
     },
     "execution_count": 20,
     "metadata": {},
     "output_type": "execute_result"
    }
   ],
   "source": [
    "# alternatively use a dataframe to make it more like a relational table\n",
    "# other approaches are to convert the Cursor to a list\n",
    "# find the girls names in 2021 with a count more than 2000\n",
    "pd.DataFrame(girls.find({\"2021 Count\" : {\"$gt\": 2000}}))"
   ]
  },
  {
   "cell_type": "markdown",
   "metadata": {
    "tags": [
     "style-activity"
    ]
   },
   "source": [
    "# Data Dictionary\n",
    "\n"
   ]
  },
  {
   "cell_type": "markdown",
   "metadata": {},
   "source": [
    "One consequence of being schemaless, means there are no conventional data dictionary tables to check if the collection or document names exist. This means that it will not generate an error message if neither exist. Do note, the names are all case sensitive. \n",
    "\n",
    "Why will the following return no records?"
   ]
  },
  {
   "cell_type": "code",
   "execution_count": 21,
   "metadata": {},
   "outputs": [],
   "source": [
    "girls.find_one({\"Name\" : \"Fred\"})"
   ]
  },
  {
   "cell_type": "code",
   "execution_count": 22,
   "metadata": {},
   "outputs": [],
   "source": [
    "db.girls.find_one({\"name\" : \"Susan\"})"
   ]
  },
  {
   "cell_type": "markdown",
   "metadata": {},
   "source": [
    "But it will generate an error message if it can not find the variables or functions:"
   ]
  },
  {
   "cell_type": "code",
   "execution_count": 23,
   "metadata": {},
   "outputs": [
    {
     "ename": "NameError",
     "evalue": "name 'Girls' is not defined",
     "output_type": "error",
     "traceback": [
      "\u001b[0;31m---------------------------------------------------------------------------\u001b[0m",
      "\u001b[0;31mNameError\u001b[0m                                 Traceback (most recent call last)",
      "Cell \u001b[0;32mIn[23], line 1\u001b[0m\n\u001b[0;32m----> 1\u001b[0m \u001b[43mGirls\u001b[49m\u001b[38;5;241m.\u001b[39mfind_one({\u001b[38;5;124m\"\u001b[39m\u001b[38;5;124mName\u001b[39m\u001b[38;5;124m\"\u001b[39m : \u001b[38;5;124m\"\u001b[39m\u001b[38;5;124mSusan\u001b[39m\u001b[38;5;124m\"\u001b[39m})\n",
      "\u001b[0;31mNameError\u001b[0m: name 'Girls' is not defined"
     ]
    }
   ],
   "source": [
    "Girls.find_one({\"Name\" : \"Susan\"})"
   ]
  },
  {
   "cell_type": "code",
   "execution_count": null,
   "metadata": {},
   "outputs": [],
   "source": [
    "girls.find_One({\"Name\" : \"Susan\"})"
   ]
  },
  {
   "cell_type": "code",
   "execution_count": null,
   "metadata": {},
   "outputs": [],
   "source": [
    "girls.find_One({\"Name\" : Susan})"
   ]
  },
  {
   "cell_type": "code",
   "execution_count": null,
   "metadata": {},
   "outputs": [],
   "source": [
    "girls.find_One({Name : \"Susan\"})"
   ]
  },
  {
   "cell_type": "code",
   "execution_count": 24,
   "metadata": {},
   "outputs": [
    {
     "data": {
      "text/plain": [
       "{'_id': ObjectId('67938a3b1d753da705dd7b8e'),\n",
       " 'Name': 'Susan',\n",
       " '2021 Rank': 1692.0,\n",
       " '2021 Count': 17.0,\n",
       " '2020 Rank': 2042.0,\n",
       " '2020 Count': 13.0,\n",
       " '2019 Rank': 3151.0,\n",
       " '2019 Count': 7.0,\n",
       " '2018 Rank': 3518.0,\n",
       " '2018 Count': 6.0,\n",
       " '2017 Rank': 1512.0,\n",
       " '2017 Count': 21.0,\n",
       " '2016 Rank': 1525.0,\n",
       " '2016 Count': 21.0,\n",
       " '2015 Rank': 1601.0,\n",
       " '2015 Count': 19.0,\n",
       " '2014 Rank': 1882.0,\n",
       " '2014 Count': 15.0,\n",
       " '2013 Rank': 1433.0,\n",
       " '2013 Count': 22.0,\n",
       " '2012 Rank': 1130.0,\n",
       " '2012 Count': 30.0,\n",
       " '2011 Rank': 1043.0,\n",
       " '2011 Count': 33.0,\n",
       " '2010 Rank': 1257.0,\n",
       " '2010 Count': 25.0,\n",
       " '2009 Rank': 865.0,\n",
       " '2009 Count': 39.0,\n",
       " '2008 Rank': 878.0,\n",
       " '2008 Count': 37.0,\n",
       " '2007 Rank': 836.0,\n",
       " '2007 Count': 38.0,\n",
       " '2006 Rank': 770.0,\n",
       " '2006 Count': 40.0,\n",
       " '2005 Rank': 951.0,\n",
       " '2005 Count': 28.0,\n",
       " '2004 Rank': 883.0,\n",
       " '2004 Count': 30.0,\n",
       " '2003 Rank': 844.0,\n",
       " '2003 Count': 31.0,\n",
       " '2002 Rank': 761.0,\n",
       " '2002 Count': 33.0,\n",
       " '2001 Rank': 612.0,\n",
       " '2001 Count': 42.0,\n",
       " '2000 Rank': 582.0,\n",
       " '2000 Count': 46.0,\n",
       " '1999 Rank': 529.0,\n",
       " '1999 Count': 54.0,\n",
       " '1998 Rank': 571.0,\n",
       " '1998 Count': 47.0,\n",
       " '1997 Rank': 527.0,\n",
       " '1997 Count': 50.0,\n",
       " '1996 Rank': 397.0,\n",
       " '1996 Count': 82.0}"
      ]
     },
     "execution_count": 24,
     "metadata": {},
     "output_type": "execute_result"
    }
   ],
   "source": [
    "# Lets find our girl\n",
    "girls.find_one({\"Name\" : \"Susan\"})"
   ]
  },
  {
   "cell_type": "markdown",
   "metadata": {},
   "source": [
    "There may not be a data dictionary collection to query, but you can find the keys in a collection, which are similar to the column names in a relational database. Be aware though, that the structure can vary from document to document in a given collection.\n"
   ]
  },
  {
   "cell_type": "code",
   "execution_count": 25,
   "metadata": {},
   "outputs": [
    {
     "data": {
      "text/plain": [
       "dict_keys(['_id', 'Name', '2021 Rank', '2021 Count', '2020 Rank', '2020 Count', '2019 Rank', '2019 Count', '2018 Rank', '2018 Count', '2017 Rank', '2017 Count', '2016 Rank', '2016 Count', '2015 Rank', '2015 Count', '2014 Rank', '2014 Count', '2013 Rank', '2013 Count', '2012 Rank', '2012 Count', '2011 Rank', '2011 Count', '2010 Rank', '2010 Count', '2009 Rank', '2009 Count', '2008 Rank', '2008 Count', '2007 Rank', '2007 Count', '2006 Rank', '2006 Count', '2005 Rank', '2005 Count', '2004 Rank', '2004 Count', '2003 Rank', '2003 Count', '2002 Rank', '2002 Count', '2001 Rank', '2001 Count', '2000 Rank', '2000 Count', '1999 Rank', '1999 Count', '1998 Rank', '1998 Count', '1997 Rank', '1997 Count', '1996 Rank', '1996 Count'])"
      ]
     },
     "execution_count": 25,
     "metadata": {},
     "output_type": "execute_result"
    }
   ],
   "source": [
    "girls.find_one().keys()"
   ]
  },
  {
   "cell_type": "markdown",
   "metadata": {
    "tags": []
   },
   "source": [
    "As seen previously there are a lot of fields with no data. One good point for a NoSQL database is that every document does not have to have the same structure, so if the value is blank, there is no need to store the key.\n",
    "\n",
    "For example, lets remove any records where the \"2021 Rank\" is null:"
   ]
  },
  {
   "cell_type": "code",
   "execution_count": 26,
   "metadata": {},
   "outputs": [],
   "source": [
    "girls.update_many({\"2021 Rank\" : \"\"}, { \"$unset\": {\"2021 Rank\" : 1 }});"
   ]
  },
  {
   "cell_type": "code",
   "execution_count": 27,
   "metadata": {},
   "outputs": [
    {
     "data": {
      "text/plain": [
       "{'_id': ObjectId('67938a3b1d753da705dd2ed6'),\n",
       " 'Name': \"A'Idah\",\n",
       " '2021 Count': '',\n",
       " '2020 Rank': '',\n",
       " '2020 Count': '',\n",
       " '2019 Rank': 4686.0,\n",
       " '2019 Count': 4.0,\n",
       " '2018 Rank': '',\n",
       " '2018 Count': '',\n",
       " '2017 Rank': '',\n",
       " '2017 Count': '',\n",
       " '2016 Rank': '',\n",
       " '2016 Count': '',\n",
       " '2015 Rank': '',\n",
       " '2015 Count': '',\n",
       " '2014 Rank': '',\n",
       " '2014 Count': '',\n",
       " '2013 Rank': '',\n",
       " '2013 Count': '',\n",
       " '2012 Rank': '',\n",
       " '2012 Count': '',\n",
       " '2011 Rank': '',\n",
       " '2011 Count': '',\n",
       " '2010 Rank': '',\n",
       " '2010 Count': '',\n",
       " '2009 Rank': '',\n",
       " '2009 Count': '',\n",
       " '2008 Rank': '',\n",
       " '2008 Count': '',\n",
       " '2007 Rank': '',\n",
       " '2007 Count': '',\n",
       " '2006 Rank': '',\n",
       " '2006 Count': '',\n",
       " '2005 Rank': '',\n",
       " '2005 Count': '',\n",
       " '2004 Rank': '',\n",
       " '2004 Count': '',\n",
       " '2003 Rank': '',\n",
       " '2003 Count': '',\n",
       " '2002 Rank': '',\n",
       " '2002 Count': '',\n",
       " '2001 Rank': '',\n",
       " '2001 Count': '',\n",
       " '2000 Rank': '',\n",
       " '2000 Count': '',\n",
       " '1999 Rank': '',\n",
       " '1999 Count': '',\n",
       " '1998 Rank': '',\n",
       " '1998 Count': '',\n",
       " '1997 Rank': '',\n",
       " '1997 Count': '',\n",
       " '1996 Rank': '',\n",
       " '1996 Count': ''}"
      ]
     },
     "execution_count": 27,
     "metadata": {},
     "output_type": "execute_result"
    }
   ],
   "source": [
    "girls.find_one()"
   ]
  },
  {
   "cell_type": "markdown",
   "metadata": {},
   "source": [
    "Given the amount of empty keys, it would be tedious to remove each one separately, so lets find what keys each record has and then loop through removing any blanks.\n",
    "\n",
    "Do note, `find_one()` could retrieve any record, if the data was semi-structured each document could have a different structure. In this case, the data came from a CSV file, so every document has the same structure."
   ]
  },
  {
   "cell_type": "code",
   "execution_count": 28,
   "metadata": {},
   "outputs": [
    {
     "data": {
      "text/plain": [
       "dict_keys(['_id', 'Name', '2021 Count', '2020 Rank', '2020 Count', '2019 Rank', '2019 Count', '2018 Rank', '2018 Count', '2017 Rank', '2017 Count', '2016 Rank', '2016 Count', '2015 Rank', '2015 Count', '2014 Rank', '2014 Count', '2013 Rank', '2013 Count', '2012 Rank', '2012 Count', '2011 Rank', '2011 Count', '2010 Rank', '2010 Count', '2009 Rank', '2009 Count', '2008 Rank', '2008 Count', '2007 Rank', '2007 Count', '2006 Rank', '2006 Count', '2005 Rank', '2005 Count', '2004 Rank', '2004 Count', '2003 Rank', '2003 Count', '2002 Rank', '2002 Count', '2001 Rank', '2001 Count', '2000 Rank', '2000 Count', '1999 Rank', '1999 Count', '1998 Rank', '1998 Count', '1997 Rank', '1997 Count', '1996 Rank', '1996 Count'])"
      ]
     },
     "execution_count": 28,
     "metadata": {},
     "output_type": "execute_result"
    }
   ],
   "source": [
    "keys = girls.find_one({}).keys()\n",
    "keys"
   ]
  },
  {
   "cell_type": "code",
   "execution_count": 29,
   "metadata": {},
   "outputs": [],
   "source": [
    "for k in keys:\n",
    "    girls.update_many({ k : \"\"}, { \"$unset\": { k : 1 }});"
   ]
  },
  {
   "cell_type": "code",
   "execution_count": 30,
   "metadata": {},
   "outputs": [
    {
     "data": {
      "text/plain": [
       "{'_id': ObjectId('67938a3b1d753da705dd2ed6'),\n",
       " 'Name': \"A'Idah\",\n",
       " '2019 Rank': 4686.0,\n",
       " '2019 Count': 4.0}"
      ]
     },
     "execution_count": 30,
     "metadata": {},
     "output_type": "execute_result"
    }
   ],
   "source": [
    "# note, the above has removed any empty keys, but the document will still exist\n",
    "girls.find_one()"
   ]
  },
  {
   "cell_type": "code",
   "execution_count": 31,
   "metadata": {},
   "outputs": [],
   "source": [
    "# do the same to the boys names\n",
    "keys = boys.find_one({}).keys()\n",
    "for k in keys:\n",
    "    boys.update_many({ k : \"\"}, { \"$unset\": { k : 1 }});"
   ]
  },
  {
   "cell_type": "code",
   "execution_count": 32,
   "metadata": {},
   "outputs": [
    {
     "data": {
      "text/plain": [
       "{'_id': ObjectId('67938a3c72aab1e80d595bc7'),\n",
       " 'Name': 'A.J.',\n",
       " '2009 Rank': 4527.0,\n",
       " '2009 Count': 3.0,\n",
       " '1999 Rank': 2943.0,\n",
       " '1999 Count': 3.0}"
      ]
     },
     "execution_count": 32,
     "metadata": {},
     "output_type": "execute_result"
    }
   ],
   "source": [
    "boys.find_one()"
   ]
  },
  {
   "cell_type": "code",
   "execution_count": 33,
   "metadata": {},
   "outputs": [
    {
     "data": {
      "text/plain": [
       "dict_keys(['_id', 'Name', '2000 Rank', '2000 Count'])"
      ]
     },
     "execution_count": 33,
     "metadata": {},
     "output_type": "execute_result"
    }
   ],
   "source": [
    "# The consequence of this is that the keys will be slightly different for the records that have more complete data\n",
    "# one with sparse data\n",
    "girls.find_one({\"Name\" : \"Marvi\"}).keys()"
   ]
  },
  {
   "cell_type": "code",
   "execution_count": 34,
   "metadata": {},
   "outputs": [
    {
     "data": {
      "text/plain": [
       "dict_keys(['_id', 'Name', '2021 Rank', '2021 Count', '2020 Rank', '2020 Count', '2019 Rank', '2019 Count', '2018 Rank', '2018 Count', '2017 Rank', '2017 Count', '2016 Rank', '2016 Count', '2015 Rank', '2015 Count', '2014 Rank', '2014 Count', '2013 Rank', '2013 Count', '2012 Rank', '2012 Count', '2011 Rank', '2011 Count', '2010 Rank', '2010 Count', '2009 Rank', '2009 Count', '2008 Rank', '2008 Count', '2007 Rank', '2007 Count', '2006 Rank', '2006 Count', '2005 Rank', '2005 Count', '2004 Rank', '2004 Count', '2003 Rank', '2003 Count', '2002 Rank', '2002 Count', '2001 Rank', '2001 Count', '2000 Rank', '2000 Count', '1999 Rank', '1999 Count', '1998 Rank', '1998 Count', '1997 Rank', '1997 Count', '1996 Rank', '1996 Count'])"
      ]
     },
     "execution_count": 34,
     "metadata": {},
     "output_type": "execute_result"
    }
   ],
   "source": [
    "# one more complete:\n",
    "girls.find_one({\"Name\" : \"Martina\"}).keys()"
   ]
  },
  {
   "cell_type": "code",
   "execution_count": 35,
   "metadata": {},
   "outputs": [
    {
     "data": {
      "text/plain": [
       "21958"
      ]
     },
     "execution_count": 35,
     "metadata": {},
     "output_type": "execute_result"
    }
   ],
   "source": [
    "# how many documents in the collection\n",
    "db.girls.count_documents({})"
   ]
  },
  {
   "cell_type": "code",
   "execution_count": 36,
   "metadata": {
    "run_control": {
     "read_only": false
    }
   },
   "outputs": [
    {
     "data": {
      "text/plain": [
       "{'_id': ObjectId('67938a3b1d753da705dd2ed6'),\n",
       " 'Name': \"A'Idah\",\n",
       " '2019 Rank': 4686.0,\n",
       " '2019 Count': 4.0}"
      ]
     },
     "execution_count": 36,
     "metadata": {},
     "output_type": "execute_result"
    }
   ],
   "source": [
    "# can access via the index (starts at 0)\n",
    "girls.find()[0]"
   ]
  },
  {
   "cell_type": "code",
   "execution_count": 37,
   "metadata": {},
   "outputs": [
    {
     "data": {
      "text/plain": [
       "{'_id': ObjectId('67938a3b1d753da705dd2ed7'),\n",
       " 'Name': \"A'Ishah\",\n",
       " '2021 Rank': 4634.0,\n",
       " '2021 Count': 4.0,\n",
       " '2017 Rank': 5765.0,\n",
       " '2017 Count': 3.0,\n",
       " '2014 Rank': 3160.0,\n",
       " '2014 Count': 7.0,\n",
       " '2013 Rank': 5742.0,\n",
       " '2013 Count': 3.0,\n",
       " '2012 Rank': 4171.0,\n",
       " '2012 Count': 5.0,\n",
       " '2011 Rank': 5785.0,\n",
       " '2011 Count': 3.0,\n",
       " '2010 Rank': 2589.0,\n",
       " '2010 Count': 9.0,\n",
       " '2008 Rank': 4524.0,\n",
       " '2008 Count': 4.0,\n",
       " '2007 Rank': 2895.0,\n",
       " '2007 Count': 7.0,\n",
       " '2006 Rank': 5061.0,\n",
       " '2006 Count': 3.0,\n",
       " '2005 Rank': 3382.0,\n",
       " '2005 Count': 5.0,\n",
       " '2004 Rank': 2802.0,\n",
       " '2004 Count': 6.0,\n",
       " '2003 Rank': 2727.0,\n",
       " '2003 Count': 6.0,\n",
       " '2002 Rank': 2868.0,\n",
       " '2002 Count': 5.0,\n",
       " '2001 Rank': 2023.0,\n",
       " '2001 Count': 8.0,\n",
       " '2000 Rank': 3912.0,\n",
       " '2000 Count': 3.0,\n",
       " '1999 Rank': 3225.0,\n",
       " '1999 Count': 4.0,\n",
       " '1998 Rank': 3142.0,\n",
       " '1998 Count': 4.0}"
      ]
     },
     "execution_count": 37,
     "metadata": {},
     "output_type": "execute_result"
    }
   ],
   "source": [
    "# second record\n",
    "girls.find()[1]"
   ]
  },
  {
   "cell_type": "code",
   "execution_count": 38,
   "metadata": {},
   "outputs": [
    {
     "data": {
      "text/plain": [
       "{'_id': ObjectId('67938a3c1d753da705dd849b'),\n",
       " 'Name': 'Zynab',\n",
       " '1999 Rank': 3900.0,\n",
       " '1999 Count': 3.0}"
      ]
     },
     "execution_count": 38,
     "metadata": {},
     "output_type": "execute_result"
    }
   ],
   "source": [
    "# Last one\n",
    "len = girls.count_documents({})-1\n",
    "girls.find()[len]"
   ]
  },
  {
   "cell_type": "markdown",
   "metadata": {},
   "source": [
    "`count_documents()` can be used with queries to count the result, rather than listing them"
   ]
  },
  {
   "cell_type": "code",
   "execution_count": 39,
   "metadata": {},
   "outputs": [
    {
     "data": {
      "text/plain": [
       "1"
      ]
     },
     "execution_count": 39,
     "metadata": {},
     "output_type": "execute_result"
    }
   ],
   "source": [
    "girls.count_documents({\"Name\": \"Mary\"})"
   ]
  },
  {
   "cell_type": "code",
   "execution_count": 40,
   "metadata": {},
   "outputs": [
    {
     "data": {
      "text/plain": [
       "25"
      ]
     },
     "execution_count": 40,
     "metadata": {},
     "output_type": "execute_result"
    }
   ],
   "source": [
    "# how many documents have a count more than 1500 in 2021\n",
    "girls.count_documents({\"2021 Count\": {\"$gt\" : 1500} })"
   ]
  },
  {
   "cell_type": "markdown",
   "metadata": {
    "tags": [
     "style-activity"
    ]
   },
   "source": [
    "# Part 15: Complex queries and analysis\n",
    "# Aggregation Pipeline"
   ]
  },
  {
   "cell_type": "markdown",
   "metadata": {},
   "source": [
    "More complex processing, including grouping, aggregation functions, and data renaming is achieved through MongoDB’s aggregation pipeline.\n",
    "\n",
    "For example a query can involve several stages:\n",
    "                                                \n",
    "First stage: filter out documents that do not match some criterion<br>\n",
    "Second stage: group those documents<br>\n",
    "Third stage: select only groups that match another criterion<br>\n",
    "Fourth stage: group summaries would then be returned to the client<br>\n",
    "\n",
    "By building up a pipeline in stages, complex data processing tasks can be built from simple components.\n",
    "\n",
    "![](images/pipeline.png)\n",
    "\n",
    "![](images/pipeline_functions.png)\n",
    "\n",
    "Further examples can be found in *Notebook 15.3 Introducing aggregation pipelines.*\n",
    "\n",
    "The examples below and in the practical activities all use small data sets that can be used locally. With huge datasets, the processing may be spread over many computers for processing to aid speed. Data processing tools (such as the aggregation pipeline and MapReduce) keep the processing of data near that data itself, reducing the work required by the client and the amount of data to be moved across the network from server to client. "
   ]
  },
  {
   "cell_type": "code",
   "execution_count": 41,
   "metadata": {},
   "outputs": [
    {
     "data": {
      "text/plain": [
       "[{'_id': 0, 'Name': 21958}]"
      ]
     },
     "execution_count": 41,
     "metadata": {},
     "output_type": "execute_result"
    }
   ],
   "source": [
    "# Equivalent to SELECT COUNT(*) FROM girls;\n",
    "# Need to group by an _id\n",
    "pipeline = [\n",
    "     {\"$group\": {\"_id\": 0, \"Name\": {\"$sum\": 1}}},\n",
    "]\n",
    "\n",
    "list(girls.aggregate(pipeline))"
   ]
  },
  {
   "cell_type": "code",
   "execution_count": 42,
   "metadata": {},
   "outputs": [
    {
     "name": "stdout",
     "output_type": "stream",
     "text": [
      "{'_id': 'Vriti', 'count': 1}\n",
      "{'_id': 'Divyanshi', 'count': 1}\n",
      "{'_id': 'Libby-Ann', 'count': 1}\n",
      "{'_id': 'Shanyce', 'count': 1}\n",
      "{'_id': 'Sharia', 'count': 1}\n",
      "{'_id': 'Willamina', 'count': 1}\n",
      "{'_id': 'Zarmisha', 'count': 1}\n",
      "{'_id': 'Amber-Rae', 'count': 1}\n",
      "{'_id': 'Vestina', 'count': 1}\n",
      "{'_id': 'Preksha', 'count': 1}\n",
      "{'_id': 'Ruby-Sue', 'count': 1}\n",
      "{'_id': 'Aml', 'count': 1}\n",
      "{'_id': 'Eithne', 'count': 1}\n",
      "{'_id': 'Alexa-Rose', 'count': 1}\n",
      "{'_id': 'Korin', 'count': 1}\n",
      "{'_id': 'Fabeeha', 'count': 1}\n",
      "{'_id': 'Kaydi', 'count': 1}\n",
      "{'_id': 'Isla-Jade', 'count': 1}\n",
      "{'_id': 'Kiera-May', 'count': 1}\n",
      "{'_id': 'Myla-Leigh', 'count': 1}\n",
      "{'_id': 'Bobbie-Ann', 'count': 1}\n",
      "{'_id': 'Safiah', 'count': 1}\n",
      "{'_id': 'Ugonna', 'count': 1}\n",
      "{'_id': 'Nihira', 'count': 1}\n",
      "{'_id': 'Aaminah', 'count': 1}\n",
      "{'_id': 'Lilimae', 'count': 1}\n",
      "{'_id': 'Lanna', 'count': 1}\n",
      "{'_id': 'Medeea', 'count': 1}\n",
      "{'_id': 'Ottoline', 'count': 1}\n",
      "{'_id': 'Ronnie-May', 'count': 1}\n",
      "{'_id': 'Malieka', 'count': 1}\n",
      "{'_id': 'Annisa', 'count': 1}\n",
      "{'_id': 'Dillan', 'count': 1}\n",
      "{'_id': 'Morgen', 'count': 1}\n",
      "{'_id': 'Halie', 'count': 1}\n",
      "{'_id': 'Elliya', 'count': 1}\n",
      "{'_id': 'Hifzah', 'count': 1}\n",
      "{'_id': 'Reniece', 'count': 1}\n",
      "{'_id': 'Andia', 'count': 1}\n",
      "{'_id': 'Carleigh', 'count': 1}\n",
      "{'_id': 'Nancie-Rose', 'count': 1}\n",
      "{'_id': 'Tsehay', 'count': 1}\n",
      "{'_id': 'Gunes', 'count': 1}\n",
      "{'_id': 'Risa', 'count': 1}\n",
      "{'_id': 'Mavleen', 'count': 1}\n",
      "{'_id': 'Macy-Rose', 'count': 1}\n",
      "{'_id': 'Seren-Rae', 'count': 1}\n",
      "{'_id': 'Ye', 'count': 1}\n",
      "{'_id': 'Adi', 'count': 1}\n",
      "{'_id': 'Tara-Louise', 'count': 1}\n"
     ]
    }
   ],
   "source": [
    "# SELECT Name, count(*) FROM girls LIMIT 50;\n",
    "printDoc(db.girls.aggregate( [ { \"$group\" : { \"_id\" : \"$Name\", \"count\": {\"$sum\": 1} }},\n",
    "                               {\"$limit\" : 50}] ))"
   ]
  },
  {
   "cell_type": "markdown",
   "metadata": {
    "tags": [
     "style-student"
    ]
   },
   "source": [
    "## Reshaping"
   ]
  },
  {
   "cell_type": "markdown",
   "metadata": {},
   "source": [
    "To do statistics on this data we want to use information in the keys as values, e.g., extract the year from: `2020 Count`. In Tutorial 2 we did some processing to do this, so lets reuse the code to reshape our data better:"
   ]
  },
  {
   "cell_type": "code",
   "execution_count": 43,
   "metadata": {},
   "outputs": [],
   "source": [
    "def updateFile(fileType):\n",
    "    # remove missing data permanately\n",
    "    filename = 'data/UK'+fileType+'Names1996-2021.csv'\n",
    "    print(\"Importing: '\"+filename+\"'\")\n",
    "    names_df = pd.read_csv(filename)\n",
    "    names_df = names_df.dropna(how='any')\n",
    "    # unpivot the dataframe from a wide to long format\n",
    "    namesUpd_df = pd.melt(names_df, id_vars=\"Name\", value_name='Value')\n",
    "    # split the two values in variable: year and the type (count or rank)\n",
    "    namesUpd_df[['Year','Type']] = namesUpd_df['variable'].str.split(' ', expand = True)\n",
    "    # convert year to a number\n",
    "    namesUpd_df['Year'] = namesUpd_df['Year'].astype(str).astype(int)\n",
    "    # the variable column is no longer needed\n",
    "    namesUpd_df.drop('variable', axis=1, inplace=True)\n",
    "    namesUpd_df.head()\n",
    "    # add a gender field\n",
    "    namesUpd_df[\"Gender\"] = fileType\n",
    "    # save the changes \n",
    "    namesUpd_df.to_csv('data/'+fileType+'Updated.csv', index=False)\n",
    "    return namesUpd_df"
   ]
  },
  {
   "cell_type": "code",
   "execution_count": 44,
   "metadata": {},
   "outputs": [
    {
     "name": "stdout",
     "output_type": "stream",
     "text": [
      "{'_id': None, 'count': 14628}\n",
      "{'_id': 3.0, 'count': 1750}\n",
      "{'_id': 4.0, 'count': 947}\n",
      "{'_id': 5.0, 'count': 673}\n",
      "{'_id': 6.0, 'count': 442}\n",
      "{'_id': 7.0, 'count': 327}\n",
      "{'_id': 8.0, 'count': 250}\n",
      "{'_id': 9.0, 'count': 231}\n",
      "{'_id': 10.0, 'count': 212}\n",
      "{'_id': 11.0, 'count': 158}\n",
      "{'_id': 12.0, 'count': 140}\n",
      "{'_id': 13.0, 'count': 128}\n",
      "{'_id': 14.0, 'count': 111}\n",
      "{'_id': 15.0, 'count': 96}\n",
      "{'_id': 16.0, 'count': 81}\n",
      "{'_id': 17.0, 'count': 93}\n",
      "{'_id': 18.0, 'count': 64}\n",
      "{'_id': 19.0, 'count': 59}\n",
      "{'_id': 20.0, 'count': 64}\n",
      "{'_id': 21.0, 'count': 51}\n"
     ]
    }
   ],
   "source": [
    "# SELECT \"2021 Count\", count(*) FROM training ORDER BY \"2021 Count\" LIMIT 20;\n",
    "printDoc(db.girls.aggregate( [ { \"$group\" : { \"_id\" : \"$2021 Count\", \"count\": {\"$sum\": 1} }},\n",
    "                               { \"$sort\" : {\"_id\" : 1}},\n",
    "                                {\"$limit\" : 20}\n",
    "                             ] ))"
   ]
  },
  {
   "cell_type": "markdown",
   "metadata": {},
   "source": [
    "Update the two files to remove the blanks and unpivot the data.\n",
    "\n",
    "Let's also keep both files in one collection, so will add a \"Gender\" field so we know which gender the name belongs to."
   ]
  },
  {
   "cell_type": "code",
   "execution_count": 45,
   "metadata": {},
   "outputs": [
    {
     "name": "stdout",
     "output_type": "stream",
     "text": [
      "Importing: 'data/UKBoyNames1996-2021.csv'\n"
     ]
    },
    {
     "data": {
      "text/html": [
       "<div>\n",
       "<style scoped>\n",
       "    .dataframe tbody tr th:only-of-type {\n",
       "        vertical-align: middle;\n",
       "    }\n",
       "\n",
       "    .dataframe tbody tr th {\n",
       "        vertical-align: top;\n",
       "    }\n",
       "\n",
       "    .dataframe thead th {\n",
       "        text-align: right;\n",
       "    }\n",
       "</style>\n",
       "<table border=\"1\" class=\"dataframe\">\n",
       "  <thead>\n",
       "    <tr style=\"text-align: right;\">\n",
       "      <th></th>\n",
       "      <th>Name</th>\n",
       "      <th>Value</th>\n",
       "      <th>Year</th>\n",
       "      <th>Type</th>\n",
       "      <th>Gender</th>\n",
       "    </tr>\n",
       "  </thead>\n",
       "  <tbody>\n",
       "    <tr>\n",
       "      <th>0</th>\n",
       "      <td>Aadam</td>\n",
       "      <td>457.0</td>\n",
       "      <td>2021</td>\n",
       "      <td>Rank</td>\n",
       "      <td>Boy</td>\n",
       "    </tr>\n",
       "    <tr>\n",
       "      <th>1</th>\n",
       "      <td>Aadil</td>\n",
       "      <td>1448.0</td>\n",
       "      <td>2021</td>\n",
       "      <td>Rank</td>\n",
       "      <td>Boy</td>\n",
       "    </tr>\n",
       "    <tr>\n",
       "      <th>2</th>\n",
       "      <td>Aamir</td>\n",
       "      <td>2301.0</td>\n",
       "      <td>2021</td>\n",
       "      <td>Rank</td>\n",
       "      <td>Boy</td>\n",
       "    </tr>\n",
       "    <tr>\n",
       "      <th>3</th>\n",
       "      <td>Aaran</td>\n",
       "      <td>1860.0</td>\n",
       "      <td>2021</td>\n",
       "      <td>Rank</td>\n",
       "      <td>Boy</td>\n",
       "    </tr>\n",
       "    <tr>\n",
       "      <th>4</th>\n",
       "      <td>Aaron</td>\n",
       "      <td>119.0</td>\n",
       "      <td>2021</td>\n",
       "      <td>Rank</td>\n",
       "      <td>Boy</td>\n",
       "    </tr>\n",
       "  </tbody>\n",
       "</table>\n",
       "</div>"
      ],
      "text/plain": [
       "    Name   Value  Year  Type Gender\n",
       "0  Aadam   457.0  2021  Rank    Boy\n",
       "1  Aadil  1448.0  2021  Rank    Boy\n",
       "2  Aamir  2301.0  2021  Rank    Boy\n",
       "3  Aaran  1860.0  2021  Rank    Boy\n",
       "4  Aaron   119.0  2021  Rank    Boy"
      ]
     },
     "execution_count": 45,
     "metadata": {},
     "output_type": "execute_result"
    }
   ],
   "source": [
    "boys_df = updateFile(\"Boy\")\n",
    "boys_df.head()"
   ]
  },
  {
   "cell_type": "code",
   "execution_count": 46,
   "metadata": {},
   "outputs": [
    {
     "name": "stdout",
     "output_type": "stream",
     "text": [
      "Importing: 'data/UKGirlNames1996-2021.csv'\n"
     ]
    },
    {
     "data": {
      "text/html": [
       "<div>\n",
       "<style scoped>\n",
       "    .dataframe tbody tr th:only-of-type {\n",
       "        vertical-align: middle;\n",
       "    }\n",
       "\n",
       "    .dataframe tbody tr th {\n",
       "        vertical-align: top;\n",
       "    }\n",
       "\n",
       "    .dataframe thead th {\n",
       "        text-align: right;\n",
       "    }\n",
       "</style>\n",
       "<table border=\"1\" class=\"dataframe\">\n",
       "  <thead>\n",
       "    <tr style=\"text-align: right;\">\n",
       "      <th></th>\n",
       "      <th>Name</th>\n",
       "      <th>Value</th>\n",
       "      <th>Year</th>\n",
       "      <th>Type</th>\n",
       "      <th>Gender</th>\n",
       "    </tr>\n",
       "  </thead>\n",
       "  <tbody>\n",
       "    <tr>\n",
       "      <th>0</th>\n",
       "      <td>Aaisha</td>\n",
       "      <td>1569.0</td>\n",
       "      <td>2021</td>\n",
       "      <td>Rank</td>\n",
       "      <td>Girl</td>\n",
       "    </tr>\n",
       "    <tr>\n",
       "      <th>1</th>\n",
       "      <td>Aaishah</td>\n",
       "      <td>2942.0</td>\n",
       "      <td>2021</td>\n",
       "      <td>Rank</td>\n",
       "      <td>Girl</td>\n",
       "    </tr>\n",
       "    <tr>\n",
       "      <th>2</th>\n",
       "      <td>Aaliya</td>\n",
       "      <td>1402.0</td>\n",
       "      <td>2021</td>\n",
       "      <td>Rank</td>\n",
       "      <td>Girl</td>\n",
       "    </tr>\n",
       "    <tr>\n",
       "      <th>3</th>\n",
       "      <td>Aaliyah</td>\n",
       "      <td>132.0</td>\n",
       "      <td>2021</td>\n",
       "      <td>Rank</td>\n",
       "      <td>Girl</td>\n",
       "    </tr>\n",
       "    <tr>\n",
       "      <th>4</th>\n",
       "      <td>Aamina</td>\n",
       "      <td>1785.0</td>\n",
       "      <td>2021</td>\n",
       "      <td>Rank</td>\n",
       "      <td>Girl</td>\n",
       "    </tr>\n",
       "  </tbody>\n",
       "</table>\n",
       "</div>"
      ],
      "text/plain": [
       "      Name   Value  Year  Type Gender\n",
       "0   Aaisha  1569.0  2021  Rank   Girl\n",
       "1  Aaishah  2942.0  2021  Rank   Girl\n",
       "2   Aaliya  1402.0  2021  Rank   Girl\n",
       "3  Aaliyah   132.0  2021  Rank   Girl\n",
       "4   Aamina  1785.0  2021  Rank   Girl"
      ]
     },
     "execution_count": 46,
     "metadata": {},
     "output_type": "execute_result"
    }
   ],
   "source": [
    "girls_df = updateFile(\"Girl\")\n",
    "girls_df.head()"
   ]
  },
  {
   "cell_type": "code",
   "execution_count": 47,
   "metadata": {},
   "outputs": [
    {
     "name": "stdout",
     "output_type": "stream",
     "text": [
      "data/BoyUpdated.csv   data/UKBoyNames1996-2021.csv\n",
      "data/GirlUpdated.csv  data/UKGirlNames1996-2021.csv\n"
     ]
    }
   ],
   "source": [
    "# check CSV files have been created\n",
    "!ls data/*.csv"
   ]
  },
  {
   "cell_type": "code",
   "execution_count": 48,
   "metadata": {},
   "outputs": [
    {
     "name": "stdout",
     "output_type": "stream",
     "text": [
      "2025-01-24T12:40:54.892+0000\tconnected to: mongodb://localhost/\n",
      "2025-01-24T12:40:55.359+0000\t77896 document(s) imported successfully. 0 document(s) failed to import.\n",
      "2025-01-24T12:40:55.473+0000\tconnected to: mongodb://localhost/\n",
      "2025-01-24T12:40:55.933+0000\t72124 document(s) imported successfully. 0 document(s) failed to import.\n"
     ]
    }
   ],
   "source": [
    "# use mongoimport to import the updates\n",
    "!mongoimport --db babyNamesDB --type=csv --headerline --file data/GirlUpdated.csv --collection namesUpdate\n",
    "!mongoimport --db babyNamesDB --type=csv --headerline --file data/BoyUpdated.csv --collection namesUpdate"
   ]
  },
  {
   "cell_type": "code",
   "execution_count": 49,
   "metadata": {},
   "outputs": [
    {
     "data": {
      "text/plain": [
       "['namesUpdate', 'boys', 'girls']"
      ]
     },
     "execution_count": 49,
     "metadata": {},
     "output_type": "execute_result"
    }
   ],
   "source": [
    "# check they are now in the baby names database (babyNamesDB)\n",
    "db.list_collection_names()"
   ]
  },
  {
   "cell_type": "code",
   "execution_count": 50,
   "metadata": {},
   "outputs": [
    {
     "data": {
      "text/plain": [
       "{'_id': ObjectId('67938a56f8e2a59ba267e3b1'),\n",
       " 'Name': 'Abida',\n",
       " 'Value': 3192.0,\n",
       " 'Year': 2021,\n",
       " 'Type': 'Rank',\n",
       " 'Gender': 'Girl'}"
      ]
     },
     "execution_count": 50,
     "metadata": {},
     "output_type": "execute_result"
    }
   ],
   "source": [
    "db.namesUpdate.find_one()"
   ]
  },
  {
   "cell_type": "code",
   "execution_count": 51,
   "metadata": {},
   "outputs": [
    {
     "name": "stdout",
     "output_type": "stream",
     "text": [
      "Girls: \t\t21958\n",
      "Girls Update: \t77896\n",
      "Boys: \t\t16777\n",
      "Boys Update: \t72124\n"
     ]
    }
   ],
   "source": [
    "# how many documents does each collection have:\n",
    "print(\"Girls: \\t\\t{}\".format(girls.count_documents({})))\n",
    "print(\"Girls Update: \\t{}\".format(db.namesUpdate.count_documents({\"Gender\": \"Girl\"})))\n",
    "print(\"Boys: \\t\\t{}\".format(boys.count_documents({})))\n",
    "print(\"Boys Update: \\t{}\".format(db.namesUpdate.count_documents({\"Gender\": \"Boy\"})))"
   ]
  },
  {
   "cell_type": "code",
   "execution_count": 52,
   "metadata": {},
   "outputs": [
    {
     "name": "stdout",
     "output_type": "stream",
     "text": [
      "{'_id': 1997, 'count': 5770}\n",
      "{'_id': 2008, 'count': 5770}\n",
      "{'_id': 2017, 'count': 5770}\n",
      "{'_id': 2015, 'count': 5770}\n",
      "{'_id': 2003, 'count': 5770}\n",
      "{'_id': 2001, 'count': 5770}\n",
      "{'_id': 1998, 'count': 5770}\n",
      "{'_id': 1996, 'count': 5770}\n",
      "{'_id': 2002, 'count': 5770}\n",
      "{'_id': 2000, 'count': 5770}\n",
      "{'_id': 2013, 'count': 5770}\n",
      "{'_id': 2009, 'count': 5770}\n",
      "{'_id': 2010, 'count': 5770}\n",
      "{'_id': 2012, 'count': 5770}\n",
      "{'_id': 2007, 'count': 5770}\n",
      "{'_id': 2018, 'count': 5770}\n",
      "{'_id': 2016, 'count': 5770}\n",
      "{'_id': 1999, 'count': 5770}\n",
      "{'_id': 2014, 'count': 5770}\n",
      "{'_id': 2019, 'count': 5770}\n",
      "{'_id': 2004, 'count': 5770}\n",
      "{'_id': 2005, 'count': 5770}\n",
      "{'_id': 2011, 'count': 5770}\n",
      "{'_id': 2006, 'count': 5770}\n",
      "{'_id': 2021, 'count': 5770}\n",
      "{'_id': 2020, 'count': 5770}\n"
     ]
    }
   ],
   "source": [
    "# SELECT Year, count(*) as count FROM namesUpdate;\n",
    "printDoc(db.namesUpdate.aggregate( [ \n",
    "    { \"$group\" : { \"_id\" : \"$Year\", \"count\": {\"$sum\": 1} }},\n",
    "    ] ))"
   ]
  },
  {
   "cell_type": "code",
   "execution_count": 53,
   "metadata": {},
   "outputs": [
    {
     "name": "stdout",
     "output_type": "stream",
     "text": [
      "{'_id': 2021, 'Sum of values': 4484454.0}\n",
      "{'_id': 2020, 'Sum of values': 4326296.0}\n",
      "{'_id': 2019, 'Sum of values': 4242305.0}\n",
      "{'_id': 2018, 'Sum of values': 4097775.0}\n",
      "{'_id': 2017, 'Sum of values': 4010175.0}\n",
      "{'_id': 2016, 'Sum of values': 3945549.0}\n",
      "{'_id': 2015, 'Sum of values': 3862790.0}\n",
      "{'_id': 2014, 'Sum of values': 3758010.0}\n",
      "{'_id': 2013, 'Sum of values': 3709197.0}\n",
      "{'_id': 2012, 'Sum of values': 3650358.0}\n",
      "{'_id': 2011, 'Sum of values': 3596210.0}\n",
      "{'_id': 2010, 'Sum of values': 3528470.0}\n",
      "{'_id': 2009, 'Sum of values': 3425876.0}\n",
      "{'_id': 2008, 'Sum of values': 3399294.0}\n",
      "{'_id': 2007, 'Sum of values': 3322128.0}\n",
      "{'_id': 2006, 'Sum of values': 3276744.0}\n",
      "{'_id': 2005, 'Sum of values': 3210746.0}\n",
      "{'_id': 2004, 'Sum of values': 3216501.0}\n",
      "{'_id': 2003, 'Sum of values': 3205482.0}\n",
      "{'_id': 2002, 'Sum of values': 3206279.0}\n",
      "{'_id': 2001, 'Sum of values': 3209147.0}\n",
      "{'_id': 2000, 'Sum of values': 3258815.0}\n",
      "{'_id': 1999, 'Sum of values': 3316023.0}\n",
      "{'_id': 1998, 'Sum of values': 3423627.0}\n",
      "{'_id': 1997, 'Sum of values': 3507362.0}\n",
      "{'_id': 1996, 'Sum of values': 3617333.0}\n"
     ]
    }
   ],
   "source": [
    "# SELECT Year, sum() as \"Sum of Values\" FROM namesUpdate GROUP BY Year ORDER BY Year (_id) descending;\n",
    "printDoc(db.namesUpdate.aggregate( [ { \"$group\" : { \"_id\" : \"$Year\", \"Sum of values\": {\"$sum\": \"$Value\"}}},\n",
    "                                                 { \"$sort\" : {\"_id\" : -1}}  \n",
    "                                     ] ))"
   ]
  },
  {
   "cell_type": "code",
   "execution_count": 54,
   "metadata": {},
   "outputs": [
    {
     "name": "stdout",
     "output_type": "stream",
     "text": [
      "{'_id': 'Umaymah', 'Average Rank': 1614.65}\n",
      "{'_id': 'Azra', 'Average Rank': 1615.8}\n",
      "{'_id': 'Georgia', 'Average Rank': 44.3}\n",
      "{'_id': 'Darcey', 'Average Rank': 219.5}\n",
      "{'_id': 'Selin', 'Average Rank': 1302.5}\n",
      "{'_id': 'Safiyah', 'Average Rank': 1010.3}\n",
      "{'_id': 'Cassia', 'Average Rank': 1331.65}\n",
      "{'_id': 'Nerys', 'Average Rank': 2587.15}\n",
      "{'_id': 'Kayleigh', 'Average Rank': 394.03}\n",
      "{'_id': 'Emilia', 'Average Rank': 114.84}\n",
      "{'_id': 'Remy', 'Average Rank': 1467.26}\n",
      "{'_id': 'Nisa', 'Average Rank': 2165.96}\n",
      "{'_id': 'Dawn', 'Average Rank': 2339.88}\n",
      "{'_id': 'Alya', 'Average Rank': 1895.5}\n",
      "{'_id': 'Gwenno', 'Average Rank': 2439.0}\n",
      "{'_id': 'Halle', 'Average Rank': 598.11}\n",
      "{'_id': 'Ayah', 'Average Rank': 841.23}\n",
      "{'_id': 'Honor', 'Average Rank': 610.92}\n",
      "{'_id': 'Maisha', 'Average Rank': 1106.8}\n",
      "{'_id': 'Elsie', 'Average Rank': 272.5}\n",
      "{'_id': 'Rabia', 'Average Rank': 1132.5}\n",
      "{'_id': 'Lucia', 'Average Rank': 230.65}\n",
      "{'_id': 'Emilee', 'Average Rank': 1423.5}\n",
      "{'_id': 'Yumna', 'Average Rank': 1617.3}\n",
      "{'_id': 'Marcella', 'Average Rank': 2051.61}\n",
      "{'_id': 'Rosina', 'Average Rank': 1505.57}\n",
      "{'_id': 'Maggie', 'Average Rank': 355.88}\n",
      "{'_id': 'Blythe', 'Average Rank': 1505.53}\n",
      "{'_id': 'Rosalie', 'Average Rank': 816.11}\n",
      "{'_id': 'Elif', 'Average Rank': 835.42}\n",
      "{'_id': 'Storm', 'Average Rank': 901.42}\n",
      "{'_id': 'Lara', 'Average Rank': 117.23}\n",
      "{'_id': 'Rowen', 'Average Rank': 2784.34}\n",
      "{'_id': 'Peggy', 'Average Rank': 1356.07}\n",
      "{'_id': 'Zainab', 'Average Rank': 164.69}\n",
      "{'_id': 'Xena', 'Average Rank': 2233.38}\n",
      "{'_id': 'Samirah', 'Average Rank': 2039.19}\n",
      "{'_id': 'Scarlet', 'Average Rank': 325.23}\n",
      "{'_id': 'Dominique', 'Average Rank': 1997.76}\n",
      "{'_id': 'Briana', 'Average Rank': 1682.38}\n",
      "{'_id': 'Maisy', 'Average Rank': 269.46}\n",
      "{'_id': 'Elissa', 'Average Rank': 604.96}\n",
      "{'_id': 'Cari', 'Average Rank': 1511.61}\n",
      "{'_id': 'Hayley', 'Average Rank': 332.53}\n",
      "{'_id': 'Aamirah', 'Average Rank': 3140.3}\n",
      "{'_id': 'Misha', 'Average Rank': 961.0}\n",
      "{'_id': 'Laurie', 'Average Rank': 1210.69}\n",
      "{'_id': 'Alexis', 'Average Rank': 317.5}\n",
      "{'_id': 'Anne-Marie', 'Average Rank': 2093.65}\n",
      "{'_id': 'Michelle', 'Average Rank': 283.92}\n"
     ]
    }
   ],
   "source": [
    "# SELECT Name, avg(value) as \"Average Rank\" FROM namesUpdate WHERE Type = 'Rank' and Gender = 'Girl' ORDER BY \"Average Rank\" LIMIT 50;\n",
    "# This pipeline involves 3 stages: $match, $group and $sort\n",
    "# Round the average value to 2 decimal places\n",
    "printDoc(db.namesUpdate.aggregate( [ { \"$match\" : {\"Type\": \"Rank\", \"Gender\": \"Girl\"} },\n",
    "                                     { \"$group\" : { \"_id\" : \"$Name\", \"Average\": {\"$avg\": \"$Value\"} }},\n",
    "                                     { \"$sort\" : {\"Average Rank\" : 1}},\n",
    "                                     { \"$limit\" : 50},\n",
    "                                     { \"$project\" : \n",
    "                                          { \"Average Rank\": { \"$trunc\": [ \"$Average\", 2 ] } } }\n",
    "                                     ] ))"
   ]
  },
  {
   "cell_type": "markdown",
   "metadata": {
    "tags": [
     "style-activity"
    ]
   },
   "source": [
    "# Semi-Structured data"
   ]
  },
  {
   "cell_type": "markdown",
   "metadata": {},
   "source": [
    "The Baby Names dataset is an example of structured data, in that it is very uniform, with the same data types in each column.\n",
    "\n",
    "The power of NoSQL databases is in copying semi-structured data, such as JSON data, where the values may not be straightforward strings and numbers, but could be nested documents.\n",
    "\n"
   ]
  },
  {
   "cell_type": "markdown",
   "metadata": {
    "tags": [
     "style-learner"
    ]
   },
   "source": [
    "## USA Government data"
   ]
  },
  {
   "cell_type": "markdown",
   "metadata": {},
   "source": [
    "A lot of publicly available data is in JSON format, for example, government agencies:\n",
    "\n",
    "- https://catalog.data.gov/dataset?res_format=JSON\n",
    "\n",
    "- https://github.com/jdorfman/awesome-json-datasets#government\n",
    "\n",
    "Below uses the USA government politician datasets found in the last link.\n",
    "\n",
    "- Current US Senators: roles.json\n",
    "- Current US Representatives: role-reps.json\n",
    "\n",
    "Plus a list of USA States and abbreviations:\n",
    "- states_titlecase.json\n",
    "\n",
    "found here: https://gist.github.com/mshafrir/2646763\n",
    "\n",
    "All downloaded: 09/01/2024 - before the changes from the 2024 USA elections!\n",
    "\n",
    "The USA government data is public domain, provided under the `CC0 1.0 Universal` licence: https://creativecommons.org/publicdomain/zero/1.0/\n"
   ]
  },
  {
   "cell_type": "code",
   "execution_count": 55,
   "metadata": {},
   "outputs": [
    {
     "name": "stdout",
     "output_type": "stream",
     "text": [
      "{\n",
      " \"meta\": {\n",
      "  \"limit\": 100,\n",
      "  \"offset\": 0,\n",
      "  \"total_count\": 100\n",
      " },\n",
      " \"objects\": [\n",
      "  {\n",
      "   \"caucus\": null,\n",
      "   \"congress_numbers\": [\n"
     ]
    }
   ],
   "source": [
    "# lets have a look at the data\n",
    "!head data/role.json"
   ]
  },
  {
   "cell_type": "code",
   "execution_count": 56,
   "metadata": {},
   "outputs": [
    {
     "name": "stdout",
     "output_type": "stream",
     "text": [
      "   \"senator_rank\": \"junior\",\n",
      "   \"senator_rank_label\": \"Junior\",\n",
      "   \"startdate\": \"2023-10-03\",\n",
      "   \"state\": \"CA\",\n",
      "   \"title\": \"Sen.\",\n",
      "   \"title_long\": \"Senator\",\n",
      "   \"website\": \"https://www.butler.senate.gov\"\n",
      "  }\n",
      " ]\n",
      "}"
     ]
    }
   ],
   "source": [
    "!tail data/role.json"
   ]
  },
  {
   "cell_type": "code",
   "execution_count": 57,
   "metadata": {},
   "outputs": [
    {
     "name": "stdout",
     "output_type": "stream",
     "text": [
      "{\n",
      " \"meta\": {\n",
      "  \"limit\": 438,\n",
      "  \"offset\": 0,\n",
      "  \"total_count\": 439\n",
      " },\n",
      " \"objects\": [\n",
      "  {\n",
      "   \"caucus\": null,\n",
      "   \"congress_numbers\": [\n"
     ]
    }
   ],
   "source": [
    "! head data/role-reps.json"
   ]
  },
  {
   "cell_type": "code",
   "execution_count": 58,
   "metadata": {},
   "outputs": [
    {
     "name": "stdout",
     "output_type": "stream",
     "text": [
      "   \"senator_class\": null,\n",
      "   \"senator_rank\": null,\n",
      "   \"startdate\": \"2023-11-07\",\n",
      "   \"state\": \"RI\",\n",
      "   \"title\": \"Rep.\",\n",
      "   \"title_long\": \"Representative\",\n",
      "   \"website\": \"\"\n",
      "  }\n",
      " ]\n",
      "}"
     ]
    }
   ],
   "source": [
    "!tail data/role-reps.json"
   ]
  },
  {
   "cell_type": "code",
   "execution_count": 59,
   "metadata": {},
   "outputs": [
    {
     "name": "stdout",
     "output_type": "stream",
     "text": [
      "{\n",
      "\"name\": \"Alabama\",\n",
      "\"abbreviation\": \"AL\"\n",
      "}\n",
      "{\n",
      "\"name\": \"Alaska\",\n",
      "\"abbreviation\": \"AK\"\n",
      "}\n",
      "{\n",
      "\"name\": \"American Samoa\",\n"
     ]
    }
   ],
   "source": [
    "# note, this file was amended to remove the commas between each document (otherwise would not import)\n",
    "!head data/states_titlecase.json"
   ]
  },
  {
   "cell_type": "code",
   "execution_count": 60,
   "metadata": {},
   "outputs": [
    {
     "name": "stdout",
     "output_type": "stream",
     "text": [
      "\"abbreviation\": \"WV\"\n",
      "}\n",
      "{\n",
      "\"name\": \"Wisconsin\",\n",
      "\"abbreviation\": \"WI\"\n",
      "}\n",
      "{\n",
      "\"name\": \"Wyoming\",\n",
      "\"abbreviation\": \"WY\"\n",
      "}"
     ]
    }
   ],
   "source": [
    "!tail data/states_titlecase.json"
   ]
  },
  {
   "cell_type": "markdown",
   "metadata": {},
   "source": [
    "The politicians data looks to be in JSON format and appear to have some meta data at the start."
   ]
  },
  {
   "cell_type": "code",
   "execution_count": 61,
   "metadata": {},
   "outputs": [],
   "source": [
    "client.drop_database('politicsDB')"
   ]
  },
  {
   "cell_type": "code",
   "execution_count": 62,
   "metadata": {},
   "outputs": [
    {
     "name": "stdout",
     "output_type": "stream",
     "text": [
      "2025-01-24T12:40:57.039+0000\tconnected to: mongodb://localhost/\n",
      "2025-01-24T12:40:57.058+0000\t1 document(s) imported successfully. 0 document(s) failed to import.\n",
      "2025-01-24T12:40:57.183+0000\tconnected to: mongodb://localhost/\n",
      "2025-01-24T12:40:57.231+0000\t1 document(s) imported successfully. 0 document(s) failed to import.\n",
      "2025-01-24T12:40:57.354+0000\tconnected to: mongodb://localhost/\n",
      "2025-01-24T12:40:57.368+0000\t59 document(s) imported successfully. 0 document(s) failed to import.\n"
     ]
    }
   ],
   "source": [
    "! mongoimport --db politicsDB --type=json --file data/role.json  --collection senators\n",
    "! mongoimport --db politicsDB --type=json --file data/role-reps.json --collection reps\n",
    "! mongoimport --db politicsDB --type=json --file data/states_titlecase.json --collection states"
   ]
  },
  {
   "cell_type": "code",
   "execution_count": 63,
   "metadata": {},
   "outputs": [],
   "source": [
    "# Change database\n",
    "db = client.politicsDB\n",
    "senators = db.senators\n",
    "reps = db.reps\n",
    "states = db.states"
   ]
  },
  {
   "cell_type": "code",
   "execution_count": 64,
   "metadata": {},
   "outputs": [
    {
     "data": {
      "text/plain": [
       "{'_id': ObjectId('67938a59875d20be66a7189c'),\n",
       " 'name': 'Kansas',\n",
       " 'abbreviation': 'KS'}"
      ]
     },
     "execution_count": 64,
     "metadata": {},
     "output_type": "execute_result"
    }
   ],
   "source": [
    "states.find_one()"
   ]
  },
  {
   "cell_type": "markdown",
   "metadata": {},
   "source": [
    "The politician details have nested documents, where a document (or array) is nested within other information. This is an example of semi-structured data.\n",
    "\n",
    "The dot syntax can be used to search nested documents. For example, a snippet of information from the senators information for the person sub-document, shows what keys are available within it: \n",
    "\n",
    "<pre>\n",
    "person': {'bioguideid': 'A000055',\n",
    "    'birthday': '1965-07-22',\n",
    "    'cspanid': 45516,\n",
    "    'fediverse_webfinger': None,\n",
    "    'firstname': 'Robert',\n",
    "    'gender': 'male',\n",
    "    'gender_label': 'Male',\n",
    "    'lastname': 'Aderholt',\n",
    "    'link': 'https://www.govtrack.us/congress/members/robert_aderholt/400004',\n",
    "    'middlename': 'B.',\n",
    "    'name': 'Rep. Robert Aderholt [R-AL4]',\n",
    "    'namemod': '',\n",
    "    'nickname': '',\n",
    "    'osid': 'N00003028',\n",
    "    'pvsid': None,\n",
    "    'sortname': 'Aderholt, Robert (Rep.) [R-AL4]',\n",
    "    'twitterid': 'Robert_Aderholt',\n",
    "    'youtubeid': 'RobertAderholt'},\n",
    "</pre>   "
   ]
  },
  {
   "cell_type": "markdown",
   "metadata": {},
   "source": [
    "There is an issue in that the way the data has been provided, all the politicians have been stored in one document, rather than one document per politician.\n",
    "\n",
    "For example, \n",
    "<pre>\n",
    "senators.find_one()\n",
    "</pre>\n",
    "\n",
    "This will show all the politicians, which is not very helpful when there are lots of them. Really this data could do with some cleaning first, so that each politician is stored in a separate document. This is beyond the scope of what you need to do with JSON data for TM351, so something for another day....\n",
    "\n",
    "Being stored in just one document also causes issues when querying the data. If query returns true, then all the data in that document is returned! For example, try this to see just one of the politicians (uncomment below):\n",
    "\n",
    "<pre>\n",
    "reps.find_one({\"objects.person.bioguideid\": 'A000055' })\n",
    "</pre>\n"
   ]
  },
  {
   "cell_type": "code",
   "execution_count": 65,
   "metadata": {},
   "outputs": [],
   "source": [
    "#reps.find_one({\"objects.person.bioguideid\": 'A000055' })"
   ]
  },
  {
   "cell_type": "markdown",
   "metadata": {},
   "source": [
    "To extract items from the array requires the use of the `$unwind` operator.\n",
    "\n",
    "For example, display the first and last names of 50 politicians, suppressing the generated id:"
   ]
  },
  {
   "cell_type": "code",
   "execution_count": 66,
   "metadata": {},
   "outputs": [
    {
     "name": "stdout",
     "output_type": "stream",
     "text": [
      "{'objects': {'person': {'firstname': 'Robert', 'lastname': 'Aderholt'}}}\n",
      "{'objects': {'person': {'firstname': 'Gus', 'lastname': 'Bilirakis'}}}\n",
      "{'objects': {'person': {'firstname': 'Sanford', 'lastname': 'Bishop'}}}\n",
      "{'objects': {'person': {'firstname': 'Earl', 'lastname': 'Blumenauer'}}}\n",
      "{'objects': {'person': {'firstname': 'Vern', 'lastname': 'Buchanan'}}}\n",
      "{'objects': {'person': {'firstname': 'Larry', 'lastname': 'Bucshon'}}}\n",
      "{'objects': {'person': {'firstname': 'Michael', 'lastname': 'Burgess'}}}\n",
      "{'objects': {'person': {'firstname': 'Ken', 'lastname': 'Calvert'}}}\n",
      "{'objects': {'person': {'firstname': 'André', 'lastname': 'Carson'}}}\n",
      "{'objects': {'person': {'firstname': 'John', 'lastname': 'Carter'}}}\n",
      "{'objects': {'person': {'firstname': 'Kathy', 'lastname': 'Castor'}}}\n",
      "{'objects': {'person': {'firstname': 'Judy', 'lastname': 'Chu'}}}\n",
      "{'objects': {'person': {'firstname': 'Yvette', 'lastname': 'Clarke'}}}\n",
      "{'objects': {'person': {'firstname': 'Emanuel', 'lastname': 'Cleaver'}}}\n",
      "{'objects': {'person': {'firstname': 'James', 'lastname': 'Clyburn'}}}\n",
      "{'objects': {'person': {'firstname': 'Steve', 'lastname': 'Cohen'}}}\n",
      "{'objects': {'person': {'firstname': 'Tom', 'lastname': 'Cole'}}}\n",
      "{'objects': {'person': {'firstname': 'Gerald', 'lastname': 'Connolly'}}}\n",
      "{'objects': {'person': {'firstname': 'Jim', 'lastname': 'Costa'}}}\n",
      "{'objects': {'person': {'firstname': 'Joe', 'lastname': 'Courtney'}}}\n",
      "{'objects': {'person': {'firstname': 'Eric', 'lastname': 'Crawford'}}}\n",
      "{'objects': {'person': {'firstname': 'Henry', 'lastname': 'Cuellar'}}}\n",
      "{'objects': {'person': {'firstname': 'Danny', 'lastname': 'Davis'}}}\n",
      "{'objects': {'person': {'firstname': 'Diana', 'lastname': 'DeGette'}}}\n",
      "{'objects': {'person': {'firstname': 'Rosa', 'lastname': 'DeLauro'}}}\n",
      "{'objects': {'person': {'firstname': 'Scott', 'lastname': 'DesJarlais'}}}\n",
      "{'objects': {'person': {'firstname': 'Mario', 'lastname': 'Diaz-Balart'}}}\n",
      "{'objects': {'person': {'firstname': 'Lloyd', 'lastname': 'Doggett'}}}\n",
      "{'objects': {'person': {'firstname': 'Jeff', 'lastname': 'Duncan'}}}\n",
      "{'objects': {'person': {'firstname': 'Anna', 'lastname': 'Eshoo'}}}\n",
      "{'objects': {'person': {'firstname': 'Charles', 'lastname': 'Fleischmann'}}}\n",
      "{'objects': {'person': {'firstname': 'Virginia', 'lastname': 'Foxx'}}}\n",
      "{'objects': {'person': {'firstname': 'John', 'lastname': 'Garamendi'}}}\n",
      "{'objects': {'person': {'firstname': 'Paul', 'lastname': 'Gosar'}}}\n",
      "{'objects': {'person': {'firstname': 'Kay', 'lastname': 'Granger'}}}\n",
      "{'objects': {'person': {'firstname': 'Sam', 'lastname': 'Graves'}}}\n",
      "{'objects': {'person': {'firstname': 'Al', 'lastname': 'Green'}}}\n",
      "{'objects': {'person': {'firstname': 'H.', 'lastname': 'Griffith'}}}\n",
      "{'objects': {'person': {'firstname': 'Raúl', 'lastname': 'Grijalva'}}}\n",
      "{'objects': {'person': {'firstname': 'Brett', 'lastname': 'Guthrie'}}}\n",
      "{'objects': {'person': {'firstname': 'Andy', 'lastname': 'Harris'}}}\n",
      "{'objects': {'person': {'firstname': 'Brian', 'lastname': 'Higgins'}}}\n",
      "{'objects': {'person': {'firstname': 'James', 'lastname': 'Himes'}}}\n",
      "{'objects': {'person': {'firstname': 'Steny', 'lastname': 'Hoyer'}}}\n",
      "{'objects': {'person': {'firstname': 'Bill', 'lastname': 'Huizenga'}}}\n",
      "{'objects': {'person': {'firstname': 'Sheila', 'lastname': 'Jackson Lee'}}}\n",
      "{'objects': {'person': {'firstname': 'Bill', 'lastname': 'Johnson'}}}\n",
      "{'objects': {'person': {'firstname': 'Henry', 'lastname': 'Johnson'}}}\n",
      "{'objects': {'person': {'firstname': 'Jim', 'lastname': 'Jordan'}}}\n",
      "{'objects': {'person': {'firstname': 'Marcy', 'lastname': 'Kaptur'}}}\n"
     ]
    }
   ],
   "source": [
    "docs = reps.aggregate([{\"$project\" : {\"_id\": 0, \"objects.person.firstname\" : 1, \"objects.person.lastname\" : 1}},\n",
    "                        {\"$unwind\":\"$objects\"},\n",
    "                        {\"$limit\": 50}]) \n",
    "printDoc(docs)"
   ]
  },
  {
   "cell_type": "markdown",
   "metadata": {},
   "source": [
    "To extract one particular politician:"
   ]
  },
  {
   "cell_type": "code",
   "execution_count": 67,
   "metadata": {},
   "outputs": [
    {
     "name": "stdout",
     "output_type": "stream",
     "text": [
      "{'objects': {'person': {'bioguideid': 'A000055',\n",
      "                        'firstname': 'Robert',\n",
      "                        'lastname': 'Aderholt'}}}\n"
     ]
    }
   ],
   "source": [
    "docs = reps.aggregate([{\"$project\" : {\"_id\": 0, \"objects.person.firstname\" : 1, \"objects.person.lastname\": 1,\n",
    "                                     \"objects.person.bioguideid\":1}},\n",
    "                       {\"$unwind\":\"$objects\"},\n",
    "                       {\"$match\": { \"objects.person.bioguideid\": 'A000055' }}\n",
    "                         ])\n",
    "printDocs(docs)"
   ]
  },
  {
   "cell_type": "markdown",
   "metadata": {},
   "source": [
    "Do make sure the pipeline is in the right order, if the match is done too soon it will again return all the representatives if the query criteria is matched.\n",
    "\n",
    "If you tried this you will see all the data returned:\n",
    "\n",
    "<pre>\n",
    "docs = reps.aggregate([{\"$project\" : {\"_id\": 0, \n",
    "            \"objects.person.firstname\" : 1, \n",
    "            \"objects.person.lastname\": 1,\n",
    "            \"objects.person.bioguideid\":1}},\n",
    "        {\"$match\": { \"objects.person.bioguideid\": 'A000055' }}, \n",
    "        {\"$unwind\":\"$objects\"}\n",
    "])\n",
    "printDocValues(docs)\n",
    "</pre>\n",
    "\n",
    "See the discussion on duplicating the $match here:\n",
    "https://stackoverflow.com/questions/54030089/how-to-use-unwind-and-match-with-mongodb"
   ]
  },
  {
   "cell_type": "code",
   "execution_count": 68,
   "metadata": {},
   "outputs": [
    {
     "name": "stdout",
     "output_type": "stream",
     "text": [
      "{'objects': {'person': {'bioguideid': 'A000055',\n",
      "                        'firstname': 'Robert',\n",
      "                        'lastname': 'Aderholt'}}}\n"
     ]
    }
   ],
   "source": [
    "# retriving just A000055\n",
    "docs = reps.aggregate([{\"$project\" : {\"_id\": 0, \"objects.person.firstname\" : 1, \"objects.person.lastname\": 1,\n",
    "                                     \"objects.person.bioguideid\":1}},\n",
    "                       {\"$match\": { \"objects.person.bioguideid\": 'A000055' }}, \n",
    "                       {\"$unwind\":\"$objects\"},\n",
    "                       {\"$match\": { \"objects.person.bioguideid\": 'A000055' }}\n",
    "                         ])\n",
    "printDocs(docs)"
   ]
  },
  {
   "cell_type": "code",
   "execution_count": 69,
   "metadata": {},
   "outputs": [
    {
     "name": "stdout",
     "output_type": "stream",
     "text": [
      "{'objects': {'person': {'bioguideid': 'A000055',\n",
      "                        'birthday': '1965-07-22',\n",
      "                        'cspanid': 45516,\n",
      "                        'fediverse_webfinger': None,\n",
      "                        'firstname': 'Robert',\n",
      "                        'gender': 'male',\n",
      "                        'gender_label': 'Male',\n",
      "                        'lastname': 'Aderholt',\n",
      "                        'link': 'https://www.govtrack.us/congress/members/robert_aderholt/400004',\n",
      "                        'middlename': 'B.',\n",
      "                        'name': 'Rep. Robert Aderholt [R-AL4]',\n",
      "                        'namemod': '',\n",
      "                        'nickname': '',\n",
      "                        'osid': 'N00003028',\n",
      "                        'pvsid': None,\n",
      "                        'sortname': 'Aderholt, Robert (Rep.) [R-AL4]',\n",
      "                        'twitterid': 'Robert_Aderholt',\n",
      "                        'youtubeid': 'RobertAderholt'}}}\n"
     ]
    }
   ],
   "source": [
    "# show all the person details, which needs a duplicate $match \n",
    "docs = reps.aggregate([{\"$project\" : {\"_id\": 0, \"objects.person\" : 1}},\n",
    "                       {\"$match\": { \"objects.person.bioguideid\": 'A000055' }}, \n",
    "                       {\"$unwind\":\"$objects\"},\n",
    "                       {\"$match\": { \"objects.person.bioguideid\": 'A000055' }}\n",
    "                      ])\n",
    "printDocs(docs)"
   ]
  },
  {
   "cell_type": "code",
   "execution_count": 70,
   "metadata": {},
   "outputs": [
    {
     "name": "stdout",
     "output_type": "stream",
     "text": [
      "{'objects': {'person': {'bioguideid': 'A000055',\n",
      "                        'birthday': '1965-07-22',\n",
      "                        'cspanid': 45516,\n",
      "                        'fediverse_webfinger': None,\n",
      "                        'firstname': 'Robert',\n",
      "                        'gender': 'male',\n",
      "                        'gender_label': 'Male',\n",
      "                        'lastname': 'Aderholt',\n",
      "                        'link': 'https://www.govtrack.us/congress/members/robert_aderholt/400004',\n",
      "                        'middlename': 'B.',\n",
      "                        'name': 'Rep. Robert Aderholt [R-AL4]',\n",
      "                        'namemod': '',\n",
      "                        'nickname': '',\n",
      "                        'osid': 'N00003028',\n",
      "                        'pvsid': None,\n",
      "                        'sortname': 'Aderholt, Robert (Rep.) [R-AL4]',\n",
      "                        'twitterid': 'Robert_Aderholt',\n",
      "                        'youtubeid': 'RobertAderholt'}}}\n"
     ]
    }
   ],
   "source": [
    "# though seems ok with just the one $match \n",
    "docs = reps.aggregate([{\"$project\" : {\"_id\": 0, \"objects.person\" : 1}},\n",
    "                       {\"$unwind\":\"$objects\"},\n",
    "                       {\"$match\": { \"objects.person.bioguideid\": 'A000055' }}\n",
    "                      ])\n",
    "printDocs(docs)"
   ]
  },
  {
   "cell_type": "markdown",
   "metadata": {},
   "source": [
    "person is part of the details stored for each "
   ]
  },
  {
   "cell_type": "code",
   "execution_count": 71,
   "metadata": {},
   "outputs": [
    {
     "name": "stdout",
     "output_type": "stream",
     "text": [
      "{'objects': {'caucus': None,\n",
      "             'congress_numbers': [118],\n",
      "             'current': True,\n",
      "             'description': \"Representative for Alabama's 4th congressional \"\n",
      "                            'district',\n",
      "             'district': 4,\n",
      "             'enddate': '2025-01-03',\n",
      "             'extra': {'address': '266 Cannon House Office Building Washington '\n",
      "                                  'DC 20515-0104',\n",
      "                       'office': '266 Cannon House Office Building',\n",
      "                       'rss_url': 'http://aderholt.house.gov/common/rss//index.cfm?rss=20'},\n",
      "             'leadership_title': None,\n",
      "             'party': 'Republican',\n",
      "             'person': {'bioguideid': 'A000055',\n",
      "                        'birthday': '1965-07-22',\n",
      "                        'cspanid': 45516,\n",
      "                        'fediverse_webfinger': None,\n",
      "                        'firstname': 'Robert',\n",
      "                        'gender': 'male',\n",
      "                        'gender_label': 'Male',\n",
      "                        'lastname': 'Aderholt',\n",
      "                        'link': 'https://www.govtrack.us/congress/members/robert_aderholt/400004',\n",
      "                        'middlename': 'B.',\n",
      "                        'name': 'Rep. Robert Aderholt [R-AL4]',\n",
      "                        'namemod': '',\n",
      "                        'nickname': '',\n",
      "                        'osid': 'N00003028',\n",
      "                        'pvsid': None,\n",
      "                        'sortname': 'Aderholt, Robert (Rep.) [R-AL4]',\n",
      "                        'twitterid': 'Robert_Aderholt',\n",
      "                        'youtubeid': 'RobertAderholt'},\n",
      "             'phone': '202-225-4876',\n",
      "             'role_type': 'representative',\n",
      "             'role_type_label': 'Representative',\n",
      "             'senator_class': None,\n",
      "             'senator_rank': None,\n",
      "             'startdate': '2023-01-03',\n",
      "             'state': 'AL',\n",
      "             'title': 'Rep.',\n",
      "             'title_long': 'Representative',\n",
      "             'website': 'https://aderholt.house.gov'}}\n"
     ]
    }
   ],
   "source": [
    "# show all the details for this representative \n",
    "docs = reps.aggregate([{\"$project\" : {\"_id\": 0, \"objects\" : 1}},\n",
    "                       {\"$unwind\":\"$objects\"},\n",
    "                       {\"$match\": { \"objects.person.bioguideid\": 'A000055' }}\n",
    "                      ])\n",
    "printDocs(docs)"
   ]
  },
  {
   "cell_type": "markdown",
   "metadata": {
    "tags": [
     "style-activity"
    ]
   },
   "source": [
    "## Joins"
   ]
  },
  {
   "cell_type": "markdown",
   "metadata": {},
   "source": [
    "At some point you may need to join two documents, which was not possible in earlier versions of MongoDB. Later versions introduced something similar to a simple left join using the pipeline `$lookup` operator ([Mongo docs](https://www.mongodb.com/docs/manual/reference/operator/aggregation/lookup/)).\n",
    "\n",
    "MongoDB provides the joins as part of the aggregation steps. \n"
   ]
  },
  {
   "cell_type": "code",
   "execution_count": 72,
   "metadata": {},
   "outputs": [],
   "source": [
    "# if you don't know your American states, join up the states collection\n",
    "joined = reps.aggregate([\n",
    "     {\"$unwind\":\"$objects\"},\n",
    "     {\"$lookup\":\n",
    "       {\n",
    "         \"from\": \"states\",\n",
    "         \"localField\": \"objects.state\",\n",
    "         \"foreignField\": \"abbreviation\",\n",
    "         \"as\": \"stateInfo\"\n",
    "       }\n",
    "  }\n",
    "])\n"
   ]
  },
  {
   "cell_type": "code",
   "execution_count": 73,
   "metadata": {},
   "outputs": [],
   "source": [
    "# This will generate a lot of data, so only uncomment if you want to see it all:\n",
    "#printDocs(joined)"
   ]
  },
  {
   "cell_type": "code",
   "execution_count": 74,
   "metadata": {},
   "outputs": [
    {
     "name": "stdout",
     "output_type": "stream",
     "text": [
      "{'_id': ObjectId('67938a590744cfd02c19a756'),\n",
      " 'meta': {'limit': 438, 'offset': 0, 'total_count': 439},\n",
      " 'objects': {'caucus': None,\n",
      "             'congress_numbers': [118],\n",
      "             'current': True,\n",
      "             'description': \"Representative for Alabama's 4th congressional \"\n",
      "                            'district',\n",
      "             'district': 4,\n",
      "             'enddate': '2025-01-03',\n",
      "             'extra': {'address': '266 Cannon House Office Building Washington '\n",
      "                                  'DC 20515-0104',\n",
      "                       'office': '266 Cannon House Office Building',\n",
      "                       'rss_url': 'http://aderholt.house.gov/common/rss//index.cfm?rss=20'},\n",
      "             'leadership_title': None,\n",
      "             'party': 'Republican',\n",
      "             'person': {'bioguideid': 'A000055',\n",
      "                        'birthday': '1965-07-22',\n",
      "                        'cspanid': 45516,\n",
      "                        'fediverse_webfinger': None,\n",
      "                        'firstname': 'Robert',\n",
      "                        'gender': 'male',\n",
      "                        'gender_label': 'Male',\n",
      "                        'lastname': 'Aderholt',\n",
      "                        'link': 'https://www.govtrack.us/congress/members/robert_aderholt/400004',\n",
      "                        'middlename': 'B.',\n",
      "                        'name': 'Rep. Robert Aderholt [R-AL4]',\n",
      "                        'namemod': '',\n",
      "                        'nickname': '',\n",
      "                        'osid': 'N00003028',\n",
      "                        'pvsid': None,\n",
      "                        'sortname': 'Aderholt, Robert (Rep.) [R-AL4]',\n",
      "                        'twitterid': 'Robert_Aderholt',\n",
      "                        'youtubeid': 'RobertAderholt'},\n",
      "             'phone': '202-225-4876',\n",
      "             'role_type': 'representative',\n",
      "             'role_type_label': 'Representative',\n",
      "             'senator_class': None,\n",
      "             'senator_rank': None,\n",
      "             'startdate': '2023-01-03',\n",
      "             'state': 'AL',\n",
      "             'title': 'Rep.',\n",
      "             'title_long': 'Representative',\n",
      "             'website': 'https://aderholt.house.gov'},\n",
      " 'stateInfo': [{'_id': ObjectId('67938a59875d20be66a718b9'),\n",
      "                'abbreviation': 'AL',\n",
      "                'name': 'Alabama'}]}\n"
     ]
    }
   ],
   "source": [
    "# Instead, lets just home in on our representative\n",
    "joined = reps.aggregate([\n",
    "     {\"$unwind\":\"$objects\"},\n",
    "     {\"$lookup\":\n",
    "       {\n",
    "         \"from\": \"states\",\n",
    "         \"localField\": \"objects.state\",\n",
    "         \"foreignField\": \"abbreviation\",\n",
    "         \"as\": \"stateInfo\"\n",
    "       }},\n",
    "       {\"$match\": { \"objects.person.bioguideid\": 'A000055' }}\n",
    "])\n",
    "printDocs(joined)\n"
   ]
  },
  {
   "cell_type": "code",
   "execution_count": 75,
   "metadata": {},
   "outputs": [
    {
     "name": "stdout",
     "output_type": "stream",
     "text": [
      "[{'person': {'firstname': 'Maria', 'gender': 'female', 'lastname': 'Cantwell'}}]\n",
      "[{'person': {'firstname': 'Debbie', 'gender': 'female', 'lastname': 'Stabenow'}}]\n",
      "[{'person': {'firstname': 'Tammy', 'gender': 'female', 'lastname': 'Baldwin'}}]\n",
      "[{'person': {'firstname': 'Marsha', 'gender': 'female', 'lastname': 'Blackburn'}}]\n",
      "[{'person': {'firstname': 'Mazie', 'gender': 'female', 'lastname': 'Hirono'}}]\n",
      "[{'person': {'firstname': 'Kirsten', 'gender': 'female', 'lastname': 'Gillibrand'}}]\n",
      "[{'person': {'firstname': 'Amy', 'gender': 'female', 'lastname': 'Klobuchar'}}]\n",
      "[{'person': {'firstname': 'Kyrsten', 'gender': 'female', 'lastname': 'Sinema'}}]\n",
      "[{'person': {'firstname': 'Elizabeth', 'gender': 'female', 'lastname': 'Warren'}}]\n",
      "[{'person': {'firstname': 'Deb', 'gender': 'female', 'lastname': 'Fischer'}}]\n",
      "[{'person': {'firstname': 'Jacky', 'gender': 'female', 'lastname': 'Rosen'}}]\n",
      "[{'person': {'firstname': 'Susan', 'gender': 'female', 'lastname': 'Collins'}}]\n",
      "[{'person': {'firstname': 'Jeanne', 'gender': 'female', 'lastname': 'Shaheen'}}]\n",
      "[{'person': {'firstname': 'Shelley', 'gender': 'female', 'lastname': 'Capito'}}]\n",
      "[{'person': {'firstname': 'Joni', 'gender': 'female', 'lastname': 'Ernst'}}]\n",
      "[{'person': {'firstname': 'Tina', 'gender': 'female', 'lastname': 'Smith'}}]\n",
      "[{'person': {'firstname': 'Cindy', 'gender': 'female', 'lastname': 'Hyde-Smith'}}]\n",
      "[{'person': {'firstname': 'Cynthia', 'gender': 'female', 'lastname': 'Lummis'}}]\n",
      "[{'person': {'firstname': 'Lisa', 'gender': 'female', 'lastname': 'Murkowski'}}]\n",
      "[{'person': {'firstname': 'Patty', 'gender': 'female', 'lastname': 'Murray'}}]\n",
      "[{'person': {'firstname': 'Tammy', 'gender': 'female', 'lastname': 'Duckworth'}}]\n",
      "[{'person': {'firstname': 'Margaret', 'gender': 'female', 'lastname': 'Hassan'}}]\n",
      "[{'person': {'firstname': 'Catherine', 'gender': 'female', 'lastname': 'Cortez Masto'}}]\n",
      "[{'person': {'firstname': 'Katie', 'gender': 'female', 'lastname': 'Britt'}}]\n",
      "[{'person': {'firstname': 'Laphonza', 'gender': 'female', 'lastname': 'Butler'}}]\n"
     ]
    }
   ],
   "source": [
    "# the senator data is similarly structured, lets find any female senators\n",
    "docs = senators.aggregate([{\"$project\" : {\"_id\": 0, \"objects.person.firstname\" : 1, \"objects.person.lastname\": 1,\n",
    "                                     \"objects.person.gender\":1}},\n",
    "                       {\"$unwind\":\"$objects\"},\n",
    "                       {\"$match\": { \"objects.person.gender\": 'female' }}\n",
    "                      ])\n",
    "printDocValues(docs)"
   ]
  },
  {
   "cell_type": "code",
   "execution_count": 76,
   "metadata": {},
   "outputs": [
    {
     "name": "stdout",
     "output_type": "stream",
     "text": [
      "{'objects': {'caucus': None,\n",
      "             'congress_numbers': [116, 117, 118],\n",
      "             'current': True,\n",
      "             'description': 'Senior Senator for Michigan',\n",
      "             'district': None,\n",
      "             'enddate': '2025-01-03',\n",
      "             'extra': {'address': '731 Hart Senate Office Building Washington '\n",
      "                                  'DC 20510',\n",
      "                       'contact_form': 'https://www.stabenow.senate.gov/contact',\n",
      "                       'office': '731 Hart Senate Office Building',\n",
      "                       'rss_url': 'http://stabenow.senate.gov/rss/?p=news'},\n",
      "             'leadership_title': 'Senate Democratic Policy & Communications '\n",
      "                                 'Committee Chair',\n",
      "             'party': 'Democrat',\n",
      "             'person': {'bioguideid': 'S000770',\n",
      "                        'birthday': '1950-04-29',\n",
      "                        'cspanid': 45451,\n",
      "                        'fediverse_webfinger': None,\n",
      "                        'firstname': 'Debbie',\n",
      "                        'gender': 'female',\n",
      "                        'gender_label': 'Female',\n",
      "                        'lastname': 'Stabenow',\n",
      "                        'link': 'https://www.govtrack.us/congress/members/debbie_stabenow/300093',\n",
      "                        'middlename': 'Ann',\n",
      "                        'name': 'Sen. Debbie Stabenow [D-MI]',\n",
      "                        'namemod': '',\n",
      "                        'nickname': '',\n",
      "                        'osid': 'N00004118',\n",
      "                        'pvsid': None,\n",
      "                        'sortname': 'Stabenow, Debbie (Sen.) [D-MI]',\n",
      "                        'twitterid': 'SenStabenow',\n",
      "                        'youtubeid': 'senatorstabenow'},\n",
      "             'phone': '202-224-4822',\n",
      "             'role_type': 'senator',\n",
      "             'role_type_label': 'Senator',\n",
      "             'senator_class': 'class1',\n",
      "             'senator_class_label': 'Class 1',\n",
      "             'senator_rank': 'senior',\n",
      "             'senator_rank_label': 'Senior',\n",
      "             'startdate': '2019-01-03',\n",
      "             'state': 'MI',\n",
      "             'title': 'Sen.',\n",
      "             'title_long': 'Senator',\n",
      "             'website': 'https://www.stabenow.senate.gov'}}\n"
     ]
    }
   ],
   "source": [
    "# find the Senior Senator for Michigan\n",
    "\n",
    "docs = senators.aggregate([{\"$project\" : {\"_id\": 0, \"objects\":1}},\n",
    "                       {\"$unwind\":\"$objects\"},\n",
    "                       {\"$match\": { \"objects.description\": \"Senior Senator for Michigan\"}}\n",
    "                      ])\n",
    "printDocs(docs)"
   ]
  },
  {
   "cell_type": "code",
   "execution_count": 77,
   "metadata": {},
   "outputs": [],
   "source": [
    "# Finally remember, due to no schema you can give an unknown field, which it will just ignore and not warn you!\n",
    "docs = senators.aggregate([{\"$project\" : {\"_id\": 0, \"objects\":1}},\n",
    "                       {\"$unwind\":\"$objects\"},\n",
    "                       {\"$match\": { \"objects.person.description\": \"Senior Senator for Michigan\"}}\n",
    "                      ])\n",
    "printDocs(docs)"
   ]
  },
  {
   "cell_type": "markdown",
   "metadata": {
    "tags": [
     "style-learner"
    ]
   },
   "source": [
    "## Twitter Data"
   ]
  },
  {
   "cell_type": "markdown",
   "metadata": {},
   "source": [
    "Another example of semi-structured data is Twitter, or X data. \n",
    "\n",
    "Unfortunately, X now imposes a cost of at least $100 a month if you want to extract tweets (creating is still free!). Below are some example of historical tweets extracted on the 10th and 11th January 2023 from `#BBCNews`. This was when you could still obtain the data for free under their `academic research product track` and `developer application` account. \n",
    "\n",
    "Discussion of using Twitter data can be found in Ahmed 2021's paper:\n",
    "Wasim Ahmed (2021), *Using Twitter as a data source an overview of social media research tools (2021)*, available at: https://blogs.lse.ac.uk/impactofsocialsciences/2021/05/18/using-twitter-as-a-data-source-an-overview-of-social-media-research-tools-2021/ accessed 21/01/2025.\n",
    "\n",
    "See this website for more information on costs:\n",
    "\n",
    "https://docs.x.com/x-api/getting-started/about-x-api\n",
    "\n",
    "The examples below show how MongoDB is good at working with semi-structured data easily."
   ]
  },
  {
   "cell_type": "code",
   "execution_count": 78,
   "metadata": {},
   "outputs": [],
   "source": [
    "# Needed for Twitter data\n",
    "import string\n",
    "import operator\n",
    "import re"
   ]
  },
  {
   "cell_type": "code",
   "execution_count": 79,
   "metadata": {},
   "outputs": [
    {
     "name": "stdout",
     "output_type": "stream",
     "text": [
      "{\"id\": 1612920079967985706, \"text\": \"Firefighters face higher cancer risk, study finds https://t.co/EMGsCJ0yun\", \"edit_history_tweet_ids\": [1612920079967985706], \"author_id\": 612473, \"context_annotations\": [{\"domain\": {\"id\": \"46\", \"name\": \"Business Taxonomy\", \"description\": \"Categories within Brand Verticals that narrow down the scope of Brands\"}, \"entity\": {\"id\": \"1557697121477832705\", \"name\": \"Publisher & News Business\", \"description\": \"Brands, companies, advertisers and every non-person handle with the profit intent related to  marketing and advertiser agencies, publishers of magazines, newspapers, blogs, books\"}}, {\"domain\": {\"id\": \"66\", \"name\": \"Interests and Hobbies Category\", \"description\": \"A grouping of interests and hobbies entities, like Novelty Food or Destinations\"}, \"entity\": {\"id\": \"1237472346560053249\", \"name\": \"Firefighting\"}}, {\"domain\": {\"id\": \"131\", \"name\": \"Unified Twitter Taxonomy\", \"description\": \"A taxonomy of user interests. \"}, \"entity\": {\"id\": \"1237472346560053249\", \"name\": \"Firefighting\"}}, {\"domain\": {\"id\": \"45\", \"name\": \"Brand Vertical\", \"description\": \"Top level entities that describe a Brands industry\"}, \"entity\": {\"id\": \"781974597310615553\", \"name\": \"Entertainment\"}}, {\"domain\": {\"id\": \"30\", \"name\": \"Entities [Entity Service]\", \"description\": \"Entity Service top level domain, every item that is in Entity Service should be in this domain\"}, \"entity\": {\"id\": \"781974597105094656\", \"name\": \"TV/Movies Related - Entertainment\"}}, {\"domain\": {\"id\": \"47\", \"name\": \"Brand\", \"description\": \"Brands and Companies\"}, \"entity\": {\"id\": \"10047963348\", \"name\": \"BBC News\", \"description\": \"BBC News\"}}, {\"domain\": {\"id\": \"131\", \"name\": \"Unified Twitter Taxonomy\", \"description\": \"A taxonomy of user interests. \"}, \"entity\": {\"id\": \"10047963348\", \"name\": \"BBC News\", \"description\": \"BBC News\"}}, {\"domain\": {\"id\": \"131\", \"name\": \"Unified Twitter Taxonomy\", \"description\": \"A taxonomy of user interests. \"}, \"entity\": {\"id\": \"1046545033657081857\", \"name\": \"News\", \"description\": \"News\"}}, {\"domain\": {\"id\": \"131\", \"name\": \"Unified Twitter Taxonomy\", \"description\": \"A taxonomy of user interests. \"}, \"entity\": {\"id\": \"1196447117297905665\", \"name\": \"News outlets\"}}, {\"domain\": {\"id\": \"69\", \"name\": \"News Vertical\", \"description\": \"News Categories like Entertainment or Technology\"}, \"entity\": {\"id\": \"1192881102098055168\", \"name\": \"UK national news\"}}, {\"domain\": {\"id\": \"131\", \"name\": \"Unified Twitter Taxonomy\", \"description\": \"A taxonomy of user interests. \"}, \"entity\": {\"id\": \"1192881102098055168\", \"name\": \"UK national news\"}}], \"conversation_id\": 1612920079967985706, \"created_at\": \"Tuesday 10-Jan-2023 21:11:28\", \"edit_controls\": {\"edits_remaining\": 5, \"is_edit_eligible\": true, \"editable_until\": \"Tuesday 10-Jan-2023 21:41:28\"}, \"entities\": {\"urls\": [{\"start\": 50, \"end\": 73, \"url\": \"https://t.co/EMGsCJ0yun\", \"expanded_url\": \"https://bbc.in/3isqyw2\", \"display_url\": \"bbc.in/3isqyw2\", \"status\": 200, \"title\": \"Firefighters face higher cancer risk, Scottish study finds\", \"description\": \"They are also more likely to die from heart attacks and strokes, researchers say.\", \"unwound_url\": \"https://www.bbc.co.uk/news/uk-scotland-64216321?at_format=link&at_link_origin=BBCNews&at_campaign=Social_Flow&at_ptr_name=twitter&at_link_id=3DE24338-9125-11ED-A99B-0F390EDC252D&at_bbc_team=editorial&at_campaign_type=owned&at_medium=social&at_link_type=web_link\"}]}, \"lang\": \"en\", \"public_metrics\": {\"retweet_count\": 9, \"reply_count\": 7, \"like_count\": 20, \"quote_count\": 2, \"impression_count\": 23147}, \"reply_settings\": \"everyone\"}\n",
      "{\"id\": 1612917711406768162, \"text\": \"Harry's memoir Spare displayed beside How to Kill Your Family novel https://t.co/jL5JlFeAgB\", \"edit_history_tweet_ids\": [1612917711406768162], \"author_id\": 612473, \"context_annotations\": [{\"domain\": {\"id\": \"46\", \"name\": \"Business Taxonomy\", \"description\": \"Categories within Brand Verticals that narrow down the scope of Brands\"}, \"entity\": {\"id\": \"1557696802391859201\", \"name\": \"Entertainment & Leisure Business\", \"description\": \"Brands, companies, advertisers and every non-person handle with the profit intent related to movies, music, television, franchises, venues, theme parks, toys, tourism, hotels\"}}, {\"domain\": {\"id\": \"46\", \"name\": \"Business Taxonomy\", \"description\": \"Categories within Brand Verticals that narrow down the scope of Brands\"}, \"entity\": {\"id\": \"1557697121477832705\", \"name\": \"Publisher & News Business\", \"description\": \"Brands, companies, advertisers and every non-person handle with the profit intent related to  marketing and advertiser agencies, publishers of magazines, newspapers, blogs, books\"}}, {\"domain\": {\"id\": \"45\", \"name\": \"Brand Vertical\", \"description\": \"Top level entities that describe a Brands industry\"}, \"entity\": {\"id\": \"781974597310615553\", \"name\": \"Entertainment\"}}, {\"domain\": {\"id\": \"30\", \"name\": \"Entities [Entity Service]\", \"description\": \"Entity Service top level domain, every item that is in Entity Service should be in this domain\"}, \"entity\": {\"id\": \"781974597105094656\", \"name\": \"TV/Movies Related - Entertainment\"}}, {\"domain\": {\"id\": \"47\", \"name\": \"Brand\", \"description\": \"Brands and Companies\"}, \"entity\": {\"id\": \"10047963348\", \"name\": \"BBC News\", \"description\": \"BBC News\"}}, {\"domain\": {\"id\": \"85\", \"name\": \"Book Genre\", \"description\": \"A genre for books, like Fiction\"}, \"entity\": {\"id\": \"859531094730825728\", \"name\": \"Biographies and memoirs\", \"description\": \"Biographies and memoirs\"}}, {\"domain\": {\"id\": \"131\", \"name\": \"Unified Twitter Taxonomy\", \"description\": \"A taxonomy of user interests. \"}, \"entity\": {\"id\": \"10047963348\", \"name\": \"BBC News\", \"description\": \"BBC News\"}}, {\"domain\": {\"id\": \"131\", \"name\": \"Unified Twitter Taxonomy\", \"description\": \"A taxonomy of user interests. \"}, \"entity\": {\"id\": \"839544274442051584\", \"name\": \"Entertainment\"}}, {\"domain\": {\"id\": \"131\", \"name\": \"Unified Twitter Taxonomy\", \"description\": \"A taxonomy of user interests. \"}, \"entity\": {\"id\": \"847519659179954178\", \"name\": \"Books\", \"description\": \"Books and literature\"}}, {\"domain\": {\"id\": \"131\", \"name\": \"Unified Twitter Taxonomy\", \"description\": \"A taxonomy of user interests. \"}, \"entity\": {\"id\": \"859531094730825728\", \"name\": \"Biographies and memoirs\", \"description\": \"Biographies and memoirs\"}}, {\"domain\": {\"id\": \"131\", \"name\": \"Unified Twitter Taxonomy\", \"description\": \"A taxonomy of user interests. \"}, \"entity\": {\"id\": \"1046545033657081857\", \"name\": \"News\", \"description\": \"News\"}}, {\"domain\": {\"id\": \"131\", \"name\": \"Unified Twitter Taxonomy\", \"description\": \"A taxonomy of user interests. \"}, \"entity\": {\"id\": \"1196447117297905665\", \"name\": \"News outlets\"}}, {\"domain\": {\"id\": \"69\", \"name\": \"News Vertical\", \"description\": \"News Categories like Entertainment or Technology\"}, \"entity\": {\"id\": \"1192881102098055168\", \"name\": \"UK national news\"}}, {\"domain\": {\"id\": \"131\", \"name\": \"Unified Twitter Taxonomy\", \"description\": \"A taxonomy of user interests. \"}, \"entity\": {\"id\": \"1192881102098055168\", \"name\": \"UK national news\"}}], \"conversation_id\": 1612917711406768162, \"created_at\": \"Tuesday 10-Jan-2023 21:02:03\", \"edit_controls\": {\"edits_remaining\": 5, \"is_edit_eligible\": true, \"editable_until\": \"Tuesday 10-Jan-2023 21:32:03\"}, \"entities\": {\"urls\": [{\"start\": 68, \"end\": 91, \"url\": \"https://t.co/jL5JlFeAgB\", \"expanded_url\": \"https://bbc.in/3IDk9J7\", \"display_url\": \"bbc.in/3IDk9J7\", \"status\": 200, \"title\": \"Harry's memoir Spare displayed beside How to Kill Your Family novel\", \"description\": \"A bookseller placed Prince Harry's memoir Spare beside Bella Mackie's novel How to Kill Your Family.\", \"unwound_url\": \"https://www.bbc.com/news/uk-england-wiltshire-64227200?xtor=AL-72-%5Bpartner%5D-%5Bbbc.news.twitter%5D-%5Bheadline%5D-%5Bnews%5D-%5Bbizdev%5D-%5Bisapi%5D&at_bbc_team=editorial&at_link_origin=BBCNews&at_ptr_name=twitter&at_medium=social&at_format=link&at_link_type=web_link&at_campaign=Social_Flow&at_link_id=4685D76E-90FF-11ED-9AC9-BFAB4744363C&at_campaign_type=owned\"}], \"annotations\": [{\"end\": 4, \"probability\": 0.7457, \"type\": \"Person\", \"normalized_text\": \"Harry\"}, {\"start\": 38, \"end\": 60, \"probability\": 0.9476, \"type\": \"Other\", \"normalized_text\": \"How to Kill Your Family\"}]}, \"lang\": \"en\", \"public_metrics\": {\"retweet_count\": 40, \"reply_count\": 50, \"like_count\": 253, \"quote_count\": 25, \"impression_count\": 70143}, \"reply_settings\": \"everyone\"}\n"
     ]
    }
   ],
   "source": [
    "# Good practice to examine the data before importing it\n",
    "! head -2 data/BBCNews-230110-2118.json"
   ]
  },
  {
   "cell_type": "code",
   "execution_count": 80,
   "metadata": {},
   "outputs": [
    {
     "name": "stdout",
     "output_type": "stream",
     "text": [
      "{\"id\": 1612907650672369668, \"text\": \"Things you might have missed from Prince Harry's book https://t.co/efU3aR5fg1\", \"edit_history_tweet_ids\": [1612907650672369668], \"author_id\": 612473, \"context_annotations\": [{\"domain\": {\"id\": \"10\", \"name\": \"Person\", \"description\": \"Named people in the world like Nelson Mandela\"}, \"entity\": {\"id\": \"934100345080262656\", \"name\": \"Prince Harry\", \"description\": \"Prince Harry\"}}, {\"domain\": {\"id\": \"46\", \"name\": \"Business Taxonomy\", \"description\": \"Categories within Brand Verticals that narrow down the scope of Brands\"}, \"entity\": {\"id\": \"1557697121477832705\", \"name\": \"Publisher & News Business\", \"description\": \"Brands, companies, advertisers and every non-person handle with the profit intent related to  marketing and advertiser agencies, publishers of magazines, newspapers, blogs, books\"}}, {\"domain\": {\"id\": \"131\", \"name\": \"Unified Twitter Taxonomy\", \"description\": \"A taxonomy of user interests. \"}, \"entity\": {\"id\": \"847878884917886977\", \"name\": \"Politics\", \"description\": \"Politics\"}}, {\"domain\": {\"id\": \"131\", \"name\": \"Unified Twitter Taxonomy\", \"description\": \"A taxonomy of user interests. \"}, \"entity\": {\"id\": \"934100345080262656\", \"name\": \"Prince Harry\", \"description\": \"Prince Harry\"}}, {\"domain\": {\"id\": \"131\", \"name\": \"Unified Twitter Taxonomy\", \"description\": \"A taxonomy of user interests. \"}, \"entity\": {\"id\": \"1070032753834438656\", \"name\": \"Political figures\", \"description\": \"Politician\"}}, {\"domain\": {\"id\": \"131\", \"name\": \"Unified Twitter Taxonomy\", \"description\": \"A taxonomy of user interests. \"}, \"entity\": {\"id\": \"1098692833333014528\", \"name\": \"British Royal Family\", \"description\": \"Royal Family\"}}, {\"domain\": {\"id\": \"45\", \"name\": \"Brand Vertical\", \"description\": \"Top level entities that describe a Brands industry\"}, \"entity\": {\"id\": \"781974597310615553\", \"name\": \"Entertainment\"}}, {\"domain\": {\"id\": \"30\", \"name\": \"Entities [Entity Service]\", \"description\": \"Entity Service top level domain, every item that is in Entity Service should be in this domain\"}, \"entity\": {\"id\": \"781974597105094656\", \"name\": \"TV/Movies Related - Entertainment\"}}, {\"domain\": {\"id\": \"47\", \"name\": \"Brand\", \"description\": \"Brands and Companies\"}, \"entity\": {\"id\": \"10047963348\", \"name\": \"BBC News\", \"description\": \"BBC News\"}}, {\"domain\": {\"id\": \"131\", \"name\": \"Unified Twitter Taxonomy\", \"description\": \"A taxonomy of user interests. \"}, \"entity\": {\"id\": \"10047963348\", \"name\": \"BBC News\", \"description\": \"BBC News\"}}, {\"domain\": {\"id\": \"131\", \"name\": \"Unified Twitter Taxonomy\", \"description\": \"A taxonomy of user interests. \"}, \"entity\": {\"id\": \"1046545033657081857\", \"name\": \"News\", \"description\": \"News\"}}, {\"domain\": {\"id\": \"131\", \"name\": \"Unified Twitter Taxonomy\", \"description\": \"A taxonomy of user interests. \"}, \"entity\": {\"id\": \"1196447117297905665\", \"name\": \"News outlets\"}}, {\"domain\": {\"id\": \"69\", \"name\": \"News Vertical\", \"description\": \"News Categories like Entertainment or Technology\"}, \"entity\": {\"id\": \"1192881102098055168\", \"name\": \"UK national news\"}}, {\"domain\": {\"id\": \"131\", \"name\": \"Unified Twitter Taxonomy\", \"description\": \"A taxonomy of user interests. \"}, \"entity\": {\"id\": \"1192881102098055168\", \"name\": \"UK national news\"}}], \"conversation_id\": 1612907650672369668, \"created_at\": \"Tuesday 10-Jan-2023 20:22:04\", \"edit_controls\": {\"edits_remaining\": 5, \"is_edit_eligible\": true, \"editable_until\": \"Tuesday 10-Jan-2023 20:52:04\"}, \"entities\": {\"annotations\": [{\"start\": 34, \"end\": 45, \"probability\": 0.966, \"type\": \"Person\", \"normalized_text\": \"Prince Harry\"}], \"urls\": [{\"start\": 54, \"end\": 77, \"url\": \"https://t.co/efU3aR5fg1\", \"expanded_url\": \"https://bbc.in/3k7920K\", \"display_url\": \"bbc.in/3k7920K\", \"images\": [{\"url\": \"https://pbs.twimg.com/news_img/1612907693353598978/9VTmRaIJ?format=jpg&name=orig\", \"width\": 1024, \"height\": 576}, {\"url\": \"https://pbs.twimg.com/news_img/1612907693353598978/9VTmRaIJ?format=jpg&name=150x150\", \"width\": 150, \"height\": 150}], \"status\": 200, \"title\": \"Prince Harry's book: Things you might have missed\", \"description\": \"The duke says he is a Friends fanatic and the Queen quizzed Meghan about Donald Trump when they met.\", \"unwound_url\": \"https://www.bbc.com/news/uk-64220688?xtor=AL-72-%5Bpartner%5D-%5Bbbc.news.twitter%5D-%5Bheadline%5D-%5Bnews%5D-%5Bbizdev%5D-%5Bisapi%5D&at_campaign_type=owned&at_ptr_name=twitter&at_bbc_team=editorial&at_link_origin=BBCNews&at_format=link&at_medium=social&at_link_type=web_link&at_campaign=Social_Flow&at_link_id=874CF488-9101-11ED-9AC9-BFAB4744363C\"}]}, \"lang\": \"en\", \"public_metrics\": {\"retweet_count\": 25, \"reply_count\": 190, \"like_count\": 115, \"quote_count\": 23, \"impression_count\": 154525}, \"reply_settings\": \"everyone\"}\n",
      "{\"id\": 1612905137390878720, \"text\": \"NHS bosses fear impact of second ambulance strike https://t.co/iXlpIMlLmG\", \"edit_history_tweet_ids\": [1612905137390878720], \"author_id\": 612473, \"context_annotations\": [{\"domain\": {\"id\": \"46\", \"name\": \"Business Taxonomy\", \"description\": \"Categories within Brand Verticals that narrow down the scope of Brands\"}, \"entity\": {\"id\": \"1557697121477832705\", \"name\": \"Publisher & News Business\", \"description\": \"Brands, companies, advertisers and every non-person handle with the profit intent related to  marketing and advertiser agencies, publishers of magazines, newspapers, blogs, books\"}}, {\"domain\": {\"id\": \"88\", \"name\": \"Political Body\", \"description\": \"A section of a government, like The Supreme Court\"}, \"entity\": {\"id\": \"1062025800591896576\", \"name\": \"National Health Service\", \"description\": \"National Health Service\"}}, {\"domain\": {\"id\": \"131\", \"name\": \"Unified Twitter Taxonomy\", \"description\": \"A taxonomy of user interests. \"}, \"entity\": {\"id\": \"847878884917886977\", \"name\": \"Politics\", \"description\": \"Politics\"}}, {\"domain\": {\"id\": \"131\", \"name\": \"Unified Twitter Taxonomy\", \"description\": \"A taxonomy of user interests. \"}, \"entity\": {\"id\": \"1062025800591896576\", \"name\": \"National Health Service\", \"description\": \"National Health Service\"}}, {\"domain\": {\"id\": \"131\", \"name\": \"Unified Twitter Taxonomy\", \"description\": \"A taxonomy of user interests. \"}, \"entity\": {\"id\": \"1068583660914266113\", \"name\": \"Government institutions\", \"description\": \"Political Body\"}}, {\"domain\": {\"id\": \"45\", \"name\": \"Brand Vertical\", \"description\": \"Top level entities that describe a Brands industry\"}, \"entity\": {\"id\": \"781974597310615553\", \"name\": \"Entertainment\"}}, {\"domain\": {\"id\": \"30\", \"name\": \"Entities [Entity Service]\", \"description\": \"Entity Service top level domain, every item that is in Entity Service should be in this domain\"}, \"entity\": {\"id\": \"781974597105094656\", \"name\": \"TV/Movies Related - Entertainment\"}}, {\"domain\": {\"id\": \"47\", \"name\": \"Brand\", \"description\": \"Brands and Companies\"}, \"entity\": {\"id\": \"10047963348\", \"name\": \"BBC News\", \"description\": \"BBC News\"}}, {\"domain\": {\"id\": \"131\", \"name\": \"Unified Twitter Taxonomy\", \"description\": \"A taxonomy of user interests. \"}, \"entity\": {\"id\": \"10047963348\", \"name\": \"BBC News\", \"description\": \"BBC News\"}}, {\"domain\": {\"id\": \"131\", \"name\": \"Unified Twitter Taxonomy\", \"description\": \"A taxonomy of user interests. \"}, \"entity\": {\"id\": \"1046545033657081857\", \"name\": \"News\", \"description\": \"News\"}}, {\"domain\": {\"id\": \"131\", \"name\": \"Unified Twitter Taxonomy\", \"description\": \"A taxonomy of user interests. \"}, \"entity\": {\"id\": \"1196447117297905665\", \"name\": \"News outlets\"}}, {\"domain\": {\"id\": \"69\", \"name\": \"News Vertical\", \"description\": \"News Categories like Entertainment or Technology\"}, \"entity\": {\"id\": \"1192881102098055168\", \"name\": \"UK national news\"}}, {\"domain\": {\"id\": \"131\", \"name\": \"Unified Twitter Taxonomy\", \"description\": \"A taxonomy of user interests. \"}, \"entity\": {\"id\": \"1192881102098055168\", \"name\": \"UK national news\"}}], \"conversation_id\": 1612905137390878720, \"created_at\": \"Tuesday 10-Jan-2023 20:12:05\", \"edit_controls\": {\"edits_remaining\": 5, \"is_edit_eligible\": true, \"editable_until\": \"Tuesday 10-Jan-2023 20:42:05\"}, \"entities\": {\"annotations\": [{\"end\": 2, \"probability\": 0.8217, \"type\": \"Organization\", \"normalized_text\": \"NHS\"}], \"urls\": [{\"start\": 50, \"end\": 73, \"url\": \"https://t.co/iXlpIMlLmG\", \"expanded_url\": \"https://bbc.in/3Xpb6jj\", \"display_url\": \"bbc.in/3Xpb6jj\", \"images\": [{\"url\": \"https://pbs.twimg.com/news_img/1612905179774328835/ysKu7qcA?format=jpg&name=orig\", \"width\": 1024, \"height\": 576}, {\"url\": \"https://pbs.twimg.com/news_img/1612905179774328835/ysKu7qcA?format=jpg&name=150x150\", \"width\": 150, \"height\": 150}], \"status\": 200, \"title\": \"NHS bosses fear impact of second ambulance strike\", \"description\": \"Health managers say Wednesday's walkout in England and Wales will be harder to cope with.\", \"unwound_url\": \"https://www.bbc.com/news/health-64229958?xtor=AL-72-%5Bpartner%5D-%5Bbbc.news.twitter%5D-%5Bheadline%5D-%5Bnews%5D-%5Bbizdev%5D-%5Bisapi%5D&at_campaign_type=owned&at_bbc_team=editorial&at_link_origin=BBCNews&at_ptr_name=twitter&at_format=link&at_medium=social&at_link_type=web_link&at_campaign=Social_Flow&at_link_id=21E18218-9114-11ED-9AC9-BFAB4744363C\"}]}, \"lang\": \"en\", \"public_metrics\": {\"retweet_count\": 17, \"reply_count\": 23, \"like_count\": 69, \"quote_count\": 2, \"impression_count\": 123806}, \"reply_settings\": \"everyone\"}\n"
     ]
    }
   ],
   "source": [
    "! tail -2 data/BBCNews-230111-2214.json"
   ]
  },
  {
   "cell_type": "code",
   "execution_count": 81,
   "metadata": {},
   "outputs": [
    {
     "data": {
      "text/plain": [
       "['accidents',\n",
       " 'admin',\n",
       " 'babyNamesDB',\n",
       " 'bbc_db',\n",
       " 'config',\n",
       " 'fsa',\n",
       " 'local',\n",
       " 'politicsDB']"
      ]
     },
     "execution_count": 81,
     "metadata": {},
     "output_type": "execute_result"
    }
   ],
   "source": [
    "client.drop_database('twitterDB')\n",
    "client.list_database_names()"
   ]
  },
  {
   "cell_type": "code",
   "execution_count": 82,
   "metadata": {},
   "outputs": [
    {
     "name": "stdout",
     "output_type": "stream",
     "text": [
      "2025-01-24T12:40:57.943+0000\tconnected to: mongodb://localhost/\n",
      "2025-01-24T12:40:57.974+0000\t100 document(s) imported successfully. 0 document(s) failed to import.\n",
      "2025-01-24T12:40:58.101+0000\tconnected to: mongodb://localhost/\n",
      "2025-01-24T12:40:58.123+0000\t100 document(s) imported successfully. 0 document(s) failed to import.\n"
     ]
    }
   ],
   "source": [
    "# load this into a twitterDB database and news from 11th January\n",
    "! mongoimport --db twitterDB  --file data/BBCNews-230110-2118.json --collection bbcnews\n",
    "! mongoimport --db twitterDB  --file data/BBCNews-230111-2214.json --collection bbcnews"
   ]
  },
  {
   "cell_type": "code",
   "execution_count": 83,
   "metadata": {},
   "outputs": [
    {
     "data": {
      "text/plain": [
       "['accidents',\n",
       " 'admin',\n",
       " 'babyNamesDB',\n",
       " 'bbc_db',\n",
       " 'config',\n",
       " 'fsa',\n",
       " 'local',\n",
       " 'politicsDB',\n",
       " 'twitterDB']"
      ]
     },
     "execution_count": 83,
     "metadata": {},
     "output_type": "execute_result"
    }
   ],
   "source": [
    "client.list_database_names()"
   ]
  },
  {
   "cell_type": "code",
   "execution_count": 84,
   "metadata": {},
   "outputs": [
    {
     "data": {
      "text/plain": [
       "{'_id': ObjectId('67938a59cac9e7819e94e20a'),\n",
       " 'id': 1612920079967985706,\n",
       " 'text': 'Firefighters face higher cancer risk, study finds https://t.co/EMGsCJ0yun',\n",
       " 'edit_history_tweet_ids': [1612920079967985706],\n",
       " 'author_id': 612473,\n",
       " 'context_annotations': [{'domain': {'id': '46',\n",
       "    'name': 'Business Taxonomy',\n",
       "    'description': 'Categories within Brand Verticals that narrow down the scope of Brands'},\n",
       "   'entity': {'id': '1557697121477832705',\n",
       "    'name': 'Publisher & News Business',\n",
       "    'description': 'Brands, companies, advertisers and every non-person handle with the profit intent related to  marketing and advertiser agencies, publishers of magazines, newspapers, blogs, books'}},\n",
       "  {'domain': {'id': '66',\n",
       "    'name': 'Interests and Hobbies Category',\n",
       "    'description': 'A grouping of interests and hobbies entities, like Novelty Food or Destinations'},\n",
       "   'entity': {'id': '1237472346560053249', 'name': 'Firefighting'}},\n",
       "  {'domain': {'id': '131',\n",
       "    'name': 'Unified Twitter Taxonomy',\n",
       "    'description': 'A taxonomy of user interests. '},\n",
       "   'entity': {'id': '1237472346560053249', 'name': 'Firefighting'}},\n",
       "  {'domain': {'id': '45',\n",
       "    'name': 'Brand Vertical',\n",
       "    'description': 'Top level entities that describe a Brands industry'},\n",
       "   'entity': {'id': '781974597310615553', 'name': 'Entertainment'}},\n",
       "  {'domain': {'id': '30',\n",
       "    'name': 'Entities [Entity Service]',\n",
       "    'description': 'Entity Service top level domain, every item that is in Entity Service should be in this domain'},\n",
       "   'entity': {'id': '781974597105094656',\n",
       "    'name': 'TV/Movies Related - Entertainment'}},\n",
       "  {'domain': {'id': '47',\n",
       "    'name': 'Brand',\n",
       "    'description': 'Brands and Companies'},\n",
       "   'entity': {'id': '10047963348',\n",
       "    'name': 'BBC News',\n",
       "    'description': 'BBC News'}},\n",
       "  {'domain': {'id': '131',\n",
       "    'name': 'Unified Twitter Taxonomy',\n",
       "    'description': 'A taxonomy of user interests. '},\n",
       "   'entity': {'id': '10047963348',\n",
       "    'name': 'BBC News',\n",
       "    'description': 'BBC News'}},\n",
       "  {'domain': {'id': '131',\n",
       "    'name': 'Unified Twitter Taxonomy',\n",
       "    'description': 'A taxonomy of user interests. '},\n",
       "   'entity': {'id': '1046545033657081857',\n",
       "    'name': 'News',\n",
       "    'description': 'News'}},\n",
       "  {'domain': {'id': '131',\n",
       "    'name': 'Unified Twitter Taxonomy',\n",
       "    'description': 'A taxonomy of user interests. '},\n",
       "   'entity': {'id': '1196447117297905665', 'name': 'News outlets'}},\n",
       "  {'domain': {'id': '69',\n",
       "    'name': 'News Vertical',\n",
       "    'description': 'News Categories like Entertainment or Technology'},\n",
       "   'entity': {'id': '1192881102098055168', 'name': 'UK national news'}},\n",
       "  {'domain': {'id': '131',\n",
       "    'name': 'Unified Twitter Taxonomy',\n",
       "    'description': 'A taxonomy of user interests. '},\n",
       "   'entity': {'id': '1192881102098055168', 'name': 'UK national news'}}],\n",
       " 'conversation_id': 1612920079967985706,\n",
       " 'created_at': 'Tuesday 10-Jan-2023 21:11:28',\n",
       " 'edit_controls': {'edits_remaining': 5,\n",
       "  'is_edit_eligible': True,\n",
       "  'editable_until': 'Tuesday 10-Jan-2023 21:41:28'},\n",
       " 'entities': {'urls': [{'start': 50,\n",
       "    'end': 73,\n",
       "    'url': 'https://t.co/EMGsCJ0yun',\n",
       "    'expanded_url': 'https://bbc.in/3isqyw2',\n",
       "    'display_url': 'bbc.in/3isqyw2',\n",
       "    'status': 200,\n",
       "    'title': 'Firefighters face higher cancer risk, Scottish study finds',\n",
       "    'description': 'They are also more likely to die from heart attacks and strokes, researchers say.',\n",
       "    'unwound_url': 'https://www.bbc.co.uk/news/uk-scotland-64216321?at_format=link&at_link_origin=BBCNews&at_campaign=Social_Flow&at_ptr_name=twitter&at_link_id=3DE24338-9125-11ED-A99B-0F390EDC252D&at_bbc_team=editorial&at_campaign_type=owned&at_medium=social&at_link_type=web_link'}]},\n",
       " 'lang': 'en',\n",
       " 'public_metrics': {'retweet_count': 9,\n",
       "  'reply_count': 7,\n",
       "  'like_count': 20,\n",
       "  'quote_count': 2,\n",
       "  'impression_count': 23147},\n",
       " 'reply_settings': 'everyone'}"
      ]
     },
     "execution_count": 84,
     "metadata": {},
     "output_type": "execute_result"
    }
   ],
   "source": [
    "# Change database\n",
    "db = client.twitterDB\n",
    "bbcnews = db.bbcnews\n",
    "bbcnews.find_one()"
   ]
  },
  {
   "cell_type": "code",
   "execution_count": 85,
   "metadata": {},
   "outputs": [
    {
     "data": {
      "text/plain": [
       "dict_keys(['_id', 'id', 'text', 'edit_history_tweet_ids', 'author_id', 'context_annotations', 'conversation_id', 'created_at', 'edit_controls', 'entities', 'lang', 'public_metrics', 'reply_settings'])"
      ]
     },
     "execution_count": 85,
     "metadata": {},
     "output_type": "execute_result"
    }
   ],
   "source": [
    "# What columns/keys does it have\n",
    "# Some of these keys are subdocuments, such as the entities one seen above\n",
    "bbcnews.find_one().keys()"
   ]
  },
  {
   "cell_type": "code",
   "execution_count": 86,
   "metadata": {},
   "outputs": [
    {
     "name": "stdout",
     "output_type": "stream",
     "text": [
      "{'text': \"Harry's memoir Spare displayed beside How to Kill Your Family novel https://t.co/jL5JlFeAgB\"}\n",
      "{'text': \"Things you might have missed from Prince Harry's book https://t.co/efU3aR5fg1\"}\n",
      "{'text': \"Prince Harry's publisher says book sales 'beyond expectations' https://t.co/tt8qR8WxwC\"}\n",
      "{'text': 'Harry Styles and Top Gun Maverick boost entertainment industry with record sales https://t.co/leC2wtd94t'}\n",
      "{'text': '\"I want to hear his story in his words\"\\n\\nPrince Harry\\'s book officially hits shops \\n\\nhttps://t.co/fYy7DUko83 https://t.co/9Z5fJOcT64'}\n",
      "{'text': 'Prince Harry and the power of the beard https://t.co/TQE8AQO6Vc'}\n",
      "{'text': \"Prince Harry's book officially hits shops after days of leaks https://t.co/XmfSToqCxu\"}\n",
      "{'text': \"Prince Harry's book officially hits shops after days of leaks https://t.co/Ff92m8HC4g\"}\n",
      "{'text': \"Who is Harry's ghostwriter, JD Moehringer - and how much did he make? https://t.co/P2TgFcLz8U\"}\n",
      "{'text': \"Newspaper headlines: 'No way back' says Harry and hope of strike breakthrough https://t.co/bXh1zU5Epw\"}\n",
      "{'text': 'Tuesday\\'s Express: \"Harry\\'s \\'cruel\\' attack on Camilla crosses red line\" #BBCPapers #TomorrowsPapersToday https://t.co/emkMgApCKL https://t.co/rvqe7xIDP3'}\n",
      "{'text': 'Tuesday\\'s Mail: \"Now Harry admits: There\\'s no way back\" #BBCPapers #TomorrowsPapersToday https://t.co/QjOBTTnLRW https://t.co/2JOTT5rrYb'}\n",
      "{'text': '➡️ Dissecting Prince Harry’s latest round of interviews\\n➡️ Are they helping sales of Spare?\\n➡️ Nicky Campbell shares his experience of abuse \\n\\nAll in the latest #BBCNewscast https://t.co/neZSO49soQ'}\n",
      "{'text': \"Which Royal has come out best in the fallout from Prince Harry's book? https://t.co/zvF9dTJNKW\"}\n",
      "{'text': \"Prince Harry condemns 'dangerous spin' about his Taliban comments https://t.co/V2u2hELxp4\"}\n",
      "{'text': \"Harry's memoir Spare displayed beside How to Kill Your Family novel https://t.co/jL5JlFeAgB\"}\n",
      "{'text': \"Things you might have missed from Prince Harry's book https://t.co/efU3aR5fg1\"}\n"
     ]
    }
   ],
   "source": [
    "# Prince Harry was topical when this data was generated! Is he mentioned at all?!\n",
    "# $regex allows pattern matching. The 'i' option makes the search case insensitive\n",
    "# \"_id:\" 0 suppresses showing the object id\n",
    "# SELECT text FROM bbcnews WHERE LOWER(text) LIKE '%harry%';\n",
    "\n",
    "tweets = bbcnews.find({'text':{'$regex':'Harry', '$options': 'i'}}, {\"_id\":0,'text': 1})\n",
    "printDoc(tweets)"
   ]
  },
  {
   "cell_type": "code",
   "execution_count": 87,
   "metadata": {},
   "outputs": [
    {
     "data": {
      "text/plain": [
       "[{'text': \"Harry's memoir Spare displayed beside How to Kill Your Family novel https://t.co/jL5JlFeAgB\",\n",
       "  'created_at': 'Tuesday 10-Jan-2023 21:02:03'},\n",
       " {'text': \"Things you might have missed from Prince Harry's book https://t.co/efU3aR5fg1\",\n",
       "  'created_at': 'Tuesday 10-Jan-2023 20:22:04'},\n",
       " {'text': \"Prince Harry's publisher says book sales 'beyond expectations' https://t.co/tt8qR8WxwC\",\n",
       "  'created_at': 'Tuesday 10-Jan-2023 19:08:58'},\n",
       " {'text': 'Harry Styles and Top Gun Maverick boost entertainment industry with record sales https://t.co/leC2wtd94t',\n",
       "  'created_at': 'Tuesday 10-Jan-2023 14:42:05'},\n",
       " {'text': '\"I want to hear his story in his words\"\\n\\nPrince Harry\\'s book officially hits shops \\n\\nhttps://t.co/fYy7DUko83 https://t.co/9Z5fJOcT64',\n",
       "  'created_at': 'Tuesday 10-Jan-2023 12:56:42'},\n",
       " {'text': 'Prince Harry and the power of the beard https://t.co/TQE8AQO6Vc',\n",
       "  'created_at': 'Tuesday 10-Jan-2023 09:46:49'},\n",
       " {'text': \"Prince Harry's book officially hits shops after days of leaks https://t.co/XmfSToqCxu\",\n",
       "  'created_at': 'Tuesday 10-Jan-2023 06:06:49'},\n",
       " {'text': \"Prince Harry's book officially hits shops after days of leaks https://t.co/Ff92m8HC4g\",\n",
       "  'created_at': 'Tuesday 10-Jan-2023 02:56:21'},\n",
       " {'text': \"Who is Harry's ghostwriter, JD Moehringer - and how much did he make? https://t.co/P2TgFcLz8U\",\n",
       "  'created_at': 'Tuesday 10-Jan-2023 03:18:02'},\n",
       " {'text': \"Newspaper headlines: 'No way back' says Harry and hope of strike breakthrough https://t.co/bXh1zU5Epw\",\n",
       "  'created_at': 'Tuesday 10-Jan-2023 02:18:38'},\n",
       " {'text': 'Tuesday\\'s Express: \"Harry\\'s \\'cruel\\' attack on Camilla crosses red line\" #BBCPapers #TomorrowsPapersToday https://t.co/emkMgApCKL https://t.co/rvqe7xIDP3',\n",
       "  'created_at': 'Monday 09-Jan-2023 22:50:26'},\n",
       " {'text': 'Tuesday\\'s Mail: \"Now Harry admits: There\\'s no way back\" #BBCPapers #TomorrowsPapersToday https://t.co/QjOBTTnLRW https://t.co/2JOTT5rrYb',\n",
       "  'created_at': 'Monday 09-Jan-2023 22:42:06'},\n",
       " {'text': '➡️ Dissecting Prince Harry’s latest round of interviews\\n➡️ Are they helping sales of Spare?\\n➡️ Nicky Campbell shares his experience of abuse \\n\\nAll in the latest #BBCNewscast https://t.co/neZSO49soQ',\n",
       "  'created_at': 'Monday 09-Jan-2023 22:12:05'},\n",
       " {'text': 'Supermodel Tatjana Patitz dies aged 56 https://t.co/kMvnSroB2E',\n",
       "  'created_at': 'Wednesday 11-Jan-2023 22:05:22'},\n",
       " {'text': 'Thursday\\'s Metro: \"Lynch won\\'t give an inch\" #BBCPapers #TomorrowsPapersToday https://t.co/ibFQOQeW1v https://t.co/iRbbdnE0O3',\n",
       "  'created_at': 'Wednesday 11-Jan-2023 22:13:11'},\n",
       " {'text': \"Boat hire owners fined following man's death https://t.co/M5lox7BeNI\",\n",
       "  'created_at': 'Wednesday 11-Jan-2023 21:41:06'},\n",
       " {'text': \"'Passport gang' used vulnerable people to get documents, jury told https://t.co/pYFojre41R\",\n",
       "  'created_at': 'Wednesday 11-Jan-2023 22:01:13'},\n",
       " {'text': 'Appeal to bring home woman who was left paralysed after fall from balcony in Thailand reaches £73k https://t.co/jLQUutDVm8',\n",
       "  'created_at': 'Wednesday 11-Jan-2023 21:22:04'},\n",
       " {'text': 'UK investor reported losing £1m in FTX collapse https://t.co/KryKdbvOqX',\n",
       "  'created_at': 'Wednesday 11-Jan-2023 21:00:27'},\n",
       " {'text': 'Rare vase created by artist Grayson Perry sells for £52,000 at auction https://t.co/eYtziyJQcP',\n",
       "  'created_at': 'Wednesday 11-Jan-2023 20:42:04'},\n",
       " {'text': 'Help during childbirth in England has \"concerning decline\", survey finds https://t.co/by1UAP4xhm',\n",
       "  'created_at': 'Wednesday 11-Jan-2023 20:22:06'},\n",
       " {'text': 'Iran preparing to execute British citizen Alireza Akbari, family says https://t.co/tu2TlctA12',\n",
       "  'created_at': 'Wednesday 11-Jan-2023 19:59:22'},\n",
       " {'text': 'The impact of the divisive influencer Andrew Tate\\n\\nListen to the latest episode of 5 Minutes On @BBCSounds https://t.co/tmYyJZ4dtF',\n",
       "  'created_at': 'Wednesday 11-Jan-2023 19:40:10'},\n",
       " {'text': 'Rapist who used computer gaming as cover jailed for eight years https://t.co/i95HPALKAU',\n",
       "  'created_at': 'Wednesday 11-Jan-2023 19:39:04'},\n",
       " {'text': 'Train drivers\\' union says solution to rail disruption is \"further away\" than ever https://t.co/3NgaFQMLZy',\n",
       "  'created_at': 'Wednesday 11-Jan-2023 19:02:06'},\n",
       " {'text': 'Man jailed after getting haircut with loaded gun https://t.co/BUXVR8KQlr',\n",
       "  'created_at': 'Wednesday 11-Jan-2023 19:19:52'},\n",
       " {'text': 'Attempted murder arrest after woman is stabbed in Belfast https://t.co/FKCPVba5RI',\n",
       "  'created_at': 'Wednesday 11-Jan-2023 18:22:08'},\n",
       " {'text': 'Skeleton of Irish giant to be removed from museum display https://t.co/g6P1dqbpL8',\n",
       "  'created_at': 'Wednesday 11-Jan-2023 17:22:04'},\n",
       " {'text': 'Nature reserve to be created to protect rare bat https://t.co/NRk1JgmBAr',\n",
       "  'created_at': 'Wednesday 11-Jan-2023 17:42:04'},\n",
       " {'text': 'Slate mine seeks young workers as demand rockets https://t.co/9olg2gwAJJ',\n",
       "  'created_at': 'Wednesday 11-Jan-2023 18:02:05'},\n",
       " {'text': 'RT @BBCScotlandNews: A recording of the moment the night manager of Cameron House alerted emergency services that a fire had broken out in…',\n",
       "  'created_at': 'Wednesday 11-Jan-2023 17:26:50'},\n",
       " {'text': 'RT @BBCBreaking: Man, 22, arrested on suspicion of murder over Christmas Eve shooting of 26-year-old Elle Edwards outside pub in Merseyside…',\n",
       "  'created_at': 'Wednesday 11-Jan-2023 16:42:27'},\n",
       " {'text': 'Shamima Begum accepts she joined a terror group after fleeing Britain as a schoolgirl for Islamic State\\n\\nListen to The Shamima Begum Story on @bbcsounds (⬇️)\\n\\nhttps://t.co/8n2RC63Gyw https://t.co/ISyyY9Pp6M',\n",
       "  'created_at': 'Wednesday 11-Jan-2023 16:59:03'},\n",
       " {'text': 'Memorial garden plan for schoolgirl Olivia Pratt-Korbel who was shot and killed in Liverpool https://t.co/sMtlNomr1O',\n",
       "  'created_at': 'Wednesday 11-Jan-2023 18:42:02'},\n",
       " {'text': 'Rishi Sunak admits to using private healthcare https://t.co/Kc6XM4xX0h',\n",
       "  'created_at': 'Wednesday 11-Jan-2023 16:40:05'},\n",
       " {'text': 'Parthenon Sculptures should not be returned to Greece, says UK culture Secretary https://t.co/huJH3NEQFS',\n",
       "  'created_at': 'Wednesday 11-Jan-2023 16:20:11'},\n",
       " {'text': 'Spelling blunder spotted on Isaac Newton memorial bench https://t.co/hvqc3UUmNS',\n",
       "  'created_at': 'Wednesday 11-Jan-2023 15:58:31'},\n",
       " {'text': 'RT @BBCBreaking: Royal Mail unable to send letters and parcels overseas after \"cyber incident\" https://t.co/wIHaD52ld3',\n",
       "  'created_at': 'Wednesday 11-Jan-2023 16:14:00'},\n",
       " {'text': 'Fees for England universities frozen for two years https://t.co/5JycBQz6pC',\n",
       "  'created_at': 'Wednesday 11-Jan-2023 15:39:05'},\n",
       " {'text': 'Bus driver becomes viral singing sensation https://t.co/jPMH67yxAo',\n",
       "  'created_at': 'Wednesday 11-Jan-2023 15:20:01'},\n",
       " {'text': \"Which Royal has come out best in the fallout from Prince Harry's book? https://t.co/zvF9dTJNKW\",\n",
       "  'created_at': 'Wednesday 11-Jan-2023 14:58:43'},\n",
       " {'text': 'Direct appeal made to missing couple with newborn baby https://t.co/Dct1L0wIMY',\n",
       "  'created_at': 'Wednesday 11-Jan-2023 14:32:04'},\n",
       " {'text': 'Dad starts Atlantic solo row after sudden death of daughter https://t.co/IsCrJhD66M',\n",
       "  'created_at': 'Wednesday 11-Jan-2023 14:42:06'},\n",
       " {'text': 'Johnny Vegas opens up about recent ADHD diagnosis https://t.co/7DluQyvkQ5',\n",
       "  'created_at': 'Wednesday 11-Jan-2023 14:07:18'},\n",
       " {'text': \"'Number of defects' led to fatal fire at luxury Cameron House hotel in Scotland, inquiry finds https://t.co/BRsFKNl9L0\",\n",
       "  'created_at': 'Wednesday 11-Jan-2023 14:17:16'},\n",
       " {'text': 'RT @BBCBreaking: US flights allowed to take off again after FAA lifts grounding order imposed due to safety system glitch https://t.co/8rqe…',\n",
       "  'created_at': 'Wednesday 11-Jan-2023 14:06:09'},\n",
       " {'text': 'Slate mine seeks young workers as demand rockets https://t.co/HYygFle2qn',\n",
       "  'created_at': 'Wednesday 11-Jan-2023 13:46:12'},\n",
       " {'text': 'Council considers cruise ships for homeless and refugees https://t.co/ju7pqvsbVo',\n",
       "  'created_at': 'Wednesday 11-Jan-2023 12:58:58'},\n",
       " {'text': 'Couple who poisoned dog with raisins sentenced https://t.co/xP7i4BRHwy',\n",
       "  'created_at': 'Wednesday 11-Jan-2023 12:47:07'},\n",
       " {'text': 'RT @bbc5live: At 15, Shamima Begum ran away from her London home to join the Islamic State group in Syria. \\n\\nNow she wants to come back.…',\n",
       "  'created_at': 'Wednesday 11-Jan-2023 13:13:32'},\n",
       " {'text': \"RT @BBCPolitics: Strikes disruption is nothing compared to the Conservatives' “13 years butchering of health budgets”, says Plaid Cymru's L…\",\n",
       "  'created_at': 'Wednesday 11-Jan-2023 12:32:55'},\n",
       " {'text': 'Baby hit by brick thrown through bus window in Glasgow https://t.co/JAE3SRdEOX',\n",
       "  'created_at': 'Wednesday 11-Jan-2023 13:15:38'},\n",
       " {'text': 'RT @BBCBreaking: All US domestic flights grounded for several hours due to technical glitch, FAA orders https://t.co/tCQUSXHZqa',\n",
       "  'created_at': 'Wednesday 11-Jan-2023 12:32:33'},\n",
       " {'text': 'Dehydrated pensioner died after hospital fall, inquest hears https://t.co/7zZgGiVP4d',\n",
       "  'created_at': 'Wednesday 11-Jan-2023 11:56:15'},\n",
       " {'text': 'RT @BBCPolitics: \"I am registered with an NHS GP,\" says PM Rishi Sunak\\n\\nHe tells Labour’s Cat Smith he has “used independent healthcare in…',\n",
       "  'created_at': 'Wednesday 11-Jan-2023 12:10:36'},\n",
       " {'text': 'How much are ambulance workers paid?\\n \\nFollow live for updates ⬇️',\n",
       "  'created_at': 'Wednesday 11-Jan-2023 11:40:00'},\n",
       " {'text': 'RT @BBCPolitics: Labour’s Alex Davies-Jones asks what the government is doing to tackle \"radicalisation of young men\" by figures like Andre…',\n",
       "  'created_at': 'Wednesday 11-Jan-2023 12:30:51'},\n",
       " {'text': 'RT @BBCPolitics: “When will cancer patients get the certainty of quick care?” asks Keir Starmer\\n\\nPM says Labour leader has “no understandin…',\n",
       "  'created_at': 'Wednesday 11-Jan-2023 12:22:31'},\n",
       " {'text': 'RT @BBCPolitics: SNP’s Stephen Flynn says it’s \"perverse\" that senior Tories are \"feathering their nest while denying working people the ri…',\n",
       "  'created_at': 'Wednesday 11-Jan-2023 12:40:13'},\n",
       " {'text': 'At-risk Afghan teacher feels \"abandoned\" by UK https://t.co/nhJVqxqfqm',\n",
       "  'created_at': 'Wednesday 11-Jan-2023 11:18:27'},\n",
       " {'text': 'Driver flees at up to 120mph during police chase https://t.co/Xi0Ru8jZPw',\n",
       "  'created_at': 'Wednesday 11-Jan-2023 11:05:43'},\n",
       " {'text': \"RT @BBCPolitics: “They’ve gone from clapping the nurses to sacking the nurses”\\n\\nLabour's Keir Starmer asks if government's aim is to get NH…\",\n",
       "  'created_at': 'Wednesday 11-Jan-2023 12:20:08'},\n",
       " {'text': 'RT @BBCBreaking: UK MP Andrew Bridgen suspended by Conservative party for spreading misinformation about Covid vaccine, chief whip says htt…',\n",
       "  'created_at': 'Wednesday 11-Jan-2023 11:27:15'},\n",
       " {'text': \"Wildlife fan awaits two-legged fox's return https://t.co/fqixd0I0uB\",\n",
       "  'created_at': 'Wednesday 11-Jan-2023 10:27:22'},\n",
       " {'text': 'Wasp causes chaos at Masters snooker match https://t.co/tnIxF69C4f',\n",
       "  'created_at': 'Wednesday 11-Jan-2023 12:18:38'},\n",
       " {'text': 'Flash-mob dance at funeral \"breaks tradition\" https://t.co/KcWj56nKNG',\n",
       "  'created_at': 'Wednesday 11-Jan-2023 09:45:10'},\n",
       " {'text': 'Met Police to target dangerous men using data, says chief https://t.co/GPFw6XfWjM',\n",
       "  'created_at': 'Wednesday 11-Jan-2023 10:45:08'},\n",
       " {'text': 'About 20,000 members of the two largest ambulance unions in England and Wales are striking over pay and staffing\\n\\nFollow for updates ⬇️',\n",
       "  'created_at': 'Wednesday 11-Jan-2023 09:23:14'},\n",
       " {'text': \"Record Christmas for Sainsbury's despite rising costs https://t.co/CowEdU59JB\",\n",
       "  'created_at': 'Wednesday 11-Jan-2023 08:28:42'},\n",
       " {'text': \"NHS issues guidance to the public during today's strike by ambulance staff in England and Wales \\n\\nFollow live for updates ⬇️\",\n",
       "  'created_at': 'Wednesday 11-Jan-2023 10:13:10'},\n",
       " {'text': \"'UK's oldest' HGV licence-holder driver passes health MoT https://t.co/97djyo3Yu3\",\n",
       "  'created_at': 'Wednesday 11-Jan-2023 08:58:57'},\n",
       " {'text': 'RT @BBCPolitics: Why is PM \"choosing to prolong the misery rather than end these [NHS] strikes?\" asks Labour\\'s Keir Starmer\\n\\nPM Rishi Sunak…',\n",
       "  'created_at': 'Wednesday 11-Jan-2023 12:16:00'},\n",
       " {'text': 'Demi Lovato poster banned for being offensive to Christians https://t.co/rsXjQYsevj',\n",
       "  'created_at': 'Wednesday 11-Jan-2023 08:20:18'},\n",
       " {'text': 'Why did this small village once have so many pubs? https://t.co/AAMX2gsshW',\n",
       "  'created_at': 'Wednesday 11-Jan-2023 07:58:41'},\n",
       " {'text': 'You, Me and the Big C podcast \"ready to hang up headphones\" https://t.co/fHgZMFQwAO',\n",
       "  'created_at': 'Wednesday 11-Jan-2023 07:40:09'},\n",
       " {'text': 'Uranium in cargo sparked alert at Heathrow Airport https://t.co/ParGNSdPnD',\n",
       "  'created_at': 'Wednesday 11-Jan-2023 07:21:51'},\n",
       " {'text': 'What calls will ambulances answer on strike day? https://t.co/FPmjxBCDVu',\n",
       "  'created_at': 'Wednesday 11-Jan-2023 06:35:01'},\n",
       " {'text': 'More homeless children in London than rest of England combined https://t.co/XyGGwFA2ho',\n",
       "  'created_at': 'Wednesday 11-Jan-2023 07:03:32'},\n",
       " {'text': 'UK Treasury considers plan for digital pound https://t.co/afCPYiUGJ7',\n",
       "  'created_at': 'Wednesday 11-Jan-2023 05:39:43'},\n",
       " {'text': \"Newspaper headlines: 'Workers face strike ban' and 'prince of sales' https://t.co/ArZtsVuhJa\",\n",
       "  'created_at': 'Wednesday 11-Jan-2023 03:00:53'},\n",
       " {'text': 'Shamima Begum acknowledges she joined a terror group https://t.co/3Wm3NcH4IX',\n",
       "  'created_at': 'Wednesday 11-Jan-2023 06:13:34'},\n",
       " {'text': \"Cost of living: 'We had to bath our kids in the kitchen sink' https://t.co/AAfrtYQ55b\",\n",
       "  'created_at': 'Wednesday 11-Jan-2023 03:05:26'},\n",
       " {'text': 'The Banshees of Inisherin wins big at Golden Globes https://t.co/8BQ2a9Dp5t',\n",
       "  'created_at': 'Wednesday 11-Jan-2023 05:08:47'},\n",
       " {'text': 'Iran protests: Jailed activist Sepideh Qolian describes brutality in letter https://t.co/fVh6bDQpjO',\n",
       "  'created_at': 'Wednesday 11-Jan-2023 02:38:24'},\n",
       " {'text': \"Prince Harry condemns 'dangerous spin' about his Taliban comments https://t.co/V2u2hELxp4\",\n",
       "  'created_at': 'Wednesday 11-Jan-2023 02:04:29'},\n",
       " {'text': \"Harry's memoir Spare displayed beside How to Kill Your Family novel https://t.co/jL5JlFeAgB\",\n",
       "  'created_at': 'Tuesday 10-Jan-2023 21:02:03'},\n",
       " {'text': \"Things you might have missed from Prince Harry's book https://t.co/efU3aR5fg1\",\n",
       "  'created_at': 'Tuesday 10-Jan-2023 20:22:04'}]"
      ]
     },
     "execution_count": 87,
     "metadata": {},
     "output_type": "execute_result"
    }
   ],
   "source": [
    "# $regex can be used on more than one field - can either use the \"OR\" clause to get either value. \n",
    "# Just make sure the brackets are the correct ones and lined up correctly!\n",
    "# SELECT text, created_at from bbcnews WHERE LOWER(text) LIKE '%Harry%' OR created_at LIKE '%Wednesday%'\n",
    "\n",
    "list(bbcnews.find({\n",
    "    \"$or\": \n",
    "    [ {'text': {'$regex':'Harry', '$options': 'i'}},  \n",
    "      {\"created_at\" : {'$regex': 'Wednesday'}} \n",
    "    ]\n",
    "    }, \n",
    "    {\"_id\":0,'created_at': 1, 'text': 1}))"
   ]
  },
  {
   "cell_type": "code",
   "execution_count": 88,
   "metadata": {},
   "outputs": [
    {
     "data": {
      "text/plain": [
       "[{'text': \"Which Royal has come out best in the fallout from Prince Harry's book? https://t.co/zvF9dTJNKW\",\n",
       "  'created_at': 'Wednesday 11-Jan-2023 14:58:43'},\n",
       " {'text': \"Prince Harry condemns 'dangerous spin' about his Taliban comments https://t.co/V2u2hELxp4\",\n",
       "  'created_at': 'Wednesday 11-Jan-2023 02:04:29'}]"
      ]
     },
     "execution_count": 88,
     "metadata": {},
     "output_type": "execute_result"
    }
   ],
   "source": [
    "# or use the \"AND\" clause to get both value. \n",
    "# SELECT text, created_at from bbcnews WHERE LOWER(text) LIKE '%Harry%' AND created_at LIKE '%Wednesday%'\n",
    "\n",
    "list(bbcnews.find({\n",
    "    \"$and\": \n",
    "    [ {'text': {'$regex':'Harry', '$options': 'i'}},  \n",
    "      {\"created_at\" : {'$regex': 'Wednesday'}} \n",
    "    ]\n",
    "    }, \n",
    "    {\"_id\":0,'created_at': 1, 'text': 1}))\n"
   ]
  },
  {
   "cell_type": "code",
   "execution_count": 89,
   "metadata": {},
   "outputs": [
    {
     "data": {
      "text/plain": [
       "['ca', 'en', 'fr', 'tl']"
      ]
     },
     "execution_count": 89,
     "metadata": {},
     "output_type": "execute_result"
    }
   ],
   "source": [
    "# show the distinct languages found in the tweets\n",
    "# SELECT DISTINCT lang FROM bbcnews;\n",
    "# The supported languages can be found here: https://developer.twitter.com/en/docs/twitter-for-websites/supported-languages \n",
    "db.bbcnews.distinct(\"lang\")"
   ]
  },
  {
   "cell_type": "code",
   "execution_count": 90,
   "metadata": {},
   "outputs": [
    {
     "data": {
      "text/plain": [
       "15"
      ]
     },
     "execution_count": 90,
     "metadata": {},
     "output_type": "execute_result"
    }
   ],
   "source": [
    "# How many tweets have been retweeted more than 100 times\n",
    "# Use the dot notation to reference keys in any subdocument\n",
    "db.bbcnews.count_documents({\"public_metrics.retweet_count\": { '$gt' : 100 }})    "
   ]
  },
  {
   "cell_type": "code",
   "execution_count": 91,
   "metadata": {},
   "outputs": [
    {
     "name": "stdout",
     "output_type": "stream",
     "text": [
      "{'_id': ObjectId('67938a59cac9e7819e94e20a'), 'entities': {'urls': [{'title': 'Firefighters face higher cancer risk, Scottish study finds'}]}}\n",
      "{'_id': ObjectId('67938a5a31ccc2bc25ffdf1f'), 'entities': {'urls': [{'title': 'Firefighters face higher cancer risk, Scottish study finds'}]}}\n"
     ]
    }
   ],
   "source": [
    "tweets = db.bbcnews.find({'entities.urls.title':{'$regex':'Firefighter'}}, {'entities.urls.title': 1})\n",
    "\n",
    "printDoc(tweets)"
   ]
  },
  {
   "cell_type": "code",
   "execution_count": 92,
   "metadata": {},
   "outputs": [
    {
     "name": "stdout",
     "output_type": "stream",
     "text": [
      "{'entities': {'urls': [{'description': 'They are also more likely to die from '\n",
      "                                       'heart attacks and strokes, researchers '\n",
      "                                       'say.',\n",
      "                        'title': 'Firefighters face higher cancer risk, '\n",
      "                                 'Scottish study finds'}]}}\n",
      "{'entities': {'urls': [{'description': \"A bookseller placed Prince Harry's \"\n",
      "                                       \"memoir Spare beside Bella Mackie's \"\n",
      "                                       'novel How to Kill Your Family.',\n",
      "                        'title': \"Harry's memoir Spare displayed beside How to \"\n",
      "                                 'Kill Your Family novel'}]}}\n",
      "{'entities': {'urls': [{'description': 'Zholia Alemi is a \"most accomplished '\n",
      "                                       'fraudster\" who forged a certificate to '\n",
      "                                       'get work, a jury hears.',\n",
      "                        'title': 'Unqualified doctor who faked degree took '\n",
      "                                 '£1.3m from NHS, trial told'}]}}\n",
      "{'entities': {'urls': [{'description': 'The economic secretary to the Treasury '\n",
      "                                       'says the UK is committed to becoming a '\n",
      "                                       'world crypto hub.',\n",
      "                        'title': 'Cryptocurrency: UK Treasury considers plan '\n",
      "                                 'for digital pound'}]}}\n",
      "{'entities': {}}\n",
      "{'entities': {'urls': [{'description': 'The duke says he is a Friends fanatic '\n",
      "                                       'and the Queen quizzed Meghan about '\n",
      "                                       'Donald Trump when they met.',\n",
      "                        'title': \"Prince Harry's book: Things you might have \"\n",
      "                                 'missed'}]}}\n",
      "{'entities': {'urls': [{'description': \"Health managers say Wednesday's \"\n",
      "                                       'walkout in England and Wales will be '\n",
      "                                       'harder to cope with.',\n",
      "                        'title': 'NHS bosses fear impact of second ambulance '\n",
      "                                 'strike'}]}}\n",
      "{'entities': {'urls': [{'description': 'Tomasz Waga was killed after he tried '\n",
      "                                       'to steal drugs from a cannabis '\n",
      "                                       'factory.',\n",
      "                        'title': 'Tomasz Waga: Three jailed for beating drug '\n",
      "                                 'rival to death'}]}}\n",
      "{'entities': {'urls': [{'description': 'Kai, 10, went to bed \"100% normal\" and '\n",
      "                                       'woke up \"completely blind\" the next '\n",
      "                                       'morning.',\n",
      "                        'title': 'West Midlands Fire Service dog goes blind '\n",
      "                                 '\"overnight\"'}]}}\n",
      "{'entities': {'urls': [{'description': 'Geraldine Brown, granddaughter of '\n",
      "                                       'Cynthia Oakley, says she is '\n",
      "                                       '\"absolutely flabbergasted\" by NHS '\n",
      "                                       'delays.',\n",
      "                        'title': 'Grandmother, 95, waits 18 hours at Sandwell '\n",
      "                                 'A&E'}]}}\n",
      "{'entities': {'urls': [{'description': 'What you need to know about the '\n",
      "                                       \"ambulance workers' strike and other \"\n",
      "                                       \"industrial action, by the BBC's Zoe \"\n",
      "                                       'Conway.',\n",
      "                        'title': 'Strikes Update: How Wednesday 11 January’s '\n",
      "                                 'walkouts will affect you'}]}}\n",
      "{'entities': {'urls': [{'description': 'The controversial memoir has sold more '\n",
      "                                       'than 400,000 copies on its first day '\n",
      "                                       'of sale in the UK.',\n",
      "                        'title': \"Prince Harry's publisher says book sales \"\n",
      "                                 \"'beyond expectations'\"}]}}\n",
      "{'entities': {'urls': [{'description': 'The firm, formally known as Hermes, '\n",
      "                                       'says staff shortages, Royal Mail '\n",
      "                                       'strikes and bad weather have caused '\n",
      "                                       'disruption.',\n",
      "                        'title': 'Evri says sorry for UK parcel delivery '\n",
      "                                 'delays'}]}}\n",
      "{'entities': {}}\n",
      "{'entities': {'urls': [{'description': \"Last year was the world's fifth \"\n",
      "                                       'warmest year with Europe enduring its '\n",
      "                                       'hottest summer on record',\n",
      "                        'title': 'Climate change: Europe and polar regions '\n",
      "                                 'bear brunt of warming in 2022'}]}}\n",
      "{'entities': {'urls': [{'description': 'Several hundred Evri parcels were '\n",
      "                                       'stolen from a Stockport warehouse, '\n",
      "                                       'police say.',\n",
      "                        'title': 'Evri Stockport raid: Seven held after '\n",
      "                                 'hundreds of parcels stolen'}]}}\n",
      "{'entities': {'urls': [{'description': 'The sisters of a six-year-old say the '\n",
      "                                       'authorities will not tell them why her '\n",
      "                                       'killer is back in jail.',\n",
      "                        'title': 'Collette Gallacher: Sisters of murdered girl '\n",
      "                                 'call for prisoner recall transparency'}]}}\n",
      "{'entities': {'urls': [{'description': 'The rock band will play several US '\n",
      "                                       'festival dates, a year after their '\n",
      "                                       \"drummer's untimely death.\",\n",
      "                        'title': 'Foo Fighters announce their first shows '\n",
      "                                 \"since Taylor Hawkins' death\"}]}}\n",
      "{'entities': {'urls': [{'description': 'The number of hospital beds occupied '\n",
      "                                       'by patients ready to be discharged is '\n",
      "                                       'also at a record level.',\n",
      "                        'title': 'A&E patients waiting more than 12 hours hits '\n",
      "                                 'record high'}]}}\n",
      "{'entities': {'urls': [{'description': 'Some people at the launch said they '\n",
      "                                       'felt \"gutted\", but the event was still '\n",
      "                                       '\"electric\".',\n",
      "                        'title': 'Spaceport Cornwall fans disappointed as '\n",
      "                                 'rocket launch ends in failure'}]}}\n",
      "{'entities': {'urls': [{'description': 'Swimming pools, leisure centres and '\n",
      "                                       'gyms are at risk of closure unless the '\n",
      "                                       'UK government offers more support to '\n",
      "                                       'tackle soaring energy costs, a fitness '\n",
      "                                       'industry trade body warns.',\n",
      "                        'title': 'Leisure services at risk without further '\n",
      "                                 'support'}]}}\n",
      "{'entities': {'urls': [{'description': \"Critics say the PM's choice of \"\n",
      "                                       'taxpayer-funded transport clashes with '\n",
      "                                       'his climate pledges.',\n",
      "                        'title': \"Rishi Sunak's use of jet for hospital trip \"\n",
      "                                 'defended by No 10'}]}}\n",
      "{'entities': {'urls': [{'description': 'The company had already suspended '\n",
      "                                       'winter flights due to them not being '\n",
      "                                       '\"economically viable\".',\n",
      "                        'title': 'Cardiff Airport: Wizz Air ends flights in '\n",
      "                                 'and out of Wales'}]}}\n",
      "{'entities': {'urls': [{'description': 'The unusual interpretation of the '\n",
      "                                       'Wiltshire landmark is part of a '\n",
      "                                       'touring exhibition.',\n",
      "                        'title': 'Lincolnshire artist recreates Stonehenge '\n",
      "                                 'from own kidney stones'}]}}\n",
      "{'entities': {'urls': [{'description': 'Six-year-old Ella Henderson died a day '\n",
      "                                       'after being struck by a falling tree '\n",
      "                                       'in Newcastle.',\n",
      "                        'title': 'Newcastle girl died after decaying tree '\n",
      "                                 'collapsed at school'}]}}\n",
      "{'entities': {'urls': [{'description': 'Remo Douglas, 34, drowned while trying '\n",
      "                                       'to save his family from a river '\n",
      "                                       'swollen by heavy rain.',\n",
      "                        'title': 'Parents pay tribute to son who drowned '\n",
      "                                 'saving family'}]}}\n",
      "{'entities': {'urls': [{'description': 'The club says it cannot continue adult '\n",
      "                                       'cricket at the ground because of some '\n",
      "                                       'of its neighbours.',\n",
      "                        'title': 'Dorset village club ends adult cricket '\n",
      "                                 \"matches after 'constant complaints'\"}]}}\n",
      "{'entities': {'urls': [{'description': 'An orange light streaking across the '\n",
      "                                       'night sky is captured on mobile phones '\n",
      "                                       'and doorbell cameras.',\n",
      "                        'title': 'Meteor lights up skies over England'}]}}\n",
      "{'entities': {'urls': [{'description': 'Several customers say they had huge '\n",
      "                                       'sums of money taken from their '\n",
      "                                       'accounts after visiting the club.',\n",
      "                        'title': 'Vanity Soho strip club shut by council after '\n",
      "                                 'alleged spikings'}]}}\n",
      "{'entities': {}}\n",
      "{'entities': {'urls': [{'description': 'A 21-year-old woman is arrested after '\n",
      "                                       'the death of Bakewell Town footballer '\n",
      "                                       'Kyle Shimwell.',\n",
      "                        'title': 'Kyle Shimwell: Footballer dies after car '\n",
      "                                 'crashes into shop'}]}}\n",
      "{'entities': {'urls': [{'description': 'Early trade body figures suggest '\n",
      "                                       '\"extraordinary\" record sales in the '\n",
      "                                       'entertainment sector.',\n",
      "                        'title': 'Harry Styles and Top Gun Maverick boost '\n",
      "                                 'entertainment industry with record sales'}]}}\n",
      "{'entities': {'urls': [{'description': 'Symon Hill says he is now considering '\n",
      "                                       'taking legal action against the '\n",
      "                                       'police.',\n",
      "                        'title': \"Symon Hill: Charges against King's ceremony \"\n",
      "                                 'heckler dropped'}]}}\n",
      "{'entities': {}}\n",
      "{'entities': {'urls': [{'description': 'Being in a fishing lake is like \"being '\n",
      "                                       'in a branch of Waitrose\" for a hungry '\n",
      "                                       'seal, an expert says.',\n",
      "                        'title': 'Seal stuck in Rochford lake munching its way '\n",
      "                                 'through fish stock'}]}}\n",
      "{'entities': {'urls': [{'description': 'The former PM is missing from a photo '\n",
      "                                       'posted by the business secretary of a '\n",
      "                                       'Spaceport Cornwall visit.',\n",
      "                        'title': 'Boris Johnson erased from Grant Shapps '\n",
      "                                 'spaceport picture'}]}}\n",
      "{'entities': {'urls': [{'description': 'Katie Dunn says a routine visit to the '\n",
      "                                       'opticians led to a hospital scan which '\n",
      "                                       'detected the tumour.',\n",
      "                        'title': \"Woman's brain tumour found through eye test \"\n",
      "                                 'in Hampshire'}]}}\n",
      "{'entities': {'urls': [{'description': 'An orange light streaking across the '\n",
      "                                       'night sky was captured on mobile '\n",
      "                                       'phones and doorbell cameras.',\n",
      "                        'title': 'Meteor lights up skies over England'}]}}\n",
      "{'entities': {'urls': [{'description': 'Fans queue to buy a hardback copy of '\n",
      "                                       \"the duke's memoir as it went on sale \"\n",
      "                                       'at midnight.',\n",
      "                        'title': \"Prince Harry's book officially hits shops \"\n",
      "                                 'after days of leaks'},\n",
      "                       {}]}}\n",
      "{'entities': {'urls': [{'description': 'The photographer, whose picture went '\n",
      "                                       'viral, only realised how good the shot '\n",
      "                                       'is when he got home.',\n",
      "                        'title': 'Workington Reds fans snapped smiling in a '\n",
      "                                 'downpour'}]}}\n",
      "{'entities': {'urls': [{'description': 'Edith Thompson, 29, was executed 100 '\n",
      "                                       'years ago after her lover murdered her '\n",
      "                                       'husband.',\n",
      "                        'title': 'Edith Thompson: U-turn over rejection of '\n",
      "                                 'hanged woman’s pardon'}]}}\n",
      "{'entities': {'urls': [{'description': 'More than 85,000 people try to buy '\n",
      "                                       \"tickets to the comedian's show at a \"\n",
      "                                       'small theatre.',\n",
      "                        'title': \"Michael McIntyre's 110-seat Hemel Hempstead \"\n",
      "                                 'gig sells out in minutes'}]}}\n",
      "{'entities': {'urls': [{'description': 'The online giant is to shut three '\n",
      "                                       'warehouses, but also plans to open two '\n",
      "                                       'new ones creating 2,500 roles.',\n",
      "                        'title': 'Amazon warehouse closures put 1,200 jobs at '\n",
      "                                 'risk'}]}}\n",
      "{'entities': {'urls': [{'description': 'Liverpool will host a handover '\n",
      "                                       'ceremony and allocation draw on 31 '\n",
      "                                       'January as Turin hands over keys.',\n",
      "                        'title': 'Eurovision 2023: Handover and semi-final '\n",
      "                                 'allocation draw to be held in Liverpool'}]}}\n",
      "{'entities': {'urls': [{'description': 'An ambulance worker reveals how '\n",
      "                                       'difficult the job now is and why they '\n",
      "                                       'are striking.',\n",
      "                        'title': \"I worry we're killing people - ambulance \"\n",
      "                                 'dispatcher'}]}}\n",
      "{'entities': {'urls': [{'description': 'Petrol at lowest price since Russia '\n",
      "                                       'invaded Ukraine, but diesel still '\n",
      "                                       'costs more than last year.',\n",
      "                        'title': 'Petrol below £1.50 a litre for first time '\n",
      "                                 'since Russia invaded Ukraine'}]}}\n",
      "{'entities': {'urls': [{'description': 'Five distinctive-looking Badger Face '\n",
      "                                       'Texel lambs are born on a farm in '\n",
      "                                       'Gloucestershire.',\n",
      "                        'title': 'Badger-like sheep bred in Gloucestershire '\n",
      "                                 'farm first'}]}}\n",
      "{'entities': {'urls': [{'description': 'New figures show more than 650,000 '\n",
      "                                       'people died in the UK last year.',\n",
      "                        'title': 'Excess deaths in 2022 among worst in 50 '\n",
      "                                 'years'}]}}\n",
      "{}\n",
      "{'entities': {'urls': [{'description': 'Police searching for a missing couple '\n",
      "                                       'and their baby \"do not wish to '\n",
      "                                       'interrupt their family life\".',\n",
      "                        'title': \"Baby's welfare is priority in missing couple \"\n",
      "                                 'search, police say'}]}}\n",
      "{'entities': {'urls': [{'description': 'The move follows years of Covid '\n",
      "                                       'closure and comes as a huge travel '\n",
      "                                       'surge begins for Lunar New Year.',\n",
      "                        'title': 'China reopens borders after three years of '\n",
      "                                 'Covid closure'},\n",
      "                       {}]}}\n",
      "{'entities': {'urls': [{'description': \"The capital's roads are more congested \"\n",
      "                                       'than they were before the pandemic, '\n",
      "                                       'researchers find.',\n",
      "                        'title': \"London remains world's most congested city, \"\n",
      "                                 'report finds'}]}}\n",
      "{'entities': {'urls': [{'description': 'Under the proposals, some trade union '\n",
      "                                       'members would be required to continue '\n",
      "                                       'working during a strike.',\n",
      "                        'title': 'Anti-strikes bill to be introduced to '\n",
      "                                 'Parliament'}]}}\n",
      "{'entities': {'urls': [{'description': 'Prince Harry describes his beard as a '\n",
      "                                       'shield for anxiety amid claims he was '\n",
      "                                       'told to shave it off.',\n",
      "                        'title': 'Hair and a spare: Prince Harry and the power '\n",
      "                                 'of the beard'}]}}\n",
      "{'entities': {'urls': [{'description': 'The amount of damages being sought in '\n",
      "                                       'class actions leapt from £4bn in 2021 '\n",
      "                                       'to £26bn in 2022.',\n",
      "                        'title': 'Why it is becoming easier to sue big tech in '\n",
      "                                 'the UK'}]}}\n",
      "{'entities': {'urls': [{'description': 'The action by primary teachers will be '\n",
      "                                       'followed by a walkout by secondary '\n",
      "                                       'teachers on Wednesday.',\n",
      "                        'title': \"Scotland's primary schools shut as teachers \"\n",
      "                                 'strike'}]}}\n",
      "{'entities': {'urls': [{'description': 'A group of volunteers in Camden, '\n",
      "                                       'London, want to save your broken '\n",
      "                                       'electricals from the scrapheap.',\n",
      "                        'title': 'Repairing broken gadgets for a greener '\n",
      "                                 'future'}]}}\n",
      "{'entities': {'urls': [{'description': 'It can improve life for thousands with '\n",
      "                                       'type 1 diabetes in England and Wales, '\n",
      "                                       'health assessors say.',\n",
      "                        'title': 'Diabetes artificial pancreas tech '\n",
      "                                 'recommended for thousands on NHS'}]}}\n",
      "{'entities': {'urls': [{'description': 'The action by primary teachers will be '\n",
      "                                       'followed by a walkout by secondary '\n",
      "                                       'teachers on Wednesday.',\n",
      "                        'title': \"Scotland's primary schools shut as teachers \"\n",
      "                                 'strike'}]}}\n",
      "{'entities': {'urls': [{'description': 'The cardboard figure of the US star '\n",
      "                                       'has been a firm favourite among '\n",
      "                                       \"Manchester's commuters for years.\",\n",
      "                        'title': \"Hundreds bid to save Manchester's Taylor \"\n",
      "                                 'Swift cardboard cut-out'}]}}\n",
      "{'entities': {'urls': [{'description': 'Remo Douglas, 34, drowned in a river '\n",
      "                                       'trying to save his family while on a '\n",
      "                                       'trip to Jamaica.',\n",
      "                        'title': 'Parents pay tribute to man who drowned '\n",
      "                                 'saving family'}]}}\n",
      "{'entities': {'urls': [{'description': 'A search is under way for British '\n",
      "                                       'nationals Andrew Bagshaw and '\n",
      "                                       'Christopher Parry in Ukraine.',\n",
      "                        'title': 'Two British men missing in Ukraine, say '\n",
      "                                 'officials'}]}}\n",
      "{'entities': {'urls': [{'description': 'The first ever satellite mission '\n",
      "                                       'launched from UK soil has a technical '\n",
      "                                       'problem on its climb to space.',\n",
      "                        'title': 'UK space launch: Historic Cornwall rocket '\n",
      "                                 'launch ends in failure'}]}}\n",
      "{'entities': {}}\n",
      "{'entities': {'urls': [{'description': 'Fans queue to buy a hardback copy of '\n",
      "                                       \"the duke's memoir as it went on sale \"\n",
      "                                       'at midnight.',\n",
      "                        'title': \"Prince Harry's book officially hits shops \"\n",
      "                                 'after days of leaks'}]}}\n",
      "{'entities': {'urls': [{'description': 'The party will pledge more support for '\n",
      "                                       'older workers and those with medical '\n",
      "                                       'conditions.',\n",
      "                        'title': 'Labour to unveil plan to help jobseekers '\n",
      "                                 'find work'}]}}\n",
      "{'entities': {'urls': [{'description': 'The FBI is reportedly involved in the '\n",
      "                                       'inquiry into about 10 documents found '\n",
      "                                       'at the Penn Biden Center.',\n",
      "                        'title': 'Potentially classified files found at Biden '\n",
      "                                 'private office'}]}}\n",
      "{'entities': {'urls': [{'description': 'From the start of March employees will '\n",
      "                                       'be asked to be in the office from '\n",
      "                                       'Monday to Thursday.',\n",
      "                        'title': 'Disney boss calls for workers to return to '\n",
      "                                 'office four days a week'}]}}\n",
      "{'entities': {'urls': [{'description': 'The first ever satellite mission '\n",
      "                                       'launched from UK soil has a technical '\n",
      "                                       'problem on its climb to space.',\n",
      "                        'title': 'UK space launch: Historic Cornwall rocket '\n",
      "                                 'launch ends in failure'}]}}\n",
      "{'entities': {'urls': [{'description': 'Physical game sales fell 4.5% last '\n",
      "                                       'year, the digital entertainment and '\n",
      "                                       'retail association says.',\n",
      "                        'title': 'Almost 90% of games sold in UK in 2022 were '\n",
      "                                 'digital - ERA'}]}}\n",
      "{'entities': {'urls': [{'description': 'The awards ceremony is back this year, '\n",
      "                                       'but the body behind it remains '\n",
      "                                       'controversial in Hollywood.',\n",
      "                        'title': 'Golden Globes: Will Hollywood stars return '\n",
      "                                 'after controversy?'}]}}\n",
      "{'entities': {'urls': [{'description': 'Ministers are hinting publicly and '\n",
      "                                       'privately that they might be willing '\n",
      "                                       'to compromise.',\n",
      "                        'title': 'Tone shifting on both sides after latest pay '\n",
      "                                 'talks'}]}}\n",
      "{'entities': {'urls': [{'description': 'In a letter they say the Hong Kong '\n",
      "                                       \"media tycoon's upcoming national \"\n",
      "                                       'security trial is \"deeply concerning\".',\n",
      "                        'title': \"Hong Kong: Jimmy Lai's UK lawyers call for \"\n",
      "                                 'meeting with Rishi Sunak'}]}}\n",
      "{'entities': {'urls': [{'description': 'Fans queue to buy a hardback copy of '\n",
      "                                       \"the duke's memoir as it went on sale \"\n",
      "                                       'at midnight.',\n",
      "                        'title': \"Prince Harry's book officially hits shops \"\n",
      "                                 'after days of leaks'}]}}\n",
      "{'entities': {'urls': [{'description': 'The Pulitzer-Prize winning journalist '\n",
      "                                       'is the creme de la creme of celebrity '\n",
      "                                       'ghostwriters.',\n",
      "                        'title': \"Who is Harry's ghostwriter, JR Moehringer - \"\n",
      "                                 'and how much did he make?'}]}}\n",
      "{'entities': {'urls': [{'description': 'The Foreign Office repeats its warning '\n",
      "                                       'to Iran to end \"brutal repression\" of '\n",
      "                                       'anti-regime protesters.',\n",
      "                        'title': 'Iran executions: UK summons top diplomat in '\n",
      "                                 'protest at killings'}]}}\n",
      "{'entities': {'urls': [{'description': \"Tuesday's papers react to Prince \"\n",
      "                                       \"Harry's comments on returning to the \"\n",
      "                                       'UK, and the latest on NHS strikes.',\n",
      "                        'title': \"Newspaper headlines: 'No way back' says \"\n",
      "                                 'Harry and hope of strike breakthrough'}]}}\n",
      "{'entities': {'urls': [{}]}}\n",
      "{'entities': {'urls': [{'description': 'Engineers are working on building '\n",
      "                                       'solar farms robust enough to survive '\n",
      "                                       'in the open ocean.',\n",
      "                        'title': 'Could floating solar farms survive out at '\n",
      "                                 'sea?'}]}}\n",
      "{'entities': {'urls': [{'description': 'Total retail sales jumped by almost 7% '\n",
      "                                       'but price rises meant shoppers bought '\n",
      "                                       'less but spent more.',\n",
      "                        'title': 'December sales bounce due to price rises not '\n",
      "                                 'shopping sprees'}]}}\n",
      "{'entities': {'urls': [{'description': 'James Cleverley and Maros Šefčovič say '\n",
      "                                       'the agreement gives a new basis for NI '\n",
      "                                       'protocol talks.',\n",
      "                        'title': 'NI Protocol: UK and EU reach agreement on '\n",
      "                                 'trade data sharing'}]}}\n",
      "{'entities': {'urls': [{'description': 'The government says the current level '\n",
      "                                       'of support for firms was '\n",
      "                                       '\"unsustainably expensive\".',\n",
      "                        'title': 'Energy bill support for firms to be reduced '\n",
      "                                 'from April'}]}}\n",
      "{'entities': {'urls': [{'description': 'The action by primary teachers will be '\n",
      "                                       'followed by a walkout by secondary '\n",
      "                                       'teachers on Wednesday.',\n",
      "                        'title': \"Scotland's primary schools shut as teachers \"\n",
      "                                 'strike'}]}}\n",
      "{'entities': {'urls': [{'description': 'Visit BBC News for up-to-the-minute '\n",
      "                                       'news, breaking news, video, audio and '\n",
      "                                       'feature stories. BBC News provides '\n",
      "                                       'trusted World and UK news as well as '\n",
      "                                       'local and regional perspectives. Also '\n",
      "                                       'entertainment, business, science, '\n",
      "                                       'technology and health news.',\n",
      "                        'title': 'Home - BBC News'},\n",
      "                       {}]}}\n",
      "{'entities': {'urls': [{'description': 'Visit BBC News for up-to-the-minute '\n",
      "                                       'news, breaking news, video, audio and '\n",
      "                                       'feature stories. BBC News provides '\n",
      "                                       'trusted World and UK news as well as '\n",
      "                                       'local and regional perspectives. Also '\n",
      "                                       'entertainment, business, science, '\n",
      "                                       'technology and health news.',\n",
      "                        'title': 'Home - BBC News'},\n",
      "                       {}]}}\n",
      "{'entities': {'urls': [{'description': 'Visit BBC News for up-to-the-minute '\n",
      "                                       'news, breaking news, video, audio and '\n",
      "                                       'feature stories. BBC News provides '\n",
      "                                       'trusted World and UK news as well as '\n",
      "                                       'local and regional perspectives. Also '\n",
      "                                       'entertainment, business, science, '\n",
      "                                       'technology and health news.',\n",
      "                        'title': 'Home - BBC News'},\n",
      "                       {}]}}\n",
      "{'entities': {'urls': [{'description': 'Ibnu Rizwan was driving above the '\n",
      "                                       'speed limit in central London when he '\n",
      "                                       'hit David Joseph Evans.',\n",
      "                        'title': 'Tower Hill: Covid scientist jailed for '\n",
      "                                 'killing artist in car crash'}]}}\n",
      "{'entities': {'urls': [{'description': 'Visit BBC News for up-to-the-minute '\n",
      "                                       'news, breaking news, video, audio and '\n",
      "                                       'feature stories. BBC News provides '\n",
      "                                       'trusted World and UK news as well as '\n",
      "                                       'local and regional perspectives. Also '\n",
      "                                       'entertainment, business, science, '\n",
      "                                       'technology and health news.',\n",
      "                        'title': 'Home - BBC News'},\n",
      "                       {}]}}\n",
      "{'entities': {'urls': [{'description': \"We've all had travel disruptions, but \"\n",
      "                                       'for one County Donegal man his trip '\n",
      "                                       'started in bizarre fashion.',\n",
      "                        'title': 'A Donegal man, a bus on fire and a surprise '\n",
      "                                 'birthday in Australia'}]}}\n",
      "{'entities': {'urls': [{'description': 'What did we learn from the Duke of '\n",
      "                                       'Sussex’s round of interviews?',\n",
      "                        'title': 'Newscast - Prince Harry: Spare On Air - BBC '\n",
      "                                 'Sounds'}]}}\n",
      "{'entities': {'urls': [{'description': 'Police say they believe the damage '\n",
      "                                       'done to the home in Bradford was not '\n",
      "                                       'caused by accident.',\n",
      "                        'title': 'Bradford home damaged as car smashes through '\n",
      "                                 'lounge wall'}]}}\n",
      "{'entities': {'urls': [{}]}}\n",
      "{'entities': {'urls': [{'description': 'Visit BBC News for up-to-the-minute '\n",
      "                                       'news, breaking news, video, audio and '\n",
      "                                       'feature stories. BBC News provides '\n",
      "                                       'trusted World and UK news as well as '\n",
      "                                       'local and regional perspectives. Also '\n",
      "                                       'entertainment, business, science, '\n",
      "                                       'technology and health news.',\n",
      "                        'title': 'Home - BBC News'},\n",
      "                       {}]}}\n",
      "{'entities': {'urls': [{'description': 'Visit BBC News for up-to-the-minute '\n",
      "                                       'news, breaking news, video, audio and '\n",
      "                                       'feature stories. BBC News provides '\n",
      "                                       'trusted World and UK news as well as '\n",
      "                                       'local and regional perspectives. Also '\n",
      "                                       'entertainment, business, science, '\n",
      "                                       'technology and health news.',\n",
      "                        'title': 'Home - BBC News'},\n",
      "                       {}]}}\n",
      "{'entities': {'urls': [{'description': 'Visit BBC News for up-to-the-minute '\n",
      "                                       'news, breaking news, video, audio and '\n",
      "                                       'feature stories. BBC News provides '\n",
      "                                       'trusted World and UK news as well as '\n",
      "                                       'local and regional perspectives. Also '\n",
      "                                       'entertainment, business, science, '\n",
      "                                       'technology and health news.',\n",
      "                        'title': 'Home - BBC News'},\n",
      "                       {}]}}\n",
      "{'entities': {'urls': [{'description': 'Visit BBC News for up-to-the-minute '\n",
      "                                       'news, breaking news, video, audio and '\n",
      "                                       'feature stories. BBC News provides '\n",
      "                                       'trusted World and UK news as well as '\n",
      "                                       'local and regional perspectives. Also '\n",
      "                                       'entertainment, business, science, '\n",
      "                                       'technology and health news.',\n",
      "                        'title': 'Home - BBC News'},\n",
      "                       {}]}}\n",
      "{'entities': {'urls': [{'description': \"BBC Sport looks back at Gareth Bale's \"\n",
      "                                       'best Premier League moments as he '\n",
      "                                       'retires from football aged 33.',\n",
      "                        'title': 'Bale retires - watch his best Premier League '\n",
      "                                 'moments'}]}}\n",
      "{'entities': {'urls': [{'description': 'A modified jumbo jet will fly out of '\n",
      "                                       'Cornwall tonight on a mission to send '\n",
      "                                       'nine satellites to orbit.',\n",
      "                        'title': 'UK rocket launch: Final checks under way '\n",
      "                                 'ahead of UK space mission - BBC News'}]}}\n",
      "{'entities': {'urls': [{'description': 'Geraint Blackman pleaded guilty to '\n",
      "                                       'causing the deaths of Brenda, 52, and '\n",
      "                                       'Rosemary Mochan, 50.',\n",
      "                        'title': 'Woman told sister before Pontllanfraith '\n",
      "                                 \"crash: 'We're dead'\"}]}}\n",
      "{'entities': {'urls': [{'description': 'The cardboard figure of the US star '\n",
      "                                       'has been a firm favourite among '\n",
      "                                       \"Manchester's commuters for years.\",\n",
      "                        'title': \"Hundreds bid to save Manchester's Taylor \"\n",
      "                                 'Swift cardboard cut-out'}]}}\n",
      "{'entities': {'urls': [{'description': \"Tatjana Patitz, one of the 1990's most \"\n",
      "                                       'prominent supermodels, died in '\n",
      "                                       'California.',\n",
      "                        'title': 'Supermodel Tatjana Patitz dies at 56'}]}}\n",
      "{'entities': {'urls': [{'description': 'Visit BBC News for up-to-the-minute '\n",
      "                                       'news, breaking news, video, audio and '\n",
      "                                       'feature stories. BBC News provides '\n",
      "                                       'trusted World and UK news as well as '\n",
      "                                       'local and regional perspectives. Also '\n",
      "                                       'entertainment, business, science, '\n",
      "                                       'technology and health news.',\n",
      "                        'title': 'Home - BBC News'},\n",
      "                       {}]}}\n",
      "{'entities': {'urls': [{'description': 'Kieran Cowan, from Prestonpans, died '\n",
      "                                       'after the boat he was in capsized in '\n",
      "                                       'bad weather.',\n",
      "                        'title': \"Boat hire owners fined after man's death on \"\n",
      "                                 'Loch Awe'}]}}\n",
      "{'entities': {'urls': [{'description': 'An alleged \"passport gang\" used '\n",
      "                                       'identities of alcoholics to get '\n",
      "                                       'documents for criminals, a court '\n",
      "                                       'hears.',\n",
      "                        'title': \"'Passport gang' used vulnerable people to \"\n",
      "                                 'get documents, jury told'}]}}\n",
      "{'entities': {'urls': [{'description': 'Maddi Neale-Shankster, 21, was '\n",
      "                                       'paralysed from the waist down, after '\n",
      "                                       \"the accident on New Year's Eve.\",\n",
      "                        'title': 'Appeal to bring Thailand balcony fall woman '\n",
      "                                 'home raises £73k'}]}}\n",
      "{'entities': {'urls': [{'description': 'Twelve others also reported losses in '\n",
      "                                       'the failed exchange to a City of '\n",
      "                                       'London Police scam hotline in '\n",
      "                                       'November.',\n",
      "                        'title': 'UK investor reported losing £1m in FTX '\n",
      "                                 'collapse'}]}}\n",
      "{'entities': {'urls': [{'description': 'The vase, an early work by the artist, '\n",
      "                                       'sells in Eastbourne to an anonymous '\n",
      "                                       'bidder.',\n",
      "                        'title': 'Grayson Perry vase sells for £52,000 at '\n",
      "                                 'auction'}]}}\n",
      "{'entities': {'urls': [{'description': 'Women report positives, but also areas '\n",
      "                                       'for improvement in a report by '\n",
      "                                       \"England's care regulator.\",\n",
      "                        'title': 'Help during childbirth has declined, survey '\n",
      "                                 'finds'}]}}\n",
      "{'entities': {'urls': [{'description': \"Alireza Akbari's wife says his family \"\n",
      "                                       'were told to go to his prison in '\n",
      "                                       'Tehran for a \"final visit\".',\n",
      "                        'title': 'Alireza Akbari: Iran preparing to execute '\n",
      "                                 'British citizen - family'}]}}\n",
      "{'entities': {'urls': [{'description': 'Why schools are holding assemblies and '\n",
      "                                       \"lessons to challenge Tate's \"\n",
      "                                       'misogynistic views.',\n",
      "                        'title': '5 Minutes On - Andrew Tate - the impact of '\n",
      "                                 'the divisive influencer - BBC Sounds'}]}}\n",
      "{'entities': {'urls': [{'description': 'Kevin Kenny used the excuse of playing '\n",
      "                                       'console games to spend time with his '\n",
      "                                       'teenage victim.',\n",
      "                        'title': 'Rapist who used computer gaming as cover is '\n",
      "                                 'jailed for eight years'}]}}\n",
      "{'entities': {'urls': [{'description': 'The government has revised its '\n",
      "                                       'position on what can be offered to '\n",
      "                                       'striking rail workers, the RDG says.',\n",
      "                        'title': 'Train operators set to make new pay offer to '\n",
      "                                 'unions'}]}}\n",
      "{'entities': {'urls': [{'description': 'Police said Usman Nazir was being '\n",
      "                                       'detained at a barbershop in Derby for '\n",
      "                                       'an unrelated matter.',\n",
      "                        'title': 'Man jailed after getting haircut with loaded '\n",
      "                                 'gun in Derby'}]}}\n",
      "{'entities': {'urls': [{'description': 'The victim suffered cuts to her legs '\n",
      "                                       'in the attack in north Belfast on '\n",
      "                                       'Tuesday night.',\n",
      "                        'title': 'Belfast: Attempted murder arrest after woman '\n",
      "                                 'is stabbed'}]}}\n",
      "{'entities': {'urls': [{'description': \"Charles Byrne's bones have been on \"\n",
      "                                       'public display at the Hunterian Museum '\n",
      "                                       'for more than 200 years.',\n",
      "                        'title': \"The Irish Giant: Charles Byrne's skeleton \"\n",
      "                                 'removed from display'}]}}\n",
      "{'entities': {'urls': [{'description': 'The land will provide habitat for '\n",
      "                                       'greater horseshoe bats which are among '\n",
      "                                       'the rarest bats in Europe.',\n",
      "                        'title': 'Nature reserve to be created near Blandford '\n",
      "                                 'to protect rare bat'}]}}\n",
      "{'entities': {'urls': [{'description': 'Welsh Slate is struggling to keep up '\n",
      "                                       'with demand from across the globe, '\n",
      "                                       'especially from Australia.',\n",
      "                        'title': 'Gwynedd slate mine seeks young workers as '\n",
      "                                 'demand rockets'}]}}\n",
      "{'entities': {}}\n",
      "{'entities': {}}\n",
      "{'entities': {'urls': [{'description': 'A London schoolgirl disappears. Four '\n",
      "                                       \"years later she's found in Syria with \"\n",
      "                                       'Isis',\n",
      "                        'title': \"I'm Not a Monster - The Shamima Begum Story \"\n",
      "                                 '- Series 2: 1. It Felt Like a Dream - BBC '\n",
      "                                 'Sounds'},\n",
      "                       {}]}}\n",
      "{'entities': {'urls': [{'description': 'Community groups are in talks to '\n",
      "                                       'create a lasting tribute to '\n",
      "                                       'nine-year-old Olivia Pratt-Korbel.',\n",
      "                        'title': 'Olivia Pratt-Korbel: Memorial garden plan '\n",
      "                                 'for schoolgirl shot dead'}]}}\n",
      "{'entities': {'urls': [{'description': 'The PM tells MPs he has \"used '\n",
      "                                       'independent healthcare in the past\" '\n",
      "                                       'but is registered with an NHS GP.',\n",
      "                        'title': 'PMQs: Rishi Sunak says he is registered with '\n",
      "                                 'NHS doctor'}]}}\n",
      "{'entities': {'urls': [{'description': 'Michelle Donelan says giving the '\n",
      "                                       'ancient sculptures to Greece would be '\n",
      "                                       'a \"dangerous road to go down\".',\n",
      "                        'title': 'Parthenon Sculptures belong in UK, says '\n",
      "                                 'Culture Secretary Michelle Donelan'}]}}\n",
      "{'entities': {'urls': [{'description': 'The error, which is due to be '\n",
      "                                       'corrected, was spotted by eagle-eyed '\n",
      "                                       'viewers on social media.',\n",
      "                        'title': 'Spelling blunder spotted on Isaac Newton '\n",
      "                                 'memorial bench'}]}}\n",
      "{'entities': {'urls': [{'description': 'It is telling customers to stop '\n",
      "                                       'sending items overseas while it tries '\n",
      "                                       'to resolve the issue.',\n",
      "                        'title': 'Royal Mail cyber incident hits overseas '\n",
      "                                 'post'}]}}\n",
      "{'entities': {'urls': [{'description': 'Universities will receive £15m to help '\n",
      "                                       'students struggling with living costs, '\n",
      "                                       'the government also says.',\n",
      "                        'title': 'Fees for England universities frozen at '\n",
      "                                 '£9,250 for two years'}]}}\n",
      "{'entities': {'urls': [{'description': \"Ranjit Singh's music video about the \"\n",
      "                                       'joys of being a bus driver has amassed '\n",
      "                                       'thousands of views.',\n",
      "                        'title': \"Bus driver's music video to show family his \"\n",
      "                                 'job'}]}}\n",
      "{'entities': {'urls': [{'description': \"The BBC's Royal correspondent Daniela \"\n",
      "                                       'Relph looks at how the Royals have '\n",
      "                                       'been affected by the publishing of '\n",
      "                                       'Spare.',\n",
      "                        'title': 'Spare: Which Royal has come out best in the '\n",
      "                                 'book fallout?'}]}}\n",
      "{'entities': {'urls': [{'description': 'A detective in Essex is appealing '\n",
      "                                       'directly to a missing woman who gave '\n",
      "                                       'birth last week.',\n",
      "                        'title': 'Essex Police makes direct appeal to missing '\n",
      "                                 'couple with newborn baby'}]}}\n",
      "{'entities': {'urls': [{'description': 'Andrew Osborne began his solo row of '\n",
      "                                       'more than 3,000 miles (4,828km) on '\n",
      "                                       'Sunday in Gran Canaria.',\n",
      "                        'title': 'Dad starts Atlantic solo row after sudden '\n",
      "                                 'death of daughter'}]}}\n",
      "{'entities': {'urls': [{'description': 'The comedian says the news \"answers a '\n",
      "                                       'lot of questions about behavioural '\n",
      "                                       'issues in the past\".',\n",
      "                        'title': 'Johnny Vegas: Comedian opens up about recent '\n",
      "                                 'ADHD diagnosis'}]}}\n",
      "{'entities': {'urls': [{'description': 'Simon Midgley and Richard Dyson died '\n",
      "                                       'in the blaze at the luxury Loch Lomond '\n",
      "                                       'resort in December 2017.',\n",
      "                        'title': \"'Number of defects' led to fatal fire at \"\n",
      "                                 'Cameron House hotel'}]}}\n",
      "{'entities': {}}\n",
      "{'entities': {'urls': [{'description': 'Welsh Slate is struggling to keep up '\n",
      "                                       'with demand from across the globe, '\n",
      "                                       'especially from Australia.',\n",
      "                        'title': 'Gwynedd slate mine seeks young workers as '\n",
      "                                 'demand rockets'}]}}\n",
      "{'entities': {'urls': [{'description': 'A councillor in Torridge says radical '\n",
      "                                       'times calls for radical measures.',\n",
      "                        'title': 'Council in Devon considers cruise ships for '\n",
      "                                 'homeless and refugees'}]}}\n",
      "{'entities': {'urls': [{'description': 'The pair repeatedly beat the pet, '\n",
      "                                       'called Snoop, for making \"toileting '\n",
      "                                       'mistakes\", the RSPCA said.',\n",
      "                        'title': 'Liverpool couple who poisoned dog with '\n",
      "                                 'raisins sentenced'}]}}\n",
      "{'entities': {}}\n",
      "{'entities': {}}\n",
      "{'entities': {'urls': [{'description': 'The infant was taken by ambulance to '\n",
      "                                       'hospital but was not seriously '\n",
      "                                       'injured.',\n",
      "                        'title': 'Baby hit by brick thrown through bus window '\n",
      "                                 'in Glasgow'}]}}\n",
      "{'entities': {'urls': [{'description': 'US authorities have confirmed '\n",
      "                                       'operations across the National '\n",
      "                                       'Airspace System are affected.',\n",
      "                        'title': 'Flights across US disrupted by technical '\n",
      "                                 'glitch'}]}}\n",
      "{'entities': {'urls': [{'description': 'A coroner urges action to prevent '\n",
      "                                       'future deaths at a hospital where a '\n",
      "                                       'man fell and later died.',\n",
      "                        'title': 'Portsmouth: Dehydrated pensioner died after '\n",
      "                                 'hospital fall'}]}}\n",
      "{'entities': {}}\n",
      "{}\n",
      "{'entities': {}}\n",
      "{'entities': {}}\n",
      "{'entities': {}}\n",
      "{'entities': {'urls': [{'description': 'A scheme to resettle 1,500 Afghan '\n",
      "                                       'citizens who supported the British '\n",
      "                                       'mission has helped just four.',\n",
      "                        'title': \"Afghan teacher 'abandoned by UK' fears for \"\n",
      "                                 'her life'}]}}\n",
      "{'entities': {'urls': [{'description': 'Officers pursue a driver who attempted '\n",
      "                                       'to ram their patrol car in in '\n",
      "                                       'Ballymoney, County Antrim.',\n",
      "                        'title': 'Ballymoney: Driver flees at up to 120mph '\n",
      "                                 'during police chase'}]}}\n",
      "{'entities': {}}\n",
      "{'entities': {}}\n",
      "{'entities': {'urls': [{'description': 'Phil Carter, whose footage of the fox '\n",
      "                                       'caused a stir, has bought new cameras '\n",
      "                                       'in case it returns.',\n",
      "                        'title': 'Two-legged fox: Wildlife fan awaits nimble '\n",
      "                                 \"creature's return\"}]}}\n",
      "{'entities': {'urls': [{'description': \"A wasp causes chaos in Mark Williams' \"\n",
      "                                       'first-round Masters match against '\n",
      "                                       'David Gilbert at Alexandra Palace.',\n",
      "                        'title': 'Wasp causes chaos at Masters snooker'}]}}\n",
      "{'entities': {'urls': [{'description': 'Sandie Wood, 65, died of tongue cancer '\n",
      "                                       'in September, and she planned her '\n",
      "                                       'funeral with some surprises.',\n",
      "                        'title': \"Flash-mob dance at funeral 'breaks \"\n",
      "                                 \"tradition'\"}]}}\n",
      "{'entities': {'urls': [{'description': 'Commissioner Sir Mark Rowley announces '\n",
      "                                       'new policing plans following several '\n",
      "                                       'damning reviews.',\n",
      "                        'title': 'Met Police to target dangerous men using '\n",
      "                                 'data, says chief'}]}}\n",
      "{'entities': {}}\n",
      "{'entities': {'urls': [{'description': 'The supermarket giant said overall '\n",
      "                                       'sales were up by 7.1% during the '\n",
      "                                       'festive period.',\n",
      "                        'title': \"Record Christmas for Sainsbury's despite \"\n",
      "                                 'rising costs'}]}}\n",
      "{'entities': {}}\n",
      "{'entities': {'urls': [{'description': 'Mr Wilson has been given a clean bill '\n",
      "                                       'of health by his GP, allowing him to '\n",
      "                                       'continue driving.',\n",
      "                        'title': 'Sheffield lorry driver Brian Wilson, 90, '\n",
      "                                 'passes health MoT'}]}}\n",
      "{'entities': {}}\n",
      "{'entities': {'urls': [{'description': \"The ad for the singer's new album \"\n",
      "                                       'linked sexuality to a sacred symbol, '\n",
      "                                       'the advertising watchdog says.',\n",
      "                        'title': 'Demi Lovato poster banned for being '\n",
      "                                 'offensive to Christians'}]}}\n",
      "{'entities': {'urls': [{'description': \"How one man's ever-growing village \"\n",
      "                                       'archive sparked a tour of lost ale '\n",
      "                                       'houses.',\n",
      "                        'title': 'Duxford: The village rediscovering its lost '\n",
      "                                 'pubs and ale houses'}]}}\n",
      "{'entities': {'urls': [{'description': 'The hosts of the award-winning podcast '\n",
      "                                       'about dealing with cancer say they '\n",
      "                                       'plan to stand down.',\n",
      "                        'title': \"You, Me and the Big C podcast: Hosts 'ready \"\n",
      "                                 \"to hang up headphones'\"}]}}\n",
      "{'entities': {'urls': [{'description': 'Counter-terrorism officers are '\n",
      "                                       'investigating the shipment, which '\n",
      "                                       'originated from Pakistan.',\n",
      "                        'title': 'Uranium in cargo sparked alert at Heathrow '\n",
      "                                 'Airport'}]}}\n",
      "{'entities': {'urls': [{'description': 'What you need to know about emergency '\n",
      "                                       'care during the ambulance strike.',\n",
      "                        'title': 'Strike: What will ambulances respond to on '\n",
      "                                 'Wednesday?'}]}}\n",
      "{'entities': {'urls': [{'description': 'Of 123,000 homeless children in '\n",
      "                                       'temporary accommodation in England, '\n",
      "                                       '73,810 are in the capital.',\n",
      "                        'title': 'More homeless children in London than rest '\n",
      "                                 'of England combined'}]}}\n",
      "{'entities': {'urls': [{'description': 'The economic secretary to the Treasury '\n",
      "                                       'says the UK is committed to becoming a '\n",
      "                                       'world crypto hub.',\n",
      "                        'title': 'Cryptocurrency: UK Treasury considers plan '\n",
      "                                 'for digital pound'}]}}\n",
      "{'entities': {'urls': [{'description': \"Wednesday's papers say millions of \"\n",
      "                                       'workers face a strike ban and Prince '\n",
      "                                       \"Harry's memoir breaks a record.\",\n",
      "                        'title': \"Newspaper headlines: 'Workers face strike \"\n",
      "                                 \"ban' and 'prince of sales'\"}]}}\n",
      "{'entities': {'urls': [{'description': 'In extensive BBC interviews, Shamima '\n",
      "                                       'Begum also reveals the detailed '\n",
      "                                       'planning before she joined IS at 15.',\n",
      "                        'title': 'Shamima Begum accepts she joined a terror '\n",
      "                                 'group'}]}}\n",
      "{'entities': {'urls': [{'description': 'A rural family who ran out of heating '\n",
      "                                       'oil say they were forced to wash their '\n",
      "                                       'children in the kitchen.',\n",
      "                        'title': \"Cost of living: 'We had to bath our kids in \"\n",
      "                                 \"the kitchen sink'\"}]}}\n",
      "{'entities': {'urls': [{'description': 'The Irish actor Colin Farrell is '\n",
      "                                       'recognised for his performance in the '\n",
      "                                       'dark comedy set on a remote island.',\n",
      "                        'title': 'Golden Globes 2023: The Banshees of '\n",
      "                                 'Inisherin wins big'}]}}\n",
      "{'entities': {'urls': [{'description': 'Sepideh Qolian tells how confessions '\n",
      "                                       'are extracted from detainees, in a '\n",
      "                                       'rare letter from Evin prison.',\n",
      "                        'title': 'Iran protests: Jailed activist Sepideh '\n",
      "                                 'Qolian describes brutality in letter'}]}}\n",
      "{'entities': {'urls': [{'description': 'The walkouts follows the closure of '\n",
      "                                       'primary schools on Tuesday in an '\n",
      "                                       'ongoing pay dispute.',\n",
      "                        'title': 'Exams rescheduled as Scottish secondary '\n",
      "                                 'teachers strike'}]}}\n",
      "{'entities': {'urls': [{'description': 'Responding for the first time to '\n",
      "                                       'coverage of his book, he says \"lies\" '\n",
      "                                       'about him could endanger his family.',\n",
      "                        'title': \"Prince Harry condemns 'dangerous spin' about \"\n",
      "                                 'his Taliban comments'}]}}\n",
      "{'entities': {'urls': [{'description': 'It is \"time to take action to address '\n",
      "                                       'our shameful past,\" says the '\n",
      "                                       'Archbishop of Canterbury.',\n",
      "                        'title': 'Church of England announces £100m fund after '\n",
      "                                 'slavery links'}]}}\n",
      "{'entities': {'urls': [{'description': 'Kevin Franz stole £6,270 from a '\n",
      "                                       'vulnerable man whose memory was '\n",
      "                                       'deteriorating.',\n",
      "                        'title': 'Rhyl: Care worker struck off for stealing '\n",
      "                                 'from patient'}]}}\n",
      "{'entities': {'urls': [{'description': 'Cardinal George Pell, whose conviction '\n",
      "                                       'on child abuse charges shocked the '\n",
      "                                       'Catholic Church before being quashed, '\n",
      "                                       'dies at 81.',\n",
      "                        'title': 'Cardinal George Pell dies aged 81'}]}}\n",
      "{'entities': {'urls': [{'description': 'The site would be 10 times bigger than '\n",
      "                                       \"London's Hyde Park, according to \"\n",
      "                                       'developers.',\n",
      "                        'title': 'North Kesteven solar farm could power '\n",
      "                                 '180,000 homes, say firms'}]}}\n",
      "{'entities': {'urls': [{'description': 'An inquest heard Gareth Roberts was '\n",
      "                                       'seen taking his temperature taken '\n",
      "                                       'before he died.',\n",
      "                        'title': 'Covid: Nurse who died from virus told to go '\n",
      "                                 'home with fever'}]}}\n",
      "{'entities': {'urls': [{'description': 'Visit BBC News for up-to-the-minute '\n",
      "                                       'news, breaking news, video, audio and '\n",
      "                                       'feature stories. BBC News provides '\n",
      "                                       'trusted World and UK news as well as '\n",
      "                                       'local and regional perspectives. Also '\n",
      "                                       'entertainment, business, science, '\n",
      "                                       'technology and health news.',\n",
      "                        'title': 'Home - BBC News'},\n",
      "                       {}]}}\n",
      "{'entities': {'urls': [{'description': 'Visit BBC News for up-to-the-minute '\n",
      "                                       'news, breaking news, video, audio and '\n",
      "                                       'feature stories. BBC News provides '\n",
      "                                       'trusted World and UK news as well as '\n",
      "                                       'local and regional perspectives. Also '\n",
      "                                       'entertainment, business, science, '\n",
      "                                       'technology and health news.',\n",
      "                        'title': 'Home - BBC News'},\n",
      "                       {}]}}\n",
      "{'entities': {'urls': [{'description': 'Visit BBC News for up-to-the-minute '\n",
      "                                       'news, breaking news, video, audio and '\n",
      "                                       'feature stories. BBC News provides '\n",
      "                                       'trusted World and UK news as well as '\n",
      "                                       'local and regional perspectives. Also '\n",
      "                                       'entertainment, business, science, '\n",
      "                                       'technology and health news.',\n",
      "                        'title': 'Home - BBC News'},\n",
      "                       {}]}}\n",
      "{'entities': {'urls': [{'description': 'Visit BBC News for up-to-the-minute '\n",
      "                                       'news, breaking news, video, audio and '\n",
      "                                       'feature stories. BBC News provides '\n",
      "                                       'trusted World and UK news as well as '\n",
      "                                       'local and regional perspectives. Also '\n",
      "                                       'entertainment, business, science, '\n",
      "                                       'technology and health news.',\n",
      "                        'title': 'Home - BBC News'},\n",
      "                       {}]}}\n",
      "{'entities': {'urls': [{'description': 'Visit BBC News for up-to-the-minute '\n",
      "                                       'news, breaking news, video, audio and '\n",
      "                                       'feature stories. BBC News provides '\n",
      "                                       'trusted World and UK news as well as '\n",
      "                                       'local and regional perspectives. Also '\n",
      "                                       'entertainment, business, science, '\n",
      "                                       'technology and health news.',\n",
      "                        'title': 'Home - BBC News'},\n",
      "                       {}]}}\n",
      "{'entities': {'urls': [{'description': 'Visit BBC News for up-to-the-minute '\n",
      "                                       'news, breaking news, video, audio and '\n",
      "                                       'feature stories. BBC News provides '\n",
      "                                       'trusted World and UK news as well as '\n",
      "                                       'local and regional perspectives. Also '\n",
      "                                       'entertainment, business, science, '\n",
      "                                       'technology and health news.',\n",
      "                        'title': 'Home - BBC News'},\n",
      "                       {}]}}\n",
      "{'entities': {'urls': [{'description': 'Beth Matthews, who died after taking a '\n",
      "                                       'poisonous substance, \"did a lot of '\n",
      "                                       'good\", a psychiatrist says.',\n",
      "                        'title': 'Beth Matthews: Blogger did a lot of good '\n",
      "                                 'before death, inquest told'}]}}\n",
      "{'entities': {'urls': [{'description': 'Francisco Galia died on Sunday while '\n",
      "                                       'attempting to board a vessel off Spurn '\n",
      "                                       'Point, a colleague says.',\n",
      "                        'title': 'Humber pilot Francisco Galia died in fall '\n",
      "                                 'while boarding vessel'}]}}\n",
      "{'entities': {'urls': [{'description': 'Visit BBC News for up-to-the-minute '\n",
      "                                       'news, breaking news, video, audio and '\n",
      "                                       'feature stories. BBC News provides '\n",
      "                                       'trusted World and UK news as well as '\n",
      "                                       'local and regional perspectives. Also '\n",
      "                                       'entertainment, business, science, '\n",
      "                                       'technology and health news.',\n",
      "                        'title': 'Home - BBC News'},\n",
      "                       {}]}}\n",
      "{'entities': {'urls': [{'description': 'Talking strikes, pay negotiations and '\n",
      "                                       'GPs with Labour’s Wes Streeting.',\n",
      "                        'title': 'Newscast - Blue Lights Out - BBC Sounds'}]}}\n",
      "{'entities': {'urls': [{'description': 'Visit BBC News for up-to-the-minute '\n",
      "                                       'news, breaking news, video, audio and '\n",
      "                                       'feature stories. BBC News provides '\n",
      "                                       'trusted World and UK news as well as '\n",
      "                                       'local and regional perspectives. Also '\n",
      "                                       'entertainment, business, science, '\n",
      "                                       'technology and health news.',\n",
      "                        'title': 'Home - BBC News'},\n",
      "                       {}]}}\n",
      "{'entities': {'urls': [{'description': 'Visit BBC News for up-to-the-minute '\n",
      "                                       'news, breaking news, video, audio and '\n",
      "                                       'feature stories. BBC News provides '\n",
      "                                       'trusted World and UK news as well as '\n",
      "                                       'local and regional perspectives. Also '\n",
      "                                       'entertainment, business, science, '\n",
      "                                       'technology and health news.',\n",
      "                        'title': 'Home - BBC News'},\n",
      "                       {}]}}\n",
      "{'entities': {'urls': [{'description': 'The copy of the Geneva Bible from 1615 '\n",
      "                                       'sold well above its £10,000 valuation '\n",
      "                                       'in east Belfast.',\n",
      "                        'title': 'Tudor Bible sells for £20k in Belfast '\n",
      "                                 'auction'}]}}\n",
      "{'entities': {'urls': [{'description': 'The hosts of the award-winning podcast '\n",
      "                                       'about dealing with cancer plan to '\n",
      "                                       '\"hang up their headphones\".',\n",
      "                        'title': 'You, Me and the Big C podcast: Lauren Mahon '\n",
      "                                 'and Steve Bland to stand down'}]}}\n",
      "{'entities': {'urls': [{'description': 'Global temperatures and rain patterns '\n",
      "                                       'are affected by climate phenomena '\n",
      "                                       'known as El Niño/La Niña.',\n",
      "                        'title': 'What are El Niño and La Niña, and how do '\n",
      "                                 'they change the weather?'}]}}\n",
      "{'entities': {'urls': [{'description': 'They are also more likely to die from '\n",
      "                                       'heart attacks and strokes, researchers '\n",
      "                                       'say.',\n",
      "                        'title': 'Firefighters face higher cancer risk, '\n",
      "                                 'Scottish study finds'}]}}\n",
      "{'entities': {'urls': [{'description': 'An orange light streaking across the '\n",
      "                                       'night sky is captured on mobile phones '\n",
      "                                       'and doorbell cameras.',\n",
      "                        'title': 'Meteor lights up skies over England'},\n",
      "                       {}]}}\n",
      "{'entities': {'urls': [{'description': \"A bookseller placed Prince Harry's \"\n",
      "                                       \"memoir Spare beside Bella Mackie's \"\n",
      "                                       'novel How to Kill Your Family.',\n",
      "                        'title': \"Harry's memoir Spare displayed beside How to \"\n",
      "                                 'Kill Your Family novel'}]}}\n",
      "{'entities': {'urls': [{'description': 'The economic secretary to the Treasury '\n",
      "                                       'says the UK is committed to becoming a '\n",
      "                                       'world crypto hub.',\n",
      "                        'title': 'Cryptocurrency: UK Treasury considers plan '\n",
      "                                 'for digital pound'}]}}\n",
      "{'entities': {'urls': [{'description': 'Zholia Alemi is a \"most accomplished '\n",
      "                                       'fraudster\" who forged a certificate to '\n",
      "                                       'get work, a jury hears.',\n",
      "                        'title': 'Unqualified doctor who faked degree took '\n",
      "                                 '£1.3m from NHS, trial told'}]}}\n",
      "{'entities': {'urls': [{'description': 'The duke says he is a Friends fanatic '\n",
      "                                       'and the Queen quizzed Meghan about '\n",
      "                                       'Donald Trump when they met.',\n",
      "                        'title': \"Prince Harry's book: Things you might have \"\n",
      "                                 'missed'}]}}\n",
      "{'entities': {'urls': [{'description': \"Health managers say Wednesday's \"\n",
      "                                       'walkout in England and Wales will be '\n",
      "                                       'harder to cope with.',\n",
      "                        'title': 'NHS bosses fear impact of second ambulance '\n",
      "                                 'strike'}]}}\n"
     ]
    }
   ],
   "source": [
    "# Show some fields from the entities subdocument.\n",
    "# When showing the subdocuments pretty print makes the tweets more readable\n",
    "tweets = db.bbcnews.find({}, {\"_id\":0, \"entities.urls.title\": 1, \"entities.urls.description\": 1})\n",
    "\n",
    "printDocs(tweets)"
   ]
  },
  {
   "cell_type": "code",
   "execution_count": 93,
   "metadata": {},
   "outputs": [
    {
     "name": "stdout",
     "output_type": "stream",
     "text": [
      "{'entities': {'urls': [{'description': 'Being in a fishing lake is like \"being '\n",
      "                                       'in a branch of Waitrose\" for a hungry '\n",
      "                                       'seal, an expert says.',\n",
      "                        'title': 'Seal stuck in Rochford lake munching its way '\n",
      "                                 'through fish stock'}]}}\n"
     ]
    }
   ],
   "source": [
    "# These can be searched too - find the Seal story that was topical at the time\n",
    "tweets = db.bbcnews.find({\"entities.urls.title\": {\"$regex\": \"seal\", '$options': 'i' }}, \n",
    "                         {\"_id\":0, \"entities.urls.title\": 1, \"entities.urls.description\": 1})\n",
    "\n",
    "printDocs(tweets)"
   ]
  },
  {
   "cell_type": "code",
   "execution_count": 94,
   "metadata": {},
   "outputs": [
    {
     "name": "stdout",
     "output_type": "stream",
     "text": [
      "{'_id': ObjectId('67938a5a31ccc2bc25ffdec6'),\n",
      " 'entities': [{'description': 'Maddi Neale-Shankster, 21, was paralysed from '\n",
      "                              'the waist down, after the accident on New '\n",
      "                              \"Year's Eve.\",\n",
      "               'display_url': 'bbc.in/3XozAJn',\n",
      "               'end': 122,\n",
      "               'expanded_url': 'https://bbc.in/3XozAJn',\n",
      "               'images': [{'height': 576,\n",
      "                           'url': 'https://pbs.twimg.com/news_img/1613280140687036425/EbNhZSfY?format=jpg&name=orig',\n",
      "                           'width': 1024},\n",
      "                          {'height': 150,\n",
      "                           'url': 'https://pbs.twimg.com/news_img/1613280140687036425/EbNhZSfY?format=jpg&name=150x150',\n",
      "                           'width': 150}],\n",
      "               'start': 99,\n",
      "               'status': 200,\n",
      "               'title': 'Appeal to bring Thailand balcony fall woman home '\n",
      "                        'raises £73k',\n",
      "               'unwound_url': 'https://www.bbc.com/news/uk-england-coventry-warwickshire-64235941?xtor=AL-72-%5Bpartner%5D-%5Bbbc.news.twitter%5D-%5Bheadline%5D-%5Bnews%5D-%5Bbizdev%5D-%5Bisapi%5D&at_campaign_type=owned&at_link_type=web_link&at_link_id=16A25A36-91CC-11ED-AD6F-2CC34744363C&at_campaign=Social_Flow&at_format=link&at_bbc_team=editorial&at_medium=social&at_ptr_name=twitter&at_link_origin=BBCNews',\n",
      "               'url': 'https://t.co/jLQUutDVm8'}]}\n",
      "{'_id': ObjectId('67938a59cac9e7819e94e20a'),\n",
      " 'entities': [{'description': 'They are also more likely to die from heart '\n",
      "                              'attacks and strokes, researchers say.',\n",
      "               'display_url': 'bbc.in/3isqyw2',\n",
      "               'end': 73,\n",
      "               'expanded_url': 'https://bbc.in/3isqyw2',\n",
      "               'start': 50,\n",
      "               'status': 200,\n",
      "               'title': 'Firefighters face higher cancer risk, Scottish study '\n",
      "                        'finds',\n",
      "               'unwound_url': 'https://www.bbc.co.uk/news/uk-scotland-64216321?at_format=link&at_link_origin=BBCNews&at_campaign=Social_Flow&at_ptr_name=twitter&at_link_id=3DE24338-9125-11ED-A99B-0F390EDC252D&at_bbc_team=editorial&at_campaign_type=owned&at_medium=social&at_link_type=web_link',\n",
      "               'url': 'https://t.co/EMGsCJ0yun'}]}\n",
      "{'_id': ObjectId('67938a5a31ccc2bc25ffdf09'),\n",
      " 'entities': [{'description': 'The walkouts follows the closure of primary '\n",
      "                              'schools on Tuesday in an ongoing pay dispute.',\n",
      "               'display_url': 'bbc.in/3ZErDBZ',\n",
      "               'end': 79,\n",
      "               'expanded_url': 'https://bbc.in/3ZErDBZ',\n",
      "               'images': [{'height': 576,\n",
      "                           'url': 'https://pbs.twimg.com/news_img/1612962372477501440/BnYnnM7Z?format=jpg&name=orig',\n",
      "                           'width': 1024},\n",
      "                          {'height': 150,\n",
      "                           'url': 'https://pbs.twimg.com/news_img/1612962372477501440/BnYnnM7Z?format=jpg&name=150x150',\n",
      "                           'width': 150}],\n",
      "               'start': 56,\n",
      "               'status': 200,\n",
      "               'title': 'Exams rescheduled as Scottish secondary teachers '\n",
      "                        'strike',\n",
      "               'unwound_url': 'https://www.bbc.com/news/uk-scotland-64228996?xtor=AL-72-%5Bpartner%5D-%5Bbbc.news.twitter%5D-%5Bheadline%5D-%5Bnews%5D-%5Bbizdev%5D-%5Bisapi%5D&at_format=link&at_bbc_team=editorial&at_medium=social&at_ptr_name=twitter&at_link_origin=BBCNews&at_campaign_type=owned&at_campaign=Social_Flow&at_link_type=web_link&at_link_id=8B70EE20-9138-11ED-AD6F-2CC34744363C',\n",
      "               'url': 'https://t.co/0qAhAVjTwA'}]}\n",
      "{'_id': ObjectId('67938a5a31ccc2bc25ffdf10'),\n",
      " 'entities': [{'description': 'Visit BBC News for up-to-the-minute news, '\n",
      "                              'breaking news, video, audio and feature '\n",
      "                              'stories. BBC News provides trusted World and UK '\n",
      "                              'news as well as local and regional '\n",
      "                              'perspectives. Also entertainment, business, '\n",
      "                              'science, technology and health news.',\n",
      "               'display_url': 'bbc.in/3GRcbKb',\n",
      "               'end': 123,\n",
      "               'expanded_url': 'https://bbc.in/3GRcbKb',\n",
      "               'images': [{'height': 576,\n",
      "                           'url': 'https://pbs.twimg.com/news_img/1612947170637877249/z2_zz03_?format=png&name=orig',\n",
      "                           'width': 1024},\n",
      "                          {'height': 150,\n",
      "                           'url': 'https://pbs.twimg.com/news_img/1612947170637877249/z2_zz03_?format=png&name=150x150',\n",
      "                           'width': 150}],\n",
      "               'start': 100,\n",
      "               'status': 200,\n",
      "               'title': 'Home - BBC News',\n",
      "               'unwound_url': 'https://www.bbc.co.uk/news?at_bbc_team=editorial&at_campaign_type=owned&at_campaign=Social_Flow&at_medium=social&at_ptr_name=twitter&at_link_origin=BBCNews&at_link_id=E44656D8-9134-11ED-ADB2-BF162152A482&at_format=image&at_link_type=web_link',\n",
      "               'url': 'https://t.co/HQvDfk7xRl'},\n",
      "              {'display_url': 'pic.twitter.com/TJuVMmmaf3',\n",
      "               'end': 147,\n",
      "               'expanded_url': 'https://twitter.com/BBCNews/status/1612947168523870208/photo/1',\n",
      "               'media_key': '3_1612947165264969728',\n",
      "               'start': 124,\n",
      "               'url': 'https://t.co/TJuVMmmaf3'}]}\n",
      "{'_id': ObjectId('67938a59cac9e7819e94e216'),\n",
      " 'entities': [{'description': 'The firm, formally known as Hermes, says staff '\n",
      "                              'shortages, Royal Mail strikes and bad weather '\n",
      "                              'have caused disruption.',\n",
      "               'display_url': 'bbc.in/3XiegoX',\n",
      "               'end': 75,\n",
      "               'expanded_url': 'https://bbc.in/3XiegoX',\n",
      "               'images': [{'height': 576,\n",
      "                           'url': 'https://pbs.twimg.com/news_img/1612882476766007336/jz5fWUsk?format=jpg&name=orig',\n",
      "                           'width': 1024},\n",
      "                          {'height': 150,\n",
      "                           'url': 'https://pbs.twimg.com/news_img/1612882476766007336/jz5fWUsk?format=jpg&name=150x150',\n",
      "                           'width': 150}],\n",
      "               'start': 52,\n",
      "               'status': 200,\n",
      "               'title': 'Evri says sorry for UK parcel delivery delays',\n",
      "               'unwound_url': 'https://www.bbc.com/news/business-64223554?xtor=AL-72-%5Bpartner%5D-%5Bbbc.news.twitter%5D-%5Bheadline%5D-%5Bnews%5D-%5Bbizdev%5D-%5Bisapi%5D&at_campaign_type=owned&at_bbc_team=editorial&at_link_origin=BBCNews&at_ptr_name=twitter&at_medium=social&at_format=link&at_campaign=Social_Flow&at_link_type=web_link&at_link_id=6C4AB2D6-9108-11ED-9AC9-BFAB4744363C',\n",
      "               'url': 'https://t.co/9NgSowRix5'}]}\n"
     ]
    }
   ],
   "source": [
    "# Another way to unpack the nested documents\n",
    "# https://stackoverflow.com/questions/25909927/mongodb-how-to-get-a-field-sub-document-from-a-document\n",
    "tweets=db.bbcnews.aggregate([\n",
    "    # De-normalize the array content first\n",
    "    { \"$unwind\": \"$entities\" },\n",
    "    # De-normalize the content from the inner array as well\n",
    "    { \"$unwind\": \"$entities.urls\" },\n",
    "\n",
    "    # Group the \"entities\" per document\n",
    "    { \"$group\": {\n",
    "        \"_id\": \"$_id\",\n",
    "        \"entities\": { \"$addToSet\": \"$entities.urls\" }\n",
    "    }},\n",
    "    { \"$limit\": 5}\n",
    "])\n",
    "printDocs(tweets)"
   ]
  },
  {
   "cell_type": "markdown",
   "metadata": {
    "tags": [
     "style-activity"
    ]
   },
   "source": [
    "# Summary"
   ]
  },
  {
   "cell_type": "markdown",
   "metadata": {},
   "source": [
    "This notebook give you a flavour of the document type of database management system. \n",
    "\n",
    "What are the differences between MongoDB and a relational database, such as PostgresSQL?\n",
    "\n",
    "Some things to think about:\n",
    "\n",
    "*Relational*\n",
    "- relational has a fixed schema\n",
    "- the data is normalised, with less duplication\n",
    "- constraints can be enforced\n",
    "- ACID transaction support (Atomic, Consistency, Isolation and Durability)\n",
    "\n",
    "*NoSQL (Document)*\n",
    "- flexible schema, optional data can be easily incorporated.\n",
    "- can support agile development\n",
    "- data is denormalised, so can mean more duplication\n",
    "- constraints not enforced\n",
    "- BASE transaction support (Basically Available, Soft state, Eventual consistency!)\n",
    "\n",
    "Bear in mind that NoSQL is a relatively new technology, so can be seen as immature in that it does not provide good support for transaction handling, or access control, but could be argued that this is not the market it is aimed at. \n",
    "\n"
   ]
  },
  {
   "cell_type": "code",
   "execution_count": null,
   "metadata": {},
   "outputs": [],
   "source": []
  }
 ],
 "metadata": {
  "kernelspec": {
   "display_name": "Python-3",
   "language": "python",
   "name": "python-3"
  },
  "language_info": {
   "codemirror_mode": {
    "name": "ipython",
    "version": 3
   },
   "file_extension": ".py",
   "mimetype": "text/x-python",
   "name": "python",
   "nbconvert_exporter": "python",
   "pygments_lexer": "ipython3",
   "version": "3.11.10"
  }
 },
 "nbformat": 4,
 "nbformat_minor": 4
}
